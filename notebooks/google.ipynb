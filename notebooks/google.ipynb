{
 "cells": [
  {
   "cell_type": "markdown",
   "metadata": {
    "id": "ymbmv2XnolOV",
    "pycharm": {
     "name": "#%% md\n"
    }
   },
   "source": [
    "## **PARSING GOOGLE VACANCY**"
   ]
  },
  {
   "cell_type": "code",
   "execution_count": null,
   "metadata": {
    "id": "DHalDdnqpl4Y",
    "pycharm": {
     "name": "#%%\n"
    }
   },
   "outputs": [],
   "source": [
    "############################################\n",
    "###     Research Trending Vacancies      ###\n",
    "###     Sber Dep. Research&Innovation    ### \n",
    "###   Ivanov Arseny, Sergey Bratchikov   ###\n",
    "###       A. Efimov, D. Asonov           ###\n",
    "############################################"
   ]
  },
  {
   "cell_type": "code",
   "execution_count": 1,
   "outputs": [],
   "source": [
    "import time\n",
    "\n",
    "import requests\n",
    "import json\n",
    "import re\n",
    "import time\n",
    "import faker\n",
    "import pandas as pd\n",
    "from tqdm import tqdm\n",
    "from datetime import datetime\n",
    "from dateutil import parser"
   ],
   "metadata": {
    "collapsed": false,
    "pycharm": {
     "name": "#%%\n"
    }
   }
  },
  {
   "cell_type": "code",
   "execution_count": 2,
   "outputs": [],
   "source": [
    "fake = faker.Faker(locale='en')"
   ],
   "metadata": {
    "collapsed": false,
    "pycharm": {
     "name": "#%%\n"
    }
   }
  },
  {
   "cell_type": "code",
   "execution_count": 3,
   "outputs": [],
   "source": [
    "headers = {\n",
    "    'User-Agent': fake.chrome(),\n",
    "    'accept-language': 'en-US,en;q=0.9',\n",
    "    'pragma': 'np-cache',\n",
    "    'referer': 'http://careers.google.com/jobs/results/'\n",
    "}"
   ],
   "metadata": {
    "collapsed": false,
    "pycharm": {
     "name": "#%%\n"
    }
   }
  },
  {
   "cell_type": "code",
   "execution_count": 5,
   "outputs": [],
   "source": [
    "API_URL = \"http://careers.google.com/api/v3/search/\"\n",
    "VACANCY_URL = 'http://careers.google.com/jobs/results/'"
   ],
   "metadata": {
    "collapsed": false,
    "pycharm": {
     "name": "#%%\n"
    }
   }
  },
  {
   "cell_type": "code",
   "execution_count": 9,
   "outputs": [],
   "source": [
    "search_params = {\n",
    "    'page': 1,\n",
    "    # 'company': 'Google', # One of Alphabet holding's company\n",
    "    'q': '',\n",
    "    'sort_by': 'date',\n",
    "    'page_size': 100 # must be 20, 50, 75, 100\n",
    "}"
   ],
   "metadata": {
    "collapsed": false,
    "pycharm": {
     "name": "#%%\n"
    }
   }
  },
  {
   "cell_type": "code",
   "execution_count": 10,
   "outputs": [
    {
     "data": {
      "text/plain": "<Response [200]>"
     },
     "execution_count": 10,
     "metadata": {},
     "output_type": "execute_result"
    }
   ],
   "source": [
    "result = requests.get(API_URL, params=search_params, headers=headers)\n",
    "result"
   ],
   "metadata": {
    "collapsed": false,
    "pycharm": {
     "name": "#%%\n"
    }
   }
  },
  {
   "cell_type": "code",
   "execution_count": 14,
   "outputs": [
    {
     "name": "stdout",
     "output_type": "stream",
     "text": [
      "7483 74\n"
     ]
    }
   ],
   "source": [
    "total_count = result.json()['count']\n",
    "max_pages = total_count // 100\n",
    "print(total_count, max_pages)"
   ],
   "metadata": {
    "collapsed": false,
    "pycharm": {
     "name": "#%%\n"
    }
   }
  },
  {
   "cell_type": "code",
   "execution_count": 15,
   "outputs": [],
   "source": [
    "clear_string = lambda x: re.sub(' +', ' ', re.sub('<.*?>', '', x).replace(\"&nbsp;\", \"\").replace(\"&amp;\", \"&\").replace('\\n', '\\n ')).strip()\n",
    "title_to_url = lambda x: \"-\".join(re.sub('\\s+', ' ', re.sub(r'[^a-zA-Z\\s]', '', x.lower())).split(' '))"
   ],
   "metadata": {
    "collapsed": false,
    "pycharm": {
     "name": "#%%\n"
    }
   }
  },
  {
   "cell_type": "code",
   "execution_count": 19,
   "outputs": [
    {
     "name": "stderr",
     "output_type": "stream",
     "text": [
      " 72%|███████▏  | 53/74 [01:52<00:44,  2.13s/it]\n"
     ]
    }
   ],
   "source": [
    "search_results = []\n",
    "null_counter = 0\n",
    "for page in tqdm(range(max_pages)):\n",
    "    search_params['page'] = page\n",
    "\n",
    "    result = requests.get(API_URL, params=search_params, headers=headers).json()\n",
    "    found_jobs = result['jobs']\n",
    "\n",
    "    if len(found_jobs) == 0:\n",
    "        null_counter += 1\n",
    "        if null_counter == 3:\n",
    "            break\n",
    "    else:\n",
    "        null_counter = 0\n",
    "\n",
    "    for job_json in found_jobs:\n",
    "        internal_id = job_json['id'].split('/')[-1]\n",
    "        result_dict = {\n",
    "            'title': job_json['title'],\n",
    "            'internal_id': internal_id,\n",
    "            'url': VACANCY_URL + internal_id + '-' + title_to_url(job_json['title']),\n",
    "            'description': clear_string(job_json['description']),\n",
    "            'responsibilities': clear_string(job_json['responsibilities']),\n",
    "            'qualifications': clear_string(job_json['qualifications']),\n",
    "            'company': job_json['company_name'],\n",
    "            # 'country_code': job_json['country_code'],\n",
    "            'publish_date': parser.parse(job_json['publish_date'])\n",
    "        }\n",
    "        search_results.append(result_dict)\n",
    "\n",
    "    time.sleep(0.2) # sleep for 200 ms"
   ],
   "metadata": {
    "collapsed": false,
    "pycharm": {
     "name": "#%%\n"
    }
   }
  },
  {
   "cell_type": "code",
   "execution_count": 20,
   "outputs": [
    {
     "name": "stdout",
     "output_type": "stream",
     "text": [
      "5100\n"
     ]
    },
    {
     "data": {
      "text/plain": "                                                  title         internal_id  \\\n1152  Strategy and Sales Operations Analyst, Google ...  108237416348689094   \n1673                           Release Engineer, Fitbit  130713460171252422   \n2493                    Account Strategy Lead (Spanish)   99377076252877510   \n4870  Technical Writer, Systems Infrastructure Platform  114474748219400902   \n2027                Regional Workplace Services Manager   84308472331412166   \n\n                                                    url  \\\n1152  http://careers.google.com/jobs/results/1082374...   \n1673  http://careers.google.com/jobs/results/1307134...   \n2493  http://careers.google.com/jobs/results/9937707...   \n4870  http://careers.google.com/jobs/results/1144747...   \n2027  http://careers.google.com/jobs/results/8430847...   \n\n                                            description  \\\n1152  Google Cloud teams work with schools, companie...   \n1673  How do you release updates and changes to the ...   \n2493  Businesses that partner with Google come in al...   \n4870  Technical writers communicate complex informat...   \n2027  As a Regional Workplace Services Manager, you ...   \n\n                                       responsibilities  \\\n1152  Work with the cross-functional leadership team...   \n1673  Work directly with team members that need to r...   \n2493  Lead partnerships with Google Shopping clients...   \n4870  Manage multiple competing priorities in a fast...   \n2027  Lead initiatives to develop services to suppor...   \n\n                                         qualifications company  \\\n1152  Minimum qualifications:\\n Bachelor's degree or...  Google   \n1673  Minimum qualifications:\\n Bachelor's degree in...  Fitbit   \n2493  Minimum qualifications:\\n Bachelor's degree or...  Google   \n4870  Minimum qualifications:\\n Bachelor's degree or...  Google   \n2027  Minimum qualifications:\\n Bachelor's degree or...  Google   \n\n                         publish_date  \n1152 2022-06-15 18:01:52.949000+00:00  \n1673 2022-06-09 19:32:02.254000+00:00  \n2493 2022-06-01 06:01:56.140000+00:00  \n4870 2022-04-20 19:31:55.761000+00:00  \n2027 2022-06-07 05:02:20.098000+00:00  ",
      "text/html": "<div>\n<style scoped>\n    .dataframe tbody tr th:only-of-type {\n        vertical-align: middle;\n    }\n\n    .dataframe tbody tr th {\n        vertical-align: top;\n    }\n\n    .dataframe thead th {\n        text-align: right;\n    }\n</style>\n<table border=\"1\" class=\"dataframe\">\n  <thead>\n    <tr style=\"text-align: right;\">\n      <th></th>\n      <th>title</th>\n      <th>internal_id</th>\n      <th>url</th>\n      <th>description</th>\n      <th>responsibilities</th>\n      <th>qualifications</th>\n      <th>company</th>\n      <th>publish_date</th>\n    </tr>\n  </thead>\n  <tbody>\n    <tr>\n      <th>1152</th>\n      <td>Strategy and Sales Operations Analyst, Google ...</td>\n      <td>108237416348689094</td>\n      <td>http://careers.google.com/jobs/results/1082374...</td>\n      <td>Google Cloud teams work with schools, companie...</td>\n      <td>Work with the cross-functional leadership team...</td>\n      <td>Minimum qualifications:\\n Bachelor's degree or...</td>\n      <td>Google</td>\n      <td>2022-06-15 18:01:52.949000+00:00</td>\n    </tr>\n    <tr>\n      <th>1673</th>\n      <td>Release Engineer, Fitbit</td>\n      <td>130713460171252422</td>\n      <td>http://careers.google.com/jobs/results/1307134...</td>\n      <td>How do you release updates and changes to the ...</td>\n      <td>Work directly with team members that need to r...</td>\n      <td>Minimum qualifications:\\n Bachelor's degree in...</td>\n      <td>Fitbit</td>\n      <td>2022-06-09 19:32:02.254000+00:00</td>\n    </tr>\n    <tr>\n      <th>2493</th>\n      <td>Account Strategy Lead (Spanish)</td>\n      <td>99377076252877510</td>\n      <td>http://careers.google.com/jobs/results/9937707...</td>\n      <td>Businesses that partner with Google come in al...</td>\n      <td>Lead partnerships with Google Shopping clients...</td>\n      <td>Minimum qualifications:\\n Bachelor's degree or...</td>\n      <td>Google</td>\n      <td>2022-06-01 06:01:56.140000+00:00</td>\n    </tr>\n    <tr>\n      <th>4870</th>\n      <td>Technical Writer, Systems Infrastructure Platform</td>\n      <td>114474748219400902</td>\n      <td>http://careers.google.com/jobs/results/1144747...</td>\n      <td>Technical writers communicate complex informat...</td>\n      <td>Manage multiple competing priorities in a fast...</td>\n      <td>Minimum qualifications:\\n Bachelor's degree or...</td>\n      <td>Google</td>\n      <td>2022-04-20 19:31:55.761000+00:00</td>\n    </tr>\n    <tr>\n      <th>2027</th>\n      <td>Regional Workplace Services Manager</td>\n      <td>84308472331412166</td>\n      <td>http://careers.google.com/jobs/results/8430847...</td>\n      <td>As a Regional Workplace Services Manager, you ...</td>\n      <td>Lead initiatives to develop services to suppor...</td>\n      <td>Minimum qualifications:\\n Bachelor's degree or...</td>\n      <td>Google</td>\n      <td>2022-06-07 05:02:20.098000+00:00</td>\n    </tr>\n  </tbody>\n</table>\n</div>"
     },
     "execution_count": 20,
     "metadata": {},
     "output_type": "execute_result"
    }
   ],
   "source": [
    "snapshot = pd.DataFrame(search_results)\n",
    "print(len(snapshot))\n",
    "snapshot.sample(5)"
   ],
   "metadata": {
    "collapsed": false,
    "pycharm": {
     "name": "#%%\n"
    }
   }
  },
  {
   "cell_type": "code",
   "execution_count": 21,
   "outputs": [
    {
     "name": "stdout",
     "output_type": "stream",
     "text": [
      "<class 'pandas.core.frame.DataFrame'>\n",
      "RangeIndex: 5100 entries, 0 to 5099\n",
      "Data columns (total 8 columns):\n",
      " #   Column            Non-Null Count  Dtype                  \n",
      "---  ------            --------------  -----                  \n",
      " 0   title             5100 non-null   object                 \n",
      " 1   internal_id       5100 non-null   object                 \n",
      " 2   url               5100 non-null   object                 \n",
      " 3   description       5100 non-null   object                 \n",
      " 4   responsibilities  5100 non-null   object                 \n",
      " 5   qualifications    5100 non-null   object                 \n",
      " 6   company           5100 non-null   object                 \n",
      " 7   publish_date      5100 non-null   datetime64[ns, tzutc()]\n",
      "dtypes: datetime64[ns, tzutc()](1), object(7)\n",
      "memory usage: 318.9+ KB\n"
     ]
    }
   ],
   "source": [
    "snapshot.info()"
   ],
   "metadata": {
    "collapsed": false,
    "pycharm": {
     "name": "#%%\n"
    }
   }
  },
  {
   "cell_type": "code",
   "execution_count": 22,
   "outputs": [
    {
     "data": {
      "text/plain": "Google     4769\nYouTube     245\nFitbit       86\nName: company, dtype: int64"
     },
     "execution_count": 22,
     "metadata": {},
     "output_type": "execute_result"
    }
   ],
   "source": [
    "snapshot['company'].value_counts()"
   ],
   "metadata": {
    "collapsed": false,
    "pycharm": {
     "name": "#%%\n"
    }
   }
  },
  {
   "cell_type": "code",
   "execution_count": 23,
   "outputs": [
    {
     "data": {
      "text/plain": "'24-06-2022'"
     },
     "execution_count": 23,
     "metadata": {},
     "output_type": "execute_result"
    }
   ],
   "source": [
    "current_date = datetime.now().strftime('%d-%m-%Y')\n",
    "current_date"
   ],
   "metadata": {
    "collapsed": false,
    "pycharm": {
     "name": "#%%\n"
    }
   }
  },
  {
   "cell_type": "code",
   "execution_count": 25,
   "outputs": [],
   "source": [
    "snapshot.to_csv(f'../data/google/{current_date}.csv')\n",
    "snapshot.to_csv(f'../data/google/{current_date}.tsv', sep='\\t')"
   ],
   "metadata": {
    "collapsed": false,
    "pycharm": {
     "name": "#%%\n"
    }
   }
  }
 ],
 "metadata": {
  "kernelspec": {
   "display_name": "Python 3",
   "language": "python",
   "name": "python3"
  },
  "language_info": {
   "codemirror_mode": {
    "name": "ipython",
    "version": 2
   },
   "file_extension": ".py",
   "mimetype": "text/x-python",
   "name": "python",
   "nbconvert_exporter": "python",
   "pygments_lexer": "ipython2",
   "version": "2.7.6"
  }
 },
 "nbformat": 4,
 "nbformat_minor": 0
}
