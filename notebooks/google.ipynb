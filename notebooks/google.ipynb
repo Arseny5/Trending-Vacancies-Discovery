{
 "cells": [
  {
   "cell_type": "markdown",
   "metadata": {
    "id": "ymbmv2XnolOV",
    "pycharm": {
     "name": "#%% md\n"
    }
   },
   "source": [
    "## **PARSING GOOGLE VACANCY**"
   ]
  },
  {
   "cell_type": "code",
   "execution_count": 1,
   "metadata": {
    "id": "DHalDdnqpl4Y",
    "pycharm": {
     "name": "#%%\n"
    }
   },
   "outputs": [],
   "source": [
    "############################################\n",
    "###     Research Trending Vacancies      ###\n",
    "###     Sber Dep. Research&Innovation    ### \n",
    "###   Ivanov Arseny, Sergey Bratchikov   ###\n",
    "###       A. Efimov, D. Asonov           ###\n",
    "############################################"
   ]
  },
  {
   "cell_type": "code",
   "execution_count": 2,
   "outputs": [],
   "source": [
    "import time\n",
    "\n",
    "import requests\n",
    "import json\n",
    "import re\n",
    "import time\n",
    "import faker\n",
    "import pandas as pd\n",
    "from tqdm import tqdm\n",
    "from datetime import datetime\n",
    "from dateutil import parser"
   ],
   "metadata": {
    "collapsed": false,
    "pycharm": {
     "name": "#%%\n"
    }
   }
  },
  {
   "cell_type": "code",
   "execution_count": 3,
   "outputs": [],
   "source": [
    "fake = faker.Faker(locale='en')"
   ],
   "metadata": {
    "collapsed": false,
    "pycharm": {
     "name": "#%%\n"
    }
   }
  },
  {
   "cell_type": "code",
   "execution_count": 4,
   "outputs": [],
   "source": [
    "headers = {\n",
    "    'User-Agent': fake.chrome(),\n",
    "    'accept-language': 'en-US,en;q=0.9',\n",
    "    'pragma': 'np-cache',\n",
    "    'referer': 'http://careers.google.com/jobs/results/'\n",
    "}"
   ],
   "metadata": {
    "collapsed": false,
    "pycharm": {
     "name": "#%%\n"
    }
   }
  },
  {
   "cell_type": "code",
   "execution_count": 5,
   "outputs": [],
   "source": [
    "API_URL = \"http://careers.google.com/api/v3/search/\"\n",
    "VACANCY_URL = 'http://careers.google.com/jobs/results/'"
   ],
   "metadata": {
    "collapsed": false,
    "pycharm": {
     "name": "#%%\n"
    }
   }
  },
  {
   "cell_type": "code",
   "execution_count": 6,
   "outputs": [],
   "source": [
    "search_params = {\n",
    "    'page': 1,\n",
    "    # 'company': 'Google', # One of Alphabet holding's company\n",
    "    'q': '',\n",
    "    'sort_by': 'date',\n",
    "    'page_size': 100 # must be 20, 50, 75, 100\n",
    "}"
   ],
   "metadata": {
    "collapsed": false,
    "pycharm": {
     "name": "#%%\n"
    }
   }
  },
  {
   "cell_type": "code",
   "execution_count": 7,
   "outputs": [
    {
     "data": {
      "text/plain": "<Response [200]>"
     },
     "execution_count": 7,
     "metadata": {},
     "output_type": "execute_result"
    }
   ],
   "source": [
    "result = requests.get(API_URL, params=search_params, headers=headers)\n",
    "result"
   ],
   "metadata": {
    "collapsed": false,
    "pycharm": {
     "name": "#%%\n"
    }
   }
  },
  {
   "cell_type": "code",
   "execution_count": 8,
   "outputs": [
    {
     "name": "stdout",
     "output_type": "stream",
     "text": [
      "7261 72\n"
     ]
    }
   ],
   "source": [
    "total_count = result.json()['count']\n",
    "max_pages = total_count // 100\n",
    "print(total_count, max_pages)"
   ],
   "metadata": {
    "collapsed": false,
    "pycharm": {
     "name": "#%%\n"
    }
   }
  },
  {
   "cell_type": "code",
   "execution_count": 9,
   "outputs": [],
   "source": [
    "clear_string = lambda x: re.sub(' +', ' ', re.sub('<.*?>', ' ', x).replace(\"&nbsp;\", \"\").replace(\"&amp;\", \"&\").replace('\\n', '\\n ')).strip()\n",
    "title_to_url = lambda x: \"-\".join(re.sub('\\s+', ' ', re.sub(r'[^a-zA-Z\\s]', '', x.lower())).split(' '))"
   ],
   "metadata": {
    "collapsed": false,
    "pycharm": {
     "name": "#%%\n"
    }
   }
  },
  {
   "cell_type": "code",
   "execution_count": 10,
   "outputs": [
    {
     "name": "stderr",
     "output_type": "stream",
     "text": [
      " 74%|███████▎  | 53/72 [01:49<00:39,  2.06s/it]\n"
     ]
    }
   ],
   "source": [
    "search_results = []\n",
    "null_counter = 0\n",
    "for page in tqdm(range(max_pages)):\n",
    "    search_params['page'] = page\n",
    "\n",
    "    result = requests.get(API_URL, params=search_params, headers=headers).json()\n",
    "    found_jobs = result['jobs']\n",
    "\n",
    "    if len(found_jobs) == 0:\n",
    "        null_counter += 1\n",
    "        if null_counter == 3:\n",
    "            break\n",
    "    else:\n",
    "        null_counter = 0\n",
    "\n",
    "    for job_json in found_jobs:\n",
    "        internal_id = job_json['id'].split('/')[-1]\n",
    "        result_dict = {\n",
    "            'title': job_json['title'],\n",
    "            'internal_id': internal_id,\n",
    "            'url': VACANCY_URL + internal_id + '-' + title_to_url(job_json['title']),\n",
    "            'description': clear_string(job_json['description']),\n",
    "            'responsibilities': clear_string(job_json['responsibilities']),\n",
    "            'qualifications': clear_string(job_json['qualifications']),\n",
    "            'company': job_json['company_name'],\n",
    "            # 'country_code': job_json['country_code'],\n",
    "            'publish_date': parser.parse(job_json['publish_date'])\n",
    "        }\n",
    "        search_results.append(result_dict)\n",
    "\n",
    "    time.sleep(0.2) # sleep for 200 ms"
   ],
   "metadata": {
    "collapsed": false,
    "pycharm": {
     "name": "#%%\n"
    }
   }
  },
  {
   "cell_type": "code",
   "execution_count": 11,
   "outputs": [
    {
     "name": "stdout",
     "output_type": "stream",
     "text": [
      "5100\n"
     ]
    },
    {
     "data": {
      "text/plain": "                                                  title         internal_id  \\\n4729  Chrome Enterprise Customer Engineer (English, ...   72377254216114886   \n5082                      Vice President, Strategy, Geo  142182423656833734   \n1233               Technical Program Manager, Cloud Web   79188482351604422   \n1288  Director, Agency, Google Customer Solutions (E...   72543128025735878   \n3089  Product Manager, Content Safety Defaults and S...   96268531395371718   \n\n                                                    url  \\\n4729  http://careers.google.com/jobs/results/7237725...   \n5082  http://careers.google.com/jobs/results/1421824...   \n1233  http://careers.google.com/jobs/results/7918848...   \n1288  http://careers.google.com/jobs/results/7254312...   \n3089  http://careers.google.com/jobs/results/9626853...   \n\n                                            description  \\\n4729  As a Chrome Enterprise Customer Engineer, you'...   \n5082  As Vice President for Geo, you will be part of...   \n1233  A problem isn’t truly solved until it’s solved...   \n1288  As Director, Agency, Google Customer Solutions...   \n3089  In this role, you will be providing strategic ...   \n\n                                       responsibilities  \\\n4729  Work with companies, partners, and government ...   \n5082  Serve as a key thought partner to the Geo orga...   \n1233  Plan requirements, establish project plans, bu...   \n1288  Set and lead the strategy for all German Agenc...   \n3089  Make critical contributions to the Trust strat...   \n\n                                         qualifications company  \\\n4729  Minimum qualifications: \\n 3 years of experien...  Google   \n5082  Minimum qualifications: \\n Bachelor’s degree i...  Google   \n1233  Minimum qualifications: \\n Experience in proje...  Google   \n1288  Minimum qualifications: \\n Experience leading ...  Google   \n3089  Minimum qualifications: \\n Bachelor's degree i...  Google   \n\n                         publish_date  \n4729 2022-04-27 15:02:28.468000+00:00  \n5082 2022-04-18 19:31:47.614000+00:00  \n1233 2022-06-22 15:32:01.607000+00:00  \n1288 2022-06-21 20:31:49.218000+00:00  \n3089 2022-05-27 18:31:56.237000+00:00  ",
      "text/html": "<div>\n<style scoped>\n    .dataframe tbody tr th:only-of-type {\n        vertical-align: middle;\n    }\n\n    .dataframe tbody tr th {\n        vertical-align: top;\n    }\n\n    .dataframe thead th {\n        text-align: right;\n    }\n</style>\n<table border=\"1\" class=\"dataframe\">\n  <thead>\n    <tr style=\"text-align: right;\">\n      <th></th>\n      <th>title</th>\n      <th>internal_id</th>\n      <th>url</th>\n      <th>description</th>\n      <th>responsibilities</th>\n      <th>qualifications</th>\n      <th>company</th>\n      <th>publish_date</th>\n    </tr>\n  </thead>\n  <tbody>\n    <tr>\n      <th>4729</th>\n      <td>Chrome Enterprise Customer Engineer (English, ...</td>\n      <td>72377254216114886</td>\n      <td>http://careers.google.com/jobs/results/7237725...</td>\n      <td>As a Chrome Enterprise Customer Engineer, you'...</td>\n      <td>Work with companies, partners, and government ...</td>\n      <td>Minimum qualifications: \\n 3 years of experien...</td>\n      <td>Google</td>\n      <td>2022-04-27 15:02:28.468000+00:00</td>\n    </tr>\n    <tr>\n      <th>5082</th>\n      <td>Vice President, Strategy, Geo</td>\n      <td>142182423656833734</td>\n      <td>http://careers.google.com/jobs/results/1421824...</td>\n      <td>As Vice President for Geo, you will be part of...</td>\n      <td>Serve as a key thought partner to the Geo orga...</td>\n      <td>Minimum qualifications: \\n Bachelor’s degree i...</td>\n      <td>Google</td>\n      <td>2022-04-18 19:31:47.614000+00:00</td>\n    </tr>\n    <tr>\n      <th>1233</th>\n      <td>Technical Program Manager, Cloud Web</td>\n      <td>79188482351604422</td>\n      <td>http://careers.google.com/jobs/results/7918848...</td>\n      <td>A problem isn’t truly solved until it’s solved...</td>\n      <td>Plan requirements, establish project plans, bu...</td>\n      <td>Minimum qualifications: \\n Experience in proje...</td>\n      <td>Google</td>\n      <td>2022-06-22 15:32:01.607000+00:00</td>\n    </tr>\n    <tr>\n      <th>1288</th>\n      <td>Director, Agency, Google Customer Solutions (E...</td>\n      <td>72543128025735878</td>\n      <td>http://careers.google.com/jobs/results/7254312...</td>\n      <td>As Director, Agency, Google Customer Solutions...</td>\n      <td>Set and lead the strategy for all German Agenc...</td>\n      <td>Minimum qualifications: \\n Experience leading ...</td>\n      <td>Google</td>\n      <td>2022-06-21 20:31:49.218000+00:00</td>\n    </tr>\n    <tr>\n      <th>3089</th>\n      <td>Product Manager, Content Safety Defaults and S...</td>\n      <td>96268531395371718</td>\n      <td>http://careers.google.com/jobs/results/9626853...</td>\n      <td>In this role, you will be providing strategic ...</td>\n      <td>Make critical contributions to the Trust strat...</td>\n      <td>Minimum qualifications: \\n Bachelor's degree i...</td>\n      <td>Google</td>\n      <td>2022-05-27 18:31:56.237000+00:00</td>\n    </tr>\n  </tbody>\n</table>\n</div>"
     },
     "execution_count": 11,
     "metadata": {},
     "output_type": "execute_result"
    }
   ],
   "source": [
    "snapshot = pd.DataFrame(search_results)\n",
    "print(len(snapshot))\n",
    "snapshot.sample(5)"
   ],
   "metadata": {
    "collapsed": false,
    "pycharm": {
     "name": "#%%\n"
    }
   }
  },
  {
   "cell_type": "code",
   "execution_count": 12,
   "outputs": [
    {
     "name": "stdout",
     "output_type": "stream",
     "text": [
      "<class 'pandas.core.frame.DataFrame'>\n",
      "RangeIndex: 5100 entries, 0 to 5099\n",
      "Data columns (total 8 columns):\n",
      " #   Column            Non-Null Count  Dtype                  \n",
      "---  ------            --------------  -----                  \n",
      " 0   title             5100 non-null   object                 \n",
      " 1   internal_id       5100 non-null   object                 \n",
      " 2   url               5100 non-null   object                 \n",
      " 3   description       5100 non-null   object                 \n",
      " 4   responsibilities  5100 non-null   object                 \n",
      " 5   qualifications    5100 non-null   object                 \n",
      " 6   company           5100 non-null   object                 \n",
      " 7   publish_date      5100 non-null   datetime64[ns, tzutc()]\n",
      "dtypes: datetime64[ns, tzutc()](1), object(7)\n",
      "memory usage: 318.9+ KB\n"
     ]
    }
   ],
   "source": [
    "snapshot.info()"
   ],
   "metadata": {
    "collapsed": false,
    "pycharm": {
     "name": "#%%\n"
    }
   }
  },
  {
   "cell_type": "code",
   "execution_count": 13,
   "outputs": [
    {
     "data": {
      "text/plain": "Google          4766\nYouTube          239\nFitbit            93\nGoogle Fiber       2\nName: company, dtype: int64"
     },
     "execution_count": 13,
     "metadata": {},
     "output_type": "execute_result"
    }
   ],
   "source": [
    "snapshot['company'].value_counts()"
   ],
   "metadata": {
    "collapsed": false,
    "pycharm": {
     "name": "#%%\n"
    }
   }
  },
  {
   "cell_type": "code",
   "execution_count": 14,
   "outputs": [
    {
     "data": {
      "text/plain": "'03-07-2022'"
     },
     "execution_count": 14,
     "metadata": {},
     "output_type": "execute_result"
    }
   ],
   "source": [
    "current_date = datetime.now().strftime('%d-%m-%Y')\n",
    "current_date"
   ],
   "metadata": {
    "collapsed": false,
    "pycharm": {
     "name": "#%%\n"
    }
   }
  },
  {
   "cell_type": "code",
   "execution_count": 15,
   "outputs": [],
   "source": [
    "snapshot.to_csv(f'../data/google/{current_date}.csv')\n",
    "snapshot.to_csv(f'../data/google/{current_date}.tsv', sep='\\t')"
   ],
   "metadata": {
    "collapsed": false,
    "pycharm": {
     "name": "#%%\n"
    }
   }
  }
 ],
 "metadata": {
  "kernelspec": {
   "display_name": "Python 3",
   "language": "python",
   "name": "python3"
  },
  "language_info": {
   "codemirror_mode": {
    "name": "ipython",
    "version": 2
   },
   "file_extension": ".py",
   "mimetype": "text/x-python",
   "name": "python",
   "nbconvert_exporter": "python",
   "pygments_lexer": "ipython2",
   "version": "2.7.6"
  }
 },
 "nbformat": 4,
 "nbformat_minor": 0
}