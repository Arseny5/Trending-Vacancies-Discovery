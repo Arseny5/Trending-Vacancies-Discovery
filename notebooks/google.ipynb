{
 "cells": [
  {
   "cell_type": "code",
   "execution_count": 57,
   "outputs": [],
   "source": [
    "import time\n",
    "\n",
    "import requests\n",
    "import json\n",
    "import re\n",
    "import time\n",
    "import faker\n",
    "import pandas as pd\n",
    "from tqdm import tqdm\n",
    "from datetime import datetime\n",
    "from dateutil import parser"
   ],
   "metadata": {
    "collapsed": false,
    "pycharm": {
     "name": "#%%\n"
    }
   }
  },
  {
   "cell_type": "code",
   "execution_count": 58,
   "outputs": [],
   "source": [
    "fake = faker.Faker(locale='en')"
   ],
   "metadata": {
    "collapsed": false,
    "pycharm": {
     "name": "#%%\n"
    }
   }
  },
  {
   "cell_type": "code",
   "execution_count": 59,
   "outputs": [],
   "source": [
    "headers = {\n",
    "    'User-Agent': fake.chrome(),\n",
    "    'accept-language': 'en-US,en;q=0.9',\n",
    "    'pragma': 'np-cache',\n",
    "    'referer': 'http://careers.google.com/jobs/results/'\n",
    "}"
   ],
   "metadata": {
    "collapsed": false,
    "pycharm": {
     "name": "#%%\n"
    }
   }
  },
  {
   "cell_type": "code",
   "execution_count": 60,
   "outputs": [],
   "source": [
    "URL = \"http://careers.google.com/api/v3/search/\"\n",
    "VACANCY_URL = 'http://careers.google.com/jobs/results/'"
   ],
   "metadata": {
    "collapsed": false,
    "pycharm": {
     "name": "#%%\n"
    }
   }
  },
  {
   "cell_type": "code",
   "execution_count": 61,
   "outputs": [],
   "source": [
    "search_params = {\n",
    "    'page': 1,\n",
    "    # 'company': 'Google', # One of Alphabet holding's company\n",
    "    'q': '',\n",
    "    'sort_by': 'date',\n",
    "    'page_size': 100 # must be 20, 50, 75, 100\n",
    "}"
   ],
   "metadata": {
    "collapsed": false,
    "pycharm": {
     "name": "#%%\n"
    }
   }
  },
  {
   "cell_type": "code",
   "execution_count": 62,
   "outputs": [
    {
     "data": {
      "text/plain": "<Response [200]>"
     },
     "execution_count": 62,
     "metadata": {},
     "output_type": "execute_result"
    }
   ],
   "source": [
    "result = requests.get(URL, params=search_params, headers=headers)\n",
    "result"
   ],
   "metadata": {
    "collapsed": false,
    "pycharm": {
     "name": "#%%\n"
    }
   }
  },
  {
   "cell_type": "code",
   "execution_count": 63,
   "outputs": [
    {
     "name": "stdout",
     "output_type": "stream",
     "text": [
      "7553 74\n"
     ]
    }
   ],
   "source": [
    "total_count = result.json()['count']\n",
    "max_pages = total_count // 100 - 1\n",
    "print(total_count, max_pages)"
   ],
   "metadata": {
    "collapsed": false,
    "pycharm": {
     "name": "#%%\n"
    }
   }
  },
  {
   "cell_type": "code",
   "execution_count": 67,
   "outputs": [],
   "source": [
    "clear_string = lambda x: re.sub(' +', ' ', re.sub('<.*?>', '', x).replace('\\n', '\\n ')).strip()\n",
    "title_to_url = lambda x: \"-\".join(re.sub('\\s+', ' ', re.sub(r'[^a-zA-Z\\s]', '', x.lower())).split(' '))"
   ],
   "metadata": {
    "collapsed": false,
    "pycharm": {
     "name": "#%%\n"
    }
   }
  },
  {
   "cell_type": "code",
   "execution_count": 68,
   "outputs": [
    {
     "name": "stderr",
     "output_type": "stream",
     "text": [
      "100%|██████████| 74/74 [01:49<00:00,  1.49s/it]\n"
     ]
    }
   ],
   "source": [
    "search_results = []\n",
    "for page in tqdm(range(max_pages)):\n",
    "    search_params['page'] = page\n",
    "\n",
    "    result = requests.get(URL, params=search_params, headers=headers).json()\n",
    "    found_jobs = result['jobs']\n",
    "\n",
    "    if len(found_jobs) < 0:\n",
    "        break\n",
    "\n",
    "    for job_json in found_jobs:\n",
    "        internal_id = job_json['id'].split('/')[-1]\n",
    "        result_dict = {\n",
    "            'title': job_json['title'],\n",
    "            'internal_id': internal_id,\n",
    "            'url': VACANCY_URL + internal_id + '-' + title_to_url(job_json['title']),\n",
    "            'description': clear_string(job_json['description']),\n",
    "            'responsibilities': clear_string(job_json['responsibilities']),\n",
    "            'qualifications': clear_string(job_json['qualifications']),\n",
    "            'company': job_json['company_name'],\n",
    "            # 'country_code': job_json['country_code'],\n",
    "            'publish_date': parser.parse(job_json['publish_date'])\n",
    "        }\n",
    "        search_results.append(result_dict)\n",
    "\n",
    "    time.sleep(0.2) # sleep for 200 ms"
   ],
   "metadata": {
    "collapsed": false,
    "pycharm": {
     "name": "#%%\n"
    }
   }
  },
  {
   "cell_type": "code",
   "execution_count": 69,
   "outputs": [
    {
     "name": "stdout",
     "output_type": "stream",
     "text": [
      "5100\n"
     ]
    },
    {
     "data": {
      "text/plain": "                                                  title         internal_id  \\\n2070  Product Operations Manager, Apps Quality, Goog...  138396433674838726   \n2710       Audio Systems Engineer, Devices and Services  137517413588443846   \n4485          Account Manager, Google Operations Center  114438420849140422   \n4222          Senior Data Center Real Estate Researcher   74996363927921350   \n2866  Partner Customer Engineer, Data Analytics, Tec...  116710526488060614   \n\n                                                    url  \\\n2070  http://careers.google.com/jobs/results/1383964...   \n2710  http://careers.google.com/jobs/results/1375174...   \n4485  http://careers.google.com/jobs/results/1144384...   \n4222  http://careers.google.com/jobs/results/7499636...   \n2866  http://careers.google.com/jobs/results/1167105...   \n\n                                            description  \\\n2070  As a Product Specialist, you will partner with...   \n2710  Our computational challenges are so big, compl...   \n4485  gTech’s Strategy and Operations team (gSO) is ...   \n4222  A problem isn’t truly solved until it’s solved...   \n2866  The Google Cloud Platform team helps customers...   \n\n                                       responsibilities  \\\n2070  Support the development and execution of the q...   \n2710  Analyze, define, tune, validate, and debug aud...   \n4485  Provide business critical insights using analy...   \n4222  Gather, discern, and collate market intelligen...   \n2866  Help Sales and Google Cloud Architect teams un...   \n\n                                         qualifications company  \\\n2070  Minimum qualifications:\\n Bachelor's degree or...  Google   \n2710  Minimum qualifications:\\n Bachelor's degree in...  Google   \n4485  Minimum qualifications:\\n Bachelor's degree in...  Google   \n4222  Minimum qualifications:\\n Bachelor’s degree in...  Google   \n2866  Minimum qualifications:\\n Bachelor's degree in...  Google   \n\n                         publish_date  \n2070 2022-05-31 16:31:53.195000+00:00  \n2710 2022-05-24 04:02:23.304000+00:00  \n4485 2022-04-25 18:32:10.298000+00:00  \n4222 2022-04-28 14:02:08.583000+00:00  \n2866 2022-05-20 13:31:58.640000+00:00  ",
      "text/html": "<div>\n<style scoped>\n    .dataframe tbody tr th:only-of-type {\n        vertical-align: middle;\n    }\n\n    .dataframe tbody tr th {\n        vertical-align: top;\n    }\n\n    .dataframe thead th {\n        text-align: right;\n    }\n</style>\n<table border=\"1\" class=\"dataframe\">\n  <thead>\n    <tr style=\"text-align: right;\">\n      <th></th>\n      <th>title</th>\n      <th>internal_id</th>\n      <th>url</th>\n      <th>description</th>\n      <th>responsibilities</th>\n      <th>qualifications</th>\n      <th>company</th>\n      <th>publish_date</th>\n    </tr>\n  </thead>\n  <tbody>\n    <tr>\n      <th>2070</th>\n      <td>Product Operations Manager, Apps Quality, Goog...</td>\n      <td>138396433674838726</td>\n      <td>http://careers.google.com/jobs/results/1383964...</td>\n      <td>As a Product Specialist, you will partner with...</td>\n      <td>Support the development and execution of the q...</td>\n      <td>Minimum qualifications:\\n Bachelor's degree or...</td>\n      <td>Google</td>\n      <td>2022-05-31 16:31:53.195000+00:00</td>\n    </tr>\n    <tr>\n      <th>2710</th>\n      <td>Audio Systems Engineer, Devices and Services</td>\n      <td>137517413588443846</td>\n      <td>http://careers.google.com/jobs/results/1375174...</td>\n      <td>Our computational challenges are so big, compl...</td>\n      <td>Analyze, define, tune, validate, and debug aud...</td>\n      <td>Minimum qualifications:\\n Bachelor's degree in...</td>\n      <td>Google</td>\n      <td>2022-05-24 04:02:23.304000+00:00</td>\n    </tr>\n    <tr>\n      <th>4485</th>\n      <td>Account Manager, Google Operations Center</td>\n      <td>114438420849140422</td>\n      <td>http://careers.google.com/jobs/results/1144384...</td>\n      <td>gTech’s Strategy and Operations team (gSO) is ...</td>\n      <td>Provide business critical insights using analy...</td>\n      <td>Minimum qualifications:\\n Bachelor's degree in...</td>\n      <td>Google</td>\n      <td>2022-04-25 18:32:10.298000+00:00</td>\n    </tr>\n    <tr>\n      <th>4222</th>\n      <td>Senior Data Center Real Estate Researcher</td>\n      <td>74996363927921350</td>\n      <td>http://careers.google.com/jobs/results/7499636...</td>\n      <td>A problem isn’t truly solved until it’s solved...</td>\n      <td>Gather, discern, and collate market intelligen...</td>\n      <td>Minimum qualifications:\\n Bachelor’s degree in...</td>\n      <td>Google</td>\n      <td>2022-04-28 14:02:08.583000+00:00</td>\n    </tr>\n    <tr>\n      <th>2866</th>\n      <td>Partner Customer Engineer, Data Analytics, Tec...</td>\n      <td>116710526488060614</td>\n      <td>http://careers.google.com/jobs/results/1167105...</td>\n      <td>The Google Cloud Platform team helps customers...</td>\n      <td>Help Sales and Google Cloud Architect teams un...</td>\n      <td>Minimum qualifications:\\n Bachelor's degree in...</td>\n      <td>Google</td>\n      <td>2022-05-20 13:31:58.640000+00:00</td>\n    </tr>\n  </tbody>\n</table>\n</div>"
     },
     "execution_count": 69,
     "metadata": {},
     "output_type": "execute_result"
    }
   ],
   "source": [
    "snapshot = pd.DataFrame(search_results)\n",
    "print(len(snapshot))\n",
    "snapshot.sample(5)"
   ],
   "metadata": {
    "collapsed": false,
    "pycharm": {
     "name": "#%%\n"
    }
   }
  },
  {
   "cell_type": "code",
   "execution_count": 72,
   "outputs": [
    {
     "name": "stdout",
     "output_type": "stream",
     "text": [
      "<class 'pandas.core.frame.DataFrame'>\n",
      "RangeIndex: 5100 entries, 0 to 5099\n",
      "Data columns (total 8 columns):\n",
      " #   Column            Non-Null Count  Dtype                  \n",
      "---  ------            --------------  -----                  \n",
      " 0   title             5100 non-null   object                 \n",
      " 1   internal_id       5100 non-null   object                 \n",
      " 2   url               5100 non-null   object                 \n",
      " 3   description       5100 non-null   object                 \n",
      " 4   responsibilities  5100 non-null   object                 \n",
      " 5   qualifications    5100 non-null   object                 \n",
      " 6   company           5100 non-null   object                 \n",
      " 7   publish_date      5100 non-null   datetime64[ns, tzutc()]\n",
      "dtypes: datetime64[ns, tzutc()](1), object(7)\n",
      "memory usage: 318.9+ KB\n"
     ]
    }
   ],
   "source": [
    "snapshot.info()"
   ],
   "metadata": {
    "collapsed": false,
    "pycharm": {
     "name": "#%%\n"
    }
   }
  },
  {
   "cell_type": "code",
   "execution_count": 73,
   "outputs": [
    {
     "data": {
      "text/plain": "Google     4760\nYouTube     253\nFitbit       87\nName: company, dtype: int64"
     },
     "execution_count": 73,
     "metadata": {},
     "output_type": "execute_result"
    }
   ],
   "source": [
    "snapshot['company'].value_counts()"
   ],
   "metadata": {
    "collapsed": false,
    "pycharm": {
     "name": "#%%\n"
    }
   }
  },
  {
   "cell_type": "code",
   "execution_count": 74,
   "outputs": [
    {
     "data": {
      "text/plain": "'17-06-2022'"
     },
     "execution_count": 74,
     "metadata": {},
     "output_type": "execute_result"
    }
   ],
   "source": [
    "current_date = datetime.now().strftime('%d-%m-%Y')\n",
    "current_date"
   ],
   "metadata": {
    "collapsed": false,
    "pycharm": {
     "name": "#%%\n"
    }
   }
  },
  {
   "cell_type": "code",
   "execution_count": 75,
   "outputs": [],
   "source": [
    "snapshot.to_csv(f'../data/google/{current_date}.csv')"
   ],
   "metadata": {
    "collapsed": false,
    "pycharm": {
     "name": "#%%\n"
    }
   }
  }
 ],
 "metadata": {
  "kernelspec": {
   "display_name": "Python 3",
   "language": "python",
   "name": "python3"
  },
  "language_info": {
   "codemirror_mode": {
    "name": "ipython",
    "version": 2
   },
   "file_extension": ".py",
   "mimetype": "text/x-python",
   "name": "python",
   "nbconvert_exporter": "python",
   "pygments_lexer": "ipython2",
   "version": "2.7.6"
  }
 },
 "nbformat": 4,
 "nbformat_minor": 0
}