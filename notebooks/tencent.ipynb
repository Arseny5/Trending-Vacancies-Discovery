{
 "nbformat": 4,
 "nbformat_minor": 0,
 "metadata": {
  "colab": {
   "name": "Untitled13.ipynb",
   "provenance": [],
   "collapsed_sections": []
  },
  "kernelspec": {
   "name": "python3",
   "display_name": "Python 3"
  },
  "language_info": {
   "name": "python"
  }
 },
 "cells": [
  {
   "cell_type": "markdown",
   "source": [
    "## **PARSING TENCENT VACANCY**"
   ],
   "metadata": {
    "id": "ymbmv2XnolOV",
    "pycharm": {
     "name": "#%% md\n"
    }
   }
  },
  {
   "cell_type": "code",
   "source": [
    "############################################\n",
    "###     Research Trending Vacancies      ###\n",
    "###     Sber Dep. Research&Innovation    ### \n",
    "###   Ivanov Arseny, Sergey Bratchikov   ###\n",
    "###       A. Efimov, D. Asonov           ###\n",
    "############################################"
   ],
   "metadata": {
    "id": "DHalDdnqpl4Y",
    "pycharm": {
     "name": "#%%\n"
    }
   },
   "execution_count": 1,
   "outputs": []
  },
  {
   "cell_type": "code",
   "source": [
    "import time\n",
    "import requests\n",
    "from bs4 import BeautifulSoup\n",
    "import json\n",
    "import re\n",
    "import time\n",
    "import faker\n",
    "import pandas as pd\n",
    "from tqdm import tqdm\n",
    "from datetime import datetime\n",
    "from dateutil import parser\n",
    "from concurrent.futures import ThreadPoolExecutor"
   ],
   "metadata": {
    "id": "6eLVK9vcoqmu",
    "pycharm": {
     "name": "#%%\n"
    }
   },
   "execution_count": 2,
   "outputs": []
  },
  {
   "cell_type": "code",
   "source": [
    "fake = faker.Faker(locale='en')"
   ],
   "metadata": {
    "id": "_-0lGk9boxhC",
    "pycharm": {
     "name": "#%%\n"
    }
   },
   "execution_count": 3,
   "outputs": []
  },
  {
   "cell_type": "code",
   "source": [
    "tencent_headers = {\n",
    "    'User-Agent': fake.chrome(),\n",
    "    'accept-language': 'en-US,en;q=0.9',\n",
    "    'pragma': 'np-cache',\n",
    "    'content-type': 'application/json',\n",
    "    'referer': 'https://careers.tencent.com/en-us/search.html'\n",
    "}"
   ],
   "metadata": {
    "id": "OmidJ_yqox-S",
    "pycharm": {
     "name": "#%%\n"
    }
   },
   "execution_count": 4,
   "outputs": []
  },
  {
   "cell_type": "code",
   "execution_count": 5,
   "outputs": [],
   "source": [
    "clear_string = lambda x: re.sub(' +', ' ', re.sub('<.*?>', ' ', x).replace('\\n', '\\n ')).strip()"
   ],
   "metadata": {
    "collapsed": false,
    "pycharm": {
     "name": "#%%\n"
    }
   }
  },
  {
   "cell_type": "code",
   "execution_count": 8,
   "outputs": [],
   "source": [
    "API_URL = \"http://careers.tencent.com/tencentcareer/api/post/Query?countryId=&cityId=&bgIds=&productId=&categoryId=&parentCategoryId=&attrId=&keyword=&language=en-us&area=us\"\n",
    "VACANCY_API_URL = \"http://careers.tencent.com/tencentcareer/api/post/ByPostId?language=en-us\""
   ],
   "metadata": {
    "collapsed": false,
    "pycharm": {
     "name": "#%%\n"
    }
   }
  },
  {
   "cell_type": "code",
   "execution_count": 9,
   "outputs": [],
   "source": [
    "search_params = {\n",
    "  'pageSize': 5000,\n",
    "  'pageIndex': 1,\n",
    "  'timestamp': int(time.time() * 1000)\n",
    "}"
   ],
   "metadata": {
    "collapsed": false,
    "pycharm": {
     "name": "#%%\n"
    }
   }
  },
  {
   "cell_type": "code",
   "execution_count": 10,
   "outputs": [
    {
     "data": {
      "text/plain": "2020"
     },
     "execution_count": 10,
     "metadata": {},
     "output_type": "execute_result"
    }
   ],
   "source": [
    "jobs_infos = requests.get(API_URL, headers=tencent_headers, params=search_params).json()['Data']['Posts']\n",
    "len(jobs_infos)"
   ],
   "metadata": {
    "collapsed": false,
    "pycharm": {
     "name": "#%%\n"
    }
   }
  },
  {
   "cell_type": "code",
   "execution_count": 11,
   "outputs": [],
   "source": [
    "def get_vacancy_dict(job_info: dict):\n",
    "    vacancy_info_params = {\n",
    "        'postId': job_info['PostId'],\n",
    "        'timestamp': int(time.time() * 1000)\n",
    "    }\n",
    "    try:\n",
    "        detailed_info = requests.get(VACANCY_API_URL, headers=tencent_headers, params=vacancy_info_params).json()['Data']\n",
    "        job_dict = {\n",
    "            'title': detailed_info['RecruitPostName'],\n",
    "            'internal_id' : detailed_info['RecruitPostId'],\n",
    "            'url': detailed_info['PostURL'],\n",
    "            'description': None,\n",
    "            'responsibilities': clear_string(detailed_info['Responsibility']),\n",
    "            'qualifications': clear_string(detailed_info['Requirement']),\n",
    "            'location': detailed_info['LocationName'],\n",
    "            'category': detailed_info['CategoryName'],\n",
    "            'company': 'Tencent',\n",
    "            'publish_date': parser.parse(detailed_info['LastUpdateTime'])\n",
    "        }\n",
    "        return job_dict\n",
    "    except:\n",
    "        print(f'Error while parsing {job_info[\"PostURL\"]}')\n",
    "        return None"
   ],
   "metadata": {
    "collapsed": false,
    "pycharm": {
     "name": "#%%\n"
    }
   }
  },
  {
   "cell_type": "code",
   "execution_count": 12,
   "outputs": [
    {
     "name": "stderr",
     "output_type": "stream",
     "text": [
      " 99%|█████████▉| 2009/2020 [06:24<00:02,  4.69it/s]"
     ]
    },
    {
     "name": "stdout",
     "output_type": "stream",
     "text": [
      "Error while parsing http://careers.tencent.com/jobdesc.html?postId=1372556351879782400\n",
      "Error while parsing http://careers.tencent.com/jobdesc.html?postId=1123175324201259008\n"
     ]
    },
    {
     "name": "stderr",
     "output_type": "stream",
     "text": [
      "100%|█████████▉| 2013/2020 [06:25<00:01,  5.41it/s]"
     ]
    },
    {
     "name": "stdout",
     "output_type": "stream",
     "text": [
      "Error while parsing http://careers.tencent.com/jobdesc.html?postId=1407545929359171584\n",
      "Error while parsing http://careers.tencent.com/jobdesc.html?postId=1407612467235790848\n",
      "Error while parsing http://careers.tencent.com/jobdesc.html?postId=1341365418496892928\n"
     ]
    },
    {
     "name": "stderr",
     "output_type": "stream",
     "text": [
      "100%|█████████▉| 2016/2020 [06:25<00:00,  6.52it/s]"
     ]
    },
    {
     "name": "stdout",
     "output_type": "stream",
     "text": [
      "Error while parsing http://careers.tencent.com/jobdesc.html?postId=1349959821117366272\n"
     ]
    },
    {
     "name": "stderr",
     "output_type": "stream",
     "text": [
      "100%|█████████▉| 2017/2020 [06:25<00:00,  5.73it/s]"
     ]
    },
    {
     "name": "stdout",
     "output_type": "stream",
     "text": [
      "Error while parsing http://careers.tencent.com/jobdesc.html?postId=0\n"
     ]
    },
    {
     "name": "stderr",
     "output_type": "stream",
     "text": [
      "100%|█████████▉| 2018/2020 [06:25<00:00,  5.08it/s]"
     ]
    },
    {
     "name": "stdout",
     "output_type": "stream",
     "text": [
      "Error while parsing http://careers.tencent.com/jobdesc.html?postId=1379980118021120000\n"
     ]
    },
    {
     "name": "stderr",
     "output_type": "stream",
     "text": [
      "100%|██████████| 2020/2020 [06:26<00:00,  5.23it/s]"
     ]
    },
    {
     "name": "stdout",
     "output_type": "stream",
     "text": [
      "Error while parsing http://careers.tencent.com/jobdesc.html?postId=0\n",
      "Error while parsing http://careers.tencent.com/jobdesc.html?postId=1379980116385341440\n"
     ]
    },
    {
     "name": "stderr",
     "output_type": "stream",
     "text": [
      "\n"
     ]
    }
   ],
   "source": [
    "with ThreadPoolExecutor(max_workers=10) as executor:\n",
    "    job_dicts = list(tqdm(executor.map(get_vacancy_dict, jobs_infos), total=len(jobs_infos)))"
   ],
   "metadata": {
    "collapsed": false,
    "pycharm": {
     "name": "#%%\n"
    }
   }
  },
  {
   "cell_type": "code",
   "execution_count": 16,
   "outputs": [
    {
     "data": {
      "text/plain": "                                                title  internal_id  \\\n856   48549-Senior Product Manager - Gaming Community        90871   \n1510      43476-External Development Business Manager        90877   \n320              15571-《UE4次世代PVP射击手游》客户端开发工程师（深圳/广州）        82206   \n1854                        17229-和平精英-游戏服务器开发工程师（深圳）        90418   \n825                  41073-iOS SDK 高级开发工程师（CSIG全资子公司）        79607   \n\n                                                    url description  \\\n856    http://careers.tencent.com/jobdesc.html?postId=0        None   \n1510   http://careers.tencent.com/jobdesc.html?postId=0        None   \n320   http://careers.tencent.com/jobdesc.html?postId...        None   \n1854   http://careers.tencent.com/jobdesc.html?postId=0        None   \n825   http://careers.tencent.com/jobdesc.html?postId...        None   \n\n                                       responsibilities  \\\n856   - Establish product vision and strategy for th...   \n1510  1- Maintain good relationship with important b...   \n320   负责游戏中的模块设计与开发，根据需求制定合理技术方案并实现；\\n 负责游戏中的关键技术预研，...   \n1854  负责游戏服务器端设计及开发，参与分布式后台系统开发、解决外网的各种bug；\\n 能与客户端策...   \n825   负责腾讯云AI核身SDK产品的迭代开发与持续改进工作；\\n 负责对接产品需求，参与技术方案的...   \n\n                                         qualifications  location  \\\n856   - Bachelor’s degree or equivalent years of pro...  Shenzhen   \n1510  1- Have acquired the bachelor or master’s degr...  Shenzhen   \n320   熟悉UE4或者Unity开发，2年以上游戏开发经验；\\n 熟练使用C/C++，熟悉Types...  Shenzhen   \n1854  3年以上后台开发工作经验；\\n 3年以上分布式系统开发经验，对海量用户进行并行系统设计及系统...  Shenzhen   \n825   计算机或相关专业本科及以上学历，3年以上iOS项目开发经验；\\n 熟练掌握Objective...     Xi'an   \n\n                     category  company publish_date  \n856                   Product  Tencent   2022-06-18  \n1510  Sales,Service & Support  Tencent   2022-05-26  \n320                Technology  Tencent   2022-06-30  \n1854               Technology  Tencent   2022-04-19  \n825                Technology  Tencent   2022-06-20  ",
      "text/html": "<div>\n<style scoped>\n    .dataframe tbody tr th:only-of-type {\n        vertical-align: middle;\n    }\n\n    .dataframe tbody tr th {\n        vertical-align: top;\n    }\n\n    .dataframe thead th {\n        text-align: right;\n    }\n</style>\n<table border=\"1\" class=\"dataframe\">\n  <thead>\n    <tr style=\"text-align: right;\">\n      <th></th>\n      <th>title</th>\n      <th>internal_id</th>\n      <th>url</th>\n      <th>description</th>\n      <th>responsibilities</th>\n      <th>qualifications</th>\n      <th>location</th>\n      <th>category</th>\n      <th>company</th>\n      <th>publish_date</th>\n    </tr>\n  </thead>\n  <tbody>\n    <tr>\n      <th>856</th>\n      <td>48549-Senior Product Manager - Gaming Community</td>\n      <td>90871</td>\n      <td>http://careers.tencent.com/jobdesc.html?postId=0</td>\n      <td>None</td>\n      <td>- Establish product vision and strategy for th...</td>\n      <td>- Bachelor’s degree or equivalent years of pro...</td>\n      <td>Shenzhen</td>\n      <td>Product</td>\n      <td>Tencent</td>\n      <td>2022-06-18</td>\n    </tr>\n    <tr>\n      <th>1510</th>\n      <td>43476-External Development Business Manager</td>\n      <td>90877</td>\n      <td>http://careers.tencent.com/jobdesc.html?postId=0</td>\n      <td>None</td>\n      <td>1- Maintain good relationship with important b...</td>\n      <td>1- Have acquired the bachelor or master’s degr...</td>\n      <td>Shenzhen</td>\n      <td>Sales,Service &amp; Support</td>\n      <td>Tencent</td>\n      <td>2022-05-26</td>\n    </tr>\n    <tr>\n      <th>320</th>\n      <td>15571-《UE4次世代PVP射击手游》客户端开发工程师（深圳/广州）</td>\n      <td>82206</td>\n      <td>http://careers.tencent.com/jobdesc.html?postId...</td>\n      <td>None</td>\n      <td>负责游戏中的模块设计与开发，根据需求制定合理技术方案并实现；\\n 负责游戏中的关键技术预研，...</td>\n      <td>熟悉UE4或者Unity开发，2年以上游戏开发经验；\\n 熟练使用C/C++，熟悉Types...</td>\n      <td>Shenzhen</td>\n      <td>Technology</td>\n      <td>Tencent</td>\n      <td>2022-06-30</td>\n    </tr>\n    <tr>\n      <th>1854</th>\n      <td>17229-和平精英-游戏服务器开发工程师（深圳）</td>\n      <td>90418</td>\n      <td>http://careers.tencent.com/jobdesc.html?postId=0</td>\n      <td>None</td>\n      <td>负责游戏服务器端设计及开发，参与分布式后台系统开发、解决外网的各种bug；\\n 能与客户端策...</td>\n      <td>3年以上后台开发工作经验；\\n 3年以上分布式系统开发经验，对海量用户进行并行系统设计及系统...</td>\n      <td>Shenzhen</td>\n      <td>Technology</td>\n      <td>Tencent</td>\n      <td>2022-04-19</td>\n    </tr>\n    <tr>\n      <th>825</th>\n      <td>41073-iOS SDK 高级开发工程师（CSIG全资子公司）</td>\n      <td>79607</td>\n      <td>http://careers.tencent.com/jobdesc.html?postId...</td>\n      <td>None</td>\n      <td>负责腾讯云AI核身SDK产品的迭代开发与持续改进工作；\\n 负责对接产品需求，参与技术方案的...</td>\n      <td>计算机或相关专业本科及以上学历，3年以上iOS项目开发经验；\\n 熟练掌握Objective...</td>\n      <td>Xi'an</td>\n      <td>Technology</td>\n      <td>Tencent</td>\n      <td>2022-06-20</td>\n    </tr>\n  </tbody>\n</table>\n</div>"
     },
     "execution_count": 16,
     "metadata": {},
     "output_type": "execute_result"
    }
   ],
   "source": [
    "snapshot = pd.DataFrame(filter(lambda x: x is not None, job_dicts))\n",
    "snapshot.sample(5)"
   ],
   "metadata": {
    "collapsed": false,
    "pycharm": {
     "name": "#%%\n"
    }
   }
  },
  {
   "cell_type": "code",
   "execution_count": 17,
   "outputs": [
    {
     "name": "stdout",
     "output_type": "stream",
     "text": [
      "<class 'pandas.core.frame.DataFrame'>\n",
      "RangeIndex: 2010 entries, 0 to 2009\n",
      "Data columns (total 10 columns):\n",
      " #   Column            Non-Null Count  Dtype         \n",
      "---  ------            --------------  -----         \n",
      " 0   title             2010 non-null   object        \n",
      " 1   internal_id       2010 non-null   int64         \n",
      " 2   url               2010 non-null   object        \n",
      " 3   description       0 non-null      object        \n",
      " 4   responsibilities  2010 non-null   object        \n",
      " 5   qualifications    2010 non-null   object        \n",
      " 6   location          2010 non-null   object        \n",
      " 7   category          2010 non-null   object        \n",
      " 8   company           2010 non-null   object        \n",
      " 9   publish_date      2010 non-null   datetime64[ns]\n",
      "dtypes: datetime64[ns](1), int64(1), object(8)\n",
      "memory usage: 157.2+ KB\n"
     ]
    }
   ],
   "source": [
    "snapshot.info()"
   ],
   "metadata": {
    "collapsed": false,
    "pycharm": {
     "name": "#%%\n"
    }
   }
  },
  {
   "cell_type": "code",
   "execution_count": 18,
   "outputs": [
    {
     "data": {
      "text/plain": "'03-07-2022'"
     },
     "execution_count": 18,
     "metadata": {},
     "output_type": "execute_result"
    }
   ],
   "source": [
    "current_date = datetime.now().strftime('%d-%m-%Y')\n",
    "current_date"
   ],
   "metadata": {
    "collapsed": false,
    "pycharm": {
     "name": "#%%\n"
    }
   }
  },
  {
   "cell_type": "code",
   "execution_count": 20,
   "outputs": [],
   "source": [
    "snapshot.to_csv(f'../data/tencent/{current_date}.csv')"
   ],
   "metadata": {
    "collapsed": false,
    "pycharm": {
     "name": "#%%\n"
    }
   }
  },
  {
   "cell_type": "code",
   "source": [],
   "metadata": {
    "id": "Lb7Nkjr7rAv6",
    "pycharm": {
     "name": "#%%\n"
    }
   },
   "execution_count": null,
   "outputs": []
  },
  {
   "cell_type": "code",
   "execution_count": null,
   "outputs": [],
   "source": [],
   "metadata": {
    "collapsed": false,
    "pycharm": {
     "name": "#%%\n"
    }
   }
  },
  {
   "cell_type": "code",
   "execution_count": null,
   "outputs": [],
   "source": [],
   "metadata": {
    "collapsed": false,
    "pycharm": {
     "name": "#%%\n"
    }
   }
  }
 ]
}