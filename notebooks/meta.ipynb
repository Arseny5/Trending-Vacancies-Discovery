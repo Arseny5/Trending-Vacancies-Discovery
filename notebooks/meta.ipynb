{
 "cells": [
  {
   "cell_type": "markdown",
   "metadata": {
    "id": "ymbmv2XnolOV",
    "pycharm": {
     "name": "#%% md\n"
    }
   },
   "source": [
    "## **PARSING META (FACEBOOK) VACANCY**"
   ]
  },
  {
   "cell_type": "code",
   "execution_count": null,
   "metadata": {
    "id": "DHalDdnqpl4Y",
    "pycharm": {
     "name": "#%%\n"
    }
   },
   "outputs": [],
   "source": [
    "############################################\n",
    "###     Research Trending Vacancies      ###\n",
    "###     Sber Dep. Research&Innovation    ### \n",
    "###   Ivanov Arseny, Sergey Bratchikov   ###\n",
    "###       A. Efimov, D. Asonov           ###\n",
    "############################################"
   ]
  },
  {
   "cell_type": "code",
   "execution_count": 1,
   "outputs": [],
   "source": [
    "import time\n",
    "import requests\n",
    "from bs4 import BeautifulSoup\n",
    "import json\n",
    "import re\n",
    "import time\n",
    "import faker\n",
    "import pandas as pd\n",
    "from tqdm import tqdm\n",
    "from datetime import datetime\n",
    "from dateutil import parser"
   ],
   "metadata": {
    "collapsed": false,
    "pycharm": {
     "name": "#%%\n"
    }
   }
  },
  {
   "cell_type": "code",
   "execution_count": 2,
   "outputs": [],
   "source": [
    "fake = faker.Faker(locale='en')"
   ],
   "metadata": {
    "collapsed": false,
    "pycharm": {
     "name": "#%%\n"
    }
   }
  },
  {
   "cell_type": "markdown",
   "source": [
    "## Сложно парсить без VPN\n",
    "Так же сайт кажется не имеет API бэкенда"
   ],
   "metadata": {
    "collapsed": false,
    "pycharm": {
     "name": "#%% md\n"
    }
   }
  }
 ],
 "metadata": {
  "kernelspec": {
   "display_name": "Python 3",
   "language": "python",
   "name": "python3"
  },
  "language_info": {
   "codemirror_mode": {
    "name": "ipython",
    "version": 2
   },
   "file_extension": ".py",
   "mimetype": "text/x-python",
   "name": "python",
   "nbconvert_exporter": "python",
   "pygments_lexer": "ipython2",
   "version": "2.7.6"
  }
 },
 "nbformat": 4,
 "nbformat_minor": 0
}
