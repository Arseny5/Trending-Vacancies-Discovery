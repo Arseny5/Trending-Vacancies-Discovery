{
 "nbformat": 4,
 "nbformat_minor": 0,
 "metadata": {
  "colab": {
   "name": "Untitled11.ipynb",
   "provenance": [],
   "collapsed_sections": []
  },
  "kernelspec": {
   "name": "python3",
   "display_name": "Python 3"
  },
  "language_info": {
   "name": "python"
  }
 },
 "cells": [
  {
   "cell_type": "code",
   "source": [
    "import time\n",
    "import requests\n",
    "from bs4 import BeautifulSoup\n",
    "import json\n",
    "import re\n",
    "import time\n",
    "import faker\n",
    "import pandas as pd\n",
    "from tqdm import tqdm\n",
    "from datetime import datetime\n",
    "from dateutil import parser"
   ],
   "metadata": {
    "id": "q4b1qjEhyCLk",
    "pycharm": {
     "name": "#%%\n"
    }
   },
   "execution_count": 80,
   "outputs": []
  },
  {
   "cell_type": "code",
   "source": [
    "# fake = faker.Faker(locale='ru')"
   ],
   "metadata": {
    "id": "3fCwd8h4S6hS",
    "pycharm": {
     "name": "#%%\n"
    }
   },
   "execution_count": 83,
   "outputs": []
  },
  {
   "cell_type": "code",
   "source": [
    "# tinkoff_headers = {\n",
    "#     'User-Agent': fake.chrome(),\n",
    "#     'accept-language': 'en-US,en;q=0.9',\n",
    "#     'pragma': 'no-cache',\n",
    "#     'Host': 'cfg.tinkoff.org',\n",
    "#     'Origin': 'https://www.tinkoff.ru',\n",
    "#     'content-type': 'application/json',\n",
    "#     'referer': 'https://www.tinkoff.ru'\n",
    "# }"
   ],
   "metadata": {
    "id": "krPsDbDlTDxh",
    "pycharm": {
     "name": "#%%\n"
    }
   },
   "execution_count": 84,
   "outputs": []
  },
  {
   "cell_type": "code",
   "source": [
    "API_URL = \"https://cfg.tinkoff.ru/vacancies/public/api/platform/v1/getVacanciesList\"\n",
    "VACANCY_API_URL = \"https://cfg.tinkoff.ru/vacancies/public/api/platform/v2/getVacancy?urlSlug=\""
   ],
   "metadata": {
    "id": "NlxSa6ECTG0T",
    "pycharm": {
     "name": "#%%\n"
    }
   },
   "execution_count": 99,
   "outputs": []
  },
  {
   "cell_type": "code",
   "execution_count": 124,
   "outputs": [],
   "source": [
    "clear_string = lambda x: re.sub(' +', ' ', re.sub('<.*?>', ' ', x).replace('\\n', '\\n ')).strip()"
   ],
   "metadata": {
    "collapsed": false,
    "pycharm": {
     "name": "#%%\n"
    }
   }
  },
  {
   "cell_type": "code",
   "execution_count": 125,
   "outputs": [],
   "source": [
    "def build_job_infos(cat='it'):\n",
    "    search_payload = {\n",
    "        'category': cat,\n",
    "        'filters': {},\n",
    "        'limit': 200\n",
    "    }\n",
    "    result = requests.post(API_URL, data=search_payload)\n",
    "    job_infos = []\n",
    "    for category in result.json()['response']['items']:\n",
    "        for job_info in category['items']:\n",
    "            title = job_info['title']\n",
    "            url = VACANCY_API_URL + job_info['id']\n",
    "            job_infos.append((title, url))\n",
    "    return job_infos"
   ],
   "metadata": {
    "collapsed": false,
    "pycharm": {
     "name": "#%%\n"
    }
   }
  },
  {
   "cell_type": "code",
   "execution_count": 126,
   "outputs": [
    {
     "data": {
      "text/plain": "154"
     },
     "execution_count": 126,
     "metadata": {},
     "output_type": "execute_result"
    }
   ],
   "source": [
    "total_jobs = build_job_infos('it') + build_job_infos('back-office')\n",
    "len(total_jobs)"
   ],
   "metadata": {
    "collapsed": false,
    "pycharm": {
     "name": "#%%\n"
    }
   }
  },
  {
   "cell_type": "code",
   "execution_count": 127,
   "outputs": [
    {
     "name": "stderr",
     "output_type": "stream",
     "text": [
      "100%|██████████| 154/154 [00:45<00:00,  3.42it/s]\n"
     ]
    }
   ],
   "source": [
    "job_dicts = []\n",
    "for title, url in tqdm(total_jobs):\n",
    "    result = requests.get(url).json()['response']\n",
    "\n",
    "    job_dict = {\n",
    "        'title': title,\n",
    "        'internal_id' : result['id'],\n",
    "        'url': url,\n",
    "        'description': clear_string(result['tasks']),\n",
    "        'responsibilities': clear_string(result['responsibilities']),\n",
    "        'qualifications': clear_string(result['requirements']),\n",
    "        'company': 'Tinkoff',\n",
    "        'publish_date': parser.parse(result['specialtyInfo']['createdAt'])\n",
    "    }\n",
    "\n",
    "    job_dicts.append(job_dict)\n",
    "\n",
    "    time.sleep(0.2)  # 200 ms"
   ],
   "metadata": {
    "collapsed": false,
    "pycharm": {
     "name": "#%%\n"
    }
   }
  },
  {
   "cell_type": "code",
   "execution_count": 128,
   "outputs": [
    {
     "name": "stdout",
     "output_type": "stream",
     "text": [
      "154\n"
     ]
    },
    {
     "data": {
      "text/plain": "                                             title  \\\n88       Продуктовый аналитик в команду Compliance   \n22                           Data Engineer (Asia)    \n1   Ведущий Java-разработчик (Тинькофф Инвестиции)   \n63                   Инженер по тестированию (web)   \n4                Golang-разработчик в Tinkoff Asia   \n\n                             internal_id  \\\n88  dc72e9c1-8a2f-4acb-aa35-63763fdb7c35   \n22  e8e16f32-344a-4882-b3e4-b89fadd395d9   \n1   07c306aa-e9c1-43dd-a642-c679656b0f8c   \n63  444ca427-e489-4f2e-846b-c96e4a323b1e   \n4   3da26517-b3e3-4baf-bdde-77123ca7ba49   \n\n                                                  url  \\\n88  https://cfg.tinkoff.ru/vacancies/public/api/pl...   \n22  https://cfg.tinkoff.ru/vacancies/public/api/pl...   \n1   https://cfg.tinkoff.ru/vacancies/public/api/pl...   \n63  https://cfg.tinkoff.ru/vacancies/public/api/pl...   \n4   https://cfg.tinkoff.ru/vacancies/public/api/pl...   \n\n                                          description  \\\n88  Мы ищем аналитика на проект по улучшению проце...   \n22  Тинькофф выходит на международный рынок. И Фил...   \n1   Увеличиваем мощность разработки в Тинькофф Инв...   \n63  Тинькофф — компания нового поколения: без отде...   \n4   Тинькофф выходит на международный рынок. И Фил...   \n\n                                     responsibilities  \\\n88  Построение системы метрик в продукте Анализ пр...   \n22  Участие в разработке ядра продуктов Data Platf...   \n1   Проектирование надежных отказоустойчивых серви...   \n63  Проводить функциональное и автоматизированное ...   \n4   Разработка нагруженных backend-приложений Учас...   \n\n                                       qualifications  company  \\\n88  Опыт работы в качестве продуктового аналитика ...  Tinkoff   \n22  Знание Python Знание SQL Знание Spark Будет пл...  Tinkoff   \n1   Опыт программирования на Java от 5 лет Опыт ра...  Tinkoff   \n63  Имеешь опыт тестирования фронтенда от 2 лет Им...  Tinkoff   \n4   Опыт разработки на golang от 1 года Опыт разра...  Tinkoff   \n\n                       publish_date  \n88 2021-07-09 08:48:59.309000+00:00  \n22 2018-03-27 09:04:23.643000+00:00  \n1  2018-03-27 09:04:23.643000+00:00  \n63 2018-03-27 09:03:49.214000+00:00  \n4  2018-03-27 09:04:23.643000+00:00  ",
      "text/html": "<div>\n<style scoped>\n    .dataframe tbody tr th:only-of-type {\n        vertical-align: middle;\n    }\n\n    .dataframe tbody tr th {\n        vertical-align: top;\n    }\n\n    .dataframe thead th {\n        text-align: right;\n    }\n</style>\n<table border=\"1\" class=\"dataframe\">\n  <thead>\n    <tr style=\"text-align: right;\">\n      <th></th>\n      <th>title</th>\n      <th>internal_id</th>\n      <th>url</th>\n      <th>description</th>\n      <th>responsibilities</th>\n      <th>qualifications</th>\n      <th>company</th>\n      <th>publish_date</th>\n    </tr>\n  </thead>\n  <tbody>\n    <tr>\n      <th>88</th>\n      <td>Продуктовый аналитик в команду Compliance</td>\n      <td>dc72e9c1-8a2f-4acb-aa35-63763fdb7c35</td>\n      <td>https://cfg.tinkoff.ru/vacancies/public/api/pl...</td>\n      <td>Мы ищем аналитика на проект по улучшению проце...</td>\n      <td>Построение системы метрик в продукте Анализ пр...</td>\n      <td>Опыт работы в качестве продуктового аналитика ...</td>\n      <td>Tinkoff</td>\n      <td>2021-07-09 08:48:59.309000+00:00</td>\n    </tr>\n    <tr>\n      <th>22</th>\n      <td>Data Engineer (Asia)</td>\n      <td>e8e16f32-344a-4882-b3e4-b89fadd395d9</td>\n      <td>https://cfg.tinkoff.ru/vacancies/public/api/pl...</td>\n      <td>Тинькофф выходит на международный рынок. И Фил...</td>\n      <td>Участие в разработке ядра продуктов Data Platf...</td>\n      <td>Знание Python Знание SQL Знание Spark Будет пл...</td>\n      <td>Tinkoff</td>\n      <td>2018-03-27 09:04:23.643000+00:00</td>\n    </tr>\n    <tr>\n      <th>1</th>\n      <td>Ведущий Java-разработчик (Тинькофф Инвестиции)</td>\n      <td>07c306aa-e9c1-43dd-a642-c679656b0f8c</td>\n      <td>https://cfg.tinkoff.ru/vacancies/public/api/pl...</td>\n      <td>Увеличиваем мощность разработки в Тинькофф Инв...</td>\n      <td>Проектирование надежных отказоустойчивых серви...</td>\n      <td>Опыт программирования на Java от 5 лет Опыт ра...</td>\n      <td>Tinkoff</td>\n      <td>2018-03-27 09:04:23.643000+00:00</td>\n    </tr>\n    <tr>\n      <th>63</th>\n      <td>Инженер по тестированию (web)</td>\n      <td>444ca427-e489-4f2e-846b-c96e4a323b1e</td>\n      <td>https://cfg.tinkoff.ru/vacancies/public/api/pl...</td>\n      <td>Тинькофф — компания нового поколения: без отде...</td>\n      <td>Проводить функциональное и автоматизированное ...</td>\n      <td>Имеешь опыт тестирования фронтенда от 2 лет Им...</td>\n      <td>Tinkoff</td>\n      <td>2018-03-27 09:03:49.214000+00:00</td>\n    </tr>\n    <tr>\n      <th>4</th>\n      <td>Golang-разработчик в Tinkoff Asia</td>\n      <td>3da26517-b3e3-4baf-bdde-77123ca7ba49</td>\n      <td>https://cfg.tinkoff.ru/vacancies/public/api/pl...</td>\n      <td>Тинькофф выходит на международный рынок. И Фил...</td>\n      <td>Разработка нагруженных backend-приложений Учас...</td>\n      <td>Опыт разработки на golang от 1 года Опыт разра...</td>\n      <td>Tinkoff</td>\n      <td>2018-03-27 09:04:23.643000+00:00</td>\n    </tr>\n  </tbody>\n</table>\n</div>"
     },
     "execution_count": 128,
     "metadata": {},
     "output_type": "execute_result"
    }
   ],
   "source": [
    "snapshot = pd.DataFrame(job_dicts)\n",
    "print(len(snapshot))\n",
    "snapshot.sample(5)"
   ],
   "metadata": {
    "collapsed": false,
    "pycharm": {
     "name": "#%%\n"
    }
   }
  },
  {
   "cell_type": "code",
   "execution_count": 129,
   "outputs": [
    {
     "name": "stdout",
     "output_type": "stream",
     "text": [
      "<class 'pandas.core.frame.DataFrame'>\n",
      "RangeIndex: 154 entries, 0 to 153\n",
      "Data columns (total 8 columns):\n",
      " #   Column            Non-Null Count  Dtype                  \n",
      "---  ------            --------------  -----                  \n",
      " 0   title             154 non-null    object                 \n",
      " 1   internal_id       154 non-null    object                 \n",
      " 2   url               154 non-null    object                 \n",
      " 3   description       154 non-null    object                 \n",
      " 4   responsibilities  154 non-null    object                 \n",
      " 5   qualifications    154 non-null    object                 \n",
      " 6   company           154 non-null    object                 \n",
      " 7   publish_date      154 non-null    datetime64[ns, tzutc()]\n",
      "dtypes: datetime64[ns, tzutc()](1), object(7)\n",
      "memory usage: 9.8+ KB\n"
     ]
    }
   ],
   "source": [
    "snapshot.info()"
   ],
   "metadata": {
    "collapsed": false,
    "pycharm": {
     "name": "#%%\n"
    }
   }
  },
  {
   "cell_type": "code",
   "execution_count": 130,
   "outputs": [
    {
     "data": {
      "text/plain": "'27-06-2022'"
     },
     "execution_count": 130,
     "metadata": {},
     "output_type": "execute_result"
    }
   ],
   "source": [
    "current_date = datetime.now().strftime('%d-%m-%Y')\n",
    "current_date"
   ],
   "metadata": {
    "collapsed": false,
    "pycharm": {
     "name": "#%%\n"
    }
   }
  },
  {
   "cell_type": "code",
   "execution_count": 131,
   "outputs": [],
   "source": [
    "snapshot.to_csv(f'../data/tinkoff/{current_date}.csv')"
   ],
   "metadata": {
    "collapsed": false,
    "pycharm": {
     "name": "#%%\n"
    }
   }
  },
  {
   "cell_type": "code",
   "execution_count": null,
   "outputs": [],
   "source": [],
   "metadata": {
    "collapsed": false,
    "pycharm": {
     "name": "#%%\n"
    }
   }
  },
  {
   "cell_type": "code",
   "execution_count": null,
   "outputs": [],
   "source": [],
   "metadata": {
    "collapsed": false,
    "pycharm": {
     "name": "#%%\n"
    }
   }
  },
  {
   "cell_type": "code",
   "execution_count": 135,
   "outputs": [
    {
     "data": {
      "text/plain": "{'id': '789e6068-504b-4278-baab-477a156fd814',\n 'status': 'published',\n 'title': 'PL/SQL разработчик',\n 'specialty': 'Backend',\n 'specialtyInfo': {'createdAt': '2018-03-27T09:04:23.643Z',\n  'deletedAt': None,\n  'id': '4c5c5e87-d961-4c74-a385-d0b25e36cdc5',\n  'name': 'Backend',\n  'order': 1,\n  'urlSlug': 'back-end-razrabotka'},\n 'city': 'Любой город',\n 'experience': 'Middle',\n 'tasks': '<p>Тинькофф — это огромная экосистема. Нашими клиентами уже стали 13 млн человек по всей России. Мы активно развиваемся, появляются новые продукты и сервисы, за которыми стоят разработчики и инженеры. Наши сервисы должны соответствовать высочайшим стандартам надежности и быстродействия. Поэтому сейчас мы ищем разработчика PL/SQL для усиления команд.</p>',\n 'requirements': '<ul><li>Отличное знаешь PL/SQL (Oracle 10g и выше)</li><li>Понимаешь архитектуру oracle, основные структуры данных (индексы, таблицы), алгоритмы доступа к данным (index range/full/skip scan) и их соединения</li><li>Знаешь SQL и имеешь опыт программирования на PL/SQL, умеешь писать оптимальный код и тестировать его, умеешь анализировать чужой код</li><li>Имеешь опыт использования секционирования, работы с большими таблицами, oltp процессами, модификацией данных и структур на высоконагруженной БД</li><li>Имеешь опыт проектирования высоконагруженных приложений, работающих 24/7</li></ul><p><strong>Будет плюсом</strong></p><ul><li>Опыт работы с банковскими АБС (Инверсия XXI и подобные)</li><li>Опыт работы в процессинге</li><li>Опыт программирования на Java или желание изучить Java</li></ul>',\n 'responsibilities': '<ul><li>Участвовать в разработке интеграционных решений в рамках глобальной информационной инфраструктуры со смежными IT-системами (CRM-система, АБС, DWH, Портал)</li><li>Участвовать в разработке внутри программного комплекса Процессингового центра: бэк-офис (выпуск, выдача и обслуживание всей продуктовой линейки банка, включая комиссионную составляющую и периодические процессы) и фронтальная часть (обработка авторизаций согласно логике работы продуктов)</li><li>Участвовать в согласовании требований к разрабатываемому функционалу и самостоятельная проработка архитектурных решений</li><li>Поддерживать разработанный функционала в качестве 3й линии</li><li>Документировать собственные разработки</li></ul>',\n 'offer': '<ul><li style=\"text-align:left;\">Работу в офисе или удаленно — по договоренности</li><li style=\"text-align:left;\">Профессиональное развитие. Вы получите доступ к библиотеке с технической литературой, тренингами и мастер-классами для сотрудников</li><li style=\"text-align:left;\">Заботу о здоровье. Оформим полис ДМС со стоматологией и страховку от несчастных случаев. Предложим льготное страхование вашим близким</li><li style=\"text-align:left;\">Бесплатный фитнес-зал или компенсацию затрат на спортивные занятия</li><li style=\"text-align:left;\">Достойную зарплату — обсудим ее на собеседовании</li></ul>',\n 'urlSlug': 'oracle-developer',\n 'externalId': 'cf4caec9-ce25-49a5-acaa-f547adf2e9ca',\n 'category': {'createdAt': '2018-03-22T13:30:28.179Z',\n  'deletedAt': None,\n  'id': '5ea37b04-16b9-42a3-a3a9-87816e84e381',\n  'name': 'Работа в IT',\n  'order': 3,\n  'urlSlug': 'it'},\n 'cities': ['Любой город']}"
     },
     "execution_count": 135,
     "metadata": {},
     "output_type": "execute_result"
    }
   ],
   "source": [
    "requests.get(total_jobs[10][1]).json()['response']"
   ],
   "metadata": {
    "collapsed": false,
    "pycharm": {
     "name": "#%%\n"
    }
   }
  },
  {
   "cell_type": "code",
   "execution_count": null,
   "outputs": [],
   "source": [],
   "metadata": {
    "collapsed": false,
    "pycharm": {
     "name": "#%%\n"
    }
   }
  },
  {
   "cell_type": "code",
   "execution_count": null,
   "outputs": [],
   "source": [],
   "metadata": {
    "collapsed": false,
    "pycharm": {
     "name": "#%%\n"
    }
   }
  },
  {
   "cell_type": "code",
   "execution_count": null,
   "outputs": [],
   "source": [],
   "metadata": {
    "collapsed": false,
    "pycharm": {
     "name": "#%%\n"
    }
   }
  },
  {
   "cell_type": "code",
   "execution_count": null,
   "outputs": [],
   "source": [],
   "metadata": {
    "collapsed": false,
    "pycharm": {
     "name": "#%%\n"
    }
   }
  }
 ]
}