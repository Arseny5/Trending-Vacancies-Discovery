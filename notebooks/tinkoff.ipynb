{
 "nbformat": 4,
 "nbformat_minor": 0,
 "metadata": {
  "colab": {
   "name": "Untitled11.ipynb",
   "provenance": [],
   "collapsed_sections": []
  },
  "kernelspec": {
   "name": "python3",
   "display_name": "Python 3"
  },
  "language_info": {
   "name": "python"
  }
 },
 "cells": [
  {
   "cell_type": "markdown",
   "source": [
    "## **PARSING TINKOFF VACANCY**"
   ],
   "metadata": {
    "collapsed": false,
    "pycharm": {
     "name": "#%% md\n"
    }
   }
  },
  {
   "cell_type": "code",
   "execution_count": 1,
   "outputs": [],
   "source": [
    "############################################\n",
    "###     Research Trending Vacancies      ###\n",
    "###     Sber Dep. Research&Innovation    ### \n",
    "###   Ivanov Arseny, Sergey Bratchikov   ###\n",
    "###       A. Efimov, D. Asonov           ###\n",
    "############################################"
   ],
   "metadata": {
    "collapsed": false,
    "pycharm": {
     "name": "#%%\n"
    }
   }
  },
  {
   "cell_type": "code",
   "source": [
    "import time\n",
    "import requests\n",
    "from bs4 import BeautifulSoup\n",
    "import json\n",
    "import re\n",
    "import time\n",
    "import faker\n",
    "import pandas as pd\n",
    "from tqdm import tqdm\n",
    "from datetime import datetime\n",
    "from dateutil import parser"
   ],
   "metadata": {
    "id": "q4b1qjEhyCLk",
    "pycharm": {
     "name": "#%%\n"
    }
   },
   "execution_count": 2,
   "outputs": []
  },
  {
   "cell_type": "code",
   "source": [
    "# fake = faker.Faker(locale='ru')"
   ],
   "metadata": {
    "id": "3fCwd8h4S6hS",
    "pycharm": {
     "name": "#%%\n"
    }
   },
   "execution_count": 3,
   "outputs": []
  },
  {
   "cell_type": "code",
   "source": [
    "# tinkoff_headers = {\n",
    "#     'User-Agent': fake.chrome(),\n",
    "#     'accept-language': 'en-US,en;q=0.9',\n",
    "#     'pragma': 'no-cache',\n",
    "#     'Host': 'cfg.tinkoff.org',\n",
    "#     'Origin': 'https://www.tinkoff.ru',\n",
    "#     'content-type': 'application/json',\n",
    "#     'referer': 'https://www.tinkoff.ru'\n",
    "# }"
   ],
   "metadata": {
    "id": "krPsDbDlTDxh",
    "pycharm": {
     "name": "#%%\n"
    }
   },
   "execution_count": 4,
   "outputs": []
  },
  {
   "cell_type": "code",
   "source": [
    "API_URL = \"https://cfg.tinkoff.ru/vacancies/public/api/platform/v1/getVacanciesList\"\n",
    "VACANCY_API_URL = \"https://cfg.tinkoff.ru/vacancies/public/api/platform/v2/getVacancy?urlSlug=\""
   ],
   "metadata": {
    "id": "NlxSa6ECTG0T",
    "pycharm": {
     "name": "#%%\n"
    }
   },
   "execution_count": 5,
   "outputs": []
  },
  {
   "cell_type": "code",
   "execution_count": 6,
   "outputs": [],
   "source": [
    "clear_string = lambda x: re.sub(' +', ' ', re.sub('<.*?>', ' ', x).replace('\\n', '\\n ')).strip()"
   ],
   "metadata": {
    "collapsed": false,
    "pycharm": {
     "name": "#%%\n"
    }
   }
  },
  {
   "cell_type": "code",
   "execution_count": 7,
   "outputs": [],
   "source": [
    "def build_job_infos(cat='it'):\n",
    "    search_payload = {\n",
    "        'category': cat,\n",
    "        'filters': {},\n",
    "        'limit': 200\n",
    "    }\n",
    "    result = requests.post(API_URL, data=search_payload)\n",
    "    job_infos = []\n",
    "    for category in result.json()['response']['items']:\n",
    "        for job_info in category['items']:\n",
    "            title = job_info['title']\n",
    "            url = VACANCY_API_URL + job_info['id']\n",
    "            job_infos.append((title, url))\n",
    "    return job_infos"
   ],
   "metadata": {
    "collapsed": false,
    "pycharm": {
     "name": "#%%\n"
    }
   }
  },
  {
   "cell_type": "code",
   "execution_count": 8,
   "outputs": [
    {
     "data": {
      "text/plain": "161"
     },
     "execution_count": 8,
     "metadata": {},
     "output_type": "execute_result"
    }
   ],
   "source": [
    "total_jobs = build_job_infos('it') + build_job_infos('back-office')\n",
    "len(total_jobs)"
   ],
   "metadata": {
    "collapsed": false,
    "pycharm": {
     "name": "#%%\n"
    }
   }
  },
  {
   "cell_type": "code",
   "execution_count": 9,
   "outputs": [
    {
     "name": "stderr",
     "output_type": "stream",
     "text": [
      "100%|██████████| 161/161 [00:42<00:00,  3.83it/s]\n"
     ]
    }
   ],
   "source": [
    "job_dicts = []\n",
    "for title, url in tqdm(total_jobs):\n",
    "    result = requests.get(url).json()['response']\n",
    "\n",
    "    job_dict = {\n",
    "        'title': title,\n",
    "        'internal_id' : result['id'],\n",
    "        'url': url,\n",
    "        'description': clear_string(result['tasks']),\n",
    "        'responsibilities': clear_string(result['responsibilities']),\n",
    "        'qualifications': clear_string(result['requirements']),\n",
    "        'company': 'Tinkoff',\n",
    "        'publish_date': parser.parse(result['specialtyInfo']['createdAt'])\n",
    "    }\n",
    "\n",
    "    job_dicts.append(job_dict)\n",
    "\n",
    "    time.sleep(0.2)  # 200 ms"
   ],
   "metadata": {
    "collapsed": false,
    "pycharm": {
     "name": "#%%\n"
    }
   }
  },
  {
   "cell_type": "code",
   "execution_count": 10,
   "outputs": [
    {
     "name": "stdout",
     "output_type": "stream",
     "text": [
      "161\n"
     ]
    },
    {
     "data": {
      "text/plain": "                                            title  \\\n78   Продуктовый аналитик (Регуляторные процессы)   \n94                    Аналитик (Compliance-риски)   \n21                       Golang-разработчик в DCO   \n48                Системный аналитик в Инвестиции   \n158                             HR Бизнес партнер   \n\n                              internal_id  \\\n78   0b84a4bc-ac29-4912-a676-6a34c3bfbe35   \n94   58278060-89f9-4d15-927d-8f21abb9caf1   \n21   da3fd5ed-4166-43b0-ae6d-2485c3c96b6b   \n48   219c9aa5-8760-424f-8d38-c2a371088146   \n158  bc5f0540-28f5-4d0a-9e1f-714f75974b2a   \n\n                                                   url  \\\n78   https://cfg.tinkoff.ru/vacancies/public/api/pl...   \n94   https://cfg.tinkoff.ru/vacancies/public/api/pl...   \n21   https://cfg.tinkoff.ru/vacancies/public/api/pl...   \n48   https://cfg.tinkoff.ru/vacancies/public/api/pl...   \n158  https://cfg.tinkoff.ru/vacancies/public/api/pl...   \n\n                                           description  \\\n78   На развитие и мониторинг регуляторных процессо...   \n94   Ищем опытного аналитика для решения широкого к...   \n21   В Тинькофф мы стараемся сделать наши продукты ...   \n48   Tinkoff.ru всего за год создал собственного ун...   \n158             Ищем HR Бизнес партнера в нашу команду   \n\n                                      responsibilities  \\\n78   Исследовать процессы компании Разрабатывать мо...   \n94   Построение и валидация скоринговых и рисковых ...   \n21   Разработка и поддержка бекэнда в условиях высо...   \n48   Подготовка спецификаций (сбор требований, анал...   \n158  Отслеживание и работа над мотивацией и вовлече...   \n\n                                        qualifications  company  \\\n78   Системное мышление, развитая логика, умение до...  Tinkoff   \n94   Оконченное высшее техническое образование (пре...  Tinkoff   \n21   Требования Знание Go и C++ Знание сетевого сте...  Tinkoff   \n48   Опыт работы системным аналитиком от 3 лет Навы...  Tinkoff   \n158  Опыт работы в качестве HR бизнес-партнера / HR...  Tinkoff   \n\n                        publish_date  \n78  2021-07-09 08:48:59.309000+00:00  \n94  2018-03-22 07:48:44.260000+00:00  \n21  2018-03-27 09:04:23.643000+00:00  \n48  2021-07-23 13:56:43.353000+00:00  \n158 2018-03-22 07:48:04.899000+00:00  ",
      "text/html": "<div>\n<style scoped>\n    .dataframe tbody tr th:only-of-type {\n        vertical-align: middle;\n    }\n\n    .dataframe tbody tr th {\n        vertical-align: top;\n    }\n\n    .dataframe thead th {\n        text-align: right;\n    }\n</style>\n<table border=\"1\" class=\"dataframe\">\n  <thead>\n    <tr style=\"text-align: right;\">\n      <th></th>\n      <th>title</th>\n      <th>internal_id</th>\n      <th>url</th>\n      <th>description</th>\n      <th>responsibilities</th>\n      <th>qualifications</th>\n      <th>company</th>\n      <th>publish_date</th>\n    </tr>\n  </thead>\n  <tbody>\n    <tr>\n      <th>78</th>\n      <td>Продуктовый аналитик (Регуляторные процессы)</td>\n      <td>0b84a4bc-ac29-4912-a676-6a34c3bfbe35</td>\n      <td>https://cfg.tinkoff.ru/vacancies/public/api/pl...</td>\n      <td>На развитие и мониторинг регуляторных процессо...</td>\n      <td>Исследовать процессы компании Разрабатывать мо...</td>\n      <td>Системное мышление, развитая логика, умение до...</td>\n      <td>Tinkoff</td>\n      <td>2021-07-09 08:48:59.309000+00:00</td>\n    </tr>\n    <tr>\n      <th>94</th>\n      <td>Аналитик (Compliance-риски)</td>\n      <td>58278060-89f9-4d15-927d-8f21abb9caf1</td>\n      <td>https://cfg.tinkoff.ru/vacancies/public/api/pl...</td>\n      <td>Ищем опытного аналитика для решения широкого к...</td>\n      <td>Построение и валидация скоринговых и рисковых ...</td>\n      <td>Оконченное высшее техническое образование (пре...</td>\n      <td>Tinkoff</td>\n      <td>2018-03-22 07:48:44.260000+00:00</td>\n    </tr>\n    <tr>\n      <th>21</th>\n      <td>Golang-разработчик в DCO</td>\n      <td>da3fd5ed-4166-43b0-ae6d-2485c3c96b6b</td>\n      <td>https://cfg.tinkoff.ru/vacancies/public/api/pl...</td>\n      <td>В Тинькофф мы стараемся сделать наши продукты ...</td>\n      <td>Разработка и поддержка бекэнда в условиях высо...</td>\n      <td>Требования Знание Go и C++ Знание сетевого сте...</td>\n      <td>Tinkoff</td>\n      <td>2018-03-27 09:04:23.643000+00:00</td>\n    </tr>\n    <tr>\n      <th>48</th>\n      <td>Системный аналитик в Инвестиции</td>\n      <td>219c9aa5-8760-424f-8d38-c2a371088146</td>\n      <td>https://cfg.tinkoff.ru/vacancies/public/api/pl...</td>\n      <td>Tinkoff.ru всего за год создал собственного ун...</td>\n      <td>Подготовка спецификаций (сбор требований, анал...</td>\n      <td>Опыт работы системным аналитиком от 3 лет Навы...</td>\n      <td>Tinkoff</td>\n      <td>2021-07-23 13:56:43.353000+00:00</td>\n    </tr>\n    <tr>\n      <th>158</th>\n      <td>HR Бизнес партнер</td>\n      <td>bc5f0540-28f5-4d0a-9e1f-714f75974b2a</td>\n      <td>https://cfg.tinkoff.ru/vacancies/public/api/pl...</td>\n      <td>Ищем HR Бизнес партнера в нашу команду</td>\n      <td>Отслеживание и работа над мотивацией и вовлече...</td>\n      <td>Опыт работы в качестве HR бизнес-партнера / HR...</td>\n      <td>Tinkoff</td>\n      <td>2018-03-22 07:48:04.899000+00:00</td>\n    </tr>\n  </tbody>\n</table>\n</div>"
     },
     "execution_count": 10,
     "metadata": {},
     "output_type": "execute_result"
    }
   ],
   "source": [
    "snapshot = pd.DataFrame(job_dicts)\n",
    "print(len(snapshot))\n",
    "snapshot.sample(5)"
   ],
   "metadata": {
    "collapsed": false,
    "pycharm": {
     "name": "#%%\n"
    }
   }
  },
  {
   "cell_type": "code",
   "execution_count": 11,
   "outputs": [
    {
     "name": "stdout",
     "output_type": "stream",
     "text": [
      "<class 'pandas.core.frame.DataFrame'>\n",
      "RangeIndex: 161 entries, 0 to 160\n",
      "Data columns (total 8 columns):\n",
      " #   Column            Non-Null Count  Dtype                  \n",
      "---  ------            --------------  -----                  \n",
      " 0   title             161 non-null    object                 \n",
      " 1   internal_id       161 non-null    object                 \n",
      " 2   url               161 non-null    object                 \n",
      " 3   description       161 non-null    object                 \n",
      " 4   responsibilities  161 non-null    object                 \n",
      " 5   qualifications    161 non-null    object                 \n",
      " 6   company           161 non-null    object                 \n",
      " 7   publish_date      161 non-null    datetime64[ns, tzutc()]\n",
      "dtypes: datetime64[ns, tzutc()](1), object(7)\n",
      "memory usage: 10.2+ KB\n"
     ]
    }
   ],
   "source": [
    "snapshot.info()"
   ],
   "metadata": {
    "collapsed": false,
    "pycharm": {
     "name": "#%%\n"
    }
   }
  },
  {
   "cell_type": "code",
   "execution_count": 12,
   "outputs": [
    {
     "data": {
      "text/plain": "'03-07-2022'"
     },
     "execution_count": 12,
     "metadata": {},
     "output_type": "execute_result"
    }
   ],
   "source": [
    "current_date = datetime.now().strftime('%d-%m-%Y')\n",
    "current_date"
   ],
   "metadata": {
    "collapsed": false,
    "pycharm": {
     "name": "#%%\n"
    }
   }
  },
  {
   "cell_type": "code",
   "execution_count": 13,
   "outputs": [],
   "source": [
    "snapshot.to_csv(f'../data/tinkoff/{current_date}.csv')"
   ],
   "metadata": {
    "collapsed": false,
    "pycharm": {
     "name": "#%%\n"
    }
   }
  },
  {
   "cell_type": "code",
   "execution_count": null,
   "outputs": [],
   "source": [],
   "metadata": {
    "collapsed": false,
    "pycharm": {
     "name": "#%%\n"
    }
   }
  },
  {
   "cell_type": "code",
   "execution_count": null,
   "outputs": [],
   "source": [],
   "metadata": {
    "collapsed": false,
    "pycharm": {
     "name": "#%%\n"
    }
   }
  },
  {
   "cell_type": "code",
   "execution_count": 135,
   "outputs": [
    {
     "data": {
      "text/plain": "{'id': '789e6068-504b-4278-baab-477a156fd814',\n 'status': 'published',\n 'title': 'PL/SQL разработчик',\n 'specialty': 'Backend',\n 'specialtyInfo': {'createdAt': '2018-03-27T09:04:23.643Z',\n  'deletedAt': None,\n  'id': '4c5c5e87-d961-4c74-a385-d0b25e36cdc5',\n  'name': 'Backend',\n  'order': 1,\n  'urlSlug': 'back-end-razrabotka'},\n 'city': 'Любой город',\n 'experience': 'Middle',\n 'tasks': '<p>Тинькофф — это огромная экосистема. Нашими клиентами уже стали 13 млн человек по всей России. Мы активно развиваемся, появляются новые продукты и сервисы, за которыми стоят разработчики и инженеры. Наши сервисы должны соответствовать высочайшим стандартам надежности и быстродействия. Поэтому сейчас мы ищем разработчика PL/SQL для усиления команд.</p>',\n 'requirements': '<ul><li>Отличное знаешь PL/SQL (Oracle 10g и выше)</li><li>Понимаешь архитектуру oracle, основные структуры данных (индексы, таблицы), алгоритмы доступа к данным (index range/full/skip scan) и их соединения</li><li>Знаешь SQL и имеешь опыт программирования на PL/SQL, умеешь писать оптимальный код и тестировать его, умеешь анализировать чужой код</li><li>Имеешь опыт использования секционирования, работы с большими таблицами, oltp процессами, модификацией данных и структур на высоконагруженной БД</li><li>Имеешь опыт проектирования высоконагруженных приложений, работающих 24/7</li></ul><p><strong>Будет плюсом</strong></p><ul><li>Опыт работы с банковскими АБС (Инверсия XXI и подобные)</li><li>Опыт работы в процессинге</li><li>Опыт программирования на Java или желание изучить Java</li></ul>',\n 'responsibilities': '<ul><li>Участвовать в разработке интеграционных решений в рамках глобальной информационной инфраструктуры со смежными IT-системами (CRM-система, АБС, DWH, Портал)</li><li>Участвовать в разработке внутри программного комплекса Процессингового центра: бэк-офис (выпуск, выдача и обслуживание всей продуктовой линейки банка, включая комиссионную составляющую и периодические процессы) и фронтальная часть (обработка авторизаций согласно логике работы продуктов)</li><li>Участвовать в согласовании требований к разрабатываемому функционалу и самостоятельная проработка архитектурных решений</li><li>Поддерживать разработанный функционала в качестве 3й линии</li><li>Документировать собственные разработки</li></ul>',\n 'offer': '<ul><li style=\"text-align:left;\">Работу в офисе или удаленно — по договоренности</li><li style=\"text-align:left;\">Профессиональное развитие. Вы получите доступ к библиотеке с технической литературой, тренингами и мастер-классами для сотрудников</li><li style=\"text-align:left;\">Заботу о здоровье. Оформим полис ДМС со стоматологией и страховку от несчастных случаев. Предложим льготное страхование вашим близким</li><li style=\"text-align:left;\">Бесплатный фитнес-зал или компенсацию затрат на спортивные занятия</li><li style=\"text-align:left;\">Достойную зарплату — обсудим ее на собеседовании</li></ul>',\n 'urlSlug': 'oracle-developer',\n 'externalId': 'cf4caec9-ce25-49a5-acaa-f547adf2e9ca',\n 'category': {'createdAt': '2018-03-22T13:30:28.179Z',\n  'deletedAt': None,\n  'id': '5ea37b04-16b9-42a3-a3a9-87816e84e381',\n  'name': 'Работа в IT',\n  'order': 3,\n  'urlSlug': 'it'},\n 'cities': ['Любой город']}"
     },
     "execution_count": 135,
     "metadata": {},
     "output_type": "execute_result"
    }
   ],
   "source": [
    "requests.get(total_jobs[10][1]).json()['response']"
   ],
   "metadata": {
    "collapsed": false,
    "pycharm": {
     "name": "#%%\n"
    }
   }
  },
  {
   "cell_type": "code",
   "execution_count": null,
   "outputs": [],
   "source": [],
   "metadata": {
    "collapsed": false,
    "pycharm": {
     "name": "#%%\n"
    }
   }
  },
  {
   "cell_type": "code",
   "execution_count": null,
   "outputs": [],
   "source": [],
   "metadata": {
    "collapsed": false,
    "pycharm": {
     "name": "#%%\n"
    }
   }
  },
  {
   "cell_type": "code",
   "execution_count": null,
   "outputs": [],
   "source": [],
   "metadata": {
    "collapsed": false,
    "pycharm": {
     "name": "#%%\n"
    }
   }
  },
  {
   "cell_type": "code",
   "execution_count": null,
   "outputs": [],
   "source": [],
   "metadata": {
    "collapsed": false,
    "pycharm": {
     "name": "#%%\n"
    }
   }
  }
 ]
}