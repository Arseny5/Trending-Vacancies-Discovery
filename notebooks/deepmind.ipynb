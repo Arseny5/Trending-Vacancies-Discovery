{
 "cells": [
  {
   "cell_type": "code",
   "execution_count": 1,
   "outputs": [],
   "source": [
    "import time\n",
    "import requests\n",
    "from bs4 import BeautifulSoup\n",
    "import json\n",
    "import re\n",
    "import time\n",
    "import faker\n",
    "import pandas as pd\n",
    "from tqdm import tqdm\n",
    "from datetime import datetime\n",
    "from dateutil import parser"
   ],
   "metadata": {
    "collapsed": false,
    "pycharm": {
     "name": "#%%\n"
    }
   }
  },
  {
   "cell_type": "code",
   "execution_count": 2,
   "outputs": [],
   "source": [
    "fake = faker.Faker(locale='en')"
   ],
   "metadata": {
    "collapsed": false,
    "pycharm": {
     "name": "#%%\n"
    }
   }
  },
  {
   "cell_type": "code",
   "execution_count": 3,
   "outputs": [],
   "source": [
    "headers = {\n",
    "    'User-Agent': fake.chrome(),\n",
    "    'accept-language': 'en-US,en;q=0.9',\n",
    "    'pragma': 'np-cache',\n",
    "    'referer': 'http://www.deepmind.com/careers'\n",
    "}"
   ],
   "metadata": {
    "collapsed": false,
    "pycharm": {
     "name": "#%%\n"
    }
   }
  },
  {
   "cell_type": "code",
   "execution_count": 4,
   "outputs": [],
   "source": [
    "URL = \"http://api.greenhouse.io/v1/boards/deepmind/embed/jobs\""
   ],
   "metadata": {
    "collapsed": false,
    "pycharm": {
     "name": "#%%\n"
    }
   }
  },
  {
   "cell_type": "code",
   "execution_count": 5,
   "outputs": [],
   "source": [
    "snapshot_pattern = re.compile(r\"(\\nSnapshot:?\\n)((.+?)(\\n))\", flags=re.DOTALL|re.MULTILINE|re.IGNORECASE)\n",
    "responsibilities_pattern = re.compile(r\"(\\nKey Responsibilities:?\\n\\n)((.+?)(\\n\\n))\", flags=re.DOTALL|re.MULTILINE|re.IGNORECASE)\n",
    "qualifications_pattern = re.compile(r\"(\\nAbout You:?\\n)((.*)($))\", flags=re.DOTALL|re.MULTILINE|re.IGNORECASE)"
   ],
   "metadata": {
    "collapsed": false,
    "pycharm": {
     "name": "#%%\n"
    }
   }
  },
  {
   "cell_type": "code",
   "execution_count": 6,
   "outputs": [],
   "source": [
    "clear_string = lambda x: re.sub(' +', ' ', re.sub('<.*?>', '', x).replace('\\n', '\\n ')).strip()"
   ],
   "metadata": {
    "collapsed": false,
    "pycharm": {
     "name": "#%%\n"
    }
   }
  },
  {
   "cell_type": "code",
   "execution_count": 7,
   "outputs": [
    {
     "data": {
      "text/plain": "<Response [200]>"
     },
     "execution_count": 7,
     "metadata": {},
     "output_type": "execute_result"
    }
   ],
   "source": [
    "result = requests.get(URL, headers=headers)\n",
    "result"
   ],
   "metadata": {
    "collapsed": false,
    "pycharm": {
     "name": "#%%\n"
    }
   }
  },
  {
   "cell_type": "code",
   "execution_count": 8,
   "outputs": [
    {
     "data": {
      "text/plain": "(49,\n {'absolute_url': 'https://boards.greenhouse.io/deepmind/jobs/4281175',\n  'data_compliance': [{'type': 'gdpr',\n    'requires_consent': False,\n    'retention_period': None}],\n  'internal_job_id': 2271915,\n  'location': {'name': 'London, UK'},\n  'metadata': [{'id': 90484,\n    'name': 'Website Grouping',\n    'value': 'Operations',\n    'value_type': 'single_select'}],\n  'id': 4281175,\n  'updated_at': '2022-06-20T11:05:42-04:00',\n  'requisition_id': None,\n  'title': 'Assistant to Two Research Leads'})"
     },
     "execution_count": 8,
     "metadata": {},
     "output_type": "execute_result"
    }
   ],
   "source": [
    "all_jobs = result.json()['jobs']\n",
    "len(all_jobs), all_jobs[1]"
   ],
   "metadata": {
    "collapsed": false,
    "pycharm": {
     "name": "#%%\n"
    }
   }
  },
  {
   "cell_type": "code",
   "execution_count": 17,
   "outputs": [
    {
     "name": "stderr",
     "output_type": "stream",
     "text": [
      " 94%|█████████▍| 46/49 [00:49<00:03,  1.08s/it]"
     ]
    },
    {
     "name": "stdout",
     "output_type": "stream",
     "text": [
      "All None for https://boards.greenhouse.io/deepmind/jobs/3919000. skipping...\n"
     ]
    },
    {
     "name": "stderr",
     "output_type": "stream",
     "text": [
      "100%|██████████| 49/49 [00:52<00:00,  1.07s/it]\n"
     ]
    }
   ],
   "source": [
    "job_dicts = []\n",
    "for job_info in tqdm(all_jobs):\n",
    "    url = job_info['absolute_url']\n",
    "    publish_date = parser.parse(job_info['updated_at'])\n",
    "    job_website = requests.get(url, headers=headers)\n",
    "\n",
    "    soup = BeautifulSoup(job_website.text)\n",
    "    contents = soup.find('div', id='content')\n",
    "\n",
    "    description = re.search(snapshot_pattern, contents.text)\n",
    "    if description:\n",
    "        description = clear_string(description.group(3))\n",
    "\n",
    "    responsibilities = re.search(responsibilities_pattern, contents.text)\n",
    "    if responsibilities:\n",
    "        responsibilities = clear_string(responsibilities.group(3))\n",
    "\n",
    "    qualifications = re.search(qualifications_pattern, contents.text)\n",
    "    if qualifications:\n",
    "        qualifications = clear_string(qualifications.group(3))\n",
    "\n",
    "    if description is None and responsibilities is None and qualifications is None:\n",
    "        print(f'All None for {url}. skipping...')\n",
    "        continue\n",
    "\n",
    "    job_dict = {\n",
    "        'title': job_info['title'],\n",
    "        'internal_id' : job_info['internal_job_id'],\n",
    "        'url': url,\n",
    "        'description': description,\n",
    "        'responsibilities': responsibilities,\n",
    "        'qualifications': qualifications,\n",
    "        'company': 'DeepMind',\n",
    "        'publish_date': publish_date\n",
    "    }\n",
    "\n",
    "    job_dicts.append(job_dict)\n",
    "\n",
    "    time.sleep(0.2) # sleep for 200 ms"
   ],
   "metadata": {
    "collapsed": false,
    "pycharm": {
     "name": "#%%\n"
    }
   }
  },
  {
   "cell_type": "code",
   "execution_count": 18,
   "outputs": [
    {
     "name": "stdout",
     "output_type": "stream",
     "text": [
      "48\n"
     ]
    },
    {
     "data": {
      "text/plain": "                                                title  internal_id  \\\n27              Research Engineer, Security & Privacy      2240610   \n45                 Technical Program Manager, Applied      1773351   \n30  Research Scientist, Cognitive Science, Scalabl...      2239940   \n33  Research Scientist, Machine Learning, Scalable...      2239951   \n21                        Program Manager, Operations      2202844   \n\n                                                  url  \\\n27  https://boards.greenhouse.io/deepmind/jobs/418...   \n45  https://boards.greenhouse.io/deepmind/jobs/302...   \n30  https://boards.greenhouse.io/deepmind/jobs/418...   \n33  https://boards.greenhouse.io/deepmind/jobs/418...   \n21  https://boards.greenhouse.io/deepmind/jobs/416...   \n\n                                          description  \\\n27  As DeepMind continues to grow, we are seeking ...   \n45  The role of the Program Management team is to ...   \n30  Scalable Alignment Cognitive Science Research ...   \n33  At DeepMind, we've built a unique culture and ...   \n21  The role of the Program Management Team is to ...   \n\n                                     responsibilities  \\\n27  Devise novel or implement existing methods to ...   \n45  Support the team with all required elements of...   \n30  Improve our understanding of what it means for...   \n33  Improve our understanding of what it means for...   \n21  End to end project planning and delivery acros...   \n\n                                       qualifications   company  \\\n27  To set you up for success as a Research Engine...  DeepMind   \n45  We highly value strong Program Managers who ar...  DeepMind   \n30  We do not require candidates to have experienc...  DeepMind   \n33  We look for the following skills and experienc...  DeepMind   \n21  Extensive knowledge and expertise in program m...  DeepMind   \n\n                publish_date  \n27 2022-06-20 11:05:42-04:00  \n45 2022-06-20 11:05:42-04:00  \n30 2022-06-23 08:31:32-04:00  \n33 2022-06-20 11:05:42-04:00  \n21 2022-06-20 11:05:42-04:00  ",
      "text/html": "<div>\n<style scoped>\n    .dataframe tbody tr th:only-of-type {\n        vertical-align: middle;\n    }\n\n    .dataframe tbody tr th {\n        vertical-align: top;\n    }\n\n    .dataframe thead th {\n        text-align: right;\n    }\n</style>\n<table border=\"1\" class=\"dataframe\">\n  <thead>\n    <tr style=\"text-align: right;\">\n      <th></th>\n      <th>title</th>\n      <th>internal_id</th>\n      <th>url</th>\n      <th>description</th>\n      <th>responsibilities</th>\n      <th>qualifications</th>\n      <th>company</th>\n      <th>publish_date</th>\n    </tr>\n  </thead>\n  <tbody>\n    <tr>\n      <th>27</th>\n      <td>Research Engineer, Security &amp; Privacy</td>\n      <td>2240610</td>\n      <td>https://boards.greenhouse.io/deepmind/jobs/418...</td>\n      <td>As DeepMind continues to grow, we are seeking ...</td>\n      <td>Devise novel or implement existing methods to ...</td>\n      <td>To set you up for success as a Research Engine...</td>\n      <td>DeepMind</td>\n      <td>2022-06-20 11:05:42-04:00</td>\n    </tr>\n    <tr>\n      <th>45</th>\n      <td>Technical Program Manager, Applied</td>\n      <td>1773351</td>\n      <td>https://boards.greenhouse.io/deepmind/jobs/302...</td>\n      <td>The role of the Program Management team is to ...</td>\n      <td>Support the team with all required elements of...</td>\n      <td>We highly value strong Program Managers who ar...</td>\n      <td>DeepMind</td>\n      <td>2022-06-20 11:05:42-04:00</td>\n    </tr>\n    <tr>\n      <th>30</th>\n      <td>Research Scientist, Cognitive Science, Scalabl...</td>\n      <td>2239940</td>\n      <td>https://boards.greenhouse.io/deepmind/jobs/418...</td>\n      <td>Scalable Alignment Cognitive Science Research ...</td>\n      <td>Improve our understanding of what it means for...</td>\n      <td>We do not require candidates to have experienc...</td>\n      <td>DeepMind</td>\n      <td>2022-06-23 08:31:32-04:00</td>\n    </tr>\n    <tr>\n      <th>33</th>\n      <td>Research Scientist, Machine Learning, Scalable...</td>\n      <td>2239951</td>\n      <td>https://boards.greenhouse.io/deepmind/jobs/418...</td>\n      <td>At DeepMind, we've built a unique culture and ...</td>\n      <td>Improve our understanding of what it means for...</td>\n      <td>We look for the following skills and experienc...</td>\n      <td>DeepMind</td>\n      <td>2022-06-20 11:05:42-04:00</td>\n    </tr>\n    <tr>\n      <th>21</th>\n      <td>Program Manager, Operations</td>\n      <td>2202844</td>\n      <td>https://boards.greenhouse.io/deepmind/jobs/416...</td>\n      <td>The role of the Program Management Team is to ...</td>\n      <td>End to end project planning and delivery acros...</td>\n      <td>Extensive knowledge and expertise in program m...</td>\n      <td>DeepMind</td>\n      <td>2022-06-20 11:05:42-04:00</td>\n    </tr>\n  </tbody>\n</table>\n</div>"
     },
     "execution_count": 18,
     "metadata": {},
     "output_type": "execute_result"
    }
   ],
   "source": [
    "snapshot = pd.DataFrame(job_dicts)\n",
    "print(len(snapshot))\n",
    "snapshot.sample(5)"
   ],
   "metadata": {
    "collapsed": false,
    "pycharm": {
     "name": "#%%\n"
    }
   }
  },
  {
   "cell_type": "code",
   "execution_count": 19,
   "outputs": [
    {
     "name": "stdout",
     "output_type": "stream",
     "text": [
      "<class 'pandas.core.frame.DataFrame'>\n",
      "RangeIndex: 48 entries, 0 to 47\n",
      "Data columns (total 8 columns):\n",
      " #   Column            Non-Null Count  Dtype                                 \n",
      "---  ------            --------------  -----                                 \n",
      " 0   title             48 non-null     object                                \n",
      " 1   internal_id       48 non-null     int64                                 \n",
      " 2   url               48 non-null     object                                \n",
      " 3   description       43 non-null     object                                \n",
      " 4   responsibilities  36 non-null     object                                \n",
      " 5   qualifications    42 non-null     object                                \n",
      " 6   company           48 non-null     object                                \n",
      " 7   publish_date      48 non-null     datetime64[ns, tzoffset(None, -14400)]\n",
      "dtypes: datetime64[ns, tzoffset(None, -14400)](1), int64(1), object(6)\n",
      "memory usage: 3.1+ KB\n"
     ]
    }
   ],
   "source": [
    "snapshot.info()"
   ],
   "metadata": {
    "collapsed": false,
    "pycharm": {
     "name": "#%%\n"
    }
   }
  },
  {
   "cell_type": "code",
   "execution_count": 20,
   "outputs": [
    {
     "data": {
      "text/plain": "'23-06-2022'"
     },
     "execution_count": 20,
     "metadata": {},
     "output_type": "execute_result"
    }
   ],
   "source": [
    "current_date = datetime.now().strftime('%d-%m-%Y')\n",
    "current_date"
   ],
   "metadata": {
    "collapsed": false,
    "pycharm": {
     "name": "#%%\n"
    }
   }
  },
  {
   "cell_type": "code",
   "execution_count": 21,
   "outputs": [],
   "source": [
    "snapshot.to_csv(f'../data/deepmind/{current_date}.csv')"
   ],
   "metadata": {
    "collapsed": false,
    "pycharm": {
     "name": "#%%\n"
    }
   }
  },
  {
   "cell_type": "markdown",
   "source": [
    "### Проверка на одной вакансии"
   ],
   "metadata": {
    "collapsed": false,
    "pycharm": {
     "name": "#%% md\n"
    }
   }
  },
  {
   "cell_type": "code",
   "execution_count": 9,
   "outputs": [
    {
     "data": {
      "text/plain": "datetime.datetime(2022, 6, 20, 11, 5, 42, tzinfo=tzoffset(None, -14400))"
     },
     "execution_count": 9,
     "metadata": {},
     "output_type": "execute_result"
    }
   ],
   "source": [
    "parser.parse(all_jobs[4]['updated_at'])"
   ],
   "metadata": {
    "collapsed": false,
    "pycharm": {
     "name": "#%%\n"
    }
   }
  },
  {
   "cell_type": "code",
   "execution_count": 10,
   "outputs": [
    {
     "data": {
      "text/plain": "<Response [200]>"
     },
     "execution_count": 10,
     "metadata": {},
     "output_type": "execute_result"
    }
   ],
   "source": [
    "job_website = requests.get(all_jobs[4]['absolute_url'], headers=headers)\n",
    "job_website"
   ],
   "metadata": {
    "collapsed": false,
    "pycharm": {
     "name": "#%%\n"
    }
   }
  },
  {
   "cell_type": "code",
   "execution_count": 11,
   "outputs": [],
   "source": [
    "soup = BeautifulSoup(job_website.text)"
   ],
   "metadata": {
    "collapsed": false,
    "pycharm": {
     "name": "#%%\n"
    }
   }
  },
  {
   "cell_type": "code",
   "execution_count": 12,
   "outputs": [],
   "source": [
    "contents = soup.find('div', id='content')"
   ],
   "metadata": {
    "collapsed": false,
    "pycharm": {
     "name": "#%%\n"
    }
   }
  },
  {
   "cell_type": "code",
   "execution_count": 13,
   "outputs": [
    {
     "data": {
      "text/plain": "'\\nAt DeepMind, we value diversity of experience, knowledge, backgrounds and perspectives and harness these qualities to create extraordinary impact. We are committed to equal employment opportunity regardless of sex, race, religion or belief, ethnic or national origin, disability, age, citizenship, marital, domestic or civil partnership status, sexual orientation, gender identity, pregnancy, maternity or related condition (including breastfeeding) or any other basis as protected by applicable law. If you have a disability or additional need that requires accommodation, please do not hesitate to let us know.\\nSnapshot\\nDeepMind has a remarkable track record of scientific breakthroughs. Such extraordinary work is a direct result of the brilliant and diverse people we bring together. Our People & Culture team work together to maintain, optimise, and nurture our culture to create the best environment in the world for advancing AI research. A place where everyone’s expertise is recognised and where everyone is continually learning and supported to be the best leaders, managers, and collaborators they can be.\\nAbout Us\\nWe’re a dedicated scientific community, committed to “solving intelligence” and ensuring our technology is used for\\xa0 widespread public benefit.\\xa0\\nWe’ve built a supportive and inclusive environment where collaboration is encouraged and learning is shared freely. We don’t\\xa0 set limits based on what others think is possible or impossible. We drive ourselves and inspire each other to push boundaries\\xa0 and achieve ambitious goals.\\nWe constantly iterate on our workplace experience with the goal of ensuring it encourages a balanced life. From excellent office\\xa0 facilities through to extensive manager support, we strive to support our people and their needs as effectively as possible.\\xa0\\nOur list of benefits is extensive, and we’re happy to discuss this further throughout the interview process.\\nThe Role\\nAs an Employee Relations Partner, you will be advising on the relationship between the organisation and its people by delivering high quality and transparent practices, in line with relevant law. This is an exciting and varied specialist role which aims to make a real difference in handling issues at an individual level.\\nKey responsibilities:\\n\\nCrafting and delivering people practises which develop and maintain positive working relationships.\\nSolving HR and policy issues, anything from handling long term sickness to working on a disciplinary investigation which includes advising on best practice and note-taking responsibilities, to assisting in the management of poor performance.\\nSupporting large-scale change programmes, and being a point of contact for topics such as organisational restructures, maternity and paternity, sickness absence.\\nHelping ensure our employee handbook, policies and code of conduct are up to date, legally compliant and reflect our culture and ways of working. .\\nIdentifying and implementing appropriate reporting mechanisms for employee relations cases, both informal and formal.\\nPartnering closely with Learning and People Partners to ensure managers are equipped to support with people challenges in a fair and effective way, and to enable you to build strong relationships across the organisation.\\nYou’ll mainly cover the UK Legal Jurisdictions but will also advise and support US, Canada or France teams.\\n\\nAbout You\\n\\nYou are driven by fairness, high quality delivery and standards, and care deeply about people.\\nWhen handling people issues, you efficiently navigate legal, cultural and business risks and tensions.\\nYou enjoy conflict management and problem solving.\\nYou have experience of handling investigation and disciplinary processes.\\xa0\\nYou enjoy learning about and working within non-UK legal jurisdictions.\\nYou have change management experience.\\nYou hold a solid understanding of organisational culture. Different work environments pose different challenges for people, so too does the ever-changing nature of our organisation as we grow, scale, and evolve.\\nYou proactively ensure your Employment Law expertise is up-to-date.\\nTaking the learning opportunities after each case you support, you possess a continuous improvement approach\\n\\n'"
     },
     "execution_count": 13,
     "metadata": {},
     "output_type": "execute_result"
    }
   ],
   "source": [
    "contents.text"
   ],
   "metadata": {
    "collapsed": false,
    "pycharm": {
     "name": "#%%\n"
    }
   }
  },
  {
   "cell_type": "code",
   "execution_count": 14,
   "outputs": [
    {
     "data": {
      "text/plain": "'DeepMind has a remarkable track record of scientific breakthroughs. Such extraordinary work is a direct result of the brilliant and diverse people we bring together. Our People & Culture team work together to maintain, optimise, and nurture our culture to create the best environment in the world for advancing AI research. A place where everyone’s expertise is recognised and where everyone is continually learning and supported to be the best leaders, managers, and collaborators they can be.'"
     },
     "execution_count": 14,
     "metadata": {},
     "output_type": "execute_result"
    }
   ],
   "source": [
    "description = re.search(snapshot_pattern, contents.text)\n",
    "description.group(3)"
   ],
   "metadata": {
    "collapsed": false,
    "pycharm": {
     "name": "#%%\n"
    }
   }
  },
  {
   "cell_type": "code",
   "execution_count": 15,
   "outputs": [
    {
     "data": {
      "text/plain": "'Crafting and delivering people practises which develop and maintain positive working relationships.\\nSolving HR and policy issues, anything from handling long term sickness to working on a disciplinary investigation which includes advising on best practice and note-taking responsibilities, to assisting in the management of poor performance.\\nSupporting large-scale change programmes, and being a point of contact for topics such as organisational restructures, maternity and paternity, sickness absence.\\nHelping ensure our employee handbook, policies and code of conduct are up to date, legally compliant and reflect our culture and ways of working. .\\nIdentifying and implementing appropriate reporting mechanisms for employee relations cases, both informal and formal.\\nPartnering closely with Learning and People Partners to ensure managers are equipped to support with people challenges in a fair and effective way, and to enable you to build strong relationships across the organisation.\\nYou’ll mainly cover the UK Legal Jurisdictions but will also advise and support US, Canada or France teams.'"
     },
     "execution_count": 15,
     "metadata": {},
     "output_type": "execute_result"
    }
   ],
   "source": [
    "responsibilities = re.search(responsibilities_pattern, contents.text)\n",
    "responsibilities.group(3)"
   ],
   "metadata": {
    "collapsed": false,
    "pycharm": {
     "name": "#%%\n"
    }
   }
  },
  {
   "cell_type": "code",
   "execution_count": 16,
   "outputs": [
    {
     "data": {
      "text/plain": "'\\nYou are driven by fairness, high quality delivery and standards, and care deeply about people.\\nWhen handling people issues, you efficiently navigate legal, cultural and business risks and tensions.\\nYou enjoy conflict management and problem solving.\\nYou have experience of handling investigation and disciplinary processes.\\xa0\\nYou enjoy learning about and working within non-UK legal jurisdictions.\\nYou have change management experience.\\nYou hold a solid understanding of organisational culture. Different work environments pose different challenges for people, so too does the ever-changing nature of our organisation as we grow, scale, and evolve.\\nYou proactively ensure your Employment Law expertise is up-to-date.\\nTaking the learning opportunities after each case you support, you possess a continuous improvement approach\\n\\n'"
     },
     "execution_count": 16,
     "metadata": {},
     "output_type": "execute_result"
    }
   ],
   "source": [
    "qualifications = re.search(qualifications_pattern, contents.text)\n",
    "qualifications.group(3)"
   ],
   "metadata": {
    "collapsed": false,
    "pycharm": {
     "name": "#%%\n"
    }
   }
  }
 ],
 "metadata": {
  "kernelspec": {
   "display_name": "Python 3",
   "language": "python",
   "name": "python3"
  },
  "language_info": {
   "codemirror_mode": {
    "name": "ipython",
    "version": 2
   },
   "file_extension": ".py",
   "mimetype": "text/x-python",
   "name": "python",
   "nbconvert_exporter": "python",
   "pygments_lexer": "ipython2",
   "version": "2.7.6"
  }
 },
 "nbformat": 4,
 "nbformat_minor": 0
}