{
 "cells": [
  {
   "cell_type": "code",
   "execution_count": 3,
   "outputs": [],
   "source": [
    "import time\n",
    "\n",
    "import requests\n",
    "from bs4 import BeautifulSoup\n",
    "import json\n",
    "import re\n",
    "import time\n",
    "import faker\n",
    "import pandas as pd\n",
    "from tqdm import tqdm\n",
    "from datetime import datetime\n",
    "from dateutil import parser"
   ],
   "metadata": {
    "collapsed": false,
    "pycharm": {
     "name": "#%%\n"
    }
   }
  },
  {
   "cell_type": "code",
   "execution_count": 5,
   "outputs": [],
   "source": [
    "fake = faker.Faker(locale='en')"
   ],
   "metadata": {
    "collapsed": false,
    "pycharm": {
     "name": "#%%\n"
    }
   }
  },
  {
   "cell_type": "code",
   "execution_count": 7,
   "outputs": [],
   "source": [
    "headers = {\n",
    "    'User-Agent': fake.chrome(),\n",
    "    'accept-language': 'en-US,en;q=0.9',\n",
    "    'pragma': 'np-cache',\n",
    "    'referer': 'http://www.deepmind.com/careers'\n",
    "}"
   ],
   "metadata": {
    "collapsed": false,
    "pycharm": {
     "name": "#%%\n"
    }
   }
  },
  {
   "cell_type": "code",
   "execution_count": 12,
   "outputs": [],
   "source": [
    "URL = \"http://api.greenhouse.io/v1/boards/deepmind/embed/jobs\""
   ],
   "metadata": {
    "collapsed": false,
    "pycharm": {
     "name": "#%%\n"
    }
   }
  },
  {
   "cell_type": "code",
   "execution_count": 13,
   "outputs": [
    {
     "data": {
      "text/plain": "<Response [200]>"
     },
     "execution_count": 13,
     "metadata": {},
     "output_type": "execute_result"
    }
   ],
   "source": [
    "result = requests.get(URL, headers=headers)\n",
    "result"
   ],
   "metadata": {
    "collapsed": false,
    "pycharm": {
     "name": "#%%\n"
    }
   }
  },
  {
   "cell_type": "code",
   "execution_count": 20,
   "outputs": [
    {
     "data": {
      "text/plain": "(51,\n [{'absolute_url': 'https://boards.greenhouse.io/deepmind/jobs/4164088',\n   'data_compliance': [{'type': 'gdpr',\n     'requires_consent': False,\n     'retention_period': None}],\n   'internal_job_id': 2221473,\n   'location': {'name': 'London, UK'},\n   'metadata': [{'id': 90484,\n     'name': 'Website Grouping',\n     'value': 'Operations',\n     'value_type': 'single_select'}],\n   'id': 4164088,\n   'updated_at': '2022-05-31T10:19:47-04:00',\n   'requisition_id': None,\n   'title': 'AI Ethics and Public Policy Researcher '},\n  {'absolute_url': 'https://boards.greenhouse.io/deepmind/jobs/4281175',\n   'data_compliance': [{'type': 'gdpr',\n     'requires_consent': False,\n     'retention_period': None}],\n   'internal_job_id': 2271915,\n   'location': {'name': 'London, UK'},\n   'metadata': [{'id': 90484,\n     'name': 'Website Grouping',\n     'value': 'Operations',\n     'value_type': 'single_select'}],\n   'id': 4281175,\n   'updated_at': '2022-05-31T10:19:47-04:00',\n   'requisition_id': None,\n   'title': 'Assistant to Two Research Leads'},\n  {'absolute_url': 'https://boards.greenhouse.io/deepmind/jobs/4221575',\n   'data_compliance': [{'type': 'gdpr',\n     'requires_consent': False,\n     'retention_period': None}],\n   'internal_job_id': 2252632,\n   'location': {'name': 'London, UK'},\n   'metadata': [{'id': 90484,\n     'name': 'Website Grouping',\n     'value': 'Operations',\n     'value_type': 'single_select'}],\n   'id': 4221575,\n   'updated_at': '2022-05-31T10:19:47-04:00',\n   'requisition_id': None,\n   'title': 'Associate, Strategy & Operations'},\n  {'absolute_url': 'https://boards.greenhouse.io/deepmind/jobs/4067766',\n   'data_compliance': [{'type': 'gdpr',\n     'requires_consent': False,\n     'retention_period': None}],\n   'internal_job_id': 2198494,\n   'location': {'name': 'London, UK'},\n   'metadata': [{'id': 90484,\n     'name': 'Website Grouping',\n     'value': 'Operations',\n     'value_type': 'single_select'}],\n   'id': 4067766,\n   'updated_at': '2022-05-31T10:19:47-04:00',\n   'requisition_id': '53',\n   'title': 'Building Services Technician'},\n  {'absolute_url': 'https://boards.greenhouse.io/deepmind/jobs/2928424',\n   'data_compliance': [{'type': 'gdpr',\n     'requires_consent': False,\n     'retention_period': None}],\n   'internal_job_id': 1726743,\n   'location': {'name': 'London, UK'},\n   'metadata': [{'id': 90484,\n     'name': 'Website Grouping',\n     'value': 'Operations',\n     'value_type': 'single_select'}],\n   'id': 2928424,\n   'updated_at': '2022-05-31T11:20:39-04:00',\n   'requisition_id': None,\n   'title': 'Employee Relations Partner'},\n  {'absolute_url': 'https://boards.greenhouse.io/deepmind/jobs/4050310',\n   'data_compliance': [{'type': 'gdpr',\n     'requires_consent': False,\n     'retention_period': None}],\n   'internal_job_id': 2191735,\n   'location': {'name': 'London, UK'},\n   'metadata': [{'id': 90484,\n     'name': 'Website Grouping',\n     'value': 'Operations',\n     'value_type': 'single_select'}],\n   'id': 4050310,\n   'updated_at': '2022-06-15T06:40:27-04:00',\n   'requisition_id': None,\n   'title': 'Executive Assistant Manager '},\n  {'absolute_url': 'https://boards.greenhouse.io/deepmind/jobs/469517',\n   'data_compliance': [{'type': 'gdpr',\n     'requires_consent': False,\n     'retention_period': None}],\n   'internal_job_id': 316392,\n   'location': {'name': 'London, UK'},\n   'metadata': [{'id': 90484,\n     'name': 'Website Grouping',\n     'value': 'Engineering',\n     'value_type': 'single_select'}],\n   'id': 469517,\n   'updated_at': '2022-05-31T10:19:47-04:00',\n   'requisition_id': None,\n   'title': 'Games Systems Engineer, Worlds'},\n  {'absolute_url': 'https://boards.greenhouse.io/deepmind/jobs/3931719',\n   'data_compliance': [{'type': 'gdpr',\n     'requires_consent': False,\n     'retention_period': None}],\n   'internal_job_id': 2147218,\n   'location': {'name': 'London, UK'},\n   'metadata': [{'id': 90484,\n     'name': 'Website Grouping',\n     'value': 'Operations',\n     'value_type': 'single_select'}],\n   'id': 3931719,\n   'updated_at': '2022-06-09T04:23:15-04:00',\n   'requisition_id': None,\n   'title': 'Lead Program Manager, Engineering'},\n  {'absolute_url': 'https://boards.greenhouse.io/deepmind/jobs/4103183',\n   'data_compliance': [{'type': 'gdpr',\n     'requires_consent': False,\n     'retention_period': None}],\n   'internal_job_id': 2211268,\n   'location': {'name': 'London, UK'},\n   'metadata': [{'id': 90484,\n     'name': 'Website Grouping',\n     'value': 'Operations',\n     'value_type': 'single_select'}],\n   'id': 4103183,\n   'updated_at': '2022-05-31T10:19:47-04:00',\n   'requisition_id': None,\n   'title': 'People and Culture Analytics Partner'},\n  {'absolute_url': 'https://boards.greenhouse.io/deepmind/jobs/4049618',\n   'data_compliance': [{'type': 'gdpr',\n     'requires_consent': False,\n     'retention_period': None}],\n   'internal_job_id': 2191469,\n   'location': {'name': 'London, UK'},\n   'metadata': [{'id': 90484,\n     'name': 'Website Grouping',\n     'value': 'Operations',\n     'value_type': 'single_select'}],\n   'id': 4049618,\n   'updated_at': '2022-05-31T10:19:47-04:00',\n   'requisition_id': None,\n   'title': 'People & Culture Partner'},\n  {'absolute_url': 'https://boards.greenhouse.io/deepmind/jobs/4289471',\n   'data_compliance': [{'type': 'gdpr',\n     'requires_consent': False,\n     'retention_period': None}],\n   'internal_job_id': 2274944,\n   'location': {'name': 'Paris, France'},\n   'metadata': [{'id': 90484,\n     'name': 'Website Grouping',\n     'value': 'Operations',\n     'value_type': 'single_select'}],\n   'id': 4289471,\n   'updated_at': '2022-06-01T05:56:58-04:00',\n   'requisition_id': None,\n   'title': 'People & Culture Partner / Associé(e) Personnel et Culture'},\n  {'absolute_url': 'https://boards.greenhouse.io/deepmind/jobs/4164133',\n   'data_compliance': [{'type': 'gdpr',\n     'requires_consent': False,\n     'retention_period': None}],\n   'internal_job_id': 2232097,\n   'location': {'name': 'London, UK'},\n   'metadata': [{'id': 90484,\n     'name': 'Website Grouping',\n     'value': 'Operations',\n     'value_type': 'single_select'}],\n   'id': 4164133,\n   'updated_at': '2022-05-31T10:19:47-04:00',\n   'requisition_id': None,\n   'title': 'People & Culture Partnering Lead, Operations (Fixed Term Contract)'},\n  {'absolute_url': 'https://boards.greenhouse.io/deepmind/jobs/4049628',\n   'data_compliance': [{'type': 'gdpr',\n     'requires_consent': False,\n     'retention_period': None}],\n   'internal_job_id': 2191472,\n   'location': {'name': 'London, UK'},\n   'metadata': [{'id': 90484,\n     'name': 'Website Grouping',\n     'value': 'Operations',\n     'value_type': 'single_select'}],\n   'id': 4049628,\n   'updated_at': '2022-05-31T10:19:47-04:00',\n   'requisition_id': None,\n   'title': 'People & Culture Partner, Research '},\n  {'absolute_url': 'https://boards.greenhouse.io/deepmind/jobs/4140721',\n   'data_compliance': [{'type': 'gdpr',\n     'requires_consent': False,\n     'retention_period': None}],\n   'internal_job_id': 2224890,\n   'location': {'name': 'London, UK'},\n   'metadata': [{'id': 90484,\n     'name': 'Website Grouping',\n     'value': 'Operations',\n     'value_type': 'single_select'}],\n   'id': 4140721,\n   'updated_at': '2022-05-31T10:19:47-04:00',\n   'requisition_id': None,\n   'title': 'People Experience Assistant '},\n  {'absolute_url': 'https://boards.greenhouse.io/deepmind/jobs/4022514',\n   'data_compliance': [{'type': 'gdpr',\n     'requires_consent': False,\n     'retention_period': None}],\n   'internal_job_id': 2180922,\n   'location': {'name': 'Mountain View, California, US'},\n   'metadata': [{'id': 90484,\n     'name': 'Website Grouping',\n     'value': 'Operations',\n     'value_type': 'single_select'}],\n   'id': 4022514,\n   'updated_at': '2022-05-31T10:19:47-04:00',\n   'requisition_id': None,\n   'title': 'People Partner, Mountain View'},\n  {'absolute_url': 'https://boards.greenhouse.io/deepmind/jobs/4067914',\n   'data_compliance': [{'type': 'gdpr',\n     'requires_consent': False,\n     'retention_period': None}],\n   'internal_job_id': 2198563,\n   'location': {'name': 'London, UK'},\n   'metadata': [{'id': 90484,\n     'name': 'Website Grouping',\n     'value': 'Operations',\n     'value_type': 'single_select'}],\n   'id': 4067914,\n   'updated_at': '2022-05-31T10:19:47-04:00',\n   'requisition_id': '54',\n   'title': 'Production Engineer'},\n  {'absolute_url': 'https://boards.greenhouse.io/deepmind/jobs/2381777',\n   'data_compliance': [{'type': 'gdpr',\n     'requires_consent': False,\n     'retention_period': None}],\n   'internal_job_id': 1446798,\n   'location': {'name': 'Mountain View, California, US'},\n   'metadata': [{'id': 90484,\n     'name': 'Website Grouping',\n     'value': 'Applied',\n     'value_type': 'single_select'}],\n   'id': 2381777,\n   'updated_at': '2022-05-31T10:19:47-04:00',\n   'requisition_id': None,\n   'title': 'Product Manager, Applied, Mountain View'},\n  {'absolute_url': 'https://boards.greenhouse.io/deepmind/jobs/4205563',\n   'data_compliance': [{'type': 'gdpr',\n     'requires_consent': False,\n     'retention_period': None}],\n   'internal_job_id': 2246718,\n   'location': {'name': 'London, UK'},\n   'metadata': [{'id': 90484,\n     'name': 'Website Grouping',\n     'value': 'Engineering',\n     'value_type': 'single_select'}],\n   'id': 4205563,\n   'updated_at': '2022-06-15T04:20:23-04:00',\n   'requisition_id': None,\n   'title': 'Product Manager, Platform'},\n  {'absolute_url': 'https://boards.greenhouse.io/deepmind/jobs/4246542',\n   'data_compliance': [{'type': 'gdpr',\n     'requires_consent': False,\n     'retention_period': None}],\n   'internal_job_id': 2246401,\n   'location': {'name': 'London, UK'},\n   'metadata': [{'id': 90484,\n     'name': 'Website Grouping',\n     'value': 'Operations',\n     'value_type': 'single_select'}],\n   'id': 4246542,\n   'updated_at': '2022-05-31T10:19:47-04:00',\n   'requisition_id': None,\n   'title': 'Program Manager, Applied'},\n  {'absolute_url': 'https://boards.greenhouse.io/deepmind/jobs/4169725',\n   'data_compliance': [{'type': 'gdpr',\n     'requires_consent': False,\n     'retention_period': None}],\n   'internal_job_id': 2202844,\n   'location': {'name': 'London, UK'},\n   'metadata': [{'id': 90484,\n     'name': 'Website Grouping',\n     'value': 'Operations',\n     'value_type': 'single_select'}],\n   'id': 4169725,\n   'updated_at': '2022-05-31T10:19:47-04:00',\n   'requisition_id': None,\n   'title': 'Program Manager, Operations'},\n  {'absolute_url': 'https://boards.greenhouse.io/deepmind/jobs/4111415',\n   'data_compliance': [{'type': 'gdpr',\n     'requires_consent': False,\n     'retention_period': None}],\n   'internal_job_id': 2189940,\n   'location': {'name': 'London, UK'},\n   'metadata': [{'id': 90484,\n     'name': 'Website Grouping',\n     'value': 'Operations',\n     'value_type': 'single_select'}],\n   'id': 4111415,\n   'updated_at': '2022-05-31T10:19:47-04:00',\n   'requisition_id': None,\n   'title': 'Program Manager, Research'},\n  {'absolute_url': 'https://boards.greenhouse.io/deepmind/jobs/3890486',\n   'data_compliance': [{'type': 'gdpr',\n     'requires_consent': False,\n     'retention_period': None}],\n   'internal_job_id': 2131936,\n   'location': {'name': 'London, UK'},\n   'metadata': [{'id': 90484,\n     'name': 'Website Grouping',\n     'value': 'Operations',\n     'value_type': 'single_select'}],\n   'id': 3890486,\n   'updated_at': '2022-05-31T10:19:47-04:00',\n   'requisition_id': None,\n   'title': 'Program Specialist, Games (Fixed Term Contract)'},\n  {'absolute_url': 'https://boards.greenhouse.io/deepmind/jobs/4251148',\n   'data_compliance': [{'type': 'gdpr',\n     'requires_consent': False,\n     'retention_period': None}],\n   'internal_job_id': 2246379,\n   'location': {'name': 'Mountain View, California, US'},\n   'metadata': [{'id': 90484,\n     'name': 'Website Grouping',\n     'value': 'Operations',\n     'value_type': 'single_select'}],\n   'id': 4251148,\n   'updated_at': '2022-05-31T10:19:47-04:00',\n   'requisition_id': None,\n   'title': 'Program Specialist, Research '},\n  {'absolute_url': 'https://boards.greenhouse.io/deepmind/jobs/4174682',\n   'data_compliance': [{'type': 'gdpr',\n     'requires_consent': False,\n     'retention_period': None}],\n   'internal_job_id': 2235091,\n   'location': {'name': 'London, UK'},\n   'metadata': [{'id': 90484,\n     'name': 'Website Grouping',\n     'value': 'Engineering',\n     'value_type': 'single_select'}],\n   'id': 4174682,\n   'updated_at': '2022-05-31T10:19:47-04:00',\n   'requisition_id': None,\n   'title': 'Research Engineer - Alignment'},\n  {'absolute_url': 'https://boards.greenhouse.io/deepmind/jobs/948921',\n   'data_compliance': [{'type': 'gdpr',\n     'requires_consent': False,\n     'retention_period': None}],\n   'internal_job_id': 633802,\n   'location': {'name': 'Mountain View, California, US'},\n   'metadata': [{'id': 90484,\n     'name': 'Website Grouping',\n     'value': 'Applied',\n     'value_type': 'single_select'}],\n   'id': 948921,\n   'updated_at': '2022-06-14T07:03:17-04:00',\n   'requisition_id': None,\n   'title': 'Research Engineer, Applied, Mountain View'},\n  {'absolute_url': 'https://boards.greenhouse.io/deepmind/jobs/4201964',\n   'data_compliance': [{'type': 'gdpr',\n     'requires_consent': False,\n     'retention_period': None}],\n   'internal_job_id': 2245269,\n   'location': {'name': 'London, UK'},\n   'metadata': [{'id': 90484,\n     'name': 'Website Grouping',\n     'value': 'Engineering',\n     'value_type': 'single_select'}],\n   'id': 4201964,\n   'updated_at': '2022-05-31T10:19:47-04:00',\n   'requisition_id': None,\n   'title': 'Research Engineer - Scalable Alignment'},\n  {'absolute_url': 'https://boards.greenhouse.io/deepmind/jobs/4189940',\n   'data_compliance': [{'type': 'gdpr',\n     'requires_consent': False,\n     'retention_period': None}],\n   'internal_job_id': 2240610,\n   'location': {'name': 'London, UK'},\n   'metadata': [{'id': 90484,\n     'name': 'Website Grouping',\n     'value': 'Engineering',\n     'value_type': 'single_select'}],\n   'id': 4189940,\n   'updated_at': '2022-05-31T10:19:47-04:00',\n   'requisition_id': None,\n   'title': 'Research Engineer, Security & Privacy'},\n  {'absolute_url': 'https://boards.greenhouse.io/deepmind/jobs/469515',\n   'data_compliance': [{'type': 'gdpr',\n     'requires_consent': False,\n     'retention_period': None}],\n   'internal_job_id': 316391,\n   'location': {'name': 'London, UK'},\n   'metadata': [{'id': 90484,\n     'name': 'Website Grouping',\n     'value': 'Research',\n     'value_type': 'single_select'}],\n   'id': 469515,\n   'updated_at': '2022-05-31T10:19:47-04:00',\n   'requisition_id': None,\n   'title': 'Research Scientist'},\n  {'absolute_url': 'https://boards.greenhouse.io/deepmind/jobs/4136465',\n   'data_compliance': [{'type': 'gdpr',\n     'requires_consent': False,\n     'retention_period': None}],\n   'internal_job_id': 2223180,\n   'location': {'name': 'London, UK'},\n   'metadata': [{'id': 90484,\n     'name': 'Website Grouping',\n     'value': 'Research',\n     'value_type': 'single_select'}],\n   'id': 4136465,\n   'updated_at': '2022-05-31T10:19:47-04:00',\n   'requisition_id': None,\n   'title': 'Research Scientist, Alignment'},\n  {'absolute_url': 'https://boards.greenhouse.io/deepmind/jobs/4187853',\n   'data_compliance': [{'type': 'gdpr',\n     'requires_consent': False,\n     'retention_period': None}],\n   'internal_job_id': 2239940,\n   'location': {'name': 'London, UK'},\n   'metadata': [{'id': 90484,\n     'name': 'Website Grouping',\n     'value': 'Research',\n     'value_type': 'single_select'}],\n   'id': 4187853,\n   'updated_at': '2022-05-31T10:19:47-04:00',\n   'requisition_id': None,\n   'title': 'Research Scientist, Cognitive Science, Scalable Alignment'},\n  {'absolute_url': 'https://boards.greenhouse.io/deepmind/jobs/3541486',\n   'data_compliance': [{'type': 'gdpr',\n     'requires_consent': False,\n     'retention_period': None}],\n   'internal_job_id': 1993517,\n   'location': {'name': 'London, UK'},\n   'metadata': [{'id': 90484,\n     'name': 'Website Grouping',\n     'value': 'Research',\n     'value_type': 'single_select'}],\n   'id': 3541486,\n   'updated_at': '2022-05-31T10:19:47-04:00',\n   'requisition_id': None,\n   'title': 'Research Scientist, Continual Learning'},\n  {'absolute_url': 'https://boards.greenhouse.io/deepmind/jobs/4183083',\n   'data_compliance': [{'type': 'gdpr',\n     'requires_consent': False,\n     'retention_period': None}],\n   'internal_job_id': 2238198,\n   'location': {'name': 'London, UK'},\n   'metadata': [{'id': 90484,\n     'name': 'Website Grouping',\n     'value': 'Research',\n     'value_type': 'single_select'}],\n   'id': 4183083,\n   'updated_at': '2022-05-31T10:19:47-04:00',\n   'requisition_id': None,\n   'title': 'Research Scientist, Human-centred AI '},\n  {'absolute_url': 'https://boards.greenhouse.io/deepmind/jobs/4187868',\n   'data_compliance': [{'type': 'gdpr',\n     'requires_consent': False,\n     'retention_period': None}],\n   'internal_job_id': 2239951,\n   'location': {'name': 'London, UK'},\n   'metadata': [{'id': 90484,\n     'name': 'Website Grouping',\n     'value': 'Research',\n     'value_type': 'single_select'}],\n   'id': 4187868,\n   'updated_at': '2022-05-31T10:19:47-04:00',\n   'requisition_id': None,\n   'title': 'Research Scientist, Machine Learning, Scalable Alignment'},\n  {'absolute_url': 'https://boards.greenhouse.io/deepmind/jobs/4067236',\n   'data_compliance': [{'type': 'gdpr',\n     'requires_consent': False,\n     'retention_period': None}],\n   'internal_job_id': 2198258,\n   'location': {'name': 'London, UK'},\n   'metadata': [{'id': 90484,\n     'name': 'Website Grouping',\n     'value': 'Operations',\n     'value_type': 'single_select'}],\n   'id': 4067236,\n   'updated_at': '2022-05-31T10:19:47-04:00',\n   'requisition_id': None,\n   'title': 'Reward and Recognition Partner'},\n  {'absolute_url': 'https://boards.greenhouse.io/deepmind/jobs/3082662',\n   'data_compliance': [{'type': 'gdpr',\n     'requires_consent': False,\n     'retention_period': None}],\n   'internal_job_id': 1239632,\n   'location': {'name': 'London, UK'},\n   'metadata': [{'id': 90484,\n     'name': 'Website Grouping',\n     'value': 'Science',\n     'value_type': 'single_select'}],\n   'id': 3082662,\n   'updated_at': '2022-06-10T09:26:28-04:00',\n   'requisition_id': None,\n   'title': 'Science Software Engineer, London'},\n  {'absolute_url': 'https://boards.greenhouse.io/deepmind/jobs/4151550',\n   'data_compliance': [{'type': 'gdpr',\n     'requires_consent': False,\n     'retention_period': None}],\n   'internal_job_id': 2228813,\n   'location': {'name': 'London, UK'},\n   'metadata': [{'id': 90484,\n     'name': 'Website Grouping',\n     'value': 'Operations',\n     'value_type': 'single_select'}],\n   'id': 4151550,\n   'updated_at': '2022-05-31T10:19:47-04:00',\n   'requisition_id': None,\n   'title': 'Social Media Manager'},\n  {'absolute_url': 'https://boards.greenhouse.io/deepmind/jobs/3330088',\n   'data_compliance': [{'type': 'gdpr',\n     'requires_consent': False,\n     'retention_period': None}],\n   'internal_job_id': 316392,\n   'location': {'name': 'London, UK'},\n   'metadata': [{'id': 90484,\n     'name': 'Website Grouping',\n     'value': 'Engineering',\n     'value_type': 'single_select'}],\n   'id': 3330088,\n   'updated_at': '2022-05-31T10:19:47-04:00',\n   'requisition_id': None,\n   'title': 'Software Engineer, Games'},\n  {'absolute_url': 'https://boards.greenhouse.io/deepmind/jobs/4213171',\n   'data_compliance': [{'type': 'gdpr',\n     'requires_consent': False,\n     'retention_period': None}],\n   'internal_job_id': 2249295,\n   'location': {'name': 'London, UK'},\n   'metadata': [{'id': 90484,\n     'name': 'Website Grouping',\n     'value': 'Engineering',\n     'value_type': 'single_select'}],\n   'id': 4213171,\n   'updated_at': '2022-06-07T06:01:25-04:00',\n   'requisition_id': None,\n   'title': 'Software Engineering Manager, Games'},\n  {'absolute_url': 'https://boards.greenhouse.io/deepmind/jobs/3752250',\n   'data_compliance': [{'type': 'gdpr',\n     'requires_consent': False,\n     'retention_period': None}],\n   'internal_job_id': 2050067,\n   'location': {'name': 'London, UK'},\n   'metadata': [{'id': 90484,\n     'name': 'Website Grouping',\n     'value': 'Engineering',\n     'value_type': 'single_select'}],\n   'id': 3752250,\n   'updated_at': '2022-06-13T10:15:00-04:00',\n   'requisition_id': None,\n   'title': 'Software Engineer, Non-Commercial, London'},\n  {'absolute_url': 'https://boards.greenhouse.io/deepmind/jobs/1574260',\n   'data_compliance': [{'type': 'gdpr',\n     'requires_consent': False,\n     'retention_period': None}],\n   'internal_job_id': 998037,\n   'location': {'name': 'London, UK'},\n   'metadata': [{'id': 90484,\n     'name': 'Website Grouping',\n     'value': 'Engineering',\n     'value_type': 'single_select'}],\n   'id': 1574260,\n   'updated_at': '2022-05-31T10:19:47-04:00',\n   'requisition_id': None,\n   'title': 'Software Engineer, Platform'},\n  {'absolute_url': 'https://boards.greenhouse.io/deepmind/jobs/4204232',\n   'data_compliance': [{'type': 'gdpr',\n     'requires_consent': False,\n     'retention_period': None}],\n   'internal_job_id': 2246209,\n   'location': {'name': 'London, UK'},\n   'metadata': [{'id': 90484,\n     'name': 'Website Grouping',\n     'value': 'Engineering',\n     'value_type': 'single_select'}],\n   'id': 4204232,\n   'updated_at': '2022-05-31T10:19:47-04:00',\n   'requisition_id': None,\n   'title': 'Software Engineer - Scalable Alignment'},\n  {'absolute_url': 'https://boards.greenhouse.io/deepmind/jobs/3979642',\n   'data_compliance': [{'type': 'gdpr',\n     'requires_consent': False,\n     'retention_period': None}],\n   'internal_job_id': 2164435,\n   'location': {'name': 'London, UK'},\n   'metadata': [{'id': 90484,\n     'name': 'Website Grouping',\n     'value': 'Engineering',\n     'value_type': 'single_select'}],\n   'id': 3979642,\n   'updated_at': '2022-05-31T10:19:47-04:00',\n   'requisition_id': None,\n   'title': 'Software Engineer, Security'},\n  {'absolute_url': 'https://boards.greenhouse.io/deepmind/jobs/4160654',\n   'data_compliance': [{'type': 'gdpr',\n     'requires_consent': False,\n     'retention_period': None}],\n   'internal_job_id': 2230740,\n   'location': {'name': 'London, UK'},\n   'metadata': [{'id': 90484,\n     'name': 'Website Grouping',\n     'value': 'Operations',\n     'value_type': 'single_select'}],\n   'id': 4160654,\n   'updated_at': '2022-05-31T10:19:47-04:00',\n   'requisition_id': '57',\n   'title': 'Strategic Partnerships Manager, 12 month fixed term contract (FTC)'},\n  {'absolute_url': 'https://boards.greenhouse.io/deepmind/jobs/4209475',\n   'data_compliance': [{'type': 'gdpr',\n     'requires_consent': False,\n     'retention_period': None}],\n   'internal_job_id': 2230713,\n   'location': {'name': 'London, UK'},\n   'metadata': [{'id': 90484,\n     'name': 'Website Grouping',\n     'value': 'Operations',\n     'value_type': 'single_select'}],\n   'id': 4209475,\n   'updated_at': '2022-05-31T10:19:47-04:00',\n   'requisition_id': '56',\n   'title': 'Strategic Partnerships Manager, Data Team'},\n  {'absolute_url': 'https://boards.greenhouse.io/deepmind/jobs/4170017',\n   'data_compliance': [{'type': 'gdpr',\n     'requires_consent': False,\n     'retention_period': None}],\n   'internal_job_id': 2233852,\n   'location': {'name': 'London, UK'},\n   'metadata': [{'id': 90484,\n     'name': 'Website Grouping',\n     'value': 'Operations',\n     'value_type': 'single_select'}],\n   'id': 4170017,\n   'updated_at': '2022-05-31T10:19:47-04:00',\n   'requisition_id': '58',\n   'title': 'Systems Administrator '},\n  {'absolute_url': 'https://boards.greenhouse.io/deepmind/jobs/4289723',\n   'data_compliance': [{'type': 'gdpr',\n     'requires_consent': False,\n     'retention_period': None}],\n   'internal_job_id': 2275064,\n   'location': {'name': 'London, UK'},\n   'metadata': [{'id': 90484,\n     'name': 'Website Grouping',\n     'value': 'Operations',\n     'value_type': 'single_select'}],\n   'id': 4289723,\n   'updated_at': '2022-06-08T15:53:57-04:00',\n   'requisition_id': '60',\n   'title': 'Talent Acquisition Partner, Engineering'},\n  {'absolute_url': 'https://boards.greenhouse.io/deepmind/jobs/4290829',\n   'data_compliance': [{'type': 'gdpr',\n     'requires_consent': False,\n     'retention_period': None}],\n   'internal_job_id': 2275454,\n   'location': {'name': 'London, UK'},\n   'metadata': [{'id': 90484,\n     'name': 'Website Grouping',\n     'value': 'Operations',\n     'value_type': 'single_select'}],\n   'id': 4290829,\n   'updated_at': '2022-06-02T04:34:53-04:00',\n   'requisition_id': '61',\n   'title': 'Talent Acquisition Partner, Non SWE Tech'},\n  {'absolute_url': 'https://boards.greenhouse.io/deepmind/jobs/4316021',\n   'data_compliance': [{'type': 'gdpr',\n     'requires_consent': False,\n     'retention_period': None}],\n   'internal_job_id': 2284611,\n   'location': {'name': 'London, UK'},\n   'metadata': [{'id': 90484,\n     'name': 'Website Grouping',\n     'value': 'Operations',\n     'value_type': 'single_select'}],\n   'id': 4316021,\n   'updated_at': '2022-06-10T10:33:40-04:00',\n   'requisition_id': '62',\n   'title': 'Talent Acquisition Specialist - Engineering'},\n  {'absolute_url': 'https://boards.greenhouse.io/deepmind/jobs/3919000',\n   'data_compliance': [{'type': 'gdpr',\n     'requires_consent': False,\n     'retention_period': None}],\n   'internal_job_id': 2123898,\n   'location': {'name': 'London, UK'},\n   'metadata': [{'id': 90484,\n     'name': 'Website Grouping',\n     'value': 'Operations',\n     'value_type': 'single_select'}],\n   'id': 3919000,\n   'updated_at': '2022-05-31T10:19:47-04:00',\n   'requisition_id': None,\n   'title': 'Team Assistant, People and Culture'},\n  {'absolute_url': 'https://boards.greenhouse.io/deepmind/jobs/3029996',\n   'data_compliance': [{'type': 'gdpr',\n     'requires_consent': False,\n     'retention_period': None}],\n   'internal_job_id': 1773351,\n   'location': {'name': 'Mountain View, California, US'},\n   'metadata': [{'id': 90484,\n     'name': 'Website Grouping',\n     'value': 'Operations',\n     'value_type': 'single_select'}],\n   'id': 3029996,\n   'updated_at': '2022-06-09T05:30:18-04:00',\n   'requisition_id': None,\n   'title': 'Technical Program Manager, Applied'},\n  {'absolute_url': 'https://boards.greenhouse.io/deepmind/jobs/3977354',\n   'data_compliance': [{'type': 'gdpr',\n     'requires_consent': False,\n     'retention_period': None}],\n   'internal_job_id': 2163290,\n   'location': {'name': 'London, UK'},\n   'metadata': [{'id': 90484,\n     'name': 'Website Grouping',\n     'value': 'Operations',\n     'value_type': 'single_select'}],\n   'id': 3977354,\n   'updated_at': '2022-05-31T10:19:47-04:00',\n   'requisition_id': '51',\n   'title': 'Workplace Manager'}])"
     },
     "execution_count": 20,
     "metadata": {},
     "output_type": "execute_result"
    }
   ],
   "source": [
    "all_jobs = result.json()['jobs']\n",
    "len(all_jobs), all_jobs"
   ],
   "metadata": {
    "collapsed": false,
    "pycharm": {
     "name": "#%%\n"
    }
   }
  },
  {
   "cell_type": "code",
   "execution_count": 27,
   "outputs": [
    {
     "data": {
      "text/plain": "datetime.datetime(2022, 5, 31, 10, 19, 47, tzinfo=tzoffset(None, -14400))"
     },
     "execution_count": 27,
     "metadata": {},
     "output_type": "execute_result"
    }
   ],
   "source": [
    "parser.parse(all_jobs[0]['updated_at'])"
   ],
   "metadata": {
    "collapsed": false,
    "pycharm": {
     "name": "#%%\n"
    }
   }
  },
  {
   "cell_type": "code",
   "execution_count": 24,
   "outputs": [
    {
     "data": {
      "text/plain": "<Response [200]>"
     },
     "execution_count": 24,
     "metadata": {},
     "output_type": "execute_result"
    }
   ],
   "source": [
    "job_website = requests.get(all_jobs[0]['absolute_url'], headers=headers)\n",
    "job_website"
   ],
   "metadata": {
    "collapsed": false,
    "pycharm": {
     "name": "#%%\n"
    }
   }
  },
  {
   "cell_type": "code",
   "execution_count": 36,
   "outputs": [],
   "source": [
    "soup = BeautifulSoup(job_website.text)"
   ],
   "metadata": {
    "collapsed": false,
    "pycharm": {
     "name": "#%%\n"
    }
   }
  },
  {
   "cell_type": "code",
   "execution_count": 38,
   "outputs": [
    {
     "data": {
      "text/plain": "<div class=\"\" id=\"content\">\n<p><em><span style=\"font-weight: 400;\">At DeepMind, we value diversity of experience, knowledge, backgrounds and perspectives and harness these qualities to create extraordinary impact. We are committed to equal employment opportunity regardless of sex, race, religion or belief, ethnic or national origin, disability, age, citizenship, marital, domestic or civil partnership status, sexual orientation, gender identity, pregnancy, maternity or related condition (including breastfeeding) or any other basis as protected by applicable law. If you have a disability or additional need that requires accommodation, please do not hesitate to let us know.</span></em></p>\n<p><strong>Snapshot</strong></p>\n<p><span style=\"font-weight: 400;\">As DeepMind continues to grow, we are seeking a hardworking individual to lead targeted research efforts on a range of AI ethics and policy topics to support internal decision making and external engagement. The successful candidate will have proven research experience, excellent writing and communication skills, and will be comfortable analysing technical literature and engaging substantively with domain experts. Our ideal candidate will be motivated by the idea using AI technologies for widespread public benefit and scientific discovery!</span></p>\n<p><strong>About us </strong></p>\n<p><span style=\"font-weight: 400;\">We’re a dedicated scientific community, committed to “solving intelligence” and ensuring our technology is used for widespread public benefit. We’ve built a supportive and inclusive environment where collaboration is encouraged and learning is shared freely. We don’t set limits based on what others think is possible or impossible. We drive ourselves and inspire each other to push boundaries and achieve ambitious goals.</span></p>\n<p><span style=\"font-weight: 400;\">We constantly iterate on our workplace experience with the goal of ensuring it encourages a balanced life. From excellent office facilities through to extensive manager support, we strive to support our people and their needs as effectively as possible. </span></p>\n<p><span style=\"font-weight: 400;\">Our list of benefits is extensive, and we’re happy to discuss this further throughout the interview process!</span></p>\n<p><strong>Key Responsibilities:</strong></p>\n<ul>\n<li style=\"font-weight: 400;\"><span style=\"font-weight: 400;\">Carry out highly-targeted research on a diverse range of AI ethics and policy topics, to inform internal decision making and external engagement, across DeepMind.</span></li>\n<li style=\"font-weight: 400;\"><span style=\"font-weight: 400;\">Manage and complete complex research programmes. Design the right blend of literature reviews, media audits, expert interviews, third party support, and quantitative techniques for the specific topic, audience and goal in question.</span></li>\n<li style=\"font-weight: 400;\"><span style=\"font-weight: 400;\">Produce insightful, engaging and actionable research papers, memos and risk analysis that are easily digestible by senior decision makers and external stakeholders.</span></li>\n<li style=\"font-weight: 400;\"><span style=\"font-weight: 400;\">Embed deeply into DeepMind’s AI, science and ethics research and interpret it for non-specialist audiences, drawing out clear implications for internal decision making and external policy.</span></li>\n<li style=\"font-weight: 400;\"><span style=\"font-weight: 400;\">Proactively build robust relationships across the company to inform your research and to identify opportunities for how your work can support other teams.</span></li>\n<li style=\"font-weight: 400;\"><span style=\"font-weight: 400;\">Monitor relevant external developments closely, cultivate relationships with external domain experts and stakeholders, and share targeted updates with internal audiences.</span></li>\n</ul>\n<p><strong>About You</strong></p>\n<ul>\n<li style=\"font-weight: 400;\"><span style=\"font-weight: 400;\">Master’s degree or equivalent experience in computer science, science, ethics, public policy, or related field - with experience carrying out large independent research projects.</span></li>\n<li style=\"font-weight: 400;\"><span style=\"font-weight: 400;\">Extensive experience undertaking research in a think-tank, consultancy, academic institution or equivalent, leading to clear beneficial outcomes.</span></li>\n<li style=\"font-weight: 400;\"><span style=\"font-weight: 400;\">Strong grasp of AI, science, ethics and policy topics. Comfortable analysing a diverse blend of technical literature and sources and developing relationships with domain experts.</span></li>\n<li style=\"font-weight: 400;\"><span style=\"font-weight: 400;\">Exceptional writing skills, capable of synthesising complex material into short, accessible documents, tailored to different audiences.</span></li>\n<li style=\"font-weight: 400;\"><span style=\"font-weight: 400;\">Powerful curiosity. Somebody who enjoys proactively building knowledge and expertise across a broad number of areas.</span></li>\n<li style=\"font-weight: 400;\"><span style=\"font-weight: 400;\">Highly organised, with the ability to plan effective research programmes, juggle multiple priorities and switch context very quickly.</span></li>\n<li style=\"font-weight: 400;\"><span style=\"font-weight: 400;\">Passionate about using research to inform internal decision making and external engagement and working towards solutions that benefit society.</span></li>\n<li style=\"font-weight: 400;\"><span style=\"font-weight: 400;\">A proactive, organised thinker who can forecast ahead and anticipate business needs.</span></li>\n<li style=\"font-weight: 400;\"><span style=\"font-weight: 400;\">Have a realistic, pragmatic approach and enjoy working with a range of collaborators.</span></li>\n<li style=\"font-weight: 400;\"><span style=\"font-weight: 400;\">Comfort navigating ambiguity and exercising good judgement in a rapidly changing environment.</span></li>\n</ul>\n<p><strong>Desirable experience</strong></p>\n<ul>\n<li style=\"font-weight: 400;\"><span style=\"font-weight: 400;\">Track record of published and/or impactful research and writing. </span></li>\n<li style=\"font-weight: 400;\"><span style=\"font-weight: 400;\">PhD, or equivalent experience, in computer science, science, ethics, public policy, or related field. </span></li>\n</ul>\n<p> </p>\n</div>"
     },
     "execution_count": 38,
     "metadata": {},
     "output_type": "execute_result"
    }
   ],
   "source": [
    "soup.find('div', id='content')"
   ],
   "metadata": {
    "collapsed": false,
    "pycharm": {
     "name": "#%%\n"
    }
   }
  }
 ],
 "metadata": {
  "kernelspec": {
   "display_name": "Python 3",
   "language": "python",
   "name": "python3"
  },
  "language_info": {
   "codemirror_mode": {
    "name": "ipython",
    "version": 2
   },
   "file_extension": ".py",
   "mimetype": "text/x-python",
   "name": "python",
   "nbconvert_exporter": "python",
   "pygments_lexer": "ipython2",
   "version": "2.7.6"
  }
 },
 "nbformat": 4,
 "nbformat_minor": 0
}