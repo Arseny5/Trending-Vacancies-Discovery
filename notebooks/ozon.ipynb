{
 "cells": [
  {
   "cell_type": "code",
   "execution_count": 1,
   "outputs": [],
   "source": [
    "import time\n",
    "import requests\n",
    "from bs4 import BeautifulSoup\n",
    "import json\n",
    "import re\n",
    "import time\n",
    "import faker\n",
    "import pandas as pd\n",
    "from tqdm import tqdm\n",
    "from datetime import datetime\n",
    "from dateutil import parser"
   ],
   "metadata": {
    "collapsed": false,
    "pycharm": {
     "name": "#%%\n"
    }
   }
  },
  {
   "cell_type": "code",
   "execution_count": 32,
   "outputs": [],
   "source": [
    "fake = faker.Faker(locale='ru')"
   ],
   "metadata": {
    "collapsed": false,
    "pycharm": {
     "name": "#%%\n"
    }
   }
  },
  {
   "cell_type": "code",
   "execution_count": 41,
   "outputs": [],
   "source": [
    "ozon_headers = {\n",
    "    'User-Agent': 'Mozilla/5.0 (X11; Linux x86_64) AppleWebKit/537.36 (KHTML, like Gecko) Chrome/102.0.5005.115 Safari/537.36 OPR/88.0.4412.40',\n",
    "    'accept-language': 'en-US,en;q=0.9',\n",
    "    'pragma': 'np-cache',\n",
    "    'sec-fetch-mode': 'cors',\n",
    "    'sec-fetch-site': 'same-origin',\n",
    "    'referer': 'http://job.ozon.ru/vacancy/?query='\n",
    "}"
   ],
   "metadata": {
    "collapsed": false,
    "pycharm": {
     "name": "#%%\n"
    }
   }
  },
  {
   "cell_type": "code",
   "execution_count": 42,
   "outputs": [],
   "source": [
    "MAIN_URL = \"https://job.ozon.ru/vacancy/?query=\"\n",
    "API_URL = \"https://job.ozon.ru/api/vacancy?query=&limit=10&page=1\""
   ],
   "metadata": {
    "collapsed": false,
    "pycharm": {
     "name": "#%%\n"
    }
   }
  },
  {
   "cell_type": "code",
   "execution_count": 43,
   "outputs": [],
   "source": [
    "session = requests.Session()\n",
    "session.headers = ozon_headers"
   ],
   "metadata": {
    "collapsed": false,
    "pycharm": {
     "name": "#%%\n"
    }
   }
  },
  {
   "cell_type": "code",
   "execution_count": 45,
   "outputs": [
    {
     "data": {
      "text/plain": "<Response [403]>"
     },
     "execution_count": 45,
     "metadata": {},
     "output_type": "execute_result"
    }
   ],
   "source": [
    "result = session.get(MAIN_URL)\n",
    "result"
   ],
   "metadata": {
    "collapsed": false,
    "pycharm": {
     "name": "#%%\n"
    }
   }
  },
  {
   "cell_type": "code",
   "execution_count": 52,
   "outputs": [
    {
     "name": "stdout",
     "output_type": "stream",
     "text": [
      "<!DOCTYPE html>\n",
      "<!--[if lt IE 7]> <html class=\"no-js ie6 oldie\" lang=\"en-US\"> <![endif]-->\n",
      "<!--[if IE 7]>    <html class=\"no-js ie7 oldie\" lang=\"en-US\"> <![endif]-->\n",
      "<!--[if IE 8]>    <html class=\"no-js ie8 oldie\" lang=\"en-US\"> <![endif]-->\n",
      "<!--[if gt IE 8]><!--> <html class=\"no-js\" lang=\"en-US\"> <!--<![endif]-->\n",
      "<head>\n",
      "\n",
      "<title>Please Wait... | Cloudflare</title>\n",
      "  \n",
      "<meta charset=\"UTF-8\" />\n",
      "<meta http-equiv=\"Content-Type\" content=\"text/html; charset=UTF-8\" />\n",
      "<meta http-equiv=\"X-UA-Compatible\" content=\"IE=Edge\" />\n",
      "<meta name=\"robots\" content=\"noindex, nofollow\" />\n",
      "<meta name=\"viewport\" content=\"width=device-width,initial-scale=1\" />\n",
      "<link rel=\"stylesheet\" id=\"cf_styles-css\" href=\"/cdn-cgi/styles/cf.errors.css\" />\n",
      "<!--[if lt IE 9]><link rel=\"stylesheet\" id='cf_styles-ie-css' href=\"/cdn-cgi/styles/cf.errors.ie.css\" /><![endif]-->\n",
      "<style>body{margin:0;padding:0}</style>\n",
      "\n",
      "\n",
      "<!--[if gte IE 10]><!-->\n",
      "<script>\n",
      "  if (!navigator.cookieEnabled) {\n",
      "    window.addEventListener('DOMContentLoaded', function () {\n",
      "      var cookieEl = document.getElementById('cookie-alert');\n",
      "      cookieEl.style.display = 'block';\n",
      "    })\n",
      "  }\n",
      "</script>\n",
      "<!--<![endif]-->\n",
      "\n",
      "\n",
      "    <script>\n",
      "    //<![CDATA[\n",
      "    (function(){\n",
      "      window._cf_chl_opt={\n",
      "        cvId: \"2\",\n",
      "        cType: \"managed\",\n",
      "        cNounce: \"31173\",\n",
      "        cRay: \"71fe907aa9ef7b3f\",\n",
      "        cHash: \"060051179c92b28\",\n",
      "        cUPMDTk: \"\\/vacancy\\/?query=&__cf_chl_tk=ZYgs4RZaFQnCYlEpy2PmmYu.Hs6HMVOTw5pgvS0nKwQ-1656001366-0-gaNycGzNCOU\",\n",
      "        cFPWv: \"g\",\n",
      "        cTTimeMs: \"1000\",\n",
      "        cLt: \"n\",\n",
      "        cRq: {\n",
      "          ru: \"aHR0cHM6Ly9qb2Iub3pvbi5ydS92YWNhbmN5Lz9xdWVyeT0=\",\n",
      "          ra: \"TW96aWxsYS81LjAgKFgxMTsgTGludXggeDg2XzY0KSBBcHBsZVdlYktpdC81MzcuMzYgKEtIVE1MLCBsaWtlIEdlY2tvKSBDaHJvbWUvMTAyLjAuNTAwNS4xMTUgU2FmYXJpLzUzNy4zNiBPUFIvODguMC40NDEyLjQw\",\n",
      "          rm: \"R0VU\",\n",
      "          d: \"2e08nA8NOVFsiKq0nl4pLhyLTNxzMyvCHipuziaHE5uzLU7WkuuasZmu4w/BvSjpP7WqKa858D7YiUG9a9dFtZ6qW20QOJGoaqWmq6wznWTK/hK8O8Ailv+LKrV9kibwBX/5smCoZrgQ1rVqGKZQ2H66+v8jNMDStD9pmxzBmus/GJgAPwwO8zw+ld3ksnsWy6YvgBpSwDIpe3OWRBlTVqimV0DlwLrwhrCNbFdKcxGH5UGkE6raVnQpqY5CtS/+WXpy4kj3UYz6BdzfOiTf6xbzW5PJHvg0DOsTnPdsfrlH0ArzP3lNMI6E1zztHFXz27KTAEyyp1bYlYxOIFjIQB6lQvdLbeB3JL1JZCFV3q9wi2pjAyKv7zZD+/E3HbHlCfk7TEEvJAGvBptsW/yorKt3yyJuz/WAdJhc0lN3m9Fa5F2yH8b4byslvMCWToasB7S3MLQXb1I+MjheR9gCrOlo/P3h5pOUQC5xO5MqUXgTcR64+B4eSb8KKNCX2kPXWEenubxhkSA3L6vtDeaoHo4r2r9BiIA385cRt5hZb3CH5d9cH3yQQm6ZnroVHeC9BTb6c7ZCaBQhb4goIynSrlZpn6v/E3Q5l9Y1RkUAEzBlCf5D4IU/0P+3eHv4ZKeC134pPoPF7y2BbFts1poOzA==\",\n",
      "          t: \"MTY1NjAwMTM2Ni4xOTAwMDA=\",\n",
      "          m: \"4P3NwjZ1FAF7MWQleqmaUMPTM71uaY/sd4r/CPdV64w=\",\n",
      "          i1: \"sZ49j6eopADyu7BlzRUZuA==\",\n",
      "          i2: \"LLz12pEyRU0lppK+KjvAlg==\",\n",
      "          zh: \"BeG1Y6okiAexwvHls5N2EZU105or2Splnt04RFuP4eg=\",\n",
      "          uh: \"b8jr7Bo5RCBSXYa/rUxuBFfVz93crUFldMhG6t7hxaE=\",\n",
      "          hh: \"kamJnZuCM8n4AcJtaGP8+TomlD2btH4q8Rkr6qU6U2o=\",\n",
      "        }\n",
      "      };\n",
      "    }());\n",
      "    //]]>\n",
      "    </script>\n",
      "\n",
      "<style>\n",
      "  #cf-wrapper #spinner {width:69px; margin:  auto;}\n",
      "  #cf-wrapper #cf-please-wait{text-align:center}\n",
      "  .attribution {margin-top: 32px;}\n",
      "  .bubbles { background-color: #f58220; width:20px; height: 20px; margin:2px; border-radius:100%; display:inline-block; }\n",
      "  #cf-wrapper #challenge-form { padding-top:25px; padding-bottom:25px; }\n",
      "  #cf-hcaptcha-container { text-align:center;}\n",
      "  #cf-hcaptcha-container iframe { display: inline-block;}\n",
      "  @keyframes fader     { 0% {opacity: 0.2;} 50% {opacity: 1.0;} 100% {opacity: 0.2;} }\n",
      "  #cf-wrapper #cf-bubbles { width:69px; }\n",
      "  @-webkit-keyframes fader { 0% {opacity: 0.2;} 50% {opacity: 1.0;} 100% {opacity: 0.2;} }\n",
      "  #cf-bubbles > .bubbles { animation: fader 1.6s infinite;}\n",
      "  #cf-bubbles > .bubbles:nth-child(2) { animation-delay: .2s;}\n",
      "  #cf-bubbles > .bubbles:nth-child(3) { animation-delay: .4s;}\n",
      "</style>\n",
      "</head>\n",
      "<body>\n",
      "  <div id=\"cf-wrapper\">\n",
      "    <div class=\"cf-alert cf-alert-error cf-cookie-error\" id=\"cookie-alert\" data-translate=\"enable_cookies\">Please enable cookies.</div>\n",
      "    <div id=\"cf-error-details\" class=\"cf-error-details-wrapper\">\n",
      "      <div class=\"cf-wrapper cf-header cf-error-overview\">\n",
      "      \n",
      "        <h1 data-translate=\"managed_challenge_headline\">Please wait...</h1>\n",
      "        <h2 class=\"cf-subheadline\"><span data-translate=\"managed_checking_msg\">We are checking your browser...</span> job.ozon.ru</h2>\n",
      "      \n",
      "      </div>\n",
      "      \n",
      "      <div class=\"cf-section cf-highlight cf-captcha-container\">\n",
      "        <div class=\"cf-wrapper\">\n",
      "          <div class=\"cf-columns two\">\n",
      "            <div class=\"cf-column\">\n",
      "            \n",
      "              <div class=\"cf-highlight-inverse cf-form-stacked\">\n",
      "                <form class=\"challenge-form managed-form\" id=\"challenge-form\" action=\"/vacancy/?query=&amp;__cf_chl_f_tk=ZYgs4RZaFQnCYlEpy2PmmYu.Hs6HMVOTw5pgvS0nKwQ-1656001366-0-gaNycGzNCOU\" method=\"POST\" enctype=\"application/x-www-form-urlencoded\">\n",
      "    <div id='cf-please-wait'>\n",
      "      <div id='spinner'>\n",
      "        <div id=\"cf-bubbles\">\n",
      "            <div class=\"bubbles\"></div>\n",
      "            <div class=\"bubbles\"></div>\n",
      "            <div class=\"bubbles\"></div>\n",
      "        </div>\n",
      "      </div>\n",
      "      <p data-translate=\"please_wait\" id=\"cf-spinner-please-wait\">Please stand by, while we are checking your browser...</p>\n",
      "      <p data-translate=\"redirecting\" id=\"cf-spinner-redirecting\" style=\"display:none\">Redirecting...</p>\n",
      "      </div>\n",
      "  <input type=\"hidden\" name=\"md\" value=\"VXQ1hpBELmDaY08gIjpznZpZd7V9zq6wUWT_HrnnTUM-1656001366-0-AfBD-8Qz2mPyrWys9V2allgmr473Y8gzI0BDVO0f7iXTYTaUjdjdjb8KT9zaYxsPcw8bOI7yOf7meKldV3Bq-1zcLBR7zqzfRw6IP14dXjMtyffLf4bufIdZAJuBWijBfyzoYZiK7lYsMyfF8pLM4EP_9Ij1q0BDTEL5xBTwc9RP6UCWiXmEvDA65y7XSmfXe6o50PfMwZwb1d8XWZwFKuslKKBBcDKwlOK0OtR3Q_wbu9A9YJEoVILCoTZ4GOCYU7C0LUadnZr9oxdrtPtxy3_sZq4lAEIYzxw-7HpC7lzwz1YsS1XmCynzfKZtCn4IGJatrZlm-vCXTkAcPcbp1nO2PpxAx8nmXQ9f0JVMm9s8M8JPykFiygIXN6TjQkbSo5NtmTFC0wxs8MJOboo8kaMU7qGoMcajIIDCkE88GaKoEh6h-gLj37aiPTZlRF1tOdUDUiXPM-jq5gAqIFQCaiK2eVtPwNRBUcEFofDzg0GwefowwwDRS4bHaKzjcaL1ob5rnt5ukq5lSUSIALjU5ZjY5Jp74kmWC1UNYy8ukLM-uF1U4tTYhzw44nfPpL4SuJXN2E2dWYpxNE3c4R8K8jby2468LamrN6qUGmnlAdD2w0KTw4t-KDMQx7p_TOFsdBwBPs2wqOrbhYBRsvYUTvGbd2htd8kmb51R3AK-y1hNpclhzruU1hla_gA-sn0M4v6Ne3nfxk8XaCsXhVoZk7M1fShbnwFkCEai_v9MEm_hBCqDOA-05C0C08trrvpH0D6mPffoOUtxFUYKengg9_ywpkmY0eqCYa3k4MLwA7JWG9NJXi2kSCcuUVy3y2xJYMkpbUmRqxh1JiP3ldkIE6xgoLRemuZHoxeIHde46vNu\" />\n",
      "  <input type=\"hidden\" name=\"r\" value=\"5aAE2B5Pr4THUGPB4XlCRKcLteRrY3FRG4NXjwvnZAY-1656001366-0-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\">\n",
      "  <input type=\"hidden\" name=\"vc\" value=\"8bb50aec49932cfc6df6c098c8806bee\">\n",
      "  <noscript id=\"cf-captcha-bookmark\" class=\"cf-captcha-info\">\n",
      "  <h1 data-translate=\"turn_on_js\" style=\"color:#bd2426;\">Please turn JavaScript on and reload the page.</h1>\n",
      "  </noscript>\n",
      "    <div id=\"no-cookie-warning\" class=\"cookie-warning\" data-translate=\"turn_on_cookies\" style=\"display:none\">\n",
      "      <p data-translate=\"turn_on_cookies\" style=\"color:#bd2426;\">Please enable Cookies and reload the page.</p>\n",
      "    </div>\n",
      "  <script>\n",
      "  //<![CDATA[\n",
      "    var a = function() {try{return !!window.addEventListener} catch(e) {return !1} },\n",
      "      b = function(b, c) {a() ? document.addEventListener(\"DOMContentLoaded\", b, c) : document.attachEvent(\"onreadystatechange\", b)};\n",
      "      b(function(){\n",
      "        var cookiesEnabled=(navigator.cookieEnabled)? true : false;\n",
      "        if(!cookiesEnabled){\n",
      "          var q = document.getElementById('no-cookie-warning');q.style.display = 'block';\n",
      "        }\n",
      "      });\n",
      "  //]]>\n",
      "  </script>\n",
      "  <div id=\"trk_captcha_js\" style=\"background-image:url('/cdn-cgi/images/trace/captcha/nojs/h/transparent.gif?ray=71fe907aa9ef7b3f')\"></div>\n",
      "</form>\n",
      "  <script>\n",
      "    //<![CDATA[\n",
      "    (function(){\n",
      "        var isIE = /(MSIE|Trident\\/|Edge\\/)/i.test(window.navigator.userAgent);\n",
      "        var trkjs = isIE ? new Image() : document.createElement('img');\n",
      "        trkjs.setAttribute(\"src\", \"/cdn-cgi/images/trace/managed/js/transparent.gif?ray=71fe907aa9ef7b3f\");\n",
      "        trkjs.id = \"trk_managed_js\";\n",
      "        trkjs.setAttribute(\"alt\", \"\");\n",
      "        document.body.appendChild(trkjs);\n",
      "        var cpo=document.createElement('script');\n",
      "        cpo.type='text/javascript';\n",
      "        cpo.src=\"/cdn-cgi/challenge-platform/h/g/orchestrate/managed/v1?ray=71fe907aa9ef7b3f\";\n",
      "        \n",
      "        window._cf_chl_opt.cOgUHash = location.hash === '' && location.href.indexOf('#') !== -1 ? '#' : location.hash;\n",
      "        window._cf_chl_opt.cOgUQuery = location.search === '' && location.href.slice(0, -window._cf_chl_opt.cOgUHash.length).indexOf('?') !== -1 ? '?' : location.search;\n",
      "        if (window._cf_chl_opt.cUPMDTk && window.history && window.history.replaceState) {\n",
      "          var ogU = location.pathname + window._cf_chl_opt.cOgUQuery + window._cf_chl_opt.cOgUHash;\n",
      "          history.replaceState(null, null, \"\\/vacancy\\/?query=&__cf_chl_rt_tk=ZYgs4RZaFQnCYlEpy2PmmYu.Hs6HMVOTw5pgvS0nKwQ-1656001366-0-gaNycGzNCOU\" + window._cf_chl_opt.cOgUHash);\n",
      "          cpo.onload = function() {\n",
      "            history.replaceState(null, null, ogU);\n",
      "          };\n",
      "        }\n",
      "        \n",
      "        document.getElementsByTagName('head')[0].appendChild(cpo);\n",
      "    }());\n",
      "    //]]>\n",
      "    </script>\n",
      "\n",
      "\n",
      "              </div>\n",
      "            </div>\n",
      "\n",
      "            <div class=\"cf-column\">\n",
      "              <div class=\"cf-screenshot-container\">\n",
      "              \n",
      "                <span class=\"cf-no-screenshot\"></span>\n",
      "              \n",
      "              </div>\n",
      "            </div>\n",
      "          </div>\n",
      "        </div>\n",
      "      </div>\n",
      "\n",
      "      <div class=\"cf-section cf-wrapper\">\n",
      "        <div class=\"cf-columns two\">\n",
      "          <div class=\"cf-column\">\n",
      "            <h2 data-translate=\"why_captcha_headline\">Why do I have to complete a CAPTCHA?</h2>\n",
      "            \n",
      "            <p data-translate=\"why_captcha_detail\">Completing the CAPTCHA proves you are a human and gives you temporary access to the web property.</p>\n",
      "          </div>\n",
      "\n",
      "          <div class=\"cf-column\">\n",
      "            <h2 data-translate=\"resolve_captcha_headline\">What can I do to prevent this in the future?</h2>\n",
      "            \n",
      "\n",
      "            <p data-translate=\"resolve_captcha_antivirus\">If you are on a personal connection, like at home, you can run an anti-virus scan on your device to make sure it is not infected with malware.</p>\n",
      "\n",
      "            <p data-translate=\"resolve_captcha_network\">If you are at an office or shared network, you can ask the network administrator to run a scan across the network looking for misconfigured or infected devices.</p>\n",
      "            \n",
      "              \n",
      "            \n",
      "          </div>\n",
      "        </div>\n",
      "      </div>\n",
      "      \n",
      "\n",
      "      <div class=\"cf-error-footer cf-wrapper w-240 lg:w-full py-10 sm:py-4 sm:px-8 mx-auto text-center sm:text-left border-solid border-0 border-t border-gray-300\">\n",
      "  <p class=\"text-13\">\n",
      "    <span class=\"cf-footer-item sm:block sm:mb-1\">Cloudflare Ray ID: <strong class=\"font-semibold\">71fe907aa9ef7b3f</strong></span>\n",
      "    <span class=\"cf-footer-separator sm:hidden\">&bull;</span>\n",
      "    <span class=\"cf-footer-item sm:block sm:mb-1\"><span>Your IP</span>: 89.17.62.18</span>\n",
      "    <span class=\"cf-footer-separator sm:hidden\">&bull;</span>\n",
      "    <span class=\"cf-footer-item sm:block sm:mb-1\"><span>Performance &amp; security by</span> <a rel=\"noopener noreferrer\" href=\"https://www.cloudflare.com/5xx-error-landing\" id=\"brand_link\" target=\"_blank\">Cloudflare</a></span>\n",
      "    \n",
      "  </p>\n",
      "</div><!-- /.error-footer -->\n",
      "\n",
      "\n",
      "    </div>\n",
      "  </div>\n",
      "\n",
      "  <script>\n",
      "  window._cf_translation = {};\n",
      "  \n",
      "  \n",
      "</script>\n",
      "\n",
      "\n",
      "</body>\n",
      "</html>\n",
      "\n"
     ]
    }
   ],
   "source": [
    "print(result.text)"
   ],
   "metadata": {
    "collapsed": false,
    "pycharm": {
     "name": "#%%\n"
    }
   }
  },
  {
   "cell_type": "markdown",
   "source": [
    "### Ошибка Cloudflare, т.е. защита от парсинга запросами\n",
    "Можно попробовать Selenium или другие варианты вроде undetected_chromedriver"
   ],
   "metadata": {
    "collapsed": false,
    "pycharm": {
     "name": "#%% md\n"
    }
   }
  }
 ],
 "metadata": {
  "kernelspec": {
   "display_name": "Python 3",
   "language": "python",
   "name": "python3"
  },
  "language_info": {
   "codemirror_mode": {
    "name": "ipython",
    "version": 2
   },
   "file_extension": ".py",
   "mimetype": "text/x-python",
   "name": "python",
   "nbconvert_exporter": "python",
   "pygments_lexer": "ipython2",
   "version": "2.7.6"
  }
 },
 "nbformat": 4,
 "nbformat_minor": 0
}