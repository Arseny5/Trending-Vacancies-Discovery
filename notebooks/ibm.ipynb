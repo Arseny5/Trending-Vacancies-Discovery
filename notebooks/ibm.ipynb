{
 "cells": [
  {
   "cell_type": "markdown",
   "metadata": {
    "id": "ymbmv2XnolOV",
    "pycharm": {
     "name": "#%% md\n"
    }
   },
   "source": [
    "## **PARSING IBM VACANCY**"
   ]
  },
  {
   "cell_type": "code",
   "execution_count": null,
   "metadata": {
    "id": "DHalDdnqpl4Y",
    "pycharm": {
     "name": "#%%\n"
    }
   },
   "outputs": [],
   "source": [
    "############################################\n",
    "###     Research Trending Vacancies      ###\n",
    "###     Sber Dep. Research&Innovation    ### \n",
    "###   Ivanov Arseny, Sergey Bratchikov   ###\n",
    "###       A. Efimov, D. Asonov           ###\n",
    "############################################"
   ]
  },
  {
   "cell_type": "code",
   "execution_count": 1,
   "metadata": {
    "collapsed": true,
    "pycharm": {
     "name": "#%%\n"
    }
   },
   "outputs": [],
   "source": [
    "import time\n",
    "import requests\n",
    "from bs4 import BeautifulSoup\n",
    "import json\n",
    "import re\n",
    "import time\n",
    "import faker\n",
    "import pandas as pd\n",
    "from tqdm import tqdm\n",
    "from datetime import datetime\n",
    "from dateutil import parser"
   ]
  },
  {
   "cell_type": "code",
   "execution_count": 179,
   "outputs": [],
   "source": [
    "from collections import Counter"
   ],
   "metadata": {
    "collapsed": false,
    "pycharm": {
     "name": "#%%\n"
    }
   }
  },
  {
   "cell_type": "code",
   "execution_count": 3,
   "outputs": [],
   "source": [
    "fake = faker.Faker(locale='en')"
   ],
   "metadata": {
    "collapsed": false,
    "pycharm": {
     "name": "#%%\n"
    }
   }
  },
  {
   "cell_type": "code",
   "execution_count": 185,
   "outputs": [],
   "source": [
    "ibm_headers = {\n",
    "    'User-Agent': fake.chrome(),\n",
    "    'accept-language': 'en-US,en;q=0.9',\n",
    "    'pragma': 'np-cache',\n",
    "    'origin': 'https://www.ibm.com',\n",
    "    'referer': 'https://www.ibm.com/'\n",
    "}"
   ],
   "metadata": {
    "collapsed": false,
    "pycharm": {
     "name": "#%%\n"
    }
   }
  },
  {
   "cell_type": "code",
   "execution_count": 186,
   "outputs": [],
   "source": [
    "API_URL = \"http://jobsapi-internal.m-cloud.io/api/stjobbulk\""
   ],
   "metadata": {
    "collapsed": false,
    "pycharm": {
     "name": "#%%\n"
    }
   }
  },
  {
   "cell_type": "code",
   "execution_count": 187,
   "outputs": [],
   "source": [
    "search_payload = {\n",
    "    'organization': 2242,\n",
    "    'limitkey': '4A8B5EF8-AA98-4A8B-907D-C21723FE4C6B',\n",
    "    'facet': 'publish_to_cws:true',\n",
    "    'fields': 'title,id,update_date,primary_country,description,primary_category,level,url,brand'\n",
    "}"
   ],
   "metadata": {
    "collapsed": false,
    "pycharm": {
     "name": "#%%\n"
    }
   }
  },
  {
   "cell_type": "code",
   "execution_count": 188,
   "outputs": [
    {
     "data": {
      "text/plain": "<Response [200]>"
     },
     "execution_count": 188,
     "metadata": {},
     "output_type": "execute_result"
    }
   ],
   "source": [
    "result = requests.get(API_URL, headers=ibm_headers, params=search_payload)\n",
    "result"
   ],
   "metadata": {
    "collapsed": false,
    "pycharm": {
     "name": "#%%\n"
    }
   }
  },
  {
   "cell_type": "code",
   "execution_count": 189,
   "outputs": [
    {
     "data": {
      "text/plain": "(14930, 14930)"
     },
     "execution_count": 189,
     "metadata": {},
     "output_type": "execute_result"
    }
   ],
   "source": [
    "result.json()['totalHits'], len(result.json()['queryResult'])"
   ],
   "metadata": {
    "collapsed": false,
    "pycharm": {
     "name": "#%%\n"
    }
   }
  },
  {
   "cell_type": "code",
   "execution_count": 190,
   "outputs": [
    {
     "data": {
      "text/plain": "dict_keys(['id', 'title', 'primary_country', 'description', 'primary_category', 'level', 'brand', 'url', 'update_date'])"
     },
     "execution_count": 190,
     "metadata": {},
     "output_type": "execute_result"
    }
   ],
   "source": [
    "result.json()['queryResult'][0].keys()"
   ],
   "metadata": {
    "collapsed": false,
    "pycharm": {
     "name": "#%%\n"
    }
   }
  },
  {
   "cell_type": "code",
   "execution_count": 191,
   "outputs": [
    {
     "data": {
      "text/plain": "[('Technical Specialist', 5832),\n ('Consultant', 2769),\n ('Software Development & Support', 1539),\n ('Finance', 1200),\n ('Sales', 891),\n ('Architect', 666),\n ('Project Management', 524),\n ('Human Resources', 262),\n ('Enterprise Operations', 225),\n ('Other', 199)]"
     },
     "execution_count": 191,
     "metadata": {},
     "output_type": "execute_result"
    }
   ],
   "source": [
    "Counter([j['primary_category'] for j in result.json()['queryResult']]).most_common(10)"
   ],
   "metadata": {
    "collapsed": false,
    "pycharm": {
     "name": "#%%\n"
    }
   }
  },
  {
   "cell_type": "code",
   "execution_count": 192,
   "outputs": [
    {
     "data": {
      "text/plain": "[('(0063) IBM India Private Limited', 8043),\n ('(0147) International Business Machines Corporation', 1318),\n ('(1072) IBM Dalian Global Delivery Company Limited', 576),\n ('(0022) IBM Brasil-Industria, Maquinas e Servicos Limitada', 466),\n ('(7600) IBM Japan, Ltd.', 453),\n ('(0026) IBM Canada Limited - IBM Canada Limitee', 308),\n ('(7240) IBM Deutschland GmbH', 223),\n ('(0390) IBM de Mexico Comercializacion y Servicios', 222),\n ('(0007) IBM Argentina Sociedad de Responsabilidad Limitada', 221),\n ('(8660) IBM United Kingdom Limited', 192),\n ('(0563) IBM Services Talent Delivery Pte. Ltd.', 187),\n ('(0856) IBM Business Services', 178),\n ('(0112) IBM Romania Srl', 172),\n ('(0648) IBM Japan Digital Services Co.., Ltd - JPM', 118),\n ('(0891) IBM Solutions Delivery, Inc.', 107)]"
     },
     "execution_count": 192,
     "metadata": {},
     "output_type": "execute_result"
    }
   ],
   "source": [
    "Counter([j['brand'] for j in result.json()['queryResult']]).most_common(15)"
   ],
   "metadata": {
    "collapsed": false,
    "pycharm": {
     "name": "#%%\n"
    }
   }
  },
  {
   "cell_type": "code",
   "execution_count": 193,
   "outputs": [],
   "source": [
    "clear_string = lambda x: re.sub(' +', ' ', re.sub('<.*?>', '', x).replace('•', '\\n')).strip()"
   ],
   "metadata": {
    "collapsed": false,
    "pycharm": {
     "name": "#%%\n"
    }
   }
  },
  {
   "cell_type": "code",
   "execution_count": 194,
   "outputs": [],
   "source": [
    "about_pattern = re.compile(r\"Introduction(.+?)Your Role and Responsibilities\", flags=re.DOTALL|re.IGNORECASE)\n",
    "responsibilities_pattern = re.compile(r\"Your Role and Responsibilities(.+?)Required Technical and Professional Expertise\", flags=re.DOTALL|re.IGNORECASE)\n",
    "qualifications_pattern = re.compile(r\"Required Technical and Professional Expertise(.+?)Preferred Technical and Professional Expertise\", flags=re.DOTALL|re.IGNORECASE)"
   ],
   "metadata": {
    "collapsed": false,
    "pycharm": {
     "name": "#%%\n"
    }
   }
  },
  {
   "cell_type": "code",
   "execution_count": 196,
   "outputs": [
    {
     "name": "stderr",
     "output_type": "stream",
     "text": [
      "100%|██████████| 14930/14930 [00:07<00:00, 2005.18it/s]\n"
     ]
    },
    {
     "data": {
      "text/plain": "14205"
     },
     "execution_count": 196,
     "metadata": {},
     "output_type": "execute_result"
    }
   ],
   "source": [
    "job_dicts = []\n",
    "for job_info in tqdm(result.json()['queryResult']):\n",
    "    full_description = clear_string(job_info['description'])\n",
    "\n",
    "    try:\n",
    "        about = re.search(about_pattern, full_description).group(1)\n",
    "        responsibilities = re.search(responsibilities_pattern, full_description).group(1)\n",
    "        qualifications = re.search(qualifications_pattern, full_description).group(1)\n",
    "    except:\n",
    "        # print(f'Error while reading {job_info[\"url\"]}')\n",
    "        continue\n",
    "\n",
    "    job_dict = {\n",
    "        'title': job_info['title'],\n",
    "        'internal_id' : job_info['id'],\n",
    "        'url': job_info['url'],\n",
    "        'description': about,\n",
    "        'responsibilities': responsibilities,\n",
    "        'qualifications': qualifications,\n",
    "        'company': 'IBM',\n",
    "        'grade': job_info['level'],\n",
    "        'category': job_info['primary_category'],\n",
    "        'publish_date': parser.parse(job_info['update_date'])\n",
    "    }\n",
    "    job_dicts.append(job_dict)\n",
    "len(job_dicts)"
   ],
   "metadata": {
    "collapsed": false,
    "pycharm": {
     "name": "#%%\n"
    }
   }
  },
  {
   "cell_type": "code",
   "execution_count": 197,
   "outputs": [
    {
     "name": "stdout",
     "output_type": "stream",
     "text": [
      "14205\n"
     ]
    },
    {
     "data": {
      "text/plain": "                                        title  internal_id  \\\n7325     Application Developer: Microservices     15748571   \n10254  Oracle Cloud ERP Financials Consultant     15546422   \n2580               Procurement Sourcing Buyer     15500517   \n8879                      Front-end Developer     16052752   \n395     Data Engineer-Python/Java/Scala&Cloud     15677004   \n\n                                                     url  \\\n7325   https://careers.ibm.com/job/15748571/applicati...   \n10254  https://careers.ibm.com/job/15546422/oracle-cl...   \n2580   https://careers.ibm.com/job/15500517/procureme...   \n8879   https://careers.ibm.com/job/16052752/front-end...   \n395    https://careers.ibm.com/job/15677004/data-engi...   \n\n                                             description  \\\n7325   As an Application Developer, you will lead IBM...   \n10254  As a Package Consultant at IBM, get ready to t...   \n2580   At IBM, work is more than a job - it's a calli...   \n8879   We are looking for a DevOps Engineer who would...   \n395    At IBM, work is more than a job - it's a calli...   \n\n                                        responsibilities  \\\n7325   As an Application Developer, you will lead IBM...   \n10254  Role and Responsibilities : IBM Global Busines...   \n2580   A sneak peek into this role:As a self-driven P...   \n8879   Are you a person who would like to join a team...   \n395    \\n Participate (design & development) in the m...   \n\n                                          qualifications company  \\\n7325   Minimum 8+ years of experience in Core Java pr...     IBM   \n10254  At least 3 years experience working with at le...     IBM   \n2580   What you will bring to the team:Bachelor’s deg...     IBM   \n8879   We are expecting:Experience with JavaScript, N...     IBM   \n395    \\n Minimum 5 years experience developing with ...     IBM   \n\n              grade              category              publish_date  \n7325   Professional  Technical Specialist 2022-06-24 15:43:13+00:00  \n10254  Professional            Consultant 2022-06-24 19:18:23+00:00  \n2580   Professional          Supply Chain 2022-04-22 18:16:46+00:00  \n8879         Intern                 Other 2022-06-24 19:18:41+00:00  \n395    Professional  Technical Specialist 2022-05-07 14:14:54+00:00  ",
      "text/html": "<div>\n<style scoped>\n    .dataframe tbody tr th:only-of-type {\n        vertical-align: middle;\n    }\n\n    .dataframe tbody tr th {\n        vertical-align: top;\n    }\n\n    .dataframe thead th {\n        text-align: right;\n    }\n</style>\n<table border=\"1\" class=\"dataframe\">\n  <thead>\n    <tr style=\"text-align: right;\">\n      <th></th>\n      <th>title</th>\n      <th>internal_id</th>\n      <th>url</th>\n      <th>description</th>\n      <th>responsibilities</th>\n      <th>qualifications</th>\n      <th>company</th>\n      <th>grade</th>\n      <th>category</th>\n      <th>publish_date</th>\n    </tr>\n  </thead>\n  <tbody>\n    <tr>\n      <th>7325</th>\n      <td>Application Developer: Microservices</td>\n      <td>15748571</td>\n      <td>https://careers.ibm.com/job/15748571/applicati...</td>\n      <td>As an Application Developer, you will lead IBM...</td>\n      <td>As an Application Developer, you will lead IBM...</td>\n      <td>Minimum 8+ years of experience in Core Java pr...</td>\n      <td>IBM</td>\n      <td>Professional</td>\n      <td>Technical Specialist</td>\n      <td>2022-06-24 15:43:13+00:00</td>\n    </tr>\n    <tr>\n      <th>10254</th>\n      <td>Oracle Cloud ERP Financials Consultant</td>\n      <td>15546422</td>\n      <td>https://careers.ibm.com/job/15546422/oracle-cl...</td>\n      <td>As a Package Consultant at IBM, get ready to t...</td>\n      <td>Role and Responsibilities : IBM Global Busines...</td>\n      <td>At least 3 years experience working with at le...</td>\n      <td>IBM</td>\n      <td>Professional</td>\n      <td>Consultant</td>\n      <td>2022-06-24 19:18:23+00:00</td>\n    </tr>\n    <tr>\n      <th>2580</th>\n      <td>Procurement Sourcing Buyer</td>\n      <td>15500517</td>\n      <td>https://careers.ibm.com/job/15500517/procureme...</td>\n      <td>At IBM, work is more than a job - it's a calli...</td>\n      <td>A sneak peek into this role:As a self-driven P...</td>\n      <td>What you will bring to the team:Bachelor’s deg...</td>\n      <td>IBM</td>\n      <td>Professional</td>\n      <td>Supply Chain</td>\n      <td>2022-04-22 18:16:46+00:00</td>\n    </tr>\n    <tr>\n      <th>8879</th>\n      <td>Front-end Developer</td>\n      <td>16052752</td>\n      <td>https://careers.ibm.com/job/16052752/front-end...</td>\n      <td>We are looking for a DevOps Engineer who would...</td>\n      <td>Are you a person who would like to join a team...</td>\n      <td>We are expecting:Experience with JavaScript, N...</td>\n      <td>IBM</td>\n      <td>Intern</td>\n      <td>Other</td>\n      <td>2022-06-24 19:18:41+00:00</td>\n    </tr>\n    <tr>\n      <th>395</th>\n      <td>Data Engineer-Python/Java/Scala&amp;Cloud</td>\n      <td>15677004</td>\n      <td>https://careers.ibm.com/job/15677004/data-engi...</td>\n      <td>At IBM, work is more than a job - it's a calli...</td>\n      <td>\\n Participate (design &amp; development) in the m...</td>\n      <td>\\n Minimum 5 years experience developing with ...</td>\n      <td>IBM</td>\n      <td>Professional</td>\n      <td>Technical Specialist</td>\n      <td>2022-05-07 14:14:54+00:00</td>\n    </tr>\n  </tbody>\n</table>\n</div>"
     },
     "execution_count": 197,
     "metadata": {},
     "output_type": "execute_result"
    }
   ],
   "source": [
    "snapshot = pd.DataFrame(job_dicts)\n",
    "print(len(snapshot))\n",
    "snapshot.sample(5)"
   ],
   "metadata": {
    "collapsed": false,
    "pycharm": {
     "name": "#%%\n"
    }
   }
  },
  {
   "cell_type": "code",
   "execution_count": 198,
   "outputs": [
    {
     "name": "stdout",
     "output_type": "stream",
     "text": [
      "<class 'pandas.core.frame.DataFrame'>\n",
      "RangeIndex: 14205 entries, 0 to 14204\n",
      "Data columns (total 10 columns):\n",
      " #   Column            Non-Null Count  Dtype                  \n",
      "---  ------            --------------  -----                  \n",
      " 0   title             14205 non-null  object                 \n",
      " 1   internal_id       14205 non-null  int64                  \n",
      " 2   url               14205 non-null  object                 \n",
      " 3   description       14205 non-null  object                 \n",
      " 4   responsibilities  14205 non-null  object                 \n",
      " 5   qualifications    14205 non-null  object                 \n",
      " 6   company           14205 non-null  object                 \n",
      " 7   grade             14205 non-null  object                 \n",
      " 8   category          14205 non-null  object                 \n",
      " 9   publish_date      14205 non-null  datetime64[ns, tzutc()]\n",
      "dtypes: datetime64[ns, tzutc()](1), int64(1), object(8)\n",
      "memory usage: 1.1+ MB\n"
     ]
    }
   ],
   "source": [
    "snapshot.info()"
   ],
   "metadata": {
    "collapsed": false,
    "pycharm": {
     "name": "#%%\n"
    }
   }
  },
  {
   "cell_type": "code",
   "execution_count": 199,
   "outputs": [
    {
     "data": {
      "text/plain": "'25-06-2022'"
     },
     "execution_count": 199,
     "metadata": {},
     "output_type": "execute_result"
    }
   ],
   "source": [
    "current_date = datetime.now().strftime('%d-%m-%Y')\n",
    "current_date"
   ],
   "metadata": {
    "collapsed": false,
    "pycharm": {
     "name": "#%%\n"
    }
   }
  },
  {
   "cell_type": "code",
   "execution_count": 200,
   "outputs": [],
   "source": [
    "snapshot.to_csv(f'../data/ibm/{current_date}.csv')\n",
    "snapshot.to_csv(f'../data/ibm/{current_date}.tsv', sep='\\t')"
   ],
   "metadata": {
    "collapsed": false,
    "pycharm": {
     "name": "#%%\n"
    }
   }
  },
  {
   "cell_type": "code",
   "execution_count": null,
   "outputs": [],
   "source": [],
   "metadata": {
    "collapsed": false,
    "pycharm": {
     "name": "#%%\n"
    }
   }
  },
  {
   "cell_type": "markdown",
   "source": [
    "#### Проверка на единичной вакансии"
   ],
   "metadata": {
    "collapsed": false,
    "pycharm": {
     "name": "#%% md\n"
    }
   }
  },
  {
   "cell_type": "code",
   "execution_count": 125,
   "outputs": [
    {
     "data": {
      "text/plain": "\"IntroductionAt IBM, work is more than a job - it's a calling: To build. To design. To code. To consult. To think along with clients and sell. To make markets. To invent. To collaborate. Not just to do something better, but to attempt things you've never thought possible. Are you ready to lead in this new era of technology and solve some of the world's most challenging problems? If so, lets talk.Your Role and ResponsibilitiesAbout the RoleThe IBM Security Product Management team is seeking an experienced Product Manager who is technical, collaborative, and truly excited about building great endpoint security products. In this role, you will bring in-depth knowledge of the endpoint and security analytics market to lead the evolution of IBM Security’s visibility, detection, and prevention technologies for QRadar XDR portfolio. You should be able to translate a big picture vision into an execution strategy backed with market validation and customer insights. You will work closely with other product managers, engineering, research, product marketing, sales, service and support. The successful candidate will have the ability to influence cross-functional teams in the company.Responsibilities\\n Act as the product leader for initiatives that enhance Endpoint Detection and Response (EDR) visibility, detection, and prevention for Windows, Linux and macOS.\\n Utilize strategic insight and organizational skills to identify unmet customer needs, define feature requirements and use cases, and advance the functional capabilities of the product offering\\n Collaborate closely with Engineering, lead with product vision, priorities, detailed feature/function requirements, roadmap, and bring high quality products to market\\n Engage with marketing, sales and support to champion recent releases and roadmap\\n Conduct competitive analysis and maintain current information regarding competitive activity\\n Define and maintain strategy and product roadmap for IBM’s eXtended Detection and Response team in concert with other PMs and stakeholders\\n Work on a team of high-performing product professionals in a very collaborative environment Required Technical and Professional ExpertiseDemonstrated experience of product management in EDR and/or AV; previous work in malware and attack analysis, research, investigation, and response highly desirable\\n Hands-on threat or investigation analyst experience in a SOC/SOAR highly desirable\\n Curious about new technologies, systems, and tools\\n Excellent communication skills, both verbal and written, with the ability to properly translate and articulate positioning and technology\\n Demonstrated ability to collaborate with peers in research, engineering, and product marketing\\n Ability to prioritize numerous simultaneous tasks\\n Proven ability to work effectively with both local and remote teams\\n This position requires up to 25% travel to customer and IBM locations worldwidePreferred Technical and Professional Expertise-About Business UnitIBM’s Cloud and Cognitive software business is committed to bringing the power of IBM’s Cloud and Watson/AI technologies to life for our clients and ecosystem partners around the world. IBM provides you with the most comprehensive and consistent approach to development, security and operations across hybrid environments—with complete software solutions for business and IT operations, development, data science, security, and management. Our experts and software capabilities help organizations develop applications once and deploy them anywhere, integrate security across the breadth of their IT estate, and automate operations with management visibility. With IBM, you also have access to new skills and methods, governance and management approaches, and a deep ecosystem of industry experts and partners.Your Life @ IBMAre you craving to learn more? Prepared to solve some of the world's most unique challenges? And ready to shape the future for millions of people? If so, then it's time to join us, express your individuality, unleash your curiosity and discover new possibilities.Every IBMer, and potential ones like yourself, has a voice, carves their own path, and uses their expertise to help co-create and add to our story. Together, we have the power to make meaningful change – to alter the fabric of our clients, of society and IBM itself, to create a truly positive impact and make the world work better for everyone.It's time to define your career.About IBMIBM’s greatest invention is the IBMer. We believe that through the application of intelligence, reason and science, we can improve business, society and the human condition, bringing the power of an open hybrid cloud and AI strategy to life for our clients and partners around the world.Restlessly reinventing since 1911, we are not only one of the largest corporate organizations in the world, we’re also one of the biggest technology and consulting employers, with many of the Fortune 50 companies relying on the IBM Cloud to run their business. At IBM, we pride ourselves on being an early adopter of artificial intelligence, quantum computing and blockchain. Now it’s time for you to join us on our journey to being a responsible technology innovator and a force for good in the world.Location StatementIBM wants you to bring your whole self to work and for you this might mean the ability to work flexibly. If you are interested in a flexible working pattern, please talk to our recruitment team to find out if this is possible in the current working environment.Being You @ IBMIBM is committed to creating a diverse environment and is proud to be an equal opportunity employer. All qualified applicants will receive consideration for employment without regard to race, color, religion, gender, gender identity or expression, sexual orientation, national origin, genetics, pregnancy, disability, age, veteran status, or other characteristics. IBM is also committed to compliance with all fair employment practices regarding citizenship and immigration status.\""
     },
     "execution_count": 125,
     "metadata": {},
     "output_type": "execute_result"
    }
   ],
   "source": [
    "full_description = clear_string(result.json()['queryResult'][0]['description'])\n",
    "full_description"
   ],
   "metadata": {
    "collapsed": false,
    "pycharm": {
     "name": "#%%\n"
    }
   }
  },
  {
   "cell_type": "code",
   "execution_count": 126,
   "outputs": [
    {
     "data": {
      "text/plain": "\"At IBM, work is more than a job - it's a calling: To build. To design. To code. To consult. To think along with clients and sell. To make markets. To invent. To collaborate. Not just to do something better, but to attempt things you've never thought possible. Are you ready to lead in this new era of technology and solve some of the world's most challenging problems? If so, lets talk.\""
     },
     "execution_count": 126,
     "metadata": {},
     "output_type": "execute_result"
    }
   ],
   "source": [
    "re.search(about_pattern, full_description).group(1)"
   ],
   "metadata": {
    "collapsed": false,
    "pycharm": {
     "name": "#%%\n"
    }
   }
  },
  {
   "cell_type": "code",
   "execution_count": 127,
   "outputs": [
    {
     "data": {
      "text/plain": "'About the RoleThe IBM Security Product Management team is seeking an experienced Product Manager who is technical, collaborative, and truly excited about building great endpoint security products. In this role, you will bring in-depth knowledge of the endpoint and security analytics market to lead the evolution of IBM Security’s visibility, detection, and prevention technologies for QRadar XDR portfolio. You should be able to translate a big picture vision into an execution strategy backed with market validation and customer insights. You will work closely with other product managers, engineering, research, product marketing, sales, service and support. The successful candidate will have the ability to influence cross-functional teams in the company.Responsibilities\\n Act as the product leader for initiatives that enhance Endpoint Detection and Response (EDR) visibility, detection, and prevention for Windows, Linux and macOS.\\n Utilize strategic insight and organizational skills to identify unmet customer needs, define feature requirements and use cases, and advance the functional capabilities of the product offering\\n Collaborate closely with Engineering, lead with product vision, priorities, detailed feature/function requirements, roadmap, and bring high quality products to market\\n Engage with marketing, sales and support to champion recent releases and roadmap\\n Conduct competitive analysis and maintain current information regarding competitive activity\\n Define and maintain strategy and product roadmap for IBM’s eXtended Detection and Response team in concert with other PMs and stakeholders\\n Work on a team of high-performing product professionals in a very collaborative environment '"
     },
     "execution_count": 127,
     "metadata": {},
     "output_type": "execute_result"
    }
   ],
   "source": [
    "re.search(responsibilities_pattern, full_description).group(1)"
   ],
   "metadata": {
    "collapsed": false,
    "pycharm": {
     "name": "#%%\n"
    }
   }
  },
  {
   "cell_type": "code",
   "execution_count": 128,
   "outputs": [
    {
     "data": {
      "text/plain": "'Demonstrated experience of product management in EDR and/or AV; previous work in malware and attack analysis, research, investigation, and response highly desirable\\n Hands-on threat or investigation analyst experience in a SOC/SOAR highly desirable\\n Curious about new technologies, systems, and tools\\n Excellent communication skills, both verbal and written, with the ability to properly translate and articulate positioning and technology\\n Demonstrated ability to collaborate with peers in research, engineering, and product marketing\\n Ability to prioritize numerous simultaneous tasks\\n Proven ability to work effectively with both local and remote teams\\n This position requires up to 25% travel to customer and IBM locations worldwide'"
     },
     "execution_count": 128,
     "metadata": {},
     "output_type": "execute_result"
    }
   ],
   "source": [
    "re.search(qualifications_pattern, full_description).group(1)"
   ],
   "metadata": {
    "collapsed": false,
    "pycharm": {
     "name": "#%%\n"
    }
   }
  },
  {
   "cell_type": "code",
   "execution_count": null,
   "outputs": [],
   "source": [],
   "metadata": {
    "collapsed": false,
    "pycharm": {
     "name": "#%%\n"
    }
   }
  }
 ],
 "metadata": {
  "kernelspec": {
   "display_name": "Python 3",
   "language": "python",
   "name": "python3"
  },
  "language_info": {
   "codemirror_mode": {
    "name": "ipython",
    "version": 2
   },
   "file_extension": ".py",
   "mimetype": "text/x-python",
   "name": "python",
   "nbconvert_exporter": "python",
   "pygments_lexer": "ipython2",
   "version": "2.7.6"
  }
 },
 "nbformat": 4,
 "nbformat_minor": 0
}
