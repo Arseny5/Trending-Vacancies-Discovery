{
 "cells": [
  {
   "cell_type": "markdown",
   "source": [
    "## **PARSING IBM VACANCY**"
   ],
   "metadata": {
    "collapsed": false,
    "pycharm": {
     "name": "#%% md\n"
    }
   }
  },
  {
   "cell_type": "code",
   "execution_count": 1,
   "outputs": [],
   "source": [
    "############################################\n",
    "###     Research Trending Vacancies      ###\n",
    "###     Sber Dep. Research&Innovation    ### \n",
    "###   Ivanov Arseny, Sergey Bratchikov   ###\n",
    "###       A. Efimov, D. Asonov           ###\n",
    "############################################"
   ],
   "metadata": {
    "collapsed": false,
    "pycharm": {
     "name": "#%%\n"
    }
   }
  },
  {
   "cell_type": "code",
   "execution_count": 2,
   "metadata": {
    "collapsed": true,
    "pycharm": {
     "name": "#%%\n"
    }
   },
   "outputs": [],
   "source": [
    "import time\n",
    "import requests\n",
    "from bs4 import BeautifulSoup\n",
    "import json\n",
    "import re\n",
    "import time\n",
    "import faker\n",
    "import pandas as pd\n",
    "from tqdm import tqdm\n",
    "from datetime import datetime\n",
    "from dateutil import parser"
   ]
  },
  {
   "cell_type": "code",
   "execution_count": 3,
   "outputs": [],
   "source": [
    "from collections import Counter"
   ],
   "metadata": {
    "collapsed": false,
    "pycharm": {
     "name": "#%%\n"
    }
   }
  },
  {
   "cell_type": "code",
   "execution_count": 4,
   "outputs": [],
   "source": [
    "fake = faker.Faker(locale='en')"
   ],
   "metadata": {
    "collapsed": false,
    "pycharm": {
     "name": "#%%\n"
    }
   }
  },
  {
   "cell_type": "code",
   "execution_count": 5,
   "outputs": [],
   "source": [
    "ibm_headers = {\n",
    "    'User-Agent': fake.chrome(),\n",
    "    'accept-language': 'en-US,en;q=0.9',\n",
    "    'pragma': 'np-cache',\n",
    "    'origin': 'https://www.ibm.com',\n",
    "    'referer': 'https://www.ibm.com/'\n",
    "}"
   ],
   "metadata": {
    "collapsed": false,
    "pycharm": {
     "name": "#%%\n"
    }
   }
  },
  {
   "cell_type": "code",
   "execution_count": 6,
   "outputs": [],
   "source": [
    "API_URL = \"http://jobsapi-internal.m-cloud.io/api/stjobbulk\""
   ],
   "metadata": {
    "collapsed": false,
    "pycharm": {
     "name": "#%%\n"
    }
   }
  },
  {
   "cell_type": "code",
   "execution_count": 7,
   "outputs": [],
   "source": [
    "search_payload = {\n",
    "    'organization': 2242,\n",
    "    'limitkey': '4A8B5EF8-AA98-4A8B-907D-C21723FE4C6B',\n",
    "    'facet': 'publish_to_cws:true',\n",
    "    'fields': 'title,id,update_date,primary_country,description,primary_category,level,url,brand'\n",
    "}"
   ],
   "metadata": {
    "collapsed": false,
    "pycharm": {
     "name": "#%%\n"
    }
   }
  },
  {
   "cell_type": "code",
   "execution_count": 8,
   "outputs": [
    {
     "data": {
      "text/plain": "<Response [200]>"
     },
     "execution_count": 8,
     "metadata": {},
     "output_type": "execute_result"
    }
   ],
   "source": [
    "result = requests.get(API_URL, headers=ibm_headers, params=search_payload)\n",
    "result"
   ],
   "metadata": {
    "collapsed": false,
    "pycharm": {
     "name": "#%%\n"
    }
   }
  },
  {
   "cell_type": "code",
   "execution_count": 9,
   "outputs": [
    {
     "data": {
      "text/plain": "(13203, 13203)"
     },
     "execution_count": 9,
     "metadata": {},
     "output_type": "execute_result"
    }
   ],
   "source": [
    "result.json()['totalHits'], len(result.json()['queryResult'])"
   ],
   "metadata": {
    "collapsed": false,
    "pycharm": {
     "name": "#%%\n"
    }
   }
  },
  {
   "cell_type": "code",
   "execution_count": 10,
   "outputs": [
    {
     "data": {
      "text/plain": "dict_keys(['id', 'title', 'primary_country', 'description', 'primary_category', 'level', 'brand', 'url', 'update_date'])"
     },
     "execution_count": 10,
     "metadata": {},
     "output_type": "execute_result"
    }
   ],
   "source": [
    "result.json()['queryResult'][0].keys()"
   ],
   "metadata": {
    "collapsed": false,
    "pycharm": {
     "name": "#%%\n"
    }
   }
  },
  {
   "cell_type": "code",
   "execution_count": 11,
   "outputs": [
    {
     "data": {
      "text/plain": "[('Technical Specialist', 4874),\n ('Consultant', 2428),\n ('Software Development & Support', 1479),\n ('Finance', 1165),\n ('Sales', 814),\n ('Architect', 616),\n ('Project Management', 458),\n ('Human Resources', 249),\n ('Enterprise Operations', 214),\n ('Other', 186)]"
     },
     "execution_count": 11,
     "metadata": {},
     "output_type": "execute_result"
    }
   ],
   "source": [
    "Counter([j['primary_category'] for j in result.json()['queryResult']]).most_common(10)"
   ],
   "metadata": {
    "collapsed": false,
    "pycharm": {
     "name": "#%%\n"
    }
   }
  },
  {
   "cell_type": "code",
   "execution_count": 12,
   "outputs": [],
   "source": [
    "clear_string = lambda x: re.sub(' +', ' ', re.sub('<.*?>', ' ', x).replace('•', '\\n')).strip()"
   ],
   "metadata": {
    "collapsed": false,
    "pycharm": {
     "name": "#%%\n"
    }
   }
  },
  {
   "cell_type": "code",
   "execution_count": 18,
   "outputs": [],
   "source": [
    "about_pattern = re.compile(r\"Introduction(.+?)Your Role and Responsibilities\", flags=re.DOTALL|re.IGNORECASE)\n",
    "responsibilities_pattern = re.compile(r\"Your Role and Responsibilities(.+?)Required Technical and Professional Expertise\", flags=re.DOTALL|re.IGNORECASE)\n",
    "qualifications_pattern = re.compile(r\"Required Technical and Professional Expertise(.+?)Preferred Technical and Professional Expertise\", flags=re.DOTALL|re.IGNORECASE)"
   ],
   "metadata": {
    "collapsed": false,
    "pycharm": {
     "name": "#%%\n"
    }
   }
  },
  {
   "cell_type": "code",
   "execution_count": 20,
   "outputs": [
    {
     "name": "stderr",
     "output_type": "stream",
     "text": [
      "  4%|▍         | 541/13203 [00:00<00:05, 2429.18it/s]"
     ]
    },
    {
     "name": "stdout",
     "output_type": "stream",
     "text": [
      "Skipping vacancy https://careers.ibm.com/job/14855197/bpo-project-leader-pe-tokyo-jp/\n",
      "Skipping vacancy https://careers.ibm.com/job/14922666/-project-manager-architect-it-specialist-tokyo-jp/\n",
      "Skipping vacancy https://careers.ibm.com/job/14971229/-ibm-tokyo-jp/\n",
      "Skipping vacancy https://careers.ibm.com/job/14214108/-foc-research-tokyo-student-intern-intern-trl-ibm-japan-tokyo-jp/\n",
      "Skipping vacancy https://careers.ibm.com/job/15072653/fullstack-java-per-lima-pe/\n",
      "Skipping vacancy https://careers.ibm.com/job/14680472/-ibm-consulting-nagoya-jp/\n",
      "Skipping vacancy https://careers.ibm.com/job/15132490/-data-ai-expert-lab-tokyo-jp/\n",
      "Skipping vacancy https://careers.ibm.com/job/15017893/-pm-tokyo-jp/\n",
      "Skipping vacancy https://careers.ibm.com/job/15037807/l-der-de-integraci-n-bogota-co/\n",
      "Skipping vacancy https://careers.ibm.com/job/15232237/-ibm-pm-it-it-tokyo-jp/\n",
      "Skipping vacancy https://careers.ibm.com/job/15232232/-ibm-pm-it-it-tokyo-jp/\n",
      "Skipping vacancy https://careers.ibm.com/job/15232235/-ibm-pm-it-it-tokyo-jp/\n",
      "Skipping vacancy https://careers.ibm.com/job/15232234/-ibm-pm-it-it-tokyo-jp/\n",
      "Skipping vacancy https://careers.ibm.com/job/14789174/-ibm-pm-it-it-tokyo-jp/\n",
      "Skipping vacancy https://careers.ibm.com/job/13337136/-ibm-labservices-tokyo-jp/\n",
      "Skipping vacancy https://careers.ibm.com/job/14681611/lead-mobile-application-engineer-tokyo-jp/\n",
      "Skipping vacancy https://careers.ibm.com/job/15270425/-ibm-japan-tax-manager-tokyo-jp/\n",
      "Skipping vacancy https://careers.ibm.com/job/15280931/-ibm-japan-ibm-cloud-solution-architect-tokyo-jp/\n",
      "Skipping vacancy https://careers.ibm.com/job/15337355/-ibm-dx-tokyo-jp/\n",
      "Skipping vacancy https://careers.ibm.com/job/14778009/-ibm-tokyo-jp/\n",
      "Skipping vacancy https://careers.ibm.com/job/15421918/-automation-expert-lab-tokyo-jp/\n",
      "Skipping vacancy https://careers.ibm.com/job/15421919/comprado-operacional-portugu-s-90-bogota-co/\n",
      "Skipping vacancy https://careers.ibm.com/job/15398737/-ibm-security-device-management-escalation-engineer-tokyo-jp/\n",
      "Skipping vacancy https://careers.ibm.com/job/14849747/asistente-administrativo-de-servicio-al-cliente-turno-nocturno-bogota-co/\n",
      "Skipping vacancy https://careers.ibm.com/job/15365511/program-iteration-manager-cio-network-engineering-deploy-japan-chiba-jp/\n",
      "Skipping vacancy https://careers.ibm.com/job/15365512/network-sme-tech-lead-cio-network-engineering-deploy-japan-chiba-jp/\n",
      "Skipping vacancy https://careers.ibm.com/job/14943611/-ibm-japan-aws-azure-solution-architect-developer-tokyo-jp/\n",
      "Skipping vacancy https://careers.ibm.com/job/15489528/-ibm-it-tokyo-jp/\n",
      "Skipping vacancy https://careers.ibm.com/job/15489519/-ibm-pm-it-it-tokyo-jp/\n",
      "Skipping vacancy https://careers.ibm.com/job/14811641/-ibm-it-tokyo-jp/\n",
      "Skipping vacancy https://careers.ibm.com/job/14878524/-ibm-it-tokyo-jp/\n",
      "Skipping vacancy https://careers.ibm.com/job/14714600/-public-sector-project-manager-architect-it-specialist-tokyo-jp/\n",
      "Skipping vacancy https://careers.ibm.com/job/14326157/-hybrid-cloud-t-research-tokyo-student-intern-intern-trl-ibm-japan-kawasaki-jp/\n",
      "Skipping vacancy https://careers.ibm.com/job/14778010/-hybrid-cloud-l-research-tokyo-student-intern-intern-trl-ibm-japan-tokyo-jp/\n",
      "Skipping vacancy https://careers.ibm.com/job/15464071/-ijds-it-tokyo-jp/\n",
      "Skipping vacancy https://careers.ibm.com/job/15464082/-ijds-it-sapporo-jp/\n",
      "Skipping vacancy https://careers.ibm.com/job/15464089/-ijds-it-naha-jp/\n",
      "Skipping vacancy https://careers.ibm.com/job/15464096/-ijds-it-sendai-jp/\n",
      "Skipping vacancy https://careers.ibm.com/job/15464072/-ijds-it-tokyo-jp/\n",
      "Skipping vacancy https://careers.ibm.com/job/15464074/-ijds-it-osaka-jp/\n",
      "Skipping vacancy https://careers.ibm.com/job/15464075/-ijds-it-osaka-jp/\n",
      "Skipping vacancy https://careers.ibm.com/job/15464086/-ijds-it-sendai-jp/\n",
      "Skipping vacancy https://careers.ibm.com/job/15464087/-ijds-it-sendai-jp/\n",
      "Skipping vacancy https://careers.ibm.com/job/15464099/-ijds-tokyo-jp/\n",
      "Skipping vacancy https://careers.ibm.com/job/15464083/-ijds-it-sapporo-jp/\n",
      "Skipping vacancy https://careers.ibm.com/job/15464088/-ijds-it-sendai-jp/\n",
      "Skipping vacancy https://careers.ibm.com/job/15464090/-ijds-it-naha-jp/\n",
      "Skipping vacancy https://careers.ibm.com/job/15439497/-ibm-japan-cloud-solution-architect-developer-tokyo-jp/\n",
      "Skipping vacancy https://careers.ibm.com/job/15439495/-gbs21-it-it-tokyo-jp/\n",
      "Skipping vacancy https://careers.ibm.com/job/15445236/auxiliar-contable-jr-bogota-co/\n",
      "Skipping vacancy https://careers.ibm.com/job/14969281/-data-ai-expert-lab-tokyo-jp/\n",
      "Skipping vacancy https://careers.ibm.com/job/14685876/-ibm-digital-business-strategy-consultant-tokyo-jp/\n",
      "Skipping vacancy https://careers.ibm.com/job/15342112/-ibm-digital-business-strategy-consultant-tokyo-jp/\n",
      "Skipping vacancy https://careers.ibm.com/job/15031766/-ibm-turbonomic-npm-tokyo-jp/\n",
      "Skipping vacancy https://careers.ibm.com/job/15031771/-ibm-turbonomic-channel-tech-sales-tokyo-jp/\n",
      "Skipping vacancy https://careers.ibm.com/job/15031772/-ibm-turbonomic-tokyo-jp/\n",
      "Skipping vacancy https://careers.ibm.com/job/14714597/talent-acquisition-partner-tokyo-jp/\n",
      "Skipping vacancy https://careers.ibm.com/job/14685887/fullstack-java-per-lima-pe/\n",
      "Skipping vacancy https://careers.ibm.com/job/14714599/-data-scientist-tokyo-jp/\n",
      "Skipping vacancy https://careers.ibm.com/job/14799237/-ijds-sap-oracle-tokyo-jp/\n",
      "Skipping vacancy https://careers.ibm.com/job/14799238/-ijds-it-sapporo-jp/\n",
      "Skipping vacancy https://careers.ibm.com/job/14799232/-ijds-sap-oracle-tokyo-jp/\n",
      "Skipping vacancy https://careers.ibm.com/job/14799234/-ijds-sap-oracle-tokyo-jp/\n",
      "Skipping vacancy https://careers.ibm.com/job/14799236/-ijds-sap-oracle-tokyo-jp/\n",
      "Skipping vacancy https://careers.ibm.com/job/14789163/-ibm-pm-it-it-tokyo-jp/\n",
      "Skipping vacancy https://careers.ibm.com/job/14787823/-ibm-pm-it-it-tokyo-jp/\n",
      "Skipping vacancy https://careers.ibm.com/job/14789159/-ibm-it-tokyo-jp/\n",
      "Skipping vacancy https://careers.ibm.com/job/14789160/-ibm-pm-it-it-tokyo-jp/\n",
      "Skipping vacancy https://careers.ibm.com/job/14789162/-ibm-pm-it-it-tokyo-jp/\n",
      "Skipping vacancy https://careers.ibm.com/job/14789158/-ibm-it-tokyo-jp/\n",
      "Skipping vacancy https://careers.ibm.com/job/14789164/-ibm-pm-it-it-tokyo-jp/\n",
      "Skipping vacancy https://careers.ibm.com/job/14789153/-ibm-it-tokyo-jp/\n",
      "Skipping vacancy https://careers.ibm.com/job/14742685/-ibm-seller-business-development-executive-ibm-research-tokyo-jp/\n",
      "Skipping vacancy https://careers.ibm.com/job/14789156/-ibm-it-tokyo-jp/\n",
      "Skipping vacancy https://careers.ibm.com/job/14799239/-ijds-it-sendai-jp/\n",
      "Skipping vacancy https://careers.ibm.com/job/14799253/-ijds-it-sendai-jp/\n",
      "Skipping vacancy https://careers.ibm.com/job/14789165/-ibm-pm-it-it-tokyo-jp/\n",
      "Skipping vacancy https://careers.ibm.com/job/14789161/-ibm-pm-it-it-tokyo-jp/\n",
      "Skipping vacancy https://careers.ibm.com/job/14789175/-ibm-pm-it-it-tokyo-jp/\n",
      "Skipping vacancy https://careers.ibm.com/job/15017889/-pm-tokyo-jp/\n",
      "Skipping vacancy https://careers.ibm.com/job/15017891/-it-tokyo-jp/\n",
      "Skipping vacancy https://careers.ibm.com/job/15017892/public-sector-consultant-tokyo-jp/\n",
      "Skipping vacancy https://careers.ibm.com/job/14812762/desarrollador-vb6-remote/\n",
      "Skipping vacancy https://careers.ibm.com/job/14799230/-ijds-sap-oracle-tokyo-jp/\n",
      "Skipping vacancy https://careers.ibm.com/job/14799231/-ijds-sap-oracle-tokyo-jp/\n",
      "Skipping vacancy https://careers.ibm.com/job/14799235/-ijds-sap-oracle-tokyo-jp/\n",
      "Skipping vacancy https://careers.ibm.com/job/14799244/-ijds-it-sapporo-jp/\n",
      "Skipping vacancy https://careers.ibm.com/job/14799246/-ijds-it-sapporo-jp/\n",
      "Skipping vacancy https://careers.ibm.com/job/15144155/-hybrid-cloud-s-research-tokyo-student-intern-intern-trl-ibm-japan-tokyo-jp/\n",
      "Skipping vacancy https://careers.ibm.com/job/15489529/-ibm-it-tokyo-jp/\n",
      "Skipping vacancy https://careers.ibm.com/job/15549223/technical-leader-strategic-sales-tokyo-jp/\n",
      "Skipping vacancy https://careers.ibm.com/job/15549222/technical-leader-strategic-sales-tokyo-jp/\n",
      "Skipping vacancy https://careers.ibm.com/job/15549227/technical-leader-strategic-sales-tokyo-jp/\n",
      "Skipping vacancy https://careers.ibm.com/job/15549221/technical-leader-strategic-sales-tokyo-jp/\n",
      "Skipping vacancy https://careers.ibm.com/job/15132487/-data-ai-expert-lab-bi-tokyo-jp/\n",
      "Skipping vacancy https://careers.ibm.com/job/15600074/-ibm-consulting-digital-business-strategy-consultant-tokyo-jp/\n",
      "Skipping vacancy https://careers.ibm.com/job/15600073/-ibm-microsoft-dynamics-crm-consultant-microsoft-solution-pm-tokyo-jp/\n",
      "Skipping vacancy https://careers.ibm.com/job/15165343/-ibm-mobile-developer-tokyo-jp/\n",
      "Skipping vacancy https://careers.ibm.com/job/15043438/supply-chain-and-procurement-consultant-tokyo-jp/\n",
      "Skipping vacancy https://careers.ibm.com/job/15055993/sap-associate-partner-tokyo-jp/\n",
      "Skipping vacancy https://careers.ibm.com/job/15055995/-ibm-dx-tokyo-jp/\n",
      "Skipping vacancy https://careers.ibm.com/job/15558789/-ibm-dx-tokyo-jp/\n",
      "Skipping vacancy https://careers.ibm.com/job/15547302/-iot-maas-tokyo-jp/\n",
      "Skipping vacancy https://careers.ibm.com/job/15547303/strategic-procurement-consultant-tokyo-jp/\n",
      "Skipping vacancy https://careers.ibm.com/job/15547301/-scm-tokyo-jp/\n",
      "Skipping vacancy https://careers.ibm.com/job/15547295/sap-associate-partner-tokyo-jp/\n",
      "Skipping vacancy https://careers.ibm.com/job/15549228/technical-leader-strategic-sales-tokyo-jp/\n",
      "Skipping vacancy https://careers.ibm.com/job/15549220/technical-leader-strategic-sales-tokyo-jp/\n",
      "Skipping vacancy https://careers.ibm.com/job/14971228/-ibm-tokyo-jp/\n",
      "Skipping vacancy https://careers.ibm.com/job/14971230/-ibm-tokyo-jp/\n",
      "Skipping vacancy https://careers.ibm.com/job/15289913/profesional-de-compras-bogota-co/\n",
      "Skipping vacancy https://careers.ibm.com/job/15757131/-iot-maas-tokyo-jp/\n",
      "Skipping vacancy https://careers.ibm.com/job/15757134/research-scientist-senior-hortol-ndia-br/\n",
      "Skipping vacancy https://careers.ibm.com/job/15221657/analista-de-cuentas-por-pagar-bogota-co/\n",
      "Skipping vacancy https://careers.ibm.com/job/15767465/brand-sales-specialist-remote/\n",
      "Skipping vacancy https://careers.ibm.com/job/14755689/-ibm-tokyo-jp/\n",
      "Skipping vacancy https://careers.ibm.com/job/14983969/-ibm-security-tokyo-jp/\n",
      "Skipping vacancy https://careers.ibm.com/job/14996472/-ibm-deal-maker-tokyo-jp/\n",
      "Skipping vacancy https://careers.ibm.com/job/14996475/-ibm-deal-maker-and-software-licensing-tokyo-jp/\n",
      "Skipping vacancy https://careers.ibm.com/job/15053409/-ibm-data-ai-tokyo-jp/\n",
      "Skipping vacancy https://careers.ibm.com/job/15053412/-ibm-data-ai-automation-tokyo-jp/\n",
      "Skipping vacancy https://careers.ibm.com/job/15066958/-ibm-technology-tokyo-jp/\n",
      "Skipping vacancy https://careers.ibm.com/job/15161781/-ibm-digital-center-tokyo-jp/\n",
      "Skipping vacancy https://careers.ibm.com/job/15293252/-ise-chiba-jp/\n",
      "Skipping vacancy https://careers.ibm.com/job/15293253/-ise-chiba-jp/\n",
      "Skipping vacancy https://careers.ibm.com/job/15293254/-ise-chiba-jp/\n",
      "Skipping vacancy https://careers.ibm.com/job/15293256/-ise-chiba-jp/\n",
      "Skipping vacancy https://careers.ibm.com/job/15538300/-ise-chiba-jp/\n",
      "Skipping vacancy https://careers.ibm.com/job/15653997/-ibm-technology-tokyo-jp/\n",
      "Skipping vacancy https://careers.ibm.com/job/14296501/-ibm-japan-tsdl-systems-chiba-jp/\n",
      "Skipping vacancy https://careers.ibm.com/job/15273104/developer-bus-integracion-per-lima-pe/\n",
      "Skipping vacancy https://careers.ibm.com/job/15066957/-igsch-it-hiroshima-jp/\n",
      "Skipping vacancy https://careers.ibm.com/job/15445234/auxiliar-de-servicio-al-cliente-horario-nocturno-bogota-co/\n",
      "Skipping vacancy https://careers.ibm.com/job/15445237/analista-contable-bogota-co/\n",
      "Skipping vacancy https://careers.ibm.com/job/15465545/-ibm-tokyo-jp/\n",
      "Skipping vacancy https://careers.ibm.com/job/15464073/-ijds-it-tokyo-jp/\n",
      "Skipping vacancy https://careers.ibm.com/job/15464080/-ijds-it-sapporo-jp/\n",
      "Skipping vacancy https://careers.ibm.com/job/15464091/-ijds-it-kitakyushu-jp/\n",
      "Skipping vacancy https://careers.ibm.com/job/15464084/-ijds-it-sapporo-jp/\n",
      "Skipping vacancy https://careers.ibm.com/job/15464069/-ijds-tokyo-jp/\n",
      "Skipping vacancy https://careers.ibm.com/job/15464070/-ijds-tokyo-jp/\n",
      "Skipping vacancy https://careers.ibm.com/job/15728277/sap-associate-partner-tokyo-jp/\n",
      "Skipping vacancy https://careers.ibm.com/job/15464085/-ijds-it-sapporo-jp/\n",
      "Skipping vacancy https://careers.ibm.com/job/15464081/-ijds-it-sapporo-jp/\n",
      "Skipping vacancy https://careers.ibm.com/job/15464077/-ijds-it-tokyo-jp/\n",
      "Skipping vacancy https://careers.ibm.com/job/15464079/-ijds-it-sapporo-jp/\n",
      "Skipping vacancy https://careers.ibm.com/job/15464092/-ijds-it-kitakyushu-jp/\n",
      "Skipping vacancy https://careers.ibm.com/job/15464094/-ijds-it-sapporo-jp/\n",
      "Skipping vacancy https://careers.ibm.com/job/15464076/-ijds-it-tokyo-jp/\n",
      "Skipping vacancy https://careers.ibm.com/job/15464095/-ijds-it-sapporo-jp/\n",
      "Skipping vacancy https://careers.ibm.com/job/15464097/-ijds-it-naha-jp/\n",
      "Skipping vacancy https://careers.ibm.com/job/15465542/-ijds-sap-oracle-tokyo-jp/\n",
      "Skipping vacancy https://careers.ibm.com/job/15464068/-ijds-salesforce-tokyo-jp/\n",
      "Skipping vacancy https://careers.ibm.com/job/15485672/-ibm-salesforce-solution-consultant-tokyo-jp/\n",
      "Skipping vacancy https://careers.ibm.com/job/15489525/-ibm-it-tokyo-jp/\n",
      "Skipping vacancy https://careers.ibm.com/job/15489531/-ibm-it-tokyo-jp/\n",
      "Skipping vacancy https://careers.ibm.com/job/15640877/sap-associate-partner-tokyo-jp/\n",
      "Skipping vacancy https://careers.ibm.com/job/14787821/-pm-tokyo-jp/\n",
      "Skipping vacancy https://careers.ibm.com/job/15652114/sap-associate-partner-tokyo-jp/\n",
      "Skipping vacancy https://careers.ibm.com/job/15043439/-ibm-consulting-scm-iot-tokyo-jp/\n",
      "Skipping vacancy https://careers.ibm.com/job/14987931/advanced-analytics-data-scientist-project-manager-tokyo-jp/\n",
      "Skipping vacancy https://careers.ibm.com/job/13339383/-ise-application-architect-chiba-jp/\n",
      "Skipping vacancy https://careers.ibm.com/job/15538302/-ibm-mobile-developer-ios-android-tokyo-jp/\n",
      "Skipping vacancy https://careers.ibm.com/job/15232236/-ibm-pm-it-it-tokyo-jp/\n",
      "Skipping vacancy https://careers.ibm.com/job/15549224/technical-leader-strategic-sales-tokyo-jp/\n",
      "Skipping vacancy https://careers.ibm.com/job/15549226/technical-leader-strategic-sales-tokyo-jp/\n",
      "Skipping vacancy https://careers.ibm.com/job/15549219/technical-leader-strategic-sales-tokyo-jp/\n",
      "Skipping vacancy https://careers.ibm.com/job/15365510/-ibm-mobile-developer-tokyo-jp/\n",
      "Skipping vacancy https://careers.ibm.com/job/15549225/technical-leader-strategic-sales-tokyo-jp/\n",
      "Skipping vacancy https://careers.ibm.com/job/15489522/-ibm-pm-it-it-tokyo-jp/\n"
     ]
    },
    {
     "name": "stderr",
     "output_type": "stream",
     "text": [
      "  9%|▉         | 1209/13203 [00:00<00:05, 2005.42it/s]"
     ]
    },
    {
     "name": "stdout",
     "output_type": "stream",
     "text": [
      "Skipping vacancy https://careers.ibm.com/job/15500549/-ibm-pm-it-it-tokyo-jp/\n",
      "Skipping vacancy https://careers.ibm.com/job/15558790/-cx-digital-commerce-cx-pm-tokyo-jp/\n",
      "Skipping vacancy https://careers.ibm.com/job/15558791/-ibm-consulting-garage-team-tokyo-jp/\n",
      "Skipping vacancy https://careers.ibm.com/job/15837611/-ibm-dx-tokyo-jp/\n",
      "Skipping vacancy https://careers.ibm.com/job/14789157/-ibm-it-tokyo-jp/\n",
      "Skipping vacancy https://careers.ibm.com/job/15232233/-ibm-pm-it-it-tokyo-jp/\n",
      "Skipping vacancy https://careers.ibm.com/job/15364384/-ibm-pm-it-it-tokyo-jp/\n",
      "Skipping vacancy https://careers.ibm.com/job/15364383/-ibm-pm-it-it-tokyo-jp/\n",
      "Skipping vacancy https://careers.ibm.com/job/15818913/security-consultant-iam-management-consultant-cloud-specialist-remote/\n",
      "Skipping vacancy https://careers.ibm.com/job/14976119/consultant-technique-m3-infor-h-f-remote-ibm-cic-remote/\n",
      "Skipping vacancy https://careers.ibm.com/job/15055991/d-veloppeur-exp-riment-business-intelligence-h-f-remote-ibm-cic-remote/\n",
      "Skipping vacancy https://careers.ibm.com/job/15847586/-ibm-tokyo-jp/\n"
     ]
    },
    {
     "name": "stderr",
     "output_type": "stream",
     "text": [
      " 12%|█▏        | 1613/13203 [00:00<00:05, 1987.53it/s]"
     ]
    },
    {
     "name": "stdout",
     "output_type": "stream",
     "text": [
      "Skipping vacancy https://careers.ibm.com/job/14799250/-ijds-it-sapporo-jp/\n",
      "Skipping vacancy https://careers.ibm.com/job/15900422/desarrollador-java-fullstack-lima-pe/\n",
      "Skipping vacancy https://careers.ibm.com/job/15397760/-ibm-pm-it-it-tokyo-jp/\n",
      "Skipping vacancy https://careers.ibm.com/job/15905723/-ibm-tokyo-jp/\n",
      "Skipping vacancy https://careers.ibm.com/job/15040463/asistente-administrativo-de-servicio-al-cliente-turno-nocturno-bogota-co/\n",
      "Skipping vacancy https://careers.ibm.com/job/15062675/fin-admin-business-associate-latam-bogota-co/\n",
      "Skipping vacancy https://careers.ibm.com/job/15538301/-ise-chiba-jp/\n",
      "Skipping vacancy https://careers.ibm.com/job/15782960/-ise-chiba-jp/\n",
      "Skipping vacancy https://careers.ibm.com/job/15915719/-ise-ichikawa-jp/\n",
      "Skipping vacancy https://careers.ibm.com/job/15915720/-ise-chiba-jp/\n",
      "Skipping vacancy https://careers.ibm.com/job/15915721/-ise-chiba-jp/\n",
      "Skipping vacancy https://careers.ibm.com/job/15915724/-ise-chiba-jp/\n",
      "Skipping vacancy https://careers.ibm.com/job/15915726/-ise-chiba-jp/\n",
      "Skipping vacancy https://careers.ibm.com/job/15918299/-ise-chiba-jp/\n",
      "Skipping vacancy https://careers.ibm.com/job/15300242/-ibm-security-ssam-tokyo-jp/\n",
      "Skipping vacancy https://careers.ibm.com/job/15353845/-pm-tokyo-jp/\n",
      "Skipping vacancy https://careers.ibm.com/job/15940703/-ibm-i-o-center-project-manager-chiba-jp/\n",
      "Skipping vacancy https://careers.ibm.com/job/15940704/-ibm-i-o-center-operator-chiba-jp/\n",
      "Skipping vacancy https://careers.ibm.com/job/15940705/-ibm-zos-mvs-specialist-chiba-jp/\n",
      "Skipping vacancy https://careers.ibm.com/job/15940706/-ibm-zos-mvs-storage-specialist-chiba-jp/\n",
      "Skipping vacancy https://careers.ibm.com/job/15909710/fin-admin-delivery-manager-bogota-co/\n",
      "Skipping vacancy https://careers.ibm.com/job/15413976/-data-ai-expert-lab-tokyo-jp/\n",
      "Skipping vacancy https://careers.ibm.com/job/15948617/-ibm-dx-tokyo-jp/\n",
      "Skipping vacancy https://careers.ibm.com/job/15660207/project-management-office-bogota-co/\n",
      "Skipping vacancy https://careers.ibm.com/job/15660208/consultor-niif-bogota-co/\n",
      "Skipping vacancy https://careers.ibm.com/job/15907880/pesquisador-em-engenharia-de-software-junior-hortol-ndia-br/\n"
     ]
    },
    {
     "name": "stderr",
     "output_type": "stream",
     "text": [
      " 15%|█▌        | 2036/13203 [00:00<00:05, 2050.06it/s]"
     ]
    },
    {
     "name": "stdout",
     "output_type": "stream",
     "text": [
      "Skipping vacancy https://careers.ibm.com/job/14987930/-ibm-tokyo-jp/\n",
      "Skipping vacancy https://careers.ibm.com/job/15966880/-ibm-dx-tokyo-jp/\n",
      "Skipping vacancy https://careers.ibm.com/job/15568923/-ibm-security-mdr-threat-responder-tokyo-jp/\n",
      "Skipping vacancy https://careers.ibm.com/job/14183070/-ai-research-tokyo-student-intern-intern-trl-ibm-japan-tokyo-jp/\n",
      "Skipping vacancy https://careers.ibm.com/job/15577914/-iot-maas-tokyo-jp/\n",
      "Skipping vacancy https://careers.ibm.com/job/15600070/-ibm-digital-business-strategy-consultant-tokyo-jp/\n",
      "Skipping vacancy https://careers.ibm.com/job/14987929/-ibm-microsoft-dynamics-crm-consultant-microsoft-solution-pm-tokyo-jp/\n",
      "Skipping vacancy https://careers.ibm.com/job/15631667/-ibm-chiba-jp/\n",
      "Skipping vacancy https://careers.ibm.com/job/14415255/programa-de-est-gio-associates-hortol-ndia-br/\n",
      "Skipping vacancy https://careers.ibm.com/job/14789152/-ibm-it-tokyo-jp/\n",
      "Skipping vacancy https://careers.ibm.com/job/15653996/-ibm-chiba-jp/\n",
      "Skipping vacancy https://careers.ibm.com/job/14799260/-ijds-it-osaka-jp/\n",
      "Skipping vacancy https://careers.ibm.com/job/15636351/desenvolverdor-a-de-aplica-es-mobile-remote/\n",
      "Skipping vacancy https://careers.ibm.com/job/15636359/desenvolvedor-a-de-aplica-es-microsoft-net-hortol-ndia-br/\n",
      "Skipping vacancy https://careers.ibm.com/job/15647851/consultor-a-sap-remote/\n",
      "Skipping vacancy https://careers.ibm.com/job/15655068/application-consultant-servicenow-hortol-ndia-br/\n",
      "Skipping vacancy https://careers.ibm.com/job/15657878/application-architect-cloud-applications-remote/\n",
      "Skipping vacancy https://careers.ibm.com/job/15741822/desenvolvedor-de-aplica-es-aws-cloud-remote/\n",
      "Skipping vacancy https://careers.ibm.com/job/16023492/tester-funcional-remote/\n",
      "Skipping vacancy https://careers.ibm.com/job/16023494/tester-funcional-remote/\n",
      "Skipping vacancy https://careers.ibm.com/job/16025857/consultora-or-sap-sd-buenos-aires-ar/\n",
      "Skipping vacancy https://careers.ibm.com/job/15956419/site-reliability-engineer-hortol-ndia-br/\n",
      "Skipping vacancy https://careers.ibm.com/job/15971331/desarrollador-pl-sql-remote/\n",
      "Skipping vacancy https://careers.ibm.com/job/12788890/scrum-master-sr-remote/\n",
      "Skipping vacancy https://careers.ibm.com/job/15390296/desarrollador-devops-remote/\n",
      "Skipping vacancy https://careers.ibm.com/job/15208685/scrum-master-sr-remote/\n",
      "Skipping vacancy https://careers.ibm.com/job/15924809/scrum-master-remote/\n"
     ]
    },
    {
     "name": "stderr",
     "output_type": "stream",
     "text": [
      " 20%|██        | 2669/13203 [00:01<00:05, 2057.16it/s]"
     ]
    },
    {
     "name": "stdout",
     "output_type": "stream",
     "text": [
      "Skipping vacancy https://careers.ibm.com/job/15993124/analista-de-neg-cios-de-tecnologia-da-informa-o-senior-hortol-ndia-br/\n",
      "Skipping vacancy https://careers.ibm.com/job/15177510/team-lead-net-h-f-remote-ibm-cic-remote/\n",
      "Skipping vacancy https://careers.ibm.com/job/16019848/-ise-servicenow-chiba-jp/\n",
      "Skipping vacancy https://careers.ibm.com/job/16031258/-ibm-it-tokyo-jp/\n",
      "Skipping vacancy https://careers.ibm.com/job/16031261/-ibm-pm-it-it-tokyo-jp/\n",
      "Skipping vacancy https://careers.ibm.com/job/15636355/desenvolvedor-a-de-aplica-es-microsservi-os-remote/\n",
      "Skipping vacancy https://careers.ibm.com/job/15636360/desenvolvedor-a-de-aplica-es-java-hortol-ndia-br/\n",
      "Skipping vacancy https://careers.ibm.com/job/15031767/-ibm-tokyo-jp/\n",
      "Skipping vacancy https://careers.ibm.com/job/16035415/-ibm-cloud-expert-labs-ui-ux-tokyo-jp/\n",
      "Skipping vacancy https://careers.ibm.com/job/16039231/-ibm-compute-storage-virtualization-tokyo-jp/\n",
      "Skipping vacancy https://careers.ibm.com/job/16039232/-ibm-client-engineering-tokyo-jp/\n",
      "Skipping vacancy https://careers.ibm.com/job/16039233/-ibm-client-engineering-tokyo-jp/\n",
      "Skipping vacancy https://careers.ibm.com/job/16039235/-ibm-client-engineering-tokyo-jp/\n",
      "Skipping vacancy https://careers.ibm.com/job/14958175/-ibm-client-engineering-tokyo-jp/\n",
      "Skipping vacancy https://careers.ibm.com/job/14958176/-ibm-client-engineering-tokyo-jp/\n",
      "Skipping vacancy https://careers.ibm.com/job/15375840/-ibm-tokyo-jp/\n",
      "Skipping vacancy https://careers.ibm.com/job/15360690/software-developer-rio-de-janeiro-br/\n",
      "Skipping vacancy https://careers.ibm.com/job/15591957/consultora-or-sap-abap-buenos-aires-ar/\n",
      "Skipping vacancy https://careers.ibm.com/job/14789176/-ibm-pm-it-it-tokyo-jp/\n",
      "Skipping vacancy https://careers.ibm.com/job/16047461/consultor-pleno-seguran-a-da-informa-o-data-protection-remote/\n",
      "Skipping vacancy https://careers.ibm.com/job/16047462/consultor-senior-seguran-a-da-informa-o-data-protection-remote/\n",
      "Skipping vacancy https://careers.ibm.com/job/16047463/engenheiro-de-suporte-ims-information-management-system-on-z-os-remote/\n"
     ]
    },
    {
     "name": "stderr",
     "output_type": "stream",
     "text": [
      " 23%|██▎       | 3084/13203 [00:01<00:04, 2052.50it/s]"
     ]
    },
    {
     "name": "stdout",
     "output_type": "stream",
     "text": [
      "Skipping vacancy https://careers.ibm.com/job/15119522/arquitecta-bogota-co/\n",
      "Skipping vacancy https://careers.ibm.com/job/15419857/desarrollador-i-series-bogota-co/\n",
      "Skipping vacancy https://careers.ibm.com/job/15447970/especialista-as400-bogota-co/\n",
      "Skipping vacancy https://careers.ibm.com/job/15454863/-gbs21-it-it-tokyo-jp/\n",
      "Skipping vacancy https://careers.ibm.com/job/15956420/consultor-funcional-de-procesos-hr-buenos-aires-ar/\n",
      "Skipping vacancy https://careers.ibm.com/job/13339382/-ise-application-architect-chiba-jp/\n",
      "Skipping vacancy https://careers.ibm.com/job/14959460/-ibm-tokyo-jp/\n",
      "Skipping vacancy https://careers.ibm.com/job/14971232/-ibm-tokyo-jp/\n",
      "Skipping vacancy https://careers.ibm.com/job/14976120/-ibm-ibm-tokyo-jp/\n",
      "Skipping vacancy https://careers.ibm.com/job/14983966/-ibm-japan-solution-architect-tokyo-jp/\n",
      "Skipping vacancy https://careers.ibm.com/job/14996477/-ibm-ibm-cloud-tokyo-jp/\n",
      "Skipping vacancy https://careers.ibm.com/job/15053411/-ibm-data-ai-automation-tokyo-jp/\n",
      "Skipping vacancy https://careers.ibm.com/job/15067982/-ibm-technology-tokyo-jp/\n",
      "Skipping vacancy https://careers.ibm.com/job/15067983/-ibm-technology-tokyo-jp/\n",
      "Skipping vacancy https://careers.ibm.com/job/15303541/-ise-chiba-jp/\n",
      "Skipping vacancy https://careers.ibm.com/job/15353844/-ibm-tokyo-jp/\n",
      "Skipping vacancy https://careers.ibm.com/job/15688604/application-developer-data-application-security-hortol-ndia-br/\n",
      "Skipping vacancy https://careers.ibm.com/job/15031769/-ibm-instana-tokyo-jp/\n",
      "Skipping vacancy https://careers.ibm.com/job/15053410/-ibm-instana-tokyo-jp/\n",
      "Skipping vacancy https://careers.ibm.com/job/15568924/-ibm-security-mdr-threat-responder-tokyo-jp/\n",
      "Skipping vacancy https://careers.ibm.com/job/16074579/tech-re-entry-mulheres-em-tech-remote/\n",
      "Skipping vacancy https://careers.ibm.com/job/16074580/engenheiro-de-confiabilidade-do-site-senior-remote/\n",
      "Skipping vacancy https://careers.ibm.com/job/15445232/analista-de-procesos-y-calidad-bogota-co/\n",
      "Skipping vacancy https://careers.ibm.com/job/15749842/ssr-analista-funcional-remote/\n",
      "Skipping vacancy https://careers.ibm.com/job/15782961/sap-associate-partner-tokyo-jp/\n",
      "Skipping vacancy https://careers.ibm.com/job/14983963/-ibm-japan-global-alliance-technology-partner-sales-rep-tokyo-jp/\n",
      "Skipping vacancy https://careers.ibm.com/job/15464078/-ijds-it-tokyo-jp/\n",
      "Skipping vacancy https://careers.ibm.com/job/15790818/sap-associate-partner-tokyo-jp/\n",
      "Skipping vacancy https://careers.ibm.com/job/14959462/-ibm-tokyo-jp/\n"
     ]
    },
    {
     "name": "stderr",
     "output_type": "stream",
     "text": [
      " 28%|██▊       | 3679/13203 [00:01<00:05, 1830.23it/s]"
     ]
    },
    {
     "name": "stdout",
     "output_type": "stream",
     "text": [
      "Skipping vacancy https://careers.ibm.com/job/16084527/-isoc-naha-jp/\n",
      "Skipping vacancy https://careers.ibm.com/job/16084530/-ibm-japan-technical-support-professional-chiba-jp/\n",
      "Skipping vacancy https://careers.ibm.com/job/16086166/desarrollador-salesforce-remote/\n",
      "Skipping vacancy https://careers.ibm.com/job/16086167/consultora-or-sap-sd-remote/\n",
      "Skipping vacancy https://careers.ibm.com/job/15971330/desarrollador-apic-remote/\n"
     ]
    },
    {
     "name": "stderr",
     "output_type": "stream",
     "text": [
      " 31%|███       | 4077/13203 [00:02<00:04, 1908.27it/s]"
     ]
    },
    {
     "name": "stdout",
     "output_type": "stream",
     "text": [
      "Skipping vacancy https://careers.ibm.com/job/15826502/desarrollador-net-buenos-aires-ar/\n",
      "Skipping vacancy https://careers.ibm.com/job/14446121/-quantum-advocate-tokyo-student-intern-intern-trl-ibm-japan-tokyo-jp/\n",
      "Skipping vacancy https://careers.ibm.com/job/16100291/instana-channel-sales-specialist-latam-remote/\n",
      "Skipping vacancy https://careers.ibm.com/job/14789173/-ibm-it-tokyo-jp/\n",
      "Skipping vacancy https://careers.ibm.com/job/14657341/java-integration-lead-remote/\n",
      "Skipping vacancy https://careers.ibm.com/job/14959461/-ibm-tokyo-jp/\n",
      "Skipping vacancy https://careers.ibm.com/job/14905106/consultora-o-sap-basis-buenos-aires-ar/\n",
      "Skipping vacancy https://careers.ibm.com/job/15465548/-ibm-ui-ux-designer-design-consultant-tokyo-jp/\n"
     ]
    },
    {
     "name": "stderr",
     "output_type": "stream",
     "text": [
      " 34%|███▍      | 4473/13203 [00:02<00:04, 1941.49it/s]"
     ]
    },
    {
     "name": "stdout",
     "output_type": "stream",
     "text": [
      "Skipping vacancy https://careers.ibm.com/job/14693064/tester-funcional-remote/\n",
      "Skipping vacancy https://careers.ibm.com/job/16116390/desarrollador-full-stack-netcore-angular-buenos-aires-ar/\n",
      "Skipping vacancy https://careers.ibm.com/job/15818911/consultor-de-seguran-a-privacidade-senior-remote/\n",
      "Skipping vacancy https://careers.ibm.com/job/15818912/consultor-de-seguran-a-privacidade-sioc-senior-remote/\n",
      "Skipping vacancy https://careers.ibm.com/job/15108085/-ibm-deal-maker-tokyo-jp/\n",
      "Skipping vacancy https://careers.ibm.com/job/14284696/desarrollador-java-fullstack-bilingue-bogota-co/\n",
      "Skipping vacancy https://careers.ibm.com/job/15900419/desarrollador-java-fullstack-lima-pe/\n",
      "Skipping vacancy https://careers.ibm.com/job/15900420/desarrollador-java-fullstack-lima-pe/\n",
      "Skipping vacancy https://careers.ibm.com/job/15900421/desarrollador-java-fullstack-lima-pe/\n",
      "Skipping vacancy https://careers.ibm.com/job/15901438/desarrollador-java-fullstack-lima-pe/\n",
      "Skipping vacancy https://careers.ibm.com/job/15901439/desarrollador-android-lima-pe/\n",
      "Skipping vacancy https://careers.ibm.com/job/15547298/-ibm-salesforce-solution-consultant-tokyo-jp/\n",
      "Skipping vacancy https://careers.ibm.com/job/15905741/desarrollador-web-mobile-remote/\n",
      "Skipping vacancy https://careers.ibm.com/job/15914731/-ibm-it-tokyo-jp/\n",
      "Skipping vacancy https://careers.ibm.com/job/13339387/-ise-storage-engineer-chiba-jp/\n",
      "Skipping vacancy https://careers.ibm.com/job/15915718/-ise-chiba-jp/\n",
      "Skipping vacancy https://careers.ibm.com/job/15915722/-ise-chiba-jp/\n",
      "Skipping vacancy https://careers.ibm.com/job/15915723/-ise-chiba-jp/\n",
      "Skipping vacancy https://careers.ibm.com/job/15915730/-ibm-pm-it-it-tokyo-jp/\n",
      "Skipping vacancy https://careers.ibm.com/job/15917332/analista-de-servi-os-de-seguran-a-em-tecnologia-da-informa-o-junior-rio-de-janeiro-br/\n"
     ]
    },
    {
     "name": "stderr",
     "output_type": "stream",
     "text": [
      " 39%|███▊      | 5089/13203 [00:02<00:04, 1999.82it/s]"
     ]
    },
    {
     "name": "stdout",
     "output_type": "stream",
     "text": [
      "Skipping vacancy https://careers.ibm.com/job/14892835/-ibm-cloud-value-transformation-consultant-tokyo-jp/\n",
      "Skipping vacancy https://careers.ibm.com/job/15920148/consultant-ot-security-hortol-ndia-br/\n",
      "Skipping vacancy https://careers.ibm.com/job/15838556/architecte-solution-cloud-h-f-remote-ibm-cic-remote/\n",
      "Skipping vacancy https://careers.ibm.com/job/15930697/-ibm-tokyo-jp/\n",
      "Skipping vacancy https://careers.ibm.com/job/15977363/architecte-cloud-h-f-remote-ibm-cic-remote/\n",
      "Skipping vacancy https://careers.ibm.com/job/15945928/desenvolvedor-de-software-pleno-hortol-ndia-br/\n",
      "Skipping vacancy https://careers.ibm.com/job/15636353/desenvolvedor-a-de-aplica-es-front-end-remote/\n",
      "Skipping vacancy https://careers.ibm.com/job/16147159/-ise-chiba-jp/\n",
      "Skipping vacancy https://careers.ibm.com/job/15600076/-ibm-tokyo-jp/\n",
      "Skipping vacancy https://careers.ibm.com/job/14878525/-ibm-tokyo-jp/\n"
     ]
    },
    {
     "name": "stderr",
     "output_type": "stream",
     "text": [
      " 43%|████▎     | 5734/13203 [00:02<00:03, 2082.56it/s]"
     ]
    },
    {
     "name": "stdout",
     "output_type": "stream",
     "text": [
      "Skipping vacancy https://careers.ibm.com/job/16126908/-ibm-it-tokyo-jp/\n",
      "Skipping vacancy https://careers.ibm.com/job/16126909/-ibm-it-tokyo-jp/\n",
      "Skipping vacancy https://careers.ibm.com/job/16126910/-ibm-it-tokyo-jp/\n",
      "Skipping vacancy https://careers.ibm.com/job/16126911/-ibm-it-tokyo-jp/\n",
      "Skipping vacancy https://careers.ibm.com/job/16126907/-ibm-it-tokyo-jp/\n",
      "Skipping vacancy https://careers.ibm.com/job/12388016/banco-de-talentos-pcd-hortol-ndia-br/\n",
      "Skipping vacancy https://careers.ibm.com/job/15489521/-ibm-pm-it-it-tokyo-jp/\n",
      "Skipping vacancy https://careers.ibm.com/job/14571205/-ibm-cloud-value-transformation-consultant-tokyo-jp/\n",
      "Skipping vacancy https://careers.ibm.com/job/14581299/-ibm-it-strategy-consultant-tokyo-jp/\n",
      "Skipping vacancy https://careers.ibm.com/job/14036053/associate-partner-data-plateform-services-f-h-paris-fr/\n",
      "Skipping vacancy https://careers.ibm.com/job/16002451/desarrollador-net-sr-ssr-buenos-aires-ar/\n",
      "Skipping vacancy https://careers.ibm.com/job/15986740/bpo-project-leader-pe-tokyo-jp/\n",
      "Skipping vacancy https://careers.ibm.com/job/15788071/desarrollador-mobile-web-remote/\n",
      "Skipping vacancy https://careers.ibm.com/job/15636366/l-der-netcore-angular-buenos-aires-ar/\n"
     ]
    },
    {
     "name": "stderr",
     "output_type": "stream",
     "text": [
      " 47%|████▋     | 6151/13203 [00:03<00:03, 2039.55it/s]"
     ]
    },
    {
     "name": "stdout",
     "output_type": "stream",
     "text": [
      "Skipping vacancy https://careers.ibm.com/job/16140837/consultor-sap-mm-sr-remote/\n",
      "Skipping vacancy https://careers.ibm.com/job/16140838/administrador-web-application-server-remote/\n",
      "Skipping vacancy https://careers.ibm.com/job/15741824/analista-de-negocios-e2e-remote/\n",
      "Skipping vacancy https://careers.ibm.com/job/15922112/desarrollador-de-aplicaciones-java-web-technologies-remote/\n",
      "Skipping vacancy https://careers.ibm.com/job/14685886/tech-re-entry-program-remote/\n",
      "Skipping vacancy https://careers.ibm.com/job/15390295/desarrollador-devops-remote/\n",
      "Skipping vacancy https://careers.ibm.com/job/15515218/consultora-or-sap-scm-sd-buenos-aires-ar/\n",
      "Skipping vacancy https://careers.ibm.com/job/15907934/desarrollador-web-mobile-remote/\n",
      "Skipping vacancy https://careers.ibm.com/job/15922113/desarrollador-de-aplicaciones-java-web-technologies-remote/\n",
      "Skipping vacancy https://careers.ibm.com/job/16155766/-senior-talent-acquisition-partner-tokyo-jp/\n",
      "Skipping vacancy https://careers.ibm.com/job/16155767/-talent-acquisition-sourcer-tokyo-jp/\n",
      "Skipping vacancy https://careers.ibm.com/job/14631846/blue-journey-programa-de-estudiantes-en-pr-ctica-per-2022-lima-pe/\n",
      "Skipping vacancy https://careers.ibm.com/job/15907882/pesquisador-em-engenharia-de-software-senior-hortol-ndia-br/\n",
      "Skipping vacancy https://careers.ibm.com/job/16162260/desarrollador-net-buenos-aires-ar/\n"
     ]
    },
    {
     "name": "stderr",
     "output_type": "stream",
     "text": [
      " 51%|█████▏    | 6774/13203 [00:03<00:03, 2032.48it/s]"
     ]
    },
    {
     "name": "stdout",
     "output_type": "stream",
     "text": [
      "Skipping vacancy https://careers.ibm.com/job/15956417/iteration-manager-hortol-ndia-br/\n",
      "Skipping vacancy https://careers.ibm.com/job/14648741/team-lead-java-h-f-remote-ibm-cic-remote/\n",
      "Skipping vacancy https://careers.ibm.com/job/14648740/d-veloppeur-java-exp-riment-h-f-remote-ibm-cic-remote/\n",
      "Skipping vacancy https://careers.ibm.com/job/15924803/application-developer-dbms-hortol-ndia-br/\n",
      "Skipping vacancy https://careers.ibm.com/job/14811645/-ibm-pm-it-it-tokyo-jp/\n",
      "Skipping vacancy https://careers.ibm.com/job/14958171/-ibm-tokyo-jp/\n",
      "Skipping vacancy https://careers.ibm.com/job/16169398/analista-de-processos-de-recursos-humanos-junior-hortol-ndia-br/\n",
      "Skipping vacancy https://careers.ibm.com/job/16169406/consultor-a-sr-sap-fi-remote/\n",
      "Skipping vacancy https://careers.ibm.com/job/16169407/consultora-or-sap-hana-fi-remote/\n",
      "Skipping vacancy https://careers.ibm.com/job/15828696/scrum-master-remote/\n",
      "Skipping vacancy https://careers.ibm.com/job/15922114/desarrollador-de-aplicaciones-java-web-technologies-remote/\n",
      "Skipping vacancy https://careers.ibm.com/job/15977365/especialista-netcool-remote/\n",
      "Skipping vacancy https://careers.ibm.com/job/15325382/desenvolvedor-de-software-pleno-rio-de-janeiro-br/\n",
      "Skipping vacancy https://careers.ibm.com/job/16049922/-ibm-it-tokyo-jp/\n",
      "Skipping vacancy https://careers.ibm.com/job/16049196/-ibm-oracle-gtm-tokyo-jp/\n",
      "Skipping vacancy https://careers.ibm.com/job/15636361/desenvolvedor-a-de-aplica-es-back-end-hortol-ndia-br/\n",
      "Skipping vacancy https://careers.ibm.com/job/15655069/ux-designer-remote/\n",
      "Skipping vacancy https://careers.ibm.com/job/15688605/application-developer-mainframe-modernization-hortol-ndia-br/\n",
      "Skipping vacancy https://careers.ibm.com/job/15688606/infrastructure-specialist-system-administration-remote/\n",
      "Skipping vacancy https://careers.ibm.com/job/15796926/application-database-administrator-dbms-remote/\n",
      "Skipping vacancy https://careers.ibm.com/job/15547300/-tokyo-jp/\n",
      "Skipping vacancy https://careers.ibm.com/job/16019849/-ise-servicenow-chiba-jp/\n",
      "Skipping vacancy https://careers.ibm.com/job/16023493/tester-funcional-remote/\n",
      "Skipping vacancy https://careers.ibm.com/job/16023495/tester-funcional-remote/\n",
      "Skipping vacancy https://careers.ibm.com/job/16031260/-ibm-pm-it-it-tokyo-jp/\n",
      "Skipping vacancy https://careers.ibm.com/job/16031262/-ibm-pm-it-it-tokyo-jp/\n",
      "Skipping vacancy https://careers.ibm.com/job/16031263/-ibm-it-tokyo-jp/\n",
      "Skipping vacancy https://careers.ibm.com/job/16031264/-ibm-it-tokyo-jp/\n",
      "Skipping vacancy https://careers.ibm.com/job/16031265/-ibm-it-tokyo-jp/\n",
      "Skipping vacancy https://careers.ibm.com/job/15973702/-ibm-tokyo-jp/\n",
      "Skipping vacancy https://careers.ibm.com/job/15636354/desenvolvedor-a-de-aplica-es-devops-remote/\n",
      "Skipping vacancy https://careers.ibm.com/job/16025858/onboarding-specialist-bogota-co/\n"
     ]
    },
    {
     "name": "stderr",
     "output_type": "stream",
     "text": [
      " 54%|█████▍    | 7182/13203 [00:03<00:02, 2015.62it/s]"
     ]
    },
    {
     "name": "stdout",
     "output_type": "stream",
     "text": [
      "Skipping vacancy https://careers.ibm.com/job/16032910/-ibm-ibm-power-chiba-jp/\n",
      "Skipping vacancy https://careers.ibm.com/job/16039929/-ibm-labservices-tokyo-jp/\n",
      "Skipping vacancy https://careers.ibm.com/job/16039234/-ibm-client-engineering-tokyo-jp/\n",
      "Skipping vacancy https://careers.ibm.com/job/14958173/-ibm-client-engineering-tokyo-jp/\n",
      "Skipping vacancy https://careers.ibm.com/job/15483833/l-der-t-cnico-bogota-co/\n",
      "Skipping vacancy https://careers.ibm.com/job/16053113/analista-administrativo-bogota-co/\n",
      "Skipping vacancy https://careers.ibm.com/job/15441026/-ibm-japan-cloud-solution-architect-developer-tokyo-jp/\n",
      "Skipping vacancy https://careers.ibm.com/job/15227304/-ibm-tokyo-jp/\n",
      "Skipping vacancy https://careers.ibm.com/job/15741825/application-consultant-bogota-co/\n",
      "Skipping vacancy https://careers.ibm.com/job/16070109/-ijds-ux-tokyo-jp/\n",
      "Skipping vacancy https://careers.ibm.com/job/15600071/-ibm-digital-business-strategy-consultant-tokyo-jp/\n",
      "Skipping vacancy https://careers.ibm.com/job/14987925/-ibm-japan-ui-ux-designer-design-consultant-tokyo-jp/\n",
      "Skipping vacancy https://careers.ibm.com/job/16077740/analista-de-incentivos-senior-rio-de-janeiro-br/\n",
      "Skipping vacancy https://careers.ibm.com/job/15900418/agile-coach-devsecops-sr-remote/\n",
      "Skipping vacancy https://careers.ibm.com/job/15930720/analista-funcional-sr-remote/\n",
      "Skipping vacancy https://careers.ibm.com/job/16098351/consultora-or-sap-scm-sd-remote/\n",
      "Skipping vacancy https://careers.ibm.com/job/15550311/-iot-maas-tokyo-jp/\n",
      "Skipping vacancy https://careers.ibm.com/job/16084528/-isoc-naha-jp/\n",
      "Skipping vacancy https://careers.ibm.com/job/16086118/engenheiro-de-confiabilidade-do-site-senior-sre-aplica-o-ecmvs-remote/\n",
      "Skipping vacancy https://careers.ibm.com/job/15489520/-ibm-pm-it-it-tokyo-jp/\n"
     ]
    },
    {
     "name": "stderr",
     "output_type": "stream",
     "text": [
      " 59%|█████▉    | 7807/13203 [00:03<00:02, 2012.96it/s]"
     ]
    },
    {
     "name": "stdout",
     "output_type": "stream",
     "text": [
      "Skipping vacancy https://careers.ibm.com/job/15571665/desenvolvedor-de-software-full-stack-rio-de-janeiro-br/\n",
      "Skipping vacancy https://careers.ibm.com/job/15979736/arquitecto-microservicios-buenos-aires-ar/\n",
      "Skipping vacancy https://careers.ibm.com/job/16084556/desarrollador-sr-en-sap-abap-erp-remote/\n",
      "Skipping vacancy https://careers.ibm.com/job/15600075/-ibm-tokyo-jp/\n",
      "Skipping vacancy https://careers.ibm.com/job/15890303/fin-admin-business-associate-bogota-co/\n"
     ]
    },
    {
     "name": "stderr",
     "output_type": "stream",
     "text": [
      " 67%|██████▋   | 8875/13203 [00:04<00:02, 1988.08it/s]"
     ]
    },
    {
     "name": "stdout",
     "output_type": "stream",
     "text": [
      "Skipping vacancy https://careers.ibm.com/job/16049923/-ibm-it-tokyo-jp/\n",
      "Skipping vacancy https://careers.ibm.com/job/15181750/associ-adjoint-sap-services-publics-ottawa-ca/\n",
      "Skipping vacancy https://careers.ibm.com/job/15447967/responsable-de-la-technologie-et-de-la-strat-gie-sap-ottawa-ca/\n",
      "Skipping vacancy https://careers.ibm.com/job/15579013/d-veloppeur-sp-cialiste-de-la-s-curit-bilingue-montreal-ca/\n",
      "Skipping vacancy https://careers.ibm.com/job/15612958/consultant-senior-fa-sap-brim-ottawa-ca/\n",
      "Skipping vacancy https://careers.ibm.com/job/15615373/chef-de-projet-consultant-en-chef-ottawa-ca/\n",
      "Skipping vacancy https://careers.ibm.com/job/15636342/d-veloppeur-dapplications-senior-salesforce-ottawa-ca/\n",
      "Skipping vacancy https://careers.ibm.com/job/15666426/conseiller-en-paiement-d-veloppement-de-la-client-le-ottawa-ca/\n",
      "Skipping vacancy https://careers.ibm.com/job/15757088/sp-cialiste-principal-des-donn-es-ottawa-ca/\n",
      "Skipping vacancy https://careers.ibm.com/job/15771973/responsable-technique-de-client-montreal-ca/\n",
      "Skipping vacancy https://careers.ibm.com/job/15774416/expert-sap-successfactors-ec-payroll-partout-au-canada-ottawa-ca/\n",
      "Skipping vacancy https://careers.ibm.com/job/15796925/d-veloppeur-mulesoft-ottawa-ca/\n",
      "Skipping vacancy https://careers.ibm.com/job/15808119/ing-nieur-en-approvisionnements-bromont-ca/\n",
      "Skipping vacancy https://careers.ibm.com/job/15818907/concepteur-d-architecture-de-cybers-curit-les-solutions-pr-vente-ottawa-ca/\n",
      "Skipping vacancy https://careers.ibm.com/job/15821737/concepteur-technique-darchitecture-solutions-salesforce-ottawa-ca/\n",
      "Skipping vacancy https://careers.ibm.com/job/15872500/config-oracle-field-service-cloud-ottawa-ca/\n",
      "Skipping vacancy https://careers.ibm.com/job/15876027/directeur-de-partenariats-quantiques-montreal-ca/\n",
      "Skipping vacancy https://careers.ibm.com/job/15900415/expert-des-avantages-des-changements-techniques-dans-successfactors-ottawa-ca/\n",
      "Skipping vacancy https://careers.ibm.com/job/15900416/consultant-senior-sap-hana-scm-ibp-ottawa-ca/\n",
      "Skipping vacancy https://careers.ibm.com/job/15900417/ing-nieur-en-d-veloppement-de-proc-d-s-bromont-ca/\n",
      "Skipping vacancy https://careers.ibm.com/job/15917326/architecte-de-solution-senior-edge-ia-op-rations-connect-es-ottawa-ca/\n",
      "Skipping vacancy https://careers.ibm.com/job/15917691/concepteur-darchitecture-dapplication-maximo-ottawa-ca/\n",
      "Skipping vacancy https://careers.ibm.com/job/15933007/conseiller-en-transformation-organisationnelle-maximo-ottawa-ca/\n",
      "Skipping vacancy https://careers.ibm.com/job/15942721/responsable-national-des-ventes-dibm-security-digital-trust-canada-ottawa-ca/\n",
      "Skipping vacancy https://careers.ibm.com/job/15990740/directeur-du-d-veloppement-commercial-sap-successfactors-ottawa-ca/\n",
      "Skipping vacancy https://careers.ibm.com/job/15990741/expert-en-migration-successfactors-ec-hcm-ottawa-ca/\n",
      "Skipping vacancy https://careers.ibm.com/job/15990743/repr-sentant-redevance-pour-les-abonnements-ottawa-ca/\n",
      "Skipping vacancy https://careers.ibm.com/job/16000344/technicien-planification-des-besoins-en-mati-res-premi-res-bromont-ca/\n",
      "Skipping vacancy https://careers.ibm.com/job/16010788/associ-adjoint-sap-secteur-public-ottawa-ca/\n",
      "Skipping vacancy https://careers.ibm.com/job/16010790/d-veloppeur-full-stack-montr-al-montreal-ca/\n",
      "Skipping vacancy https://careers.ibm.com/job/16057436/chef-de-projet-technologies-de-linformation-logistique-bromont-ca/\n",
      "Skipping vacancy https://careers.ibm.com/job/16077737/directeur-des-technologies-du-qu-bec-montreal-ca/\n",
      "Skipping vacancy https://careers.ibm.com/job/16086104/responsable-fonctionnel-senior-manager-workforce-software-ottawa-ca/\n",
      "Skipping vacancy https://careers.ibm.com/job/16088200/consultant-technique-s-nior-manager-workforce-software-ottawa-ca/\n",
      "Skipping vacancy https://careers.ibm.com/job/16096276/op-rateur-swift-ottawa-ca/\n",
      "Skipping vacancy https://careers.ibm.com/job/16098313/d-veloppeur-angular-s-nior-ibm-ix-services-conseils-ibm-ottawa-ca/\n",
      "Skipping vacancy https://careers.ibm.com/job/16098314/conseiller-principal-en-gestion-de-produits-ibm-ix-ibm-conseil-ottawa-ca/\n",
      "Skipping vacancy https://careers.ibm.com/job/16130705/sp-cialiste-de-communication-stagiaire-4-mois-montreal-ca/\n",
      "Skipping vacancy https://careers.ibm.com/job/16130706/concepteur-technique-darchitecture-solutions-salesforce-ottawa-ca/\n",
      "Skipping vacancy https://careers.ibm.com/job/16137933/directeur-ex-cutif-du-d-veloppement-commercial-services-de-s-curit-ottawa-ca/\n",
      "Skipping vacancy https://careers.ibm.com/job/16151368/concepteur-principal-de-produits-ottawa-ca/\n",
      "Skipping vacancy https://careers.ibm.com/job/16151369/d-veloppeur-senior-full-stack-ottawa-ca/\n",
      "Skipping vacancy https://careers.ibm.com/job/16160909/conseiller-pour-la-paie-et-les-rh-oracle-cloud-ottawa-ca/\n",
      "Skipping vacancy https://careers.ibm.com/job/14971226/d-veloppeur-java-junior-h-f-ibm-cic-lille-fr/\n",
      "Skipping vacancy https://careers.ibm.com/job/15392606/d-veloppeur-ios-h-f-ibm-cic-remote/\n",
      "Skipping vacancy https://careers.ibm.com/job/15455486/project-manager-h-f-ibm-cic-remote/\n",
      "Skipping vacancy https://careers.ibm.com/job/15466654/team-lead-net-h-f-ibm-cic-remote/\n",
      "Skipping vacancy https://careers.ibm.com/job/15603073/directeur-de-projet-salesforce-remote/\n",
      "Skipping vacancy https://careers.ibm.com/job/15748693/alternance-d-veloppeur-net-h-f-ibm-cic-lille-fr/\n",
      "Skipping vacancy https://careers.ibm.com/job/15872505/consultant-technique-administrateur-infor-m3-h-f-ibm-cic-remote/\n",
      "Skipping vacancy https://careers.ibm.com/job/15872506/alternance-consultant-fonctionnel-erp-h-f-ibm-cic-lille-fr/\n",
      "Skipping vacancy https://careers.ibm.com/job/15916194/leader-technique-java-h-f-ibm-cic-lille-fr/\n",
      "Skipping vacancy https://careers.ibm.com/job/16053102/stage-d-veloppeur-angular-node-js-h-f-ibm-cic-lille-fr/\n",
      "Skipping vacancy https://careers.ibm.com/job/16145317/leader-technique-net-h-f-ibm-cic-lille-fr/\n",
      "Skipping vacancy https://careers.ibm.com/job/16145318/d-veloppeur-exp-riment-en-business-intelligence-h-f-ibm-cic-remote/\n",
      "Skipping vacancy https://careers.ibm.com/job/16165748/consultant-fonctionnel-infor-m3-h-f-ibm-cic-lille-fr/\n",
      "Skipping vacancy https://careers.ibm.com/job/16162258/analista-funcional-rpa-buenos-aires-ar/\n",
      "Skipping vacancy https://careers.ibm.com/job/16167949/desarrollador-bpm-buenos-aires-ar/\n",
      "Skipping vacancy https://careers.ibm.com/job/14911550/application-developer-experience-back-end-s-o-paulo-br/\n",
      "Skipping vacancy https://careers.ibm.com/job/15094402/desenvolvedor-de-software-pleno-ansible-python-remote/\n",
      "Skipping vacancy https://careers.ibm.com/job/15165349/software-developer-ansible-python-hortol-ndia-br/\n",
      "Skipping vacancy https://careers.ibm.com/job/15190558/application-developer-java-web-technologies-java-angular-remoto-remote/\n",
      "Skipping vacancy https://careers.ibm.com/job/15190559/application-database-administrator-nosql-cloud-databases-remote/\n",
      "Skipping vacancy https://careers.ibm.com/job/15196338/systems-management-specialist-hortol-ndia-br/\n",
      "Skipping vacancy https://careers.ibm.com/job/15196339/systems-management-specialist-hortol-ndia-br/\n",
      "Skipping vacancy https://careers.ibm.com/job/15287942/application-developer-hortol-ndia-br/\n",
      "Skipping vacancy https://careers.ibm.com/job/15383313/desenvolvedor-de-aplicativos-back-end-s-o-paulo-br/\n",
      "Skipping vacancy https://careers.ibm.com/job/15503179/desenvolvedor-de-aplicativos-back-end-s-o-paulo-br/\n",
      "Skipping vacancy https://careers.ibm.com/job/15594661/designer-master-s-o-paulo-br/\n",
      "Skipping vacancy https://careers.ibm.com/job/15622753/desenvolvedor-de-software-senior-s-o-paulo-br/\n",
      "Skipping vacancy https://careers.ibm.com/job/15636357/especialista-de-dados-remoto-remote/\n",
      "Skipping vacancy https://careers.ibm.com/job/15638678/desenvolvedor-de-software-master-s-o-paulo-br/\n",
      "Skipping vacancy https://careers.ibm.com/job/15638679/desenvolvedor-de-software-senior-s-o-paulo-br/\n",
      "Skipping vacancy https://careers.ibm.com/job/15657879/desenvolvedor-a-java-remoto-recife-remote/\n",
      "Skipping vacancy https://careers.ibm.com/job/15666427/desenvolvedor-de-aplica-es-pleno-s-o-paulo-br/\n",
      "Skipping vacancy https://careers.ibm.com/job/15695898/consultant-sap-home-office-salvador-remote/\n",
      "Skipping vacancy https://careers.ibm.com/job/15695900/application-developer-java-home-office-joinville-remote/\n",
      "Skipping vacancy https://careers.ibm.com/job/15808121/arquiteto-a-de-solu-es-t-cnicas-remote/\n",
      "Skipping vacancy https://careers.ibm.com/job/15898484/designer-pleno-hortol-ndia-br/\n",
      "Skipping vacancy https://careers.ibm.com/job/15898486/analista-de-desenvolvimento-de-sistemas-hortol-ndia-br/\n",
      "Skipping vacancy https://careers.ibm.com/job/15917693/mq-mainframe-software-especialista-s-o-paulo-br/\n",
      "Skipping vacancy https://careers.ibm.com/job/15922107/desenvolvedor-de-software-pleno-hortol-ndia-br/\n",
      "Skipping vacancy https://careers.ibm.com/job/15969367/arquiteto-a-de-solu-es-t-cnicas-remote/\n",
      "Skipping vacancy https://careers.ibm.com/job/15993125/especialista-de-software-pleno-s-o-paulo-br/\n",
      "Skipping vacancy https://careers.ibm.com/job/16000374/engenheiro-de-aplica-es-sre-s-o-paulo-br/\n",
      "Skipping vacancy https://careers.ibm.com/job/16025852/assistente-financeiro-junior-hortol-ndia-br/\n",
      "Skipping vacancy https://careers.ibm.com/job/16037274/business-analyst-adm-remote/\n",
      "Skipping vacancy https://careers.ibm.com/job/16039236/consultor-de-seguran-a-da-informa-o-senior-s-o-paulo-br/\n",
      "Skipping vacancy https://careers.ibm.com/job/16084531/desenvolvedor-de-aplica-es-pleno-hortol-ndia-br/\n",
      "Skipping vacancy https://careers.ibm.com/job/16084532/especialista-em-mq-was-e-broker-s-o-paulo-br/\n",
      "Skipping vacancy https://careers.ibm.com/job/16093925/engenheiro-de-aplica-es-sre-s-o-paulo-br/\n",
      "Skipping vacancy https://careers.ibm.com/job/16126914/assistente-de-opera-es-de-recursos-humanos-pleno-hortol-ndia-br/\n",
      "Skipping vacancy https://careers.ibm.com/job/16160924/assistente-financeiro-senior-hortol-ndia-br/\n",
      "Skipping vacancy https://careers.ibm.com/job/16165782/gerente-de-entrega-arquiteto-de-engenharia-de-armazenamento-e-sistemas-hortol-ndia-br/\n",
      "Skipping vacancy https://careers.ibm.com/job/14295426/blue-journey-programa-de-estudiantes-en-pr-ctica-chile-2022-santiago-cl/\n",
      "Skipping vacancy https://careers.ibm.com/job/15040469/consultor-mantenimiento-de-planta-pm-medell-n-co/\n",
      "Skipping vacancy https://careers.ibm.com/job/15040471/consultor-seguridad-medell-n-co/\n",
      "Skipping vacancy https://careers.ibm.com/job/15094405/desarrollador-a-java-remote/\n",
      "Skipping vacancy https://careers.ibm.com/job/15094406/desarrollador-a-message-broker-integration-bus-remote/\n",
      "Skipping vacancy https://careers.ibm.com/job/15103168/desarrollador-a-de-backend-remote/\n",
      "Skipping vacancy https://careers.ibm.com/job/15257594/desarrollador-java-remote/\n",
      "Skipping vacancy https://careers.ibm.com/job/15260413/consultor-a-sap-remote/\n",
      "Skipping vacancy https://careers.ibm.com/job/15282434/desarrollador-devops-buenos-aires-ar/\n",
      "Skipping vacancy https://careers.ibm.com/job/15282436/desarrollador-java-remote/\n",
      "Skipping vacancy https://careers.ibm.com/job/15303542/desarrollador-java-remote/\n",
      "Skipping vacancy https://careers.ibm.com/job/15569636/scrum-master-remote/\n",
      "Skipping vacancy https://careers.ibm.com/job/15605721/automation-tester-chapter-lead-remote/\n",
      "Skipping vacancy https://careers.ibm.com/job/15610532/consultor-sap-hr-buenos-aires-ar/\n",
      "Skipping vacancy https://careers.ibm.com/job/15622758/gerente-de-proyectos-remote/"
     ]
    },
    {
     "name": "stderr",
     "output_type": "stream",
     "text": [
      " 70%|███████   | 9288/13203 [00:04<00:01, 2027.90it/s]"
     ]
    },
    {
     "name": "stdout",
     "output_type": "stream",
     "text": [
      "\n",
      "Skipping vacancy https://careers.ibm.com/job/15680862/analista-programador-senior-cobol-buenos-aires-ar/\n",
      "Skipping vacancy https://careers.ibm.com/job/15721493/jefe-de-proyectos-especialista-de-pruebas-buenos-aires-ar/\n",
      "Skipping vacancy https://careers.ibm.com/job/15821739/data-engineer-google-cloud-platforms-remote/\n",
      "Skipping vacancy https://careers.ibm.com/job/15828699/arquitecto-aws-remote/\n",
      "Skipping vacancy https://careers.ibm.com/job/15832350/desarrollador-pl-sql-buenos-aires-ar/\n",
      "Skipping vacancy https://careers.ibm.com/job/15840643/desarrollador-de-aplicaciones-rpa-sr-buenos-aires-ar/\n",
      "Skipping vacancy https://careers.ibm.com/job/15907936/cloud-architecture-builder-remote/\n",
      "Skipping vacancy https://careers.ibm.com/job/15909714/fullstack-cloud-developer-remote/\n",
      "Skipping vacancy https://careers.ibm.com/job/15909715/site-reliability-engineer-sre-remote/\n",
      "Skipping vacancy https://careers.ibm.com/job/15958092/desarrollador-java-remote/\n",
      "Skipping vacancy https://careers.ibm.com/job/16023496/desarrollador-java-fullstack-buenos-aires-ar/\n",
      "Skipping vacancy https://careers.ibm.com/job/16084554/analistas-cuentas-a-pagar-semi-sr-remote/\n",
      "Skipping vacancy https://careers.ibm.com/job/16084555/analistas-cuentas-a-pagar-semi-sr-remote/\n",
      "Skipping vacancy https://careers.ibm.com/job/16130708/consultor-de-incidentes-de-seguridad-medell-n-co/\n",
      "Skipping vacancy https://careers.ibm.com/job/16126912/-ibm-it-tokyo-jp/\n",
      "Skipping vacancy https://careers.ibm.com/job/16126913/-ibm-it-tokyo-jp/\n",
      "Skipping vacancy https://careers.ibm.com/job/16128861/arquiteto-de-aplica-es-pl-sr-remote/\n",
      "Skipping vacancy https://careers.ibm.com/job/12388017/programa-est-gio-inclusivo-2022-vaga-exclusiva-para-pcd-hortol-ndia-br/\n",
      "Skipping vacancy https://careers.ibm.com/job/16130707/consultor-senior-seguran-a-da-informa-o-data-protection-remote/\n"
     ]
    },
    {
     "name": "stderr",
     "output_type": "stream",
     "text": [
      " 80%|████████  | 10567/13203 [00:05<00:01, 2087.69it/s]"
     ]
    },
    {
     "name": "stdout",
     "output_type": "stream",
     "text": [
      "Skipping vacancy https://careers.ibm.com/job/14571204/-ibm-it-strategy-consultant-tokyo-jp/\n",
      "Skipping vacancy https://careers.ibm.com/job/15728575/promontory-emea-senior-principal-ict-risk-cloud-ibm-france-h-f-paris-fr/\n",
      "Skipping vacancy https://careers.ibm.com/job/16084549/tester-funcional-remote/\n",
      "Skipping vacancy https://careers.ibm.com/job/16137934/cientista-analista-de-dados-senior-remote/\n",
      "Skipping vacancy https://careers.ibm.com/job/15636356/desenvolvedor-a-ou-consultor-a-salesforce-remoto-remote/\n",
      "Skipping vacancy https://careers.ibm.com/job/15695899/salesforce-desenvolvedor-a-e-consultor-a-home-office-salvador-remote/\n",
      "Skipping vacancy https://careers.ibm.com/job/16143817/-ibm-it-tokyo-jp/\n",
      "Skipping vacancy https://careers.ibm.com/job/16140834/consultor-funcional-senior-tx-bogota-co/\n",
      "Skipping vacancy https://careers.ibm.com/job/16140836/sap-sd-remote/\n",
      "Skipping vacancy https://careers.ibm.com/job/16140833/engenheiro-de-confiabilidade-do-site-hortol-ndia-br/\n",
      "Skipping vacancy https://careers.ibm.com/job/16140835/arquitecto-de-aplicaciones-buenos-aires-ar/\n",
      "Skipping vacancy https://careers.ibm.com/job/15282438/desarrollador-java-remote/\n",
      "Skipping vacancy https://careers.ibm.com/job/16086119/engenheiro-j-nior-de-confiabilidade-do-site-remote/\n",
      "Skipping vacancy https://careers.ibm.com/job/16147160/desenvolvedor-de-automa-o-junior-remote/\n"
     ]
    },
    {
     "name": "stderr",
     "output_type": "stream",
     "text": [
      " 83%|████████▎ | 10982/13203 [00:05<00:01, 2043.74it/s]"
     ]
    },
    {
     "name": "stdout",
     "output_type": "stream",
     "text": [
      "Skipping vacancy https://careers.ibm.com/job/15636352/desenvolvedor-a-de-aplicac-es-fullstack-remote/\n",
      "Skipping vacancy https://careers.ibm.com/job/16147182/desarrollador-de-aplicaciones-remote/\n",
      "Skipping vacancy https://careers.ibm.com/job/16155768/consultora-o-sap-basis-remote/\n",
      "Skipping vacancy https://careers.ibm.com/job/16155769/consultor-a-sap-fi-remote/\n",
      "Skipping vacancy https://careers.ibm.com/job/16158644/est-gio-em-opera-es-de-vendas-hortol-ndia-br/\n",
      "Skipping vacancy https://careers.ibm.com/job/16158645/l-der-t-cnico-remote/\n",
      "Skipping vacancy https://careers.ibm.com/job/16160923/devops-specialist-hortol-ndia-br/\n",
      "Skipping vacancy https://careers.ibm.com/job/14598354/-ibm-ibm-partner-success-engineer-tokyo-jp/\n",
      "Skipping vacancy https://careers.ibm.com/job/14598355/-ibm-ibm-partner-success-engineer-tokyo-jp/\n",
      "Skipping vacancy https://careers.ibm.com/job/13641669/-ibm-security-soc-shift-tokyo-jp/\n",
      "Skipping vacancy https://careers.ibm.com/job/13677107/-ibm-tokyo-jp/\n",
      "Skipping vacancy https://careers.ibm.com/job/14023351/-ibm-tokyo-jp/\n",
      "Skipping vacancy https://careers.ibm.com/job/16167940/especialista-t-cnico-do-cliente-hortol-ndia-br/\n",
      "Skipping vacancy https://careers.ibm.com/job/15924804/application-developer-dbms-hortol-ndia-br/\n",
      "Skipping vacancy https://careers.ibm.com/job/15977366/agile-coach-devsecops-sr-remote/\n",
      "Skipping vacancy https://careers.ibm.com/job/16140840/especialista-de-pruebas-buenos-aires-ar/\n",
      "Skipping vacancy https://careers.ibm.com/job/16169399/pesquisador-de-dados-senior-remote/\n",
      "Skipping vacancy https://careers.ibm.com/job/16169405/consultor-sap-mm-con-vm-remote/\n",
      "Skipping vacancy https://careers.ibm.com/job/16169408/consultor-sap-hana-sd-remote/\n"
     ]
    },
    {
     "name": "stderr",
     "output_type": "stream",
     "text": [
      " 93%|█████████▎| 12226/13203 [00:06<00:00, 1768.27it/s]"
     ]
    },
    {
     "name": "stdout",
     "output_type": "stream",
     "text": [
      "Skipping vacancy https://careers.ibm.com/job/14782037/associ-adjoint-services-dint-gration-mulesoft-ottawa-ca/\n",
      "Skipping vacancy https://careers.ibm.com/job/15181751/associ-adjoint-secteur-nergie-et-services-publics-montreal-ca/\n",
      "Skipping vacancy https://careers.ibm.com/job/15185195/professionnel-technique-de-marque-aiops-observabilit-et-gestion-de-markham-ca/\n",
      "Skipping vacancy https://careers.ibm.com/job/15405025/repr-sentant-des-pr-ventes-de-stockage-flashsystem-montreal-ca/\n",
      "Skipping vacancy https://careers.ibm.com/job/15425388/partenaire-associ-donn-es-et-ia-montreal-ca/\n",
      "Skipping vacancy https://careers.ibm.com/job/15447968/analyste-de-la-conformit-informatique-ottawa-ca/\n",
      "Skipping vacancy https://careers.ibm.com/job/15480626/ing-nieur-en-automatisation-d-quipement-bromont-ca/\n",
      "Skipping vacancy https://careers.ibm.com/job/15552904/d-veloppeur-g-n-raliste-dapplications-infonuagiques-azure-ottawa-ca/\n",
      "Skipping vacancy https://careers.ibm.com/job/15552905/microsoft-dynamics-365-finance-operations-ax-concepteur-darchitect-ottawa-ca/\n",
      "Skipping vacancy https://careers.ibm.com/job/15571660/concepteur-darchitecture-fiabilit-des-sites-ottawa-ca/\n",
      "Skipping vacancy https://careers.ibm.com/job/15644124/concepteur-darchitecture-mulesoft-ottawa-ca/\n",
      "Skipping vacancy https://careers.ibm.com/job/15678779/architecte-dapplication-sap-senior-ottawa-ca/\n",
      "Skipping vacancy https://careers.ibm.com/job/15711650/conseiller-re-principal-e-en-transformation-des-talents-ottawa-ca/\n",
      "Skipping vacancy https://careers.ibm.com/job/15774417/conseiller-principal-ou-directeur-recrutement-et-accueil-successfact-ottawa-ca/\n",
      "Skipping vacancy https://careers.ibm.com/job/15832349/de-concepteur-de-donn-es-ottawa-ca/\n",
      "Skipping vacancy https://careers.ibm.com/job/15872499/technicien-en-assurance-qualit-bromont-ca/\n",
      "Skipping vacancy https://careers.ibm.com/job/15872501/oracle-utilities-conseiller-sp-cialis-ottawa-ca/\n",
      "Skipping vacancy https://careers.ibm.com/job/15872502/d-veloppeur-dinterfaces-ottawa-ca/\n",
      "Skipping vacancy https://careers.ibm.com/job/15886208/d-veloppeur-full-stack-ottawa-ca/\n",
      "Skipping vacancy https://careers.ibm.com/job/15900414/associ-adjoint-exploitation-mini-re-ottawa-ca/\n",
      "Skipping vacancy https://careers.ibm.com/job/15909699/technicien-en-m-tallurgie-bromont-ca/\n",
      "Skipping vacancy https://careers.ibm.com/job/15917324/sp-cialiste-technique-de-marques-ibm-power-ottawa-ca/\n",
      "Skipping vacancy https://careers.ibm.com/job/15917325/directeur-de-lint-gration-successfactors-nimporte-o-au-canada-ottawa-ca/\n",
      "Skipping vacancy https://careers.ibm.com/job/15917327/architecte-dapplication-edge-ia-op-rations-connect-es-ottawa-ca/\n",
      "Skipping vacancy https://careers.ibm.com/job/15935342/chef-fonctionnel-oracle-epbcs-ottawa-ca/\n",
      "Skipping vacancy https://careers.ibm.com/job/15942720/concepteur-darchitecture-de-solutions-centre-de-paiements-ibm-ottawa-ca/\n",
      "Skipping vacancy https://careers.ibm.com/job/15956416/ing-nieur-en-mat-riaux-pour-d-veloppement-de-proc-d-d-assemblage-bromont-ca/\n",
      "Skipping vacancy https://careers.ibm.com/job/15971285/chef-de-projet-consultant-en-chef-ottawa-ca/\n",
      "Skipping vacancy https://careers.ibm.com/job/15979674/principal-concepteur-darchitecture-de-solutions-num-riques-ottawa-ca/\n",
      "Skipping vacancy https://careers.ibm.com/job/15979675/gestionnaire-de-projets-facteurs-de-succ-s-n-importe-o-au-canada-ottawa-ca/\n",
      "Skipping vacancy https://careers.ibm.com/job/15998843/d-veloppeur-senior-salesforce-sp-cialis-en-vlocity-ottawa-ca/\n",
      "Skipping vacancy https://careers.ibm.com/job/16000342/sp-cialiste-technique-de-marque-ventes-de-technologies-ottawa-ca/\n",
      "Skipping vacancy https://careers.ibm.com/job/16010789/analyste-commercial-montr-al-montreal-ca/\n",
      "Skipping vacancy https://careers.ibm.com/job/16023303/conseiller-en-solutions-salesforce-ottawa-ca/\n",
      "Skipping vacancy https://careers.ibm.com/job/16035414/conseiller-en-engagements-contractuels-bilingue-ottawa-ca/\n",
      "Skipping vacancy https://careers.ibm.com/job/16045664/analyste-programmeur-bromont-ca/\n",
      "Skipping vacancy https://careers.ibm.com/job/16055068/technicien-en-proc-d-s-d-assemblage-en-micro-lectronique-bromont-ca/\n",
      "Skipping vacancy https://careers.ibm.com/job/16055069/conseiller-sap-mdg-gestion-des-donn-es-de-r-f-rence-ottawa-ca/\n",
      "Skipping vacancy https://careers.ibm.com/job/16088199/analyste-technique-swift-ottawa-ca/\n",
      "Skipping vacancy https://careers.ibm.com/job/16093917/responsable-technique-oracle-ottawa-ca/\n",
      "Skipping vacancy https://careers.ibm.com/job/14878519/testeur-exp-riment-h-f-ibm-cic-lille-fr/\n",
      "Skipping vacancy https://careers.ibm.com/job/14892834/architecte-java-h-f-ibm-cic-remote/\n",
      "Skipping vacancy https://careers.ibm.com/job/15024598/testeur-junior-h-f-ibm-cic-lille-fr/\n",
      "Skipping vacancy https://careers.ibm.com/job/15400940/d-veloppeur-cloud-devops-h-f-ibm-cic-remote/\n",
      "Skipping vacancy https://careers.ibm.com/job/15442075/d-veloppeur-java-exp-riment-e-h-f-ibm-cic-remote/\n",
      "Skipping vacancy https://careers.ibm.com/job/15466653/ing-nieur-syst-mes-h-f-ibm-cic-remote/\n",
      "Skipping vacancy https://careers.ibm.com/job/15466655/team-lead-java-h-f-ibm-cic-remote/\n",
      "Skipping vacancy https://careers.ibm.com/job/15748694/alternance-d-veloppeur-cobol-h-f-ibm-cic-lille-fr/\n",
      "Skipping vacancy https://careers.ibm.com/job/15872504/consultant-fonctionnel-infor-m3-h-f-ibm-cic-remote/\n",
      "Skipping vacancy https://careers.ibm.com/job/15886228/d-veloppeur-fullstack-h-f-ibm-cic-remote/\n",
      "Skipping vacancy https://careers.ibm.com/job/15917330/d-veloppeur-cobol-exp-riment-h-f-ibm-cic-lille-fr/\n",
      "Skipping vacancy https://careers.ibm.com/job/15920111/devops-exp-riment-h-f-ibm-cic-remote/\n",
      "Skipping vacancy https://careers.ibm.com/job/16167928/d-veloppeur-junior-react-node-js-h-f-ibm-cic-lille-fr/\n",
      "Skipping vacancy https://careers.ibm.com/job/16160929/experto-en-seguridad-remote/\n",
      "Skipping vacancy https://careers.ibm.com/job/16162259/desarrollador-de-aplicaciones-rpa-buenos-aires-ar/\n",
      "Skipping vacancy https://careers.ibm.com/job/14923977/application-developer-experience-front-end-s-o-paulo-br/\n",
      "Skipping vacancy https://careers.ibm.com/job/15165345/arquiteto-de-software-zos-middleware-cics-or-mq-remote/\n",
      "Skipping vacancy https://careers.ibm.com/job/15165346/arquiteto-de-software-zos-storage-ou-os-base-remote/\n",
      "Skipping vacancy https://careers.ibm.com/job/15165347/arquiteto-de-software-zos-generalista-remote/\n",
      "Skipping vacancy https://careers.ibm.com/job/15211890/assistente-de-suporte-administrativo-senior-hortol-ndia-br/\n",
      "Skipping vacancy https://careers.ibm.com/job/15211891/analista-de-suporte-administrativo-hortol-ndia-br/\n",
      "Skipping vacancy https://careers.ibm.com/job/15371003/l-der-t-cnico-a-senior-s-o-paulo-br/\n",
      "Skipping vacancy https://careers.ibm.com/job/15405032/desenvolvedor-de-aplicativos-back-end-s-o-paulo-br/\n",
      "Skipping vacancy https://careers.ibm.com/job/15550312/desenvolvedor-de-software-senior-remote/\n",
      "Skipping vacancy https://careers.ibm.com/job/15581645/designer-master-s-o-paulo-br/\n",
      "Skipping vacancy https://careers.ibm.com/job/15584052/it-specialist-hortol-ndia-br/\n",
      "Skipping vacancy https://careers.ibm.com/job/15594662/designer-master-s-o-paulo-br/\n",
      "Skipping vacancy https://careers.ibm.com/job/15657880/field-marketing-remote/\n",
      "Skipping vacancy https://careers.ibm.com/job/15678780/engenheiro-de-automa-o-de-rede-senior-s-o-paulo-br/\n",
      "Skipping vacancy https://careers.ibm.com/job/15785909/consultor-de-tecnologia-de-informa-o-pleno-s-o-paulo-br/\n",
      "Skipping vacancy https://careers.ibm.com/job/15872507/ux-visual-designer-senior-s-o-paulo-br/\n",
      "Skipping vacancy https://careers.ibm.com/job/15872508/ux-visual-designer-pleno-s-o-paulo-br/\n",
      "Skipping vacancy https://careers.ibm.com/job/15886244/programa-de-est-gio-future-club-2022-s-o-paulo-br/\n",
      "Skipping vacancy https://careers.ibm.com/job/15969368/technical-solution-manager-tsm-remote/\n",
      "Skipping vacancy https://careers.ibm.com/job/16043274/analista-de-testes-de-software-pleno-s-o-paulo-br/\n",
      "Skipping vacancy https://careers.ibm.com/job/16066233/engenheiro-de-aplica-es-sre-s-o-paulo-br/\n",
      "Skipping vacancy https://careers.ibm.com/job/16084533/analista-de-software-ims-senior-remote/\n",
      "Skipping vacancy https://careers.ibm.com/job/16088202/assistente-financeiro-senior-hortol-ndia-br/\n",
      "Skipping vacancy https://careers.ibm.com/job/16151371/administrador-de-banco-de-dados-senior-s-o-paulo-br/\n",
      "Skipping vacancy https://careers.ibm.com/job/16165781/gerente-de-entrega-sme-de-seguran-a-conformidade-remote/\n",
      "Skipping vacancy https://careers.ibm.com/job/16165783/delivery-manager-devops-virtualiza-o-sme-automa-o-remote/\n",
      "Skipping vacancy https://careers.ibm.com/job/13751545/arquitecto-de-aplicaciones-mobile-buenos-aires-ar/\n",
      "Skipping vacancy https://careers.ibm.com/job/14952355/project-executive-expert-labs-santiago-cl/\n",
      "Skipping vacancy https://careers.ibm.com/job/14985276/qa-automation-tester-remote/\n",
      "Skipping vacancy https://careers.ibm.com/job/15094404/java-portal-developer-remote/\n",
      "Skipping vacancy https://careers.ibm.com/job/15094407/tech-lead-remote/\n",
      "Skipping vacancy https://careers.ibm.com/job/15100725/ingeniero-a-devops-remote/\n",
      "Skipping vacancy https://careers.ibm.com/job/15100726/desarrollador-a-frontend-remote/\n",
      "Skipping vacancy https://careers.ibm.com/job/15103167/tech-re-entry-program-remote/\n",
      "Skipping vacancy https://careers.ibm.com/job/15357810/sap-mm-wm-consultant-buenos-aires-ar/\n",
      "Skipping vacancy https://careers.ibm.com/job/15584055/project-manager-sap-buenos-aires-ar/\n",
      "Skipping vacancy https://careers.ibm.com/job/15605704/agile-coach-devsecops-sr-remote/\n",
      "Skipping vacancy https://careers.ibm.com/job/15605717/especialista-senior-en-pruebas-de-control-de-calidad-remote/\n",
      "Skipping vacancy https://careers.ibm.com/job/15664251/gerente-de-proyectos-remote/\n",
      "Skipping vacancy https://careers.ibm.com/job/15664252/gerente-de-proyectos-remote/\n",
      "Skipping vacancy https://careers.ibm.com/job/15664253/gerente-de-proyectos-remote/\n",
      "Skipping vacancy https://careers.ibm.com/job/15716634/especialista-de-pruebas-buenos-aires-ar/\n",
      "Skipping vacancy https://careers.ibm.com/job/15785911/analista-funcional-sap-mm-ssr-buenos-aires-ar/\n",
      "Skipping vacancy https://careers.ibm.com/job/15788074/desarrollador-datastage-buenos-aires-ar/\n",
      "Skipping vacancy https://careers.ibm.com/job/15788075/analista-funcional-data-stage-buenos-aires-ar/\n",
      "Skipping vacancy https://careers.ibm.com/job/15821738/desarrollador-datastage-buenos-aires-ar/\n",
      "Skipping vacancy https://careers.ibm.com/job/15828697/data-engineer-google-cloud-platforms-remote/\n",
      "Skipping vacancy https://careers.ibm.com/job/15828698/data-engineer-aws-remote/\n",
      "Skipping vacancy https://careers.ibm.com/job/15838589/especialista-de-pruebas-buenos-aires-ar/\n",
      "Skipping vacancy https://careers.ibm.com/job/15840644/desarrollador-de-aplicaciones-rpa-ssr-buenos-aires-ar/\n",
      "Skipping vacancy https://careers.ibm.com/job/15872514/pruebas-de-control-de-calidad-buenos-aires-ar/\n",
      "Skipping vacancy https://careers.ibm.com/job/15909711/arquitecto-google-cloud-platform-remote/\n",
      "Skipping vacancy https://careers.ibm.com/job/15909712/arquitecto-cloud-remote/\n",
      "Skipping vacancy https://careers.ibm.com/job/15909713/fullstack-cloud-developer-remote/\n",
      "Skipping vacancy https://careers.ibm.com/job/15926563/consultor-sap-ps-buenos-aires-ar/\n",
      "Skipping vacancy https://careers.ibm.com/job/15958091/analista-programador-visual-basic-buenos-aires-ar/\n",
      "Skipping vacancy https://careers.ibm.com/job/16084550/desarrollador-java-fullstack-buenos-aires-ar/\n",
      "Skipping vacancy https://careers.ibm.com/job/16084553/analistas-cuentas-a-pagar-semi-sr-remote/\n",
      "Skipping vacancy https://careers.ibm.com/job/16098350/representante-de-servicio-al-cliente-buenos-aires-ar/\n",
      "Skipping vacancy https://careers.ibm.com/job/16147183/l-der-t-cnico-remote/\n"
     ]
    },
    {
     "name": "stderr",
     "output_type": "stream",
     "text": [
      "100%|██████████| 13203/13203 [00:06<00:00, 2023.71it/s]\n"
     ]
    },
    {
     "data": {
      "text/plain": "13203"
     },
     "execution_count": 20,
     "metadata": {},
     "output_type": "execute_result"
    }
   ],
   "source": [
    "job_dicts = []\n",
    "for job_info in tqdm(result.json()['queryResult']):\n",
    "    full_description = clear_string(job_info['description'])\n",
    "\n",
    "    about = re.search(about_pattern, full_description)\n",
    "    if about:\n",
    "        about = about.group(1)\n",
    "\n",
    "    responsibilities = re.search(responsibilities_pattern, full_description)\n",
    "    if responsibilities:\n",
    "        responsibilities = responsibilities.group(1)\n",
    "\n",
    "    qualifications = re.search(qualifications_pattern, full_description)\n",
    "    if qualifications:\n",
    "        qualifications = qualifications.group(1)\n",
    "\n",
    "    if not qualifications and not responsibilities and not about:\n",
    "        print(f\"Skipping vacancy {job_info['url']}\")\n",
    "\n",
    "    job_dict = {\n",
    "        'title': job_info['title'],\n",
    "        'internal_id' : job_info['id'],\n",
    "        'url': job_info['url'],\n",
    "        'description': about,\n",
    "        'responsibilities': responsibilities,\n",
    "        'qualifications': qualifications,\n",
    "        'company': 'IBM',\n",
    "        'grade': job_info['level'],\n",
    "        'category': job_info['primary_category'],\n",
    "        'publish_date': parser.parse(job_info['update_date'])\n",
    "    }\n",
    "    job_dicts.append(job_dict)\n",
    "len(job_dicts)"
   ],
   "metadata": {
    "collapsed": false,
    "pycharm": {
     "name": "#%%\n"
    }
   }
  },
  {
   "cell_type": "code",
   "execution_count": 21,
   "outputs": [
    {
     "name": "stdout",
     "output_type": "stream",
     "text": [
      "13203\n"
     ]
    },
    {
     "data": {
      "text/plain": "                                                 title  internal_id  \\\n876              Industry Consultant: Industry.Banking     15685672   \n1396                              [ISE] Cloud Engineer     15914900   \n11437     Technical Support Manager, Software - REMOTE     14371257   \n2036   Application Developer: Adobe Experience Manager     15804024   \n2326                         Technical Consultant: zOS     15840575   \n\n                                                     url  \\\n876    https://careers.ibm.com/job/15685672/industry-...   \n1396   https://careers.ibm.com/job/15914900/-ise-clou...   \n11437  https://careers.ibm.com/job/14371257/technical...   \n2036   https://careers.ibm.com/job/15804024/applicati...   \n2326   https://careers.ibm.com/job/15840575/technical...   \n\n                                             description  \\\n876     IBM’s Industry Consultants are essential to o...   \n1396    At IBM, work is more than a job - it's a call...   \n11437   At IBM, work is more than a job - it's a call...   \n2036    As an Application Developer, you will lead IB...   \n2326    At IBM, work is more than a job - it's a call...   \n\n                                        responsibilities  \\\n876     As Business Analyst, you are required to work...   \n1396                  Refer to Japanese Job Description    \n11437   Provide technical leadership pre-sales in the...   \n2036    You will translate complex functional, techni...   \n2326    Managing and developing Mainframe Application...   \n\n                                          qualifications company  \\\n876     Minimum 6+ years of experience in a Business ...     IBM   \n1396    Refer to Japanese Job Description. For applic...     IBM   \n11437   4 years of Engineering with Deep OSS and SW s...     IBM   \n2036    Minimum 4+ years in development using DevOps ...     IBM   \n2326    2-4 Years of Mainframe Developer Experience. ...     IBM   \n\n              grade                        category              publish_date  \n876    Professional                      Consultant 2022-05-19 02:12:35+00:00  \n1396   Professional            Technical Specialist 2022-05-30 11:05:08+00:00  \n11437  Professional  Software Development & Support 2022-07-03 02:39:30+00:00  \n2036   Professional            Technical Specialist 2022-06-10 15:31:47+00:00  \n2326   Professional                      Consultant 2022-06-08 23:14:54+00:00  ",
      "text/html": "<div>\n<style scoped>\n    .dataframe tbody tr th:only-of-type {\n        vertical-align: middle;\n    }\n\n    .dataframe tbody tr th {\n        vertical-align: top;\n    }\n\n    .dataframe thead th {\n        text-align: right;\n    }\n</style>\n<table border=\"1\" class=\"dataframe\">\n  <thead>\n    <tr style=\"text-align: right;\">\n      <th></th>\n      <th>title</th>\n      <th>internal_id</th>\n      <th>url</th>\n      <th>description</th>\n      <th>responsibilities</th>\n      <th>qualifications</th>\n      <th>company</th>\n      <th>grade</th>\n      <th>category</th>\n      <th>publish_date</th>\n    </tr>\n  </thead>\n  <tbody>\n    <tr>\n      <th>876</th>\n      <td>Industry Consultant: Industry.Banking</td>\n      <td>15685672</td>\n      <td>https://careers.ibm.com/job/15685672/industry-...</td>\n      <td>IBM’s Industry Consultants are essential to o...</td>\n      <td>As Business Analyst, you are required to work...</td>\n      <td>Minimum 6+ years of experience in a Business ...</td>\n      <td>IBM</td>\n      <td>Professional</td>\n      <td>Consultant</td>\n      <td>2022-05-19 02:12:35+00:00</td>\n    </tr>\n    <tr>\n      <th>1396</th>\n      <td>[ISE] Cloud Engineer</td>\n      <td>15914900</td>\n      <td>https://careers.ibm.com/job/15914900/-ise-clou...</td>\n      <td>At IBM, work is more than a job - it's a call...</td>\n      <td>Refer to Japanese Job Description</td>\n      <td>Refer to Japanese Job Description. For applic...</td>\n      <td>IBM</td>\n      <td>Professional</td>\n      <td>Technical Specialist</td>\n      <td>2022-05-30 11:05:08+00:00</td>\n    </tr>\n    <tr>\n      <th>11437</th>\n      <td>Technical Support Manager, Software - REMOTE</td>\n      <td>14371257</td>\n      <td>https://careers.ibm.com/job/14371257/technical...</td>\n      <td>At IBM, work is more than a job - it's a call...</td>\n      <td>Provide technical leadership pre-sales in the...</td>\n      <td>4 years of Engineering with Deep OSS and SW s...</td>\n      <td>IBM</td>\n      <td>Professional</td>\n      <td>Software Development &amp; Support</td>\n      <td>2022-07-03 02:39:30+00:00</td>\n    </tr>\n    <tr>\n      <th>2036</th>\n      <td>Application Developer: Adobe Experience Manager</td>\n      <td>15804024</td>\n      <td>https://careers.ibm.com/job/15804024/applicati...</td>\n      <td>As an Application Developer, you will lead IB...</td>\n      <td>You will translate complex functional, techni...</td>\n      <td>Minimum 4+ years in development using DevOps ...</td>\n      <td>IBM</td>\n      <td>Professional</td>\n      <td>Technical Specialist</td>\n      <td>2022-06-10 15:31:47+00:00</td>\n    </tr>\n    <tr>\n      <th>2326</th>\n      <td>Technical Consultant: zOS</td>\n      <td>15840575</td>\n      <td>https://careers.ibm.com/job/15840575/technical...</td>\n      <td>At IBM, work is more than a job - it's a call...</td>\n      <td>Managing and developing Mainframe Application...</td>\n      <td>2-4 Years of Mainframe Developer Experience. ...</td>\n      <td>IBM</td>\n      <td>Professional</td>\n      <td>Consultant</td>\n      <td>2022-06-08 23:14:54+00:00</td>\n    </tr>\n  </tbody>\n</table>\n</div>"
     },
     "execution_count": 21,
     "metadata": {},
     "output_type": "execute_result"
    }
   ],
   "source": [
    "snapshot = pd.DataFrame(job_dicts)\n",
    "print(len(snapshot))\n",
    "snapshot.sample(5)"
   ],
   "metadata": {
    "collapsed": false,
    "pycharm": {
     "name": "#%%\n"
    }
   }
  },
  {
   "cell_type": "code",
   "execution_count": 22,
   "outputs": [
    {
     "name": "stdout",
     "output_type": "stream",
     "text": [
      "<class 'pandas.core.frame.DataFrame'>\n",
      "RangeIndex: 13203 entries, 0 to 13202\n",
      "Data columns (total 10 columns):\n",
      " #   Column            Non-Null Count  Dtype                  \n",
      "---  ------            --------------  -----                  \n",
      " 0   title             13203 non-null  object                 \n",
      " 1   internal_id       13203 non-null  int64                  \n",
      " 2   url               13203 non-null  object                 \n",
      " 3   description       12513 non-null  object                 \n",
      " 4   responsibilities  12513 non-null  object                 \n",
      " 5   qualifications    12513 non-null  object                 \n",
      " 6   company           13203 non-null  object                 \n",
      " 7   grade             13203 non-null  object                 \n",
      " 8   category          13203 non-null  object                 \n",
      " 9   publish_date      13203 non-null  datetime64[ns, tzutc()]\n",
      "dtypes: datetime64[ns, tzutc()](1), int64(1), object(8)\n",
      "memory usage: 1.0+ MB\n"
     ]
    }
   ],
   "source": [
    "snapshot.info()"
   ],
   "metadata": {
    "collapsed": false,
    "pycharm": {
     "name": "#%%\n"
    }
   }
  },
  {
   "cell_type": "code",
   "execution_count": 23,
   "outputs": [
    {
     "data": {
      "text/plain": "'03-07-2022'"
     },
     "execution_count": 23,
     "metadata": {},
     "output_type": "execute_result"
    }
   ],
   "source": [
    "current_date = datetime.now().strftime('%d-%m-%Y')\n",
    "current_date"
   ],
   "metadata": {
    "collapsed": false,
    "pycharm": {
     "name": "#%%\n"
    }
   }
  },
  {
   "cell_type": "code",
   "execution_count": 24,
   "outputs": [],
   "source": [
    "snapshot.to_csv(f'../data/ibm/{current_date}.csv')\n",
    "snapshot.to_csv(f'../data/ibm/{current_date}.tsv', sep='\\t')"
   ],
   "metadata": {
    "collapsed": false,
    "pycharm": {
     "name": "#%%\n"
    }
   }
  },
  {
   "cell_type": "code",
   "execution_count": null,
   "outputs": [],
   "source": [],
   "metadata": {
    "collapsed": false,
    "pycharm": {
     "name": "#%%\n"
    }
   }
  },
  {
   "cell_type": "markdown",
   "source": [
    "#### Проверка на единичной вакансии"
   ],
   "metadata": {
    "collapsed": false,
    "pycharm": {
     "name": "#%% md\n"
    }
   }
  },
  {
   "cell_type": "code",
   "execution_count": 125,
   "outputs": [
    {
     "data": {
      "text/plain": "\"IntroductionAt IBM, work is more than a job - it's a calling: To build. To design. To code. To consult. To think along with clients and sell. To make markets. To invent. To collaborate. Not just to do something better, but to attempt things you've never thought possible. Are you ready to lead in this new era of technology and solve some of the world's most challenging problems? If so, lets talk.Your Role and ResponsibilitiesAbout the RoleThe IBM Security Product Management team is seeking an experienced Product Manager who is technical, collaborative, and truly excited about building great endpoint security products. In this role, you will bring in-depth knowledge of the endpoint and security analytics market to lead the evolution of IBM Security’s visibility, detection, and prevention technologies for QRadar XDR portfolio. You should be able to translate a big picture vision into an execution strategy backed with market validation and customer insights. You will work closely with other product managers, engineering, research, product marketing, sales, service and support. The successful candidate will have the ability to influence cross-functional teams in the company.Responsibilities\\n Act as the product leader for initiatives that enhance Endpoint Detection and Response (EDR) visibility, detection, and prevention for Windows, Linux and macOS.\\n Utilize strategic insight and organizational skills to identify unmet customer needs, define feature requirements and use cases, and advance the functional capabilities of the product offering\\n Collaborate closely with Engineering, lead with product vision, priorities, detailed feature/function requirements, roadmap, and bring high quality products to market\\n Engage with marketing, sales and support to champion recent releases and roadmap\\n Conduct competitive analysis and maintain current information regarding competitive activity\\n Define and maintain strategy and product roadmap for IBM’s eXtended Detection and Response team in concert with other PMs and stakeholders\\n Work on a team of high-performing product professionals in a very collaborative environment Required Technical and Professional ExpertiseDemonstrated experience of product management in EDR and/or AV; previous work in malware and attack analysis, research, investigation, and response highly desirable\\n Hands-on threat or investigation analyst experience in a SOC/SOAR highly desirable\\n Curious about new technologies, systems, and tools\\n Excellent communication skills, both verbal and written, with the ability to properly translate and articulate positioning and technology\\n Demonstrated ability to collaborate with peers in research, engineering, and product marketing\\n Ability to prioritize numerous simultaneous tasks\\n Proven ability to work effectively with both local and remote teams\\n This position requires up to 25% travel to customer and IBM locations worldwidePreferred Technical and Professional Expertise-About Business UnitIBM’s Cloud and Cognitive software business is committed to bringing the power of IBM’s Cloud and Watson/AI technologies to life for our clients and ecosystem partners around the world. IBM provides you with the most comprehensive and consistent approach to development, security and operations across hybrid environments—with complete software solutions for business and IT operations, development, data science, security, and management. Our experts and software capabilities help organizations develop applications once and deploy them anywhere, integrate security across the breadth of their IT estate, and automate operations with management visibility. With IBM, you also have access to new skills and methods, governance and management approaches, and a deep ecosystem of industry experts and partners.Your Life @ IBMAre you craving to learn more? Prepared to solve some of the world's most unique challenges? And ready to shape the future for millions of people? If so, then it's time to join us, express your individuality, unleash your curiosity and discover new possibilities.Every IBMer, and potential ones like yourself, has a voice, carves their own path, and uses their expertise to help co-create and add to our story. Together, we have the power to make meaningful change – to alter the fabric of our clients, of society and IBM itself, to create a truly positive impact and make the world work better for everyone.It's time to define your career.About IBMIBM’s greatest invention is the IBMer. We believe that through the application of intelligence, reason and science, we can improve business, society and the human condition, bringing the power of an open hybrid cloud and AI strategy to life for our clients and partners around the world.Restlessly reinventing since 1911, we are not only one of the largest corporate organizations in the world, we’re also one of the biggest technology and consulting employers, with many of the Fortune 50 companies relying on the IBM Cloud to run their business. At IBM, we pride ourselves on being an early adopter of artificial intelligence, quantum computing and blockchain. Now it’s time for you to join us on our journey to being a responsible technology innovator and a force for good in the world.Location StatementIBM wants you to bring your whole self to work and for you this might mean the ability to work flexibly. If you are interested in a flexible working pattern, please talk to our recruitment team to find out if this is possible in the current working environment.Being You @ IBMIBM is committed to creating a diverse environment and is proud to be an equal opportunity employer. All qualified applicants will receive consideration for employment without regard to race, color, religion, gender, gender identity or expression, sexual orientation, national origin, genetics, pregnancy, disability, age, veteran status, or other characteristics. IBM is also committed to compliance with all fair employment practices regarding citizenship and immigration status.\""
     },
     "execution_count": 125,
     "metadata": {},
     "output_type": "execute_result"
    }
   ],
   "source": [
    "full_description = clear_string(result.json()['queryResult'][0]['description'])\n",
    "full_description"
   ],
   "metadata": {
    "collapsed": false,
    "pycharm": {
     "name": "#%%\n"
    }
   }
  },
  {
   "cell_type": "code",
   "execution_count": 126,
   "outputs": [
    {
     "data": {
      "text/plain": "\"At IBM, work is more than a job - it's a calling: To build. To design. To code. To consult. To think along with clients and sell. To make markets. To invent. To collaborate. Not just to do something better, but to attempt things you've never thought possible. Are you ready to lead in this new era of technology and solve some of the world's most challenging problems? If so, lets talk.\""
     },
     "execution_count": 126,
     "metadata": {},
     "output_type": "execute_result"
    }
   ],
   "source": [
    "re.search(about_pattern, full_description).group(1)"
   ],
   "metadata": {
    "collapsed": false,
    "pycharm": {
     "name": "#%%\n"
    }
   }
  },
  {
   "cell_type": "code",
   "execution_count": 127,
   "outputs": [
    {
     "data": {
      "text/plain": "'About the RoleThe IBM Security Product Management team is seeking an experienced Product Manager who is technical, collaborative, and truly excited about building great endpoint security products. In this role, you will bring in-depth knowledge of the endpoint and security analytics market to lead the evolution of IBM Security’s visibility, detection, and prevention technologies for QRadar XDR portfolio. You should be able to translate a big picture vision into an execution strategy backed with market validation and customer insights. You will work closely with other product managers, engineering, research, product marketing, sales, service and support. The successful candidate will have the ability to influence cross-functional teams in the company.Responsibilities\\n Act as the product leader for initiatives that enhance Endpoint Detection and Response (EDR) visibility, detection, and prevention for Windows, Linux and macOS.\\n Utilize strategic insight and organizational skills to identify unmet customer needs, define feature requirements and use cases, and advance the functional capabilities of the product offering\\n Collaborate closely with Engineering, lead with product vision, priorities, detailed feature/function requirements, roadmap, and bring high quality products to market\\n Engage with marketing, sales and support to champion recent releases and roadmap\\n Conduct competitive analysis and maintain current information regarding competitive activity\\n Define and maintain strategy and product roadmap for IBM’s eXtended Detection and Response team in concert with other PMs and stakeholders\\n Work on a team of high-performing product professionals in a very collaborative environment '"
     },
     "execution_count": 127,
     "metadata": {},
     "output_type": "execute_result"
    }
   ],
   "source": [
    "re.search(responsibilities_pattern, full_description).group(1)"
   ],
   "metadata": {
    "collapsed": false,
    "pycharm": {
     "name": "#%%\n"
    }
   }
  },
  {
   "cell_type": "code",
   "execution_count": 128,
   "outputs": [
    {
     "data": {
      "text/plain": "'Demonstrated experience of product management in EDR and/or AV; previous work in malware and attack analysis, research, investigation, and response highly desirable\\n Hands-on threat or investigation analyst experience in a SOC/SOAR highly desirable\\n Curious about new technologies, systems, and tools\\n Excellent communication skills, both verbal and written, with the ability to properly translate and articulate positioning and technology\\n Demonstrated ability to collaborate with peers in research, engineering, and product marketing\\n Ability to prioritize numerous simultaneous tasks\\n Proven ability to work effectively with both local and remote teams\\n This position requires up to 25% travel to customer and IBM locations worldwide'"
     },
     "execution_count": 128,
     "metadata": {},
     "output_type": "execute_result"
    }
   ],
   "source": [
    "re.search(qualifications_pattern, full_description).group(1)"
   ],
   "metadata": {
    "collapsed": false,
    "pycharm": {
     "name": "#%%\n"
    }
   }
  },
  {
   "cell_type": "code",
   "execution_count": null,
   "outputs": [],
   "source": [],
   "metadata": {
    "collapsed": false,
    "pycharm": {
     "name": "#%%\n"
    }
   }
  }
 ],
 "metadata": {
  "kernelspec": {
   "display_name": "Python 3",
   "language": "python",
   "name": "python3"
  },
  "language_info": {
   "codemirror_mode": {
    "name": "ipython",
    "version": 2
   },
   "file_extension": ".py",
   "mimetype": "text/x-python",
   "name": "python",
   "nbconvert_exporter": "python",
   "pygments_lexer": "ipython2",
   "version": "2.7.6"
  }
 },
 "nbformat": 4,
 "nbformat_minor": 0
}