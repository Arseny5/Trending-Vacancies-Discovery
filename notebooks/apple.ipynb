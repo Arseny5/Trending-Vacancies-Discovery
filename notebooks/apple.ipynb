{
 "cells": [
  {
   "cell_type": "markdown",
   "source": [
    "## PARSING APPLE VACANCY\n",
   ],
   "metadata": {
    "collapsed": false,
    "pycharm": {
     "name": "#%% md\n"
    }
   }
  },
  {
   "cell_type": "code",
   "execution_count": 2,
   "outputs": [],
   "source": [
    "import time\n",
    "import requests\n",
    "from bs4 import BeautifulSoup\n",
    "import json\n",
    "import re\n",
    "import time\n",
    "import faker\n",
    "import pandas as pd\n",
    "from tqdm import tqdm\n",
    "from datetime import datetime\n",
    "from dateutil import parser"
   ],
   "metadata": {
    "collapsed": false,
    "pycharm": {
     "name": "#%%\n"
    }
   }
  },
  {
   "cell_type": "code",
   "execution_count": 7,
   "outputs": [],
   "source": [
    "from concurrent.futures import ThreadPoolExecutor"
   ],
   "metadata": {
    "collapsed": false,
    "pycharm": {
     "name": "#%%\n"
    }
   }
  },
  {
   "cell_type": "code",
   "execution_count": 8,
   "outputs": [],
   "source": [
    "fake = faker.Faker(locale='en')"
   ],
   "metadata": {
    "collapsed": false,
    "pycharm": {
     "name": "#%%\n"
    }
   }
  },
  {
   "cell_type": "code",
   "execution_count": 9,
   "outputs": [],
   "source": [
    "apple_headers = {\n",
    "    'User-Agent': fake.chrome(),\n",
    "    'accept-language': 'en-US,en;q=0.9',\n",
    "    'pragma': 'np-cache',\n",
    "    'countrycode': 'USA',\n",
    "    'sec-fetch-mode': 'cors',\n",
    "    'sec-fetch-site': 'same-origin',\n",
    "    'origin': 'http://jobs.apple.com',\n",
    "    'Host': 'jobs.apple.com',\n",
    "    'referer': 'http://jobs.apple.com/en-us/search'\n",
    "}"
   ],
   "metadata": {
    "collapsed": false,
    "pycharm": {
     "name": "#%%\n"
    }
   }
  },
  {
   "cell_type": "code",
   "execution_count": 10,
   "outputs": [],
   "source": [
    "MAIN_URL = \"http://jobs.apple.com\"\n",
    "HTML_URL = \"http://jobs.apple.com/en-us/search\"\n",
    "CSRF_TOKEN = \"http://jobs.apple.com/api/csrfToken\"\n",
    "API_URL = \"http://jobs.apple.com/api/role/search\""
   ],
   "metadata": {
    "collapsed": false,
    "pycharm": {
     "name": "#%%\n"
    }
   }
  },
  {
   "cell_type": "markdown",
   "source": [
    "## Через парсинг страниц\n",
    "Сначала собираем ссылки и начальную инфу для детального парсинга каждой ваки"
   ],
   "metadata": {
    "collapsed": false,
    "pycharm": {
     "name": "#%% md\n"
    }
   }
  },
  {
   "cell_type": "code",
   "execution_count": 11,
   "outputs": [],
   "source": [
    "clear_string = lambda x: re.sub(' +', ' ', re.sub('<.*?>', '', x).replace('\\n', '\\n ')).strip()"
   ],
   "metadata": {
    "collapsed": false,
    "pycharm": {
     "name": "#%%\n"
    }
   }
  },
  {
   "cell_type": "code",
   "execution_count": 12,
   "outputs": [
    {
     "name": "stderr",
     "output_type": "stream",
     "text": [
      " 46%|████▌     | 460/1000 [37:32<44:04,  4.90s/it]  \n"
     ]
    }
   ],
   "source": [
    "jobs_list = []\n",
    "null_counter = 0\n",
    "for page in tqdm(range(0, 1000)):\n",
    "    search_params = {\n",
    "        'page': page\n",
    "    }\n",
    "    html_result = requests.get(HTML_URL, headers=apple_headers, params=search_params)\n",
    "    soup = BeautifulSoup(html_result.text)\n",
    "\n",
    "    results_table = soup.find('div', attrs={'class': 'results__table'})\n",
    "    if results_table:\n",
    "        null_counter = 0\n",
    "\n",
    "        jobs = results_table.find('table').find_all('tbody')\n",
    "        for job_block in jobs:\n",
    "            job_info = job_block.findNext('td')\n",
    "\n",
    "            name = job_info.find('a').text\n",
    "            url = job_info.find('a')['href']\n",
    "            internal_id = job_info.find('a')['id'].split('-')[-1]\n",
    "            publish_date = parser.parse(job_info.find('span').findNext().text)\n",
    "\n",
    "            jobs_list.append((url, internal_id, name, publish_date))\n",
    "\n",
    "        time.sleep(0.2) # sleep for 200 ms\n",
    "    else:\n",
    "        null_counter += 1\n",
    "        if null_counter == 3:\n",
    "            break\n",
    "        else:\n",
    "            continue"
   ],
   "metadata": {
    "collapsed": false,
    "pycharm": {
     "name": "#%%\n"
    }
   }
  },
  {
   "cell_type": "code",
   "execution_count": 13,
   "outputs": [
    {
     "data": {
      "text/plain": "9128"
     },
     "execution_count": 13,
     "metadata": {},
     "output_type": "execute_result"
    }
   ],
   "source": [
    "len(jobs_list)"
   ],
   "metadata": {
    "collapsed": false,
    "pycharm": {
     "name": "#%%\n"
    }
   }
  },
  {
   "cell_type": "code",
   "execution_count": 14,
   "outputs": [
    {
     "data": {
      "text/plain": "('/en-us/details/114438282/mo-specialist-full-time-or-part-time-permanent-or-temporary?team=APPST',\n '114438282',\n 'MO-Specialist: Full Time or Part Time, Permanent or Temporary',\n datetime.datetime(2022, 6, 23, 0, 0))"
     },
     "execution_count": 14,
     "metadata": {},
     "output_type": "execute_result"
    }
   ],
   "source": [
    "jobs_list[100]"
   ],
   "metadata": {
    "collapsed": false,
    "pycharm": {
     "name": "#%%\n"
    }
   }
  },
  {
   "cell_type": "markdown",
   "source": [
    "#### Детальный парсинг страниц вакансий"
   ],
   "metadata": {
    "collapsed": false,
    "pycharm": {
     "name": "#%% md\n"
    }
   }
  },
  {
   "cell_type": "code",
   "execution_count": 17,
   "outputs": [],
   "source": [
    "def get_vacancy(params):\n",
    "    url, internal_id, name, publish_date = params\n",
    "\n",
    "    job_website = requests.get(MAIN_URL + url, headers=apple_headers)\n",
    "    soup = BeautifulSoup(job_website.text)\n",
    "\n",
    "    try:\n",
    "        description = clear_string(soup.find('div', id='jd-job-summary').span.text)\n",
    "        qualifications = clear_string(soup.find('div', id='jd-key-qualifications').text)\n",
    "        responsibilities = clear_string(soup.find('div', id='jd-description').text)\n",
    "    except:\n",
    "        print(f'Error while parsing {job_website.url}')\n",
    "        return None\n",
    "\n",
    "    job_dict = {\n",
    "        'title': name,\n",
    "        'internal_id' : internal_id,\n",
    "        'url': MAIN_URL + url,\n",
    "        'description': description,\n",
    "        'responsibilities': responsibilities,\n",
    "        'qualifications': qualifications,\n",
    "        'company': 'Apple',\n",
    "        'publish_date': publish_date\n",
    "    }\n",
    "\n",
    "    return job_dict"
   ],
   "metadata": {
    "collapsed": false,
    "pycharm": {
     "name": "#%%\n"
    }
   }
  },
  {
   "cell_type": "code",
   "execution_count": 18,
   "outputs": [
    {
     "name": "stderr",
     "output_type": "stream",
     "text": [
      " 10%|█         | 922/9128 [05:46<1:16:50,  1.78it/s]"
     ]
    },
    {
     "name": "stdout",
     "output_type": "stream",
     "text": [
      "Error while parsing https://jobs-prz.apple.com/en-us/details/200358439/administrative-assistant-project-coordinator?team=CORSV\n"
     ]
    },
    {
     "name": "stderr",
     "output_type": "stream",
     "text": [
      " 10%|█         | 942/9128 [05:58<1:10:51,  1.93it/s]"
     ]
    },
    {
     "name": "stdout",
     "output_type": "stream",
     "text": [
      "Error while parsing https://jobs-prz.apple.com/en-us/details/200326298/administrative-assistant?team=SFTWR\n"
     ]
    },
    {
     "name": "stderr",
     "output_type": "stream",
     "text": [
      " 17%|█▋        | 1549/9128 [11:31<12:56:01,  6.14s/it]"
     ]
    },
    {
     "name": "stdout",
     "output_type": "stream",
     "text": [
      "Error while parsing https://www.apple.com/careers/us/maintenance.html\n"
     ]
    },
    {
     "name": "stderr",
     "output_type": "stream",
     "text": [
      " 20%|█▉        | 1802/9128 [11:31<39:54,  3.06it/s]   "
     ]
    },
    {
     "name": "stdout",
     "output_type": "stream",
     "text": [
      "Error while parsing https://jobs-prz.apple.com/en-us/details/200365764/administrative-assistant-ad-platforms-engineering?team=SFTWR\n"
     ]
    },
    {
     "name": "stderr",
     "output_type": "stream",
     "text": [
      " 20%|██        | 1867/9128 [12:02<43:04,  2.81it/s]"
     ]
    },
    {
     "name": "stdout",
     "output_type": "stream",
     "text": [
      "Error while parsing https://jobs-prz.apple.com/en-us/details/200344010/software-architect-networking-technologies?team=SFTWR\n"
     ]
    },
    {
     "name": "stderr",
     "output_type": "stream",
     "text": [
      " 21%|██        | 1932/9128 [12:31<46:47,  2.56it/s]  "
     ]
    },
    {
     "name": "stdout",
     "output_type": "stream",
     "text": [
      "Error while parsing https://jobs-prz.apple.com/en-us/details/200370189/administrative-assistant?team=CORSV\n"
     ]
    },
    {
     "name": "stderr",
     "output_type": "stream",
     "text": [
      " 21%|██▏       | 1951/9128 [12:37<39:48,  3.00it/s]  "
     ]
    },
    {
     "name": "stdout",
     "output_type": "stream",
     "text": [
      "Error while parsing https://jobs-prz.apple.com/en-us/details/200388008/administrative-assistant-digital-marketing-and-media?team=MKTG\n"
     ]
    },
    {
     "name": "stderr",
     "output_type": "stream",
     "text": [
      " 22%|██▏       | 2014/9128 [13:04<58:07,  2.04it/s]  "
     ]
    },
    {
     "name": "stdout",
     "output_type": "stream",
     "text": [
      "Error while parsing https://jobs-prz.apple.com/en-us/details/200385592/platform-specialist-ad-platforms-partner-development-greater-china?team=SFTWR\n"
     ]
    },
    {
     "name": "stderr",
     "output_type": "stream",
     "text": [
      " 23%|██▎       | 2059/9128 [13:21<53:48,  2.19it/s]  "
     ]
    },
    {
     "name": "stdout",
     "output_type": "stream",
     "text": [
      "Error while parsing https://jobs-prz.apple.com/en-us/details/200385483/administrative-assistant-apps-program?team=NA\n"
     ]
    },
    {
     "name": "stderr",
     "output_type": "stream",
     "text": [
      " 24%|██▍       | 2204/9128 [16:27<3:37:02,  1.88s/it]"
     ]
    },
    {
     "name": "stdout",
     "output_type": "stream",
     "text": [
      "Error while parsing https://www.apple.com/careers/us/maintenance.html\n",
      "Error while parsing https://jobs-prz.apple.com/en-us/details/200380929/enterprise-application-platform-software-engineer?team=SFTWR\n",
      "Error while parsing https://jobs-prz.apple.com/en-us/details/200369936/apple-books-podcasts-editor?team=SFTWR\n"
     ]
    },
    {
     "name": "stderr",
     "output_type": "stream",
     "text": [
      " 25%|██▌       | 2285/9128 [17:07<1:55:29,  1.01s/it]"
     ]
    },
    {
     "name": "stdout",
     "output_type": "stream",
     "text": [
      "Error while parsing https://www.apple.com/careers/us/maintenance.html\n"
     ]
    },
    {
     "name": "stderr",
     "output_type": "stream",
     "text": [
      " 28%|██▊       | 2532/9128 [17:38<36:32,  3.01it/s]  "
     ]
    },
    {
     "name": "stdout",
     "output_type": "stream",
     "text": [
      "Error while parsing https://jobs-prz.apple.com/en-us/details/200385074/administrative-assistant-apps-program?team=NA\n"
     ]
    },
    {
     "name": "stderr",
     "output_type": "stream",
     "text": [
      " 31%|███       | 2798/9128 [19:38<31:06,  3.39it/s]  "
     ]
    },
    {
     "name": "stdout",
     "output_type": "stream",
     "text": [
      "Error while parsing https://jobs-prz.apple.com/en-us/details/200384270/administrative-assistant-apps-team?team=SFTWR\n"
     ]
    },
    {
     "name": "stderr",
     "output_type": "stream",
     "text": [
      " 32%|███▏      | 2901/9128 [20:25<35:26,  2.93it/s]  "
     ]
    },
    {
     "name": "stdout",
     "output_type": "stream",
     "text": [
      "Error while parsing https://jobs-prz.apple.com/en-us/details/200381308/administrative-assistant-business-affairs-contract-administration-apple-tv?team=MKTG\n"
     ]
    },
    {
     "name": "stderr",
     "output_type": "stream",
     "text": [
      " 32%|███▏      | 2940/9128 [20:49<1:05:58,  1.56it/s]"
     ]
    },
    {
     "name": "stdout",
     "output_type": "stream",
     "text": [
      "Error while parsing https://jobs-prz.apple.com/en-us/details/200367040/administrative-assistant?team=SFTWR\n"
     ]
    },
    {
     "name": "stderr",
     "output_type": "stream",
     "text": [
      " 40%|████      | 3675/9128 [27:09<36:29,  2.49it/s]  "
     ]
    },
    {
     "name": "stdout",
     "output_type": "stream",
     "text": [
      "Error while parsing https://jobs-prz.apple.com/en-us/details/200378883/apple-part-time-reseller-specialist?team=SLDEV\n"
     ]
    },
    {
     "name": "stderr",
     "output_type": "stream",
     "text": [
      " 41%|████      | 3705/9128 [27:31<1:14:56,  1.21it/s]"
     ]
    },
    {
     "name": "stdout",
     "output_type": "stream",
     "text": [
      "Error while parsing https://jobs-prz.apple.com/en-us/details/200377865/administrative-assistant?team=HRDWR\n"
     ]
    },
    {
     "name": "stderr",
     "output_type": "stream",
     "text": [
      " 42%|████▏     | 3843/9128 [28:49<1:25:45,  1.03it/s]"
     ]
    },
    {
     "name": "stdout",
     "output_type": "stream",
     "text": [
      "Error while parsing https://jobs-prz.apple.com/en-us/details/200377842/administrative-assistant-special-projects-group?team=CORSV\n"
     ]
    },
    {
     "name": "stderr",
     "output_type": "stream",
     "text": [
      " 45%|████▍     | 4091/9128 [31:26<1:11:30,  1.17it/s]"
     ]
    },
    {
     "name": "stdout",
     "output_type": "stream",
     "text": [
      "Error while parsing https://jobs-prz.apple.com/en-us/details/200367123/administrative-assistant-ai-ml?team=SFTWR\n"
     ]
    },
    {
     "name": "stderr",
     "output_type": "stream",
     "text": [
      " 48%|████▊     | 4386/9128 [36:25<13:59:19, 10.62s/it]"
     ]
    },
    {
     "name": "stdout",
     "output_type": "stream",
     "text": [
      "Error while parsing https://www.apple.com/careers/us/maintenance.html\n"
     ]
    },
    {
     "name": "stderr",
     "output_type": "stream",
     "text": [
      " 51%|█████     | 4619/9128 [36:31<28:23,  2.65it/s]   "
     ]
    },
    {
     "name": "stdout",
     "output_type": "stream",
     "text": [
      "Error while parsing https://jobs-prz.apple.com/en-us/details/200371813/administrative-assistant?team=HRDWR\n"
     ]
    },
    {
     "name": "stderr",
     "output_type": "stream",
     "text": [
      " 57%|█████▋    | 5192/9128 [40:39<1:08:02,  1.04s/it]"
     ]
    },
    {
     "name": "stdout",
     "output_type": "stream",
     "text": [
      "Error while parsing https://jobs-prz.apple.com/en-us/details/200366854/administrative-assistant?team=CORSV\n"
     ]
    },
    {
     "name": "stderr",
     "output_type": "stream",
     "text": [
      " 61%|██████▏   | 5603/9128 [44:05<20:12,  2.91it/s]  "
     ]
    },
    {
     "name": "stdout",
     "output_type": "stream",
     "text": [
      "Error while parsing https://jobs-prz.apple.com/en-us/details/200361398/app-store-business-manager-germany-switzerland-and-austria?team=SFTWR\n"
     ]
    },
    {
     "name": "stderr",
     "output_type": "stream",
     "text": [
      " 65%|██████▍   | 5915/9128 [46:19<20:18,  2.64it/s]  "
     ]
    },
    {
     "name": "stdout",
     "output_type": "stream",
     "text": [
      "Error while parsing https://jobs-prz.apple.com/en-us/details/200357986/malware-analysis-automation-engineer?team=SFTWR\n"
     ]
    },
    {
     "name": "stderr",
     "output_type": "stream",
     "text": [
      " 66%|██████▌   | 6028/9128 [47:39<41:26,  1.25it/s]  "
     ]
    },
    {
     "name": "stdout",
     "output_type": "stream",
     "text": [
      "Error while parsing https://jobs-prz.apple.com/en-us/details/200357567/administrative-assistant?team=CORSV\n"
     ]
    },
    {
     "name": "stderr",
     "output_type": "stream",
     "text": [
      " 66%|██████▌   | 6030/9128 [47:41<38:23,  1.34it/s]"
     ]
    },
    {
     "name": "stdout",
     "output_type": "stream",
     "text": [
      "Error while parsing https://jobs-prz.apple.com/en-us/details/200357551/administrative-assistant?team=CORSV\n"
     ]
    },
    {
     "name": "stderr",
     "output_type": "stream",
     "text": [
      " 66%|██████▋   | 6049/9128 [47:48<17:07,  3.00it/s]"
     ]
    },
    {
     "name": "stdout",
     "output_type": "stream",
     "text": [
      "Error while parsing https://jobs-prz.apple.com/en-us/details/200354990/administrative-assistant?team=SFTWR\n"
     ]
    },
    {
     "name": "stderr",
     "output_type": "stream",
     "text": [
      " 67%|██████▋   | 6113/9128 [48:14<15:55,  3.16it/s]"
     ]
    },
    {
     "name": "stdout",
     "output_type": "stream",
     "text": [
      "Error while parsing https://jobs-prz.apple.com/en-us/details/200355003/administrative-assistant?team=SFTWR\n"
     ]
    },
    {
     "name": "stderr",
     "output_type": "stream",
     "text": [
      " 74%|███████▍  | 6748/9128 [52:55<10:16,  3.86it/s]  "
     ]
    },
    {
     "name": "stdout",
     "output_type": "stream",
     "text": [
      "Error while parsing https://jobs-prz.apple.com/en-us/details/200344194/administrative-assistant-corporate-communications?team=MKTG\n"
     ]
    },
    {
     "name": "stderr",
     "output_type": "stream",
     "text": [
      " 80%|███████▉  | 7273/9128 [57:11<12:09,  2.54it/s]  "
     ]
    },
    {
     "name": "stdout",
     "output_type": "stream",
     "text": [
      "Error while parsing https://jobs-prz.apple.com/en-us/details/200331546/administrative-assistant-security-engineering-architecture?team=SFTWR\n"
     ]
    },
    {
     "name": "stderr",
     "output_type": "stream",
     "text": [
      " 89%|████████▊ | 8100/9128 [1:05:10<1:13:41,  4.30s/it]"
     ]
    },
    {
     "name": "stdout",
     "output_type": "stream",
     "text": [
      "Error while parsing https://www.apple.com/careers/us/maintenance.html\n"
     ]
    },
    {
     "name": "stderr",
     "output_type": "stream",
     "text": [
      " 91%|█████████ | 8291/9128 [1:06:30<11:02,  1.26it/s]  "
     ]
    },
    {
     "name": "stdout",
     "output_type": "stream",
     "text": [
      "Error while parsing https://www.apple.com/careers/us/maintenance.html\n"
     ]
    },
    {
     "name": "stderr",
     "output_type": "stream",
     "text": [
      "100%|██████████| 9128/9128 [1:10:09<00:00,  2.17it/s]\n"
     ]
    }
   ],
   "source": [
    "with ThreadPoolExecutor(max_workers=10) as executor:\n",
    "    job_dicts = list(tqdm(executor.map(get_vacancy, jobs_list), total=len(jobs_list)))"
   ],
   "metadata": {
    "collapsed": false,
    "pycharm": {
     "name": "#%%\n"
    }
   }
  },
  {
   "cell_type": "code",
   "execution_count": 22,
   "outputs": [
    {
     "name": "stdout",
     "output_type": "stream",
     "text": [
      "9094\n"
     ]
    },
    {
     "data": {
      "text/plain": "                                                  title internal_id  \\\n107                                   DE-Expert (m/f/d)   114438035   \n7242  Site Reliability Engineer (SRE) - Site Reliabi...   200325486   \n8245          Sr. Brand Marketing Manager, Apple Arcade   200285978   \n2495  AI/ML - ML Research Engineer, Machine Intellig...   200309393   \n6565                                 Signoff Lead – PNR   200331986   \n\n                                                    url  \\\n107   http://jobs.apple.com/en-us/details/114438035/...   \n7242  http://jobs.apple.com/en-us/details/200325486/...   \n8245  http://jobs.apple.com/en-us/details/200285978/...   \n2495  http://jobs.apple.com/en-us/details/200309393/...   \n6565  http://jobs.apple.com/en-us/details/200331986/...   \n\n                                            description  \\\n107   The Apple Store is a retail environment like n...   \n7242  The Apple Media Products Engineering team is o...   \n8245  The App Store is the largest gaming platform i...   \n2495  We are looking for outstanding researchers to ...   \n6565  As part of our Silicon Technologies group, you...   \n\n                                       responsibilities  \\\n107   As an Expert, you are a leader in sales, produ...   \n7242  The Site Reliability Engineer (SRE) role in Ap...   \n8245  As the Sr. Brand Marketing Manager for Apple A...   \n2495  As a Machine Learning Researcher on this team,...   \n6565  - Determine signoff criteria for PNR design, S...   \n\n                                         qualifications company publish_date  \n107   Demonstrated proficiency in technology, partic...   Apple   2022-06-23  \n7242  4+ years of running services in a large scale ...   Apple   2022-01-18  \n8245  7+ years experience in Product Marketing, Bran...   Apple   2021-09-15  \n2495  In-depth expertise in machine learning researc...   Apple   2022-05-28  \n6565  The ideal candidate will have:Knowledge of PNR...   Apple   2022-02-22  ",
      "text/html": "<div>\n<style scoped>\n    .dataframe tbody tr th:only-of-type {\n        vertical-align: middle;\n    }\n\n    .dataframe tbody tr th {\n        vertical-align: top;\n    }\n\n    .dataframe thead th {\n        text-align: right;\n    }\n</style>\n<table border=\"1\" class=\"dataframe\">\n  <thead>\n    <tr style=\"text-align: right;\">\n      <th></th>\n      <th>title</th>\n      <th>internal_id</th>\n      <th>url</th>\n      <th>description</th>\n      <th>responsibilities</th>\n      <th>qualifications</th>\n      <th>company</th>\n      <th>publish_date</th>\n    </tr>\n  </thead>\n  <tbody>\n    <tr>\n      <th>107</th>\n      <td>DE-Expert (m/f/d)</td>\n      <td>114438035</td>\n      <td>http://jobs.apple.com/en-us/details/114438035/...</td>\n      <td>The Apple Store is a retail environment like n...</td>\n      <td>As an Expert, you are a leader in sales, produ...</td>\n      <td>Demonstrated proficiency in technology, partic...</td>\n      <td>Apple</td>\n      <td>2022-06-23</td>\n    </tr>\n    <tr>\n      <th>7242</th>\n      <td>Site Reliability Engineer (SRE) - Site Reliabi...</td>\n      <td>200325486</td>\n      <td>http://jobs.apple.com/en-us/details/200325486/...</td>\n      <td>The Apple Media Products Engineering team is o...</td>\n      <td>The Site Reliability Engineer (SRE) role in Ap...</td>\n      <td>4+ years of running services in a large scale ...</td>\n      <td>Apple</td>\n      <td>2022-01-18</td>\n    </tr>\n    <tr>\n      <th>8245</th>\n      <td>Sr. Brand Marketing Manager, Apple Arcade</td>\n      <td>200285978</td>\n      <td>http://jobs.apple.com/en-us/details/200285978/...</td>\n      <td>The App Store is the largest gaming platform i...</td>\n      <td>As the Sr. Brand Marketing Manager for Apple A...</td>\n      <td>7+ years experience in Product Marketing, Bran...</td>\n      <td>Apple</td>\n      <td>2021-09-15</td>\n    </tr>\n    <tr>\n      <th>2495</th>\n      <td>AI/ML - ML Research Engineer, Machine Intellig...</td>\n      <td>200309393</td>\n      <td>http://jobs.apple.com/en-us/details/200309393/...</td>\n      <td>We are looking for outstanding researchers to ...</td>\n      <td>As a Machine Learning Researcher on this team,...</td>\n      <td>In-depth expertise in machine learning researc...</td>\n      <td>Apple</td>\n      <td>2022-05-28</td>\n    </tr>\n    <tr>\n      <th>6565</th>\n      <td>Signoff Lead – PNR</td>\n      <td>200331986</td>\n      <td>http://jobs.apple.com/en-us/details/200331986/...</td>\n      <td>As part of our Silicon Technologies group, you...</td>\n      <td>- Determine signoff criteria for PNR design, S...</td>\n      <td>The ideal candidate will have:Knowledge of PNR...</td>\n      <td>Apple</td>\n      <td>2022-02-22</td>\n    </tr>\n  </tbody>\n</table>\n</div>"
     },
     "execution_count": 22,
     "metadata": {},
     "output_type": "execute_result"
    }
   ],
   "source": [
    "snapshot = pd.DataFrame(filter(lambda x: x is not None, job_dicts))\n",
    "print(len(snapshot))\n",
    "snapshot.sample(5)"
   ],
   "metadata": {
    "collapsed": false,
    "pycharm": {
     "name": "#%%\n"
    }
   }
  },
  {
   "cell_type": "code",
   "execution_count": 24,
   "outputs": [
    {
     "name": "stdout",
     "output_type": "stream",
     "text": [
      "<class 'pandas.core.frame.DataFrame'>\n",
      "RangeIndex: 9094 entries, 0 to 9093\n",
      "Data columns (total 8 columns):\n",
      " #   Column            Non-Null Count  Dtype         \n",
      "---  ------            --------------  -----         \n",
      " 0   title             9094 non-null   object        \n",
      " 1   internal_id       9094 non-null   object        \n",
      " 2   url               9094 non-null   object        \n",
      " 3   description       9094 non-null   object        \n",
      " 4   responsibilities  9094 non-null   object        \n",
      " 5   qualifications    9094 non-null   object        \n",
      " 6   company           9094 non-null   object        \n",
      " 7   publish_date      9094 non-null   datetime64[ns]\n",
      "dtypes: datetime64[ns](1), object(7)\n",
      "memory usage: 568.5+ KB\n"
     ]
    }
   ],
   "source": [
    "snapshot.info()"
   ],
   "metadata": {
    "collapsed": false,
    "pycharm": {
     "name": "#%%\n"
    }
   }
  },
  {
   "cell_type": "code",
   "execution_count": 25,
   "outputs": [
    {
     "data": {
      "text/plain": "'23-06-2022'"
     },
     "execution_count": 25,
     "metadata": {},
     "output_type": "execute_result"
    }
   ],
   "source": [
    "current_date = datetime.now().strftime('%d-%m-%Y')\n",
    "current_date"
   ],
   "metadata": {
    "collapsed": false,
    "pycharm": {
     "name": "#%%\n"
    }
   }
  },
  {
   "cell_type": "code",
   "execution_count": 26,
   "outputs": [],
   "source": [
    "snapshot.to_csv(f'../data/apple/{current_date}.csv')\n",
    "snapshot.to_csv(f'../data/apple/{current_date}.tsv', sep='\\t')"
   ],
   "metadata": {
    "collapsed": false,
    "pycharm": {
     "name": "#%%\n"
    }
   }
  },
  {
   "cell_type": "markdown",
   "source": [
    "#### Проверка на единичной вакансии"
   ],
   "metadata": {
    "collapsed": false,
    "pycharm": {
     "name": "#%% md\n"
    }
   }
  },
  {
   "cell_type": "code",
   "execution_count": 202,
   "outputs": [
    {
     "data": {
      "text/plain": "<Response [200]>"
     },
     "execution_count": 202,
     "metadata": {},
     "output_type": "execute_result"
    }
   ],
   "source": [
    "job_website = requests.get(MAIN_URL + jobs_list[0][0], headers=apple_headers)\n",
    "job_website"
   ],
   "metadata": {
    "collapsed": false,
    "pycharm": {
     "name": "#%%\n"
    }
   }
  },
  {
   "cell_type": "code",
   "execution_count": 204,
   "outputs": [],
   "source": [
    "soup = BeautifulSoup(job_website.text)"
   ],
   "metadata": {
    "collapsed": false,
    "pycharm": {
     "name": "#%%\n"
    }
   }
  },
  {
   "cell_type": "code",
   "execution_count": 214,
   "outputs": [
    {
     "data": {
      "text/plain": "'Do you love how it feels to help others? After customers purchase our products, you’re the one who helps them get more out of their new Apple technology. Your day in the Apple Store is filled with a range of focused support and service tasks. Whether you’re helping customers get started with the Mac or finding answers to their questions about other Apple devices, you’re ready to share knowledge and provide exceptional assistance. You gain satisfaction from bringing resolution and insight to each customer, elevating his or her relationship with Apple to the next level.\\n \\n Both full-time and part-time jobs are available.'"
     },
     "execution_count": 214,
     "metadata": {},
     "output_type": "execute_result"
    }
   ],
   "source": [
    "description = soup.find('div', id='jd-job-summary').span.text\n",
    "clear_string(description)"
   ],
   "metadata": {
    "collapsed": false,
    "pycharm": {
     "name": "#%%\n"
    }
   }
  },
  {
   "cell_type": "code",
   "execution_count": 212,
   "outputs": [
    {
     "data": {
      "text/plain": "'Ability to assess customers’ support needs when they arrive, then provide solutions or refer them to other team membersFlexibility to regularly rotate through different technical specialities and skill setsAbility to thrive on change as products evolve'"
     },
     "execution_count": 212,
     "metadata": {},
     "output_type": "execute_result"
    }
   ],
   "source": [
    "soup.find('div', id='jd-key-qualifications').text"
   ],
   "metadata": {
    "collapsed": false,
    "pycharm": {
     "name": "#%%\n"
    }
   }
  },
  {
   "cell_type": "code",
   "execution_count": 213,
   "outputs": [
    {
     "data": {
      "text/plain": "'As a Technical Specialist, you help new owners get started and current ones get quick, efficient support — developing strong, positive relationships with Apple. When a customer needs assistance, you quickly assess their situation. Sometimes you take care of customers with advice or a solution on the spot, using your knowledge of current Apple technology to help with iPod, iPhone and iPad devices. At other times, you refer customers to support team members who get them up and running again. You even provide personal training for new customers, helping them acquire the basic skills they need to get started on photo, video and music projects. The entire store team benefits from your commitment to providing the best care for customers. By helping Apple maintain strong relationships with customers, you are instrumental to our success.\\n\\nDiscover even more benefits of doing what you love. Apple’s most important resource, our soul, is our people. Apple benefits help further the well-being of our employees and their families in meaningful ways. No matter where you work at Apple, you can take advantage of our health and wellness resources and time-away programmes. We’re proud to provide stock grants to employees at all levels of the company, and we also give employees the option to buy Apple stock at a discount — both offer everyone at Apple the chance to share in the company’s success. You’ll discover many more benefits of working at Apple, such as programmes that match your charitable contributions, reimburse you for continuing your education and give you special employee pricing on Apple products.\\n\\nNote: Apple benefits programmes vary by country and are subject to eligibility requirements.'"
     },
     "execution_count": 213,
     "metadata": {},
     "output_type": "execute_result"
    }
   ],
   "source": [
    "soup.find('div', id='jd-description').text"
   ],
   "metadata": {
    "collapsed": false,
    "pycharm": {
     "name": "#%%\n"
    }
   }
  },
  {
   "cell_type": "markdown",
   "source": [
    "## Через API бэкенда\n",
    "ВОозникают проблемы, поэтому выбран обычный парсинг"
   ],
   "metadata": {
    "collapsed": false,
    "pycharm": {
     "name": "#%% md\n"
    }
   }
  },
  {
   "cell_type": "code",
   "execution_count": 14,
   "outputs": [],
   "source": [
    "session = requests.Session()\n",
    "session.headers = apple_headers"
   ],
   "metadata": {
    "collapsed": false,
    "pycharm": {
     "name": "#%%\n"
    }
   }
  },
  {
   "cell_type": "code",
   "execution_count": 84,
   "outputs": [
    {
     "data": {
      "text/plain": "<Response [200]>"
     },
     "execution_count": 84,
     "metadata": {},
     "output_type": "execute_result"
    }
   ],
   "source": [
    "result = session.get(CSRF_TOKEN)\n",
    "result"
   ],
   "metadata": {
    "collapsed": false,
    "pycharm": {
     "name": "#%%\n"
    }
   }
  },
  {
   "cell_type": "code",
   "execution_count": 85,
   "outputs": [],
   "source": [
    "session.headers['X-Apple-CSRF-Token'] = result.headers['X-Apple-CSRF-Token']"
   ],
   "metadata": {
    "collapsed": false,
    "pycharm": {
     "name": "#%%\n"
    }
   }
  },
  {
   "cell_type": "code",
   "execution_count": 86,
   "outputs": [
    {
     "data": {
      "text/plain": "{'User-Agent': 'Mozilla/5.0 (Macintosh; PPC Mac OS X 10_9_7) AppleWebKit/535.0 (KHTML, like Gecko) Chrome/55.0.854.0 Safari/535.0',\n 'accept-language': 'en-US,en;q=0.9',\n 'pragma': 'np-cache',\n 'countrycode': 'USA',\n 'sec-fetch-mode': 'cors',\n 'sec-fetch-site': 'same-origin',\n 'origin': 'https://jobs.apple.com',\n 'Host': 'jobs.apple.com',\n 'referer': 'https://jobs.apple.com/en-us/search',\n 'X-Apple-CSRF-Token': '2da62a5db304cb69f52f5ca8ddec1f1eb8aff5bca75024853a4959f5ba64c62a'}"
     },
     "execution_count": 86,
     "metadata": {},
     "output_type": "execute_result"
    }
   ],
   "source": [
    "session.headers"
   ],
   "metadata": {
    "collapsed": false,
    "pycharm": {
     "name": "#%%\n"
    }
   }
  },
  {
   "cell_type": "code",
   "execution_count": 89,
   "outputs": [],
   "source": [
    "search_payload = {\n",
    "    'page': 1,\n",
    "    'query': '',\n",
    "    'filters': {\"range\":{\"standardWeeklyHours\":{\"start\":None,\"end\":None}}},\n",
    "    'locals': 'en-us',\n",
    "    'sort': 'relevance',\n",
    "}"
   ],
   "metadata": {
    "collapsed": false,
    "pycharm": {
     "name": "#%%\n"
    }
   }
  },
  {
   "cell_type": "code",
   "execution_count": 90,
   "outputs": [
    {
     "data": {
      "text/plain": "<Response [403]>"
     },
     "execution_count": 90,
     "metadata": {},
     "output_type": "execute_result"
    }
   ],
   "source": [
    "result = session.post(API_URL, data=search_payload, allow_redirects=True)\n",
    "result"
   ],
   "metadata": {
    "collapsed": false,
    "pycharm": {
     "name": "#%%\n"
    }
   }
  },
  {
   "cell_type": "code",
   "execution_count": null,
   "outputs": [],
   "source": [
    "result.text"
   ],
   "metadata": {
    "collapsed": false,
    "pycharm": {
     "name": "#%%\n"
    }
   }
  },
  {
   "cell_type": "code",
   "execution_count": null,
   "outputs": [],
   "source": [
    "print(result.text)"
   ],
   "metadata": {
    "collapsed": false,
    "pycharm": {
     "name": "#%%\n"
    }
   }
  },
  {
   "cell_type": "code",
   "execution_count": null,
   "outputs": [],
   "source": [],
   "metadata": {
    "collapsed": false,
    "pycharm": {
     "name": "#%%\n"
    }
   }
  }
 ],
 "metadata": {
  "kernelspec": {
   "display_name": "Python 3",
   "language": "python",
   "name": "python3"
  },
  "language_info": {
   "codemirror_mode": {
    "name": "ipython",
    "version": 2
   },
   "file_extension": ".py",
   "mimetype": "text/x-python",
   "name": "python",
   "nbconvert_exporter": "python",
   "pygments_lexer": "ipython2",
   "version": "2.7.6"
  }
 },
 "nbformat": 4,
 "nbformat_minor": 0
}
