{
 "cells": [
  {
   "cell_type": "markdown",
   "source": [
    "## **PARSING APPLE VACANCY**"
   ],
   "metadata": {
    "collapsed": false,
    "pycharm": {
     "name": "#%% md\n"
    }
   }
  },
  {
   "cell_type": "code",
   "execution_count": 1,
   "outputs": [],
   "source": [
    "############################################\n",
    "###     Research Trending Vacancies      ###\n",
    "###     Sber Dep. Research&Innovation    ### \n",
    "###   Ivanov Arseny, Sergey Bratchikov   ###\n",
    "###       A. Efimov, D. Asonov           ###\n",
    "############################################"
   ],
   "metadata": {
    "collapsed": false,
    "pycharm": {
     "name": "#%%\n"
    }
   }
  },
  {
   "cell_type": "code",
   "execution_count": 2,
   "outputs": [],
   "source": [
    "import time\n",
    "import requests\n",
    "from bs4 import BeautifulSoup\n",
    "import json\n",
    "import re\n",
    "import time\n",
    "import faker\n",
    "import pandas as pd\n",
    "from tqdm import tqdm\n",
    "from datetime import datetime\n",
    "from dateutil import parser"
   ],
   "metadata": {
    "collapsed": false,
    "pycharm": {
     "name": "#%%\n"
    }
   }
  },
  {
   "cell_type": "code",
   "execution_count": 3,
   "outputs": [],
   "source": [
    "from concurrent.futures import ThreadPoolExecutor"
   ],
   "metadata": {
    "collapsed": false,
    "pycharm": {
     "name": "#%%\n"
    }
   }
  },
  {
   "cell_type": "code",
   "execution_count": 4,
   "outputs": [],
   "source": [
    "fake = faker.Faker(locale='en')"
   ],
   "metadata": {
    "collapsed": false,
    "pycharm": {
     "name": "#%%\n"
    }
   }
  },
  {
   "cell_type": "code",
   "execution_count": 5,
   "outputs": [],
   "source": [
    "apple_headers = {\n",
    "    'User-Agent': fake.chrome(),\n",
    "    'accept-language': 'en-US,en;q=0.9',\n",
    "    'pragma': 'np-cache',\n",
    "    'countrycode': 'USA',\n",
    "    'sec-fetch-mode': 'cors',\n",
    "    'sec-fetch-site': 'same-origin',\n",
    "    'origin': 'http://jobs.apple.com',\n",
    "    'Host': 'jobs.apple.com',\n",
    "    'referer': 'http://jobs.apple.com/en-us/search'\n",
    "}"
   ],
   "metadata": {
    "collapsed": false,
    "pycharm": {
     "name": "#%%\n"
    }
   }
  },
  {
   "cell_type": "code",
   "execution_count": 6,
   "outputs": [],
   "source": [
    "MAIN_URL = \"http://jobs.apple.com\"\n",
    "HTML_URL = \"http://jobs.apple.com/en-us/search\"\n",
    "CSRF_TOKEN = \"http://jobs.apple.com/api/csrfToken\"\n",
    "API_URL = \"http://jobs.apple.com/api/role/search\""
   ],
   "metadata": {
    "collapsed": false,
    "pycharm": {
     "name": "#%%\n"
    }
   }
  },
  {
   "cell_type": "markdown",
   "source": [
    "## Через парсинг страниц\n",
    "Сначала собираем ссылки и начальную инфу для детального парсинга каждой ваки"
   ],
   "metadata": {
    "collapsed": false,
    "pycharm": {
     "name": "#%% md\n"
    }
   }
  },
  {
   "cell_type": "code",
   "execution_count": 7,
   "outputs": [],
   "source": [
    "clear_string = lambda x: re.sub(' +', ' ', re.sub('<.*?>', ' ', x).replace('\\n', '\\n ')).strip()"
   ],
   "metadata": {
    "collapsed": false,
    "pycharm": {
     "name": "#%%\n"
    }
   }
  },
  {
   "cell_type": "code",
   "execution_count": 8,
   "outputs": [
    {
     "name": "stderr",
     "output_type": "stream",
     "text": [
      " 46%|████▌     | 456/1000 [24:11<28:51,  3.18s/it]  \n"
     ]
    }
   ],
   "source": [
    "jobs_list = []\n",
    "null_counter = 0\n",
    "for page in tqdm(range(0, 1000)):\n",
    "    search_params = {\n",
    "        'page': page\n",
    "    }\n",
    "    html_result = requests.get(HTML_URL, headers=apple_headers, params=search_params)\n",
    "    soup = BeautifulSoup(html_result.text)\n",
    "\n",
    "    results_table = soup.find('div', attrs={'class': 'results__table'})\n",
    "    if results_table:\n",
    "        null_counter = 0\n",
    "\n",
    "        jobs = results_table.find('table').find_all('tbody')\n",
    "        for job_block in jobs:\n",
    "            job_info = job_block.findNext('td')\n",
    "\n",
    "            name = job_info.find('a').text\n",
    "            url = job_info.find('a')['href']\n",
    "            internal_id = job_info.find('a')['id'].split('-')[-1]\n",
    "            publish_date = parser.parse(job_info.find('span').findNext().text)\n",
    "\n",
    "            jobs_list.append((url, internal_id, name, publish_date))\n",
    "\n",
    "        time.sleep(0.2) # sleep for 200 ms\n",
    "    else:\n",
    "        null_counter += 1\n",
    "        if null_counter == 3:\n",
    "            break\n",
    "        else:\n",
    "            continue"
   ],
   "metadata": {
    "collapsed": false,
    "pycharm": {
     "name": "#%%\n"
    }
   }
  },
  {
   "cell_type": "code",
   "execution_count": 9,
   "outputs": [
    {
     "data": {
      "text/plain": "9064"
     },
     "execution_count": 9,
     "metadata": {},
     "output_type": "execute_result"
    }
   ],
   "source": [
    "len(jobs_list)"
   ],
   "metadata": {
    "collapsed": false,
    "pycharm": {
     "name": "#%%\n"
    }
   }
  },
  {
   "cell_type": "code",
   "execution_count": 11,
   "outputs": [
    {
     "data": {
      "text/plain": "('/en-us/details/114438110/nl-creative?team=APPST',\n '114438110',\n 'NL-Creative',\n datetime.datetime(2022, 7, 3, 0, 0))"
     },
     "execution_count": 11,
     "metadata": {},
     "output_type": "execute_result"
    }
   ],
   "source": [
    "jobs_list[100]"
   ],
   "metadata": {
    "collapsed": false,
    "pycharm": {
     "name": "#%%\n"
    }
   }
  },
  {
   "cell_type": "markdown",
   "source": [
    "#### Детальный парсинг страниц вакансий"
   ],
   "metadata": {
    "collapsed": false,
    "pycharm": {
     "name": "#%% md\n"
    }
   }
  },
  {
   "cell_type": "code",
   "execution_count": 12,
   "outputs": [],
   "source": [
    "def get_vacancy(params):\n",
    "    url, internal_id, name, publish_date = params\n",
    "\n",
    "    job_website = requests.get(MAIN_URL + url, headers=apple_headers)\n",
    "    soup = BeautifulSoup(job_website.text)\n",
    "\n",
    "    try:\n",
    "        description = clear_string(soup.find('div', id='jd-job-summary').span.text)\n",
    "        qualifications = clear_string(soup.find('div', id='jd-key-qualifications').text)\n",
    "        responsibilities = clear_string(soup.find('div', id='jd-description').text)\n",
    "    except:\n",
    "        print(f'Error while parsing {job_website.url}')\n",
    "        return None\n",
    "\n",
    "    job_dict = {\n",
    "        'title': name,\n",
    "        'internal_id' : internal_id,\n",
    "        'url': MAIN_URL + url,\n",
    "        'description': description,\n",
    "        'responsibilities': responsibilities,\n",
    "        'qualifications': qualifications,\n",
    "        'company': 'Apple',\n",
    "        'publish_date': publish_date\n",
    "    }\n",
    "\n",
    "    return job_dict"
   ],
   "metadata": {
    "collapsed": false,
    "pycharm": {
     "name": "#%%\n"
    }
   }
  },
  {
   "cell_type": "code",
   "execution_count": 13,
   "outputs": [
    {
     "name": "stderr",
     "output_type": "stream",
     "text": [
      "  1%|          | 95/9064 [00:31<56:48,  2.63it/s]  "
     ]
    },
    {
     "name": "stdout",
     "output_type": "stream",
     "text": [
      "Error while parsing https://jobs-prz.apple.com/en-us/details/200396220/administrative-assistant?team=SFTWR\n"
     ]
    },
    {
     "name": "stderr",
     "output_type": "stream",
     "text": [
      "  1%|          | 96/9064 [02:30<53:43:45, 21.57s/it]"
     ]
    },
    {
     "name": "stdout",
     "output_type": "stream",
     "text": [
      "Error while parsing https://www.apple.com/careers/us/maintenance.html\n"
     ]
    },
    {
     "name": "stderr",
     "output_type": "stream",
     "text": [
      "  1%|          | 103/9064 [02:32<19:44:18,  7.93s/it]"
     ]
    },
    {
     "name": "stdout",
     "output_type": "stream",
     "text": [
      "Error while parsing https://www.apple.com/careers/us/maintenance.html\n"
     ]
    },
    {
     "name": "stderr",
     "output_type": "stream",
     "text": [
      "  6%|▋         | 574/9064 [03:22<34:36,  4.09it/s]   "
     ]
    },
    {
     "name": "stdout",
     "output_type": "stream",
     "text": [
      "Error while parsing https://jobs-prz.apple.com/en-us/details/200395855/administration-assistant?team=HRDWR\n"
     ]
    },
    {
     "name": "stderr",
     "output_type": "stream",
     "text": [
      "  9%|▉         | 849/9064 [04:49<28:53,  4.74it/s]  "
     ]
    },
    {
     "name": "stdout",
     "output_type": "stream",
     "text": [
      "Error while parsing https://jobs-prz.apple.com/en-us/details/200396023/administrative-assistant-hardware-teams?team=HRDWR\n"
     ]
    },
    {
     "name": "stderr",
     "output_type": "stream",
     "text": [
      " 11%|█▏        | 1042/9064 [05:56<1:50:58,  1.20it/s]"
     ]
    },
    {
     "name": "stdout",
     "output_type": "stream",
     "text": [
      "Error while parsing https://jobs-prz.apple.com/en-us/details/200371813/administrative-assistant?team=HRDWR\n"
     ]
    },
    {
     "name": "stderr",
     "output_type": "stream",
     "text": [
      " 13%|█▎        | 1159/9064 [06:26<29:16,  4.50it/s]  "
     ]
    },
    {
     "name": "stdout",
     "output_type": "stream",
     "text": [
      "Error while parsing https://jobs-prz.apple.com/en-us/details/200390116/administrative-assistant?team=SFTWR\n",
      "Error while parsing https://jobs-prz.apple.com/en-us/details/200394781/administrative-assistant-tdg?team=HRDWR\n"
     ]
    },
    {
     "name": "stderr",
     "output_type": "stream",
     "text": [
      " 20%|█▉        | 1774/9064 [09:35<46:20,  2.62it/s]  "
     ]
    },
    {
     "name": "stdout",
     "output_type": "stream",
     "text": [
      "Error while parsing https://jobs-prz.apple.com/en-us/details/200326298/administrative-assistant?team=SFTWR\n"
     ]
    },
    {
     "name": "stderr",
     "output_type": "stream",
     "text": [
      " 29%|██▉       | 2638/9064 [13:47<21:41,  4.94it/s]  "
     ]
    },
    {
     "name": "stdout",
     "output_type": "stream",
     "text": [
      "Error while parsing https://jobs-prz.apple.com/en-us/details/200370189/administrative-assistant?team=CORSV\n"
     ]
    },
    {
     "name": "stderr",
     "output_type": "stream",
     "text": [
      " 29%|██▉       | 2660/9064 [13:53<22:13,  4.80it/s]"
     ]
    },
    {
     "name": "stdout",
     "output_type": "stream",
     "text": [
      "Error while parsing https://jobs-prz.apple.com/en-us/details/200388008/administrative-assistant-digital-marketing-and-media?team=MKTG\n"
     ]
    },
    {
     "name": "stderr",
     "output_type": "stream",
     "text": [
      " 30%|██▉       | 2712/9064 [14:09<43:06,  2.46it/s]"
     ]
    },
    {
     "name": "stdout",
     "output_type": "stream",
     "text": [
      "Error while parsing https://jobs-prz.apple.com/en-us/details/200385592/platform-specialist-ad-platforms-partner-development-greater-china?team=SFTWR\n"
     ]
    },
    {
     "name": "stderr",
     "output_type": "stream",
     "text": [
      " 35%|███▍      | 3148/9064 [16:18<37:21,  2.64it/s]  "
     ]
    },
    {
     "name": "stdout",
     "output_type": "stream",
     "text": [
      "Error while parsing https://jobs-prz.apple.com/en-us/details/200385074/administrative-assistant-apps-program?team=NA\n"
     ]
    },
    {
     "name": "stderr",
     "output_type": "stream",
     "text": [
      " 37%|███▋      | 3370/9064 [17:21<49:48,  1.91it/s]"
     ]
    },
    {
     "name": "stdout",
     "output_type": "stream",
     "text": [
      "Error while parsing https://jobs-prz.apple.com/en-us/details/200384270/administrative-assistant-apps-team?team=SFTWR\n"
     ]
    },
    {
     "name": "stderr",
     "output_type": "stream",
     "text": [
      " 39%|███▊      | 3510/9064 [18:02<18:23,  5.03it/s]  "
     ]
    },
    {
     "name": "stdout",
     "output_type": "stream",
     "text": [
      "Error while parsing https://jobs-prz.apple.com/en-us/details/200367040/administrative-assistant?team=SFTWR\n"
     ]
    },
    {
     "name": "stderr",
     "output_type": "stream",
     "text": [
      " 46%|████▋     | 4209/9064 [21:24<23:59,  3.37it/s]  "
     ]
    },
    {
     "name": "stdout",
     "output_type": "stream",
     "text": [
      "Error while parsing https://jobs-prz.apple.com/en-us/details/200377865/administrative-assistant?team=HRDWR\n"
     ]
    },
    {
     "name": "stderr",
     "output_type": "stream",
     "text": [
      " 48%|████▊     | 4322/9064 [21:55<23:51,  3.31it/s]"
     ]
    },
    {
     "name": "stdout",
     "output_type": "stream",
     "text": [
      "Error while parsing https://jobs-prz.apple.com/en-us/details/200377842/administrative-assistant-special-projects-group?team=CORSV\n"
     ]
    },
    {
     "name": "stderr",
     "output_type": "stream",
     "text": [
      " 50%|████▉     | 4523/9064 [23:01<51:01,  1.48it/s]"
     ]
    },
    {
     "name": "stdout",
     "output_type": "stream",
     "text": [
      "Error while parsing https://jobs-prz.apple.com/en-us/details/200367123/administrative-assistant-ai-ml?team=SFTWR\n"
     ]
    },
    {
     "name": "stderr",
     "output_type": "stream",
     "text": [
      " 61%|██████    | 5486/9064 [27:46<29:54,  1.99it/s]  "
     ]
    },
    {
     "name": "stdout",
     "output_type": "stream",
     "text": [
      "Error while parsing https://jobs-prz.apple.com/en-us/details/200366854/administrative-assistant?team=CORSV\n"
     ]
    },
    {
     "name": "stderr",
     "output_type": "stream",
     "text": [
      " 69%|██████▊   | 6225/9064 [31:27<13:57,  3.39it/s]  "
     ]
    },
    {
     "name": "stdout",
     "output_type": "stream",
     "text": [
      "Error while parsing https://jobs-prz.apple.com/en-us/details/200354990/administrative-assistant?team=SFTWR\n"
     ]
    },
    {
     "name": "stderr",
     "output_type": "stream",
     "text": [
      " 81%|████████  | 7345/9064 [37:06<05:42,  5.02it/s]"
     ]
    },
    {
     "name": "stdout",
     "output_type": "stream",
     "text": [
      "Error while parsing https://jobs-prz.apple.com/en-us/details/200331546/administrative-assistant-security-engineering-architecture?team=SFTWR\n"
     ]
    },
    {
     "name": "stderr",
     "output_type": "stream",
     "text": [
      "100%|██████████| 9064/9064 [46:07<00:00,  3.28it/s]\n"
     ]
    }
   ],
   "source": [
    "with ThreadPoolExecutor(max_workers=10) as executor:\n",
    "    job_dicts = list(tqdm(executor.map(get_vacancy, jobs_list), total=len(jobs_list)))"
   ],
   "metadata": {
    "collapsed": false,
    "pycharm": {
     "name": "#%%\n"
    }
   }
  },
  {
   "cell_type": "code",
   "execution_count": 14,
   "outputs": [
    {
     "name": "stdout",
     "output_type": "stream",
     "text": [
      "9043\n"
     ]
    },
    {
     "data": {
      "text/plain": "                                                  title internal_id  \\\n918   Apple Shop Leader - Istanbul (European side - ...   200359842   \n6876                    Contract Recruiting Coordinator   200344894   \n7834                          mmWave IC Design Engineer   200199535   \n7195  Nanoimprint Lithography Process Engineer, Disp...   200337515   \n3611                   AI/ML - Sr Client Engineer, Siri   200342698   \n\n                                                    url  \\\n918   http://jobs.apple.com/en-us/details/200359842/...   \n6876  http://jobs.apple.com/en-us/details/200344894/...   \n7834  http://jobs.apple.com/en-us/details/200199535/...   \n7195  http://jobs.apple.com/en-us/details/200337515/...   \n3611  http://jobs.apple.com/en-us/details/200342698/...   \n\n                                            description  \\\n918   Imagine, what you could do here? \\n At Apple, ...   \n6876  Do you have a passion for helping others succe...   \n7834  Would you like to part of Apple’s fast-growing...   \n7195  Do something different! Apple is seeking a har...   \n3611  Would you like to play a part in the next revo...   \n\n                                       responsibilities  \\\n918   We connect customers to Apple's solutions, and...   \n6876  The Contract Recruiting Coordinator provides s...   \n7834  As a mmWave Design Engineer at Apple, you will...   \n7195  - Take total ownership to drive nanoimprint li...   \n3611  Join Apple's Siri team as a Senior Client Engi...   \n\n                                         qualifications company publish_date  \n918   You are passionate, approachable and know how ...   Apple   2022-06-27  \n6876  Able to work 10am-7pm ET, Monday through Frida...   Apple   2022-02-14  \n7834  We would like you to have experience with mmWa...   Apple   2021-11-10  \n7195  Proficiency and hands-on experience in Nanoimp...   Apple   2022-01-27  \n3611  Minimum 5 years of industry experience in soft...   Apple   2022-05-21  ",
      "text/html": "<div>\n<style scoped>\n    .dataframe tbody tr th:only-of-type {\n        vertical-align: middle;\n    }\n\n    .dataframe tbody tr th {\n        vertical-align: top;\n    }\n\n    .dataframe thead th {\n        text-align: right;\n    }\n</style>\n<table border=\"1\" class=\"dataframe\">\n  <thead>\n    <tr style=\"text-align: right;\">\n      <th></th>\n      <th>title</th>\n      <th>internal_id</th>\n      <th>url</th>\n      <th>description</th>\n      <th>responsibilities</th>\n      <th>qualifications</th>\n      <th>company</th>\n      <th>publish_date</th>\n    </tr>\n  </thead>\n  <tbody>\n    <tr>\n      <th>918</th>\n      <td>Apple Shop Leader - Istanbul (European side - ...</td>\n      <td>200359842</td>\n      <td>http://jobs.apple.com/en-us/details/200359842/...</td>\n      <td>Imagine, what you could do here? \\n At Apple, ...</td>\n      <td>We connect customers to Apple's solutions, and...</td>\n      <td>You are passionate, approachable and know how ...</td>\n      <td>Apple</td>\n      <td>2022-06-27</td>\n    </tr>\n    <tr>\n      <th>6876</th>\n      <td>Contract Recruiting Coordinator</td>\n      <td>200344894</td>\n      <td>http://jobs.apple.com/en-us/details/200344894/...</td>\n      <td>Do you have a passion for helping others succe...</td>\n      <td>The Contract Recruiting Coordinator provides s...</td>\n      <td>Able to work 10am-7pm ET, Monday through Frida...</td>\n      <td>Apple</td>\n      <td>2022-02-14</td>\n    </tr>\n    <tr>\n      <th>7834</th>\n      <td>mmWave IC Design Engineer</td>\n      <td>200199535</td>\n      <td>http://jobs.apple.com/en-us/details/200199535/...</td>\n      <td>Would you like to part of Apple’s fast-growing...</td>\n      <td>As a mmWave Design Engineer at Apple, you will...</td>\n      <td>We would like you to have experience with mmWa...</td>\n      <td>Apple</td>\n      <td>2021-11-10</td>\n    </tr>\n    <tr>\n      <th>7195</th>\n      <td>Nanoimprint Lithography Process Engineer, Disp...</td>\n      <td>200337515</td>\n      <td>http://jobs.apple.com/en-us/details/200337515/...</td>\n      <td>Do something different! Apple is seeking a har...</td>\n      <td>- Take total ownership to drive nanoimprint li...</td>\n      <td>Proficiency and hands-on experience in Nanoimp...</td>\n      <td>Apple</td>\n      <td>2022-01-27</td>\n    </tr>\n    <tr>\n      <th>3611</th>\n      <td>AI/ML - Sr Client Engineer, Siri</td>\n      <td>200342698</td>\n      <td>http://jobs.apple.com/en-us/details/200342698/...</td>\n      <td>Would you like to play a part in the next revo...</td>\n      <td>Join Apple's Siri team as a Senior Client Engi...</td>\n      <td>Minimum 5 years of industry experience in soft...</td>\n      <td>Apple</td>\n      <td>2022-05-21</td>\n    </tr>\n  </tbody>\n</table>\n</div>"
     },
     "execution_count": 14,
     "metadata": {},
     "output_type": "execute_result"
    }
   ],
   "source": [
    "snapshot = pd.DataFrame(filter(lambda x: x is not None, job_dicts))\n",
    "print(len(snapshot))\n",
    "snapshot.sample(5)"
   ],
   "metadata": {
    "collapsed": false,
    "pycharm": {
     "name": "#%%\n"
    }
   }
  },
  {
   "cell_type": "code",
   "execution_count": 15,
   "outputs": [
    {
     "name": "stdout",
     "output_type": "stream",
     "text": [
      "<class 'pandas.core.frame.DataFrame'>\n",
      "RangeIndex: 9043 entries, 0 to 9042\n",
      "Data columns (total 8 columns):\n",
      " #   Column            Non-Null Count  Dtype         \n",
      "---  ------            --------------  -----         \n",
      " 0   title             9043 non-null   object        \n",
      " 1   internal_id       9043 non-null   object        \n",
      " 2   url               9043 non-null   object        \n",
      " 3   description       9043 non-null   object        \n",
      " 4   responsibilities  9043 non-null   object        \n",
      " 5   qualifications    9043 non-null   object        \n",
      " 6   company           9043 non-null   object        \n",
      " 7   publish_date      9043 non-null   datetime64[ns]\n",
      "dtypes: datetime64[ns](1), object(7)\n",
      "memory usage: 565.3+ KB\n"
     ]
    }
   ],
   "source": [
    "snapshot.info()"
   ],
   "metadata": {
    "collapsed": false,
    "pycharm": {
     "name": "#%%\n"
    }
   }
  },
  {
   "cell_type": "code",
   "execution_count": 16,
   "outputs": [
    {
     "data": {
      "text/plain": "'03-07-2022'"
     },
     "execution_count": 16,
     "metadata": {},
     "output_type": "execute_result"
    }
   ],
   "source": [
    "current_date = datetime.now().strftime('%d-%m-%Y')\n",
    "current_date"
   ],
   "metadata": {
    "collapsed": false,
    "pycharm": {
     "name": "#%%\n"
    }
   }
  },
  {
   "cell_type": "code",
   "execution_count": 17,
   "outputs": [],
   "source": [
    "snapshot.to_csv(f'../data/apple/{current_date}.csv')\n",
    "snapshot.to_csv(f'../data/apple/{current_date}.tsv', sep='\\t')"
   ],
   "metadata": {
    "collapsed": false,
    "pycharm": {
     "name": "#%%\n"
    }
   }
  },
  {
   "cell_type": "markdown",
   "source": [
    "#### Проверка на единичной вакансии"
   ],
   "metadata": {
    "collapsed": false,
    "pycharm": {
     "name": "#%% md\n"
    }
   }
  },
  {
   "cell_type": "code",
   "execution_count": 202,
   "outputs": [
    {
     "data": {
      "text/plain": "<Response [200]>"
     },
     "execution_count": 202,
     "metadata": {},
     "output_type": "execute_result"
    }
   ],
   "source": [
    "job_website = requests.get(MAIN_URL + jobs_list[0][0], headers=apple_headers)\n",
    "job_website"
   ],
   "metadata": {
    "collapsed": false,
    "pycharm": {
     "name": "#%%\n"
    }
   }
  },
  {
   "cell_type": "code",
   "execution_count": 204,
   "outputs": [],
   "source": [
    "soup = BeautifulSoup(job_website.text)"
   ],
   "metadata": {
    "collapsed": false,
    "pycharm": {
     "name": "#%%\n"
    }
   }
  },
  {
   "cell_type": "code",
   "execution_count": 214,
   "outputs": [
    {
     "data": {
      "text/plain": "'Do you love how it feels to help others? After customers purchase our products, you’re the one who helps them get more out of their new Apple technology. Your day in the Apple Store is filled with a range of focused support and service tasks. Whether you’re helping customers get started with the Mac or finding answers to their questions about other Apple devices, you’re ready to share knowledge and provide exceptional assistance. You gain satisfaction from bringing resolution and insight to each customer, elevating his or her relationship with Apple to the next level.\\n \\n Both full-time and part-time jobs are available.'"
     },
     "execution_count": 214,
     "metadata": {},
     "output_type": "execute_result"
    }
   ],
   "source": [
    "description = soup.find('div', id='jd-job-summary').span.text\n",
    "clear_string(description)"
   ],
   "metadata": {
    "collapsed": false,
    "pycharm": {
     "name": "#%%\n"
    }
   }
  },
  {
   "cell_type": "code",
   "execution_count": 212,
   "outputs": [
    {
     "data": {
      "text/plain": "'Ability to assess customers’ support needs when they arrive, then provide solutions or refer them to other team membersFlexibility to regularly rotate through different technical specialities and skill setsAbility to thrive on change as products evolve'"
     },
     "execution_count": 212,
     "metadata": {},
     "output_type": "execute_result"
    }
   ],
   "source": [
    "soup.find('div', id='jd-key-qualifications').text"
   ],
   "metadata": {
    "collapsed": false,
    "pycharm": {
     "name": "#%%\n"
    }
   }
  },
  {
   "cell_type": "code",
   "execution_count": 213,
   "outputs": [
    {
     "data": {
      "text/plain": "'As a Technical Specialist, you help new owners get started and current ones get quick, efficient support — developing strong, positive relationships with Apple. When a customer needs assistance, you quickly assess their situation. Sometimes you take care of customers with advice or a solution on the spot, using your knowledge of current Apple technology to help with iPod, iPhone and iPad devices. At other times, you refer customers to support team members who get them up and running again. You even provide personal training for new customers, helping them acquire the basic skills they need to get started on photo, video and music projects. The entire store team benefits from your commitment to providing the best care for customers. By helping Apple maintain strong relationships with customers, you are instrumental to our success.\\n\\nDiscover even more benefits of doing what you love. Apple’s most important resource, our soul, is our people. Apple benefits help further the well-being of our employees and their families in meaningful ways. No matter where you work at Apple, you can take advantage of our health and wellness resources and time-away programmes. We’re proud to provide stock grants to employees at all levels of the company, and we also give employees the option to buy Apple stock at a discount — both offer everyone at Apple the chance to share in the company’s success. You’ll discover many more benefits of working at Apple, such as programmes that match your charitable contributions, reimburse you for continuing your education and give you special employee pricing on Apple products.\\n\\nNote: Apple benefits programmes vary by country and are subject to eligibility requirements.'"
     },
     "execution_count": 213,
     "metadata": {},
     "output_type": "execute_result"
    }
   ],
   "source": [
    "soup.find('div', id='jd-description').text"
   ],
   "metadata": {
    "collapsed": false,
    "pycharm": {
     "name": "#%%\n"
    }
   }
  },
  {
   "cell_type": "markdown",
   "source": [
    "## Через API бэкенда\n",
    "ВОозникают проблемы, поэтому выбран обычный парсинг"
   ],
   "metadata": {
    "collapsed": false,
    "pycharm": {
     "name": "#%% md\n"
    }
   }
  },
  {
   "cell_type": "code",
   "execution_count": 14,
   "outputs": [],
   "source": [
    "session = requests.Session()\n",
    "session.headers = apple_headers"
   ],
   "metadata": {
    "collapsed": false,
    "pycharm": {
     "name": "#%%\n"
    }
   }
  },
  {
   "cell_type": "code",
   "execution_count": 84,
   "outputs": [
    {
     "data": {
      "text/plain": "<Response [200]>"
     },
     "execution_count": 84,
     "metadata": {},
     "output_type": "execute_result"
    }
   ],
   "source": [
    "result = session.get(CSRF_TOKEN)\n",
    "result"
   ],
   "metadata": {
    "collapsed": false,
    "pycharm": {
     "name": "#%%\n"
    }
   }
  },
  {
   "cell_type": "code",
   "execution_count": 85,
   "outputs": [],
   "source": [
    "session.headers['X-Apple-CSRF-Token'] = result.headers['X-Apple-CSRF-Token']"
   ],
   "metadata": {
    "collapsed": false,
    "pycharm": {
     "name": "#%%\n"
    }
   }
  },
  {
   "cell_type": "code",
   "execution_count": 86,
   "outputs": [
    {
     "data": {
      "text/plain": "{'User-Agent': 'Mozilla/5.0 (Macintosh; PPC Mac OS X 10_9_7) AppleWebKit/535.0 (KHTML, like Gecko) Chrome/55.0.854.0 Safari/535.0',\n 'accept-language': 'en-US,en;q=0.9',\n 'pragma': 'np-cache',\n 'countrycode': 'USA',\n 'sec-fetch-mode': 'cors',\n 'sec-fetch-site': 'same-origin',\n 'origin': 'https://jobs.apple.com',\n 'Host': 'jobs.apple.com',\n 'referer': 'https://jobs.apple.com/en-us/search',\n 'X-Apple-CSRF-Token': '2da62a5db304cb69f52f5ca8ddec1f1eb8aff5bca75024853a4959f5ba64c62a'}"
     },
     "execution_count": 86,
     "metadata": {},
     "output_type": "execute_result"
    }
   ],
   "source": [
    "session.headers"
   ],
   "metadata": {
    "collapsed": false,
    "pycharm": {
     "name": "#%%\n"
    }
   }
  },
  {
   "cell_type": "code",
   "execution_count": 89,
   "outputs": [],
   "source": [
    "search_payload = {\n",
    "    'page': 1,\n",
    "    'query': '',\n",
    "    'filters': {\"range\":{\"standardWeeklyHours\":{\"start\":None,\"end\":None}}},\n",
    "    'locals': 'en-us',\n",
    "    'sort': 'relevance',\n",
    "}"
   ],
   "metadata": {
    "collapsed": false,
    "pycharm": {
     "name": "#%%\n"
    }
   }
  },
  {
   "cell_type": "code",
   "execution_count": 90,
   "outputs": [
    {
     "data": {
      "text/plain": "<Response [403]>"
     },
     "execution_count": 90,
     "metadata": {},
     "output_type": "execute_result"
    }
   ],
   "source": [
    "result = session.post(API_URL, data=search_payload, allow_redirects=True)\n",
    "result"
   ],
   "metadata": {
    "collapsed": false,
    "pycharm": {
     "name": "#%%\n"
    }
   }
  },
  {
   "cell_type": "code",
   "execution_count": null,
   "outputs": [],
   "source": [
    "result.text"
   ],
   "metadata": {
    "collapsed": false,
    "pycharm": {
     "name": "#%%\n"
    }
   }
  },
  {
   "cell_type": "code",
   "execution_count": null,
   "outputs": [],
   "source": [
    "print(result.text)"
   ],
   "metadata": {
    "collapsed": false,
    "pycharm": {
     "name": "#%%\n"
    }
   }
  },
  {
   "cell_type": "code",
   "execution_count": null,
   "outputs": [],
   "source": [],
   "metadata": {
    "collapsed": false,
    "pycharm": {
     "name": "#%%\n"
    }
   }
  }
 ],
 "metadata": {
  "kernelspec": {
   "display_name": "Python 3",
   "language": "python",
   "name": "python3"
  },
  "language_info": {
   "codemirror_mode": {
    "name": "ipython",
    "version": 2
   },
   "file_extension": ".py",
   "mimetype": "text/x-python",
   "name": "python",
   "nbconvert_exporter": "python",
   "pygments_lexer": "ipython2",
   "version": "2.7.6"
  }
 },
 "nbformat": 4,
 "nbformat_minor": 0
}