{
 "cells": [
  {
   "cell_type": "code",
   "source": [
    "import time\n",
    "import requests\n",
    "from bs4 import BeautifulSoup\n",
    "import json\n",
    "import re\n",
    "import time\n",
    "import faker\n",
    "import pandas as pd\n",
    "from tqdm import tqdm\n",
    "from datetime import datetime\n",
    "from dateutil import parser"
   ],
   "metadata": {
    "id": "ri3TAA8MgAbh",
    "pycharm": {
     "name": "#%%\n"
    }
   },
   "execution_count": 85,
   "outputs": []
  },
  {
   "cell_type": "code",
   "source": [
    "fake = faker.Faker(locale='en')"
   ],
   "metadata": {
    "id": "6FFjXzajgAef",
    "pycharm": {
     "name": "#%%\n"
    }
   },
   "execution_count": 5,
   "outputs": []
  },
  {
   "cell_type": "code",
   "source": [
    "amazon_headers = {\n",
    "    'User-Agent': fake.chrome(),\n",
    "    'accept-language': 'en-US,en;q=0.9',\n",
    "    'pragma': 'np-cache',\n",
    "    'Host': 'www.amazon.jobs',\n",
    "    'content-type': 'application/json',\n",
    "    'referer': 'https://www.amazon.jobs/en/search?base_query=&loc_query='\n",
    "}"
   ],
   "metadata": {
    "id": "96IJYCSZgAhP",
    "pycharm": {
     "name": "#%%\n"
    }
   },
   "execution_count": 6,
   "outputs": []
  },
  {
   "cell_type": "code",
   "execution_count": 66,
   "outputs": [],
   "source": [
    "clear_string = lambda x: re.sub(' +', ' ', re.sub('<.*?>', ' ', x).replace('\\n', '\\n ')).strip()"
   ],
   "metadata": {
    "collapsed": false,
    "pycharm": {
     "name": "#%%\n"
    }
   }
  },
  {
   "cell_type": "markdown",
   "source": [
    "Здесь выбраны только FullTime и Part Time вакансии отсортированные по дате добавления (сначала более новые)"
   ],
   "metadata": {
    "collapsed": false,
    "pycharm": {
     "name": "#%% md\n"
    }
   }
  },
  {
   "cell_type": "code",
   "execution_count": 74,
   "outputs": [],
   "source": [
    "API_URL = \"http://www.amazon.jobs/en/search.json?schedule_type_id[]=Flex-Time (<19 hours)&schedule_type_id[]=Part-Time (20-29 hours)&schedule_type_id[]=Reduced-Time (30-39 hours)&schedule_type_id[]=Flex Time (<19 hours)&schedule_type_id[]=Reduced Time (30-39 hours)&schedule_type_id[]=Full-Time&radius=24km&facets[]=normalized_country_code&facets[]=normalized_state_name&facets[]=normalized_city_name&facets[]=location&facets[]=business_category&facets[]=category&facets[]=schedule_type_id&facets[]=employee_class&facets[]=normalized_location&facets[]=job_function_id&facets[]=is_manager&facets[]=is_intern&sort=recent&latitude=&longitude=&loc_group_id=&loc_query=&base_query=&city=&country=&region=&county=&query_options=&\"\n",
    "MAIN_URL = \"https://www.amazon.jobs\""
   ],
   "metadata": {
    "collapsed": false,
    "pycharm": {
     "name": "#%%\n"
    }
   }
  },
  {
   "cell_type": "markdown",
   "source": [
    "### Тестирование для одной страницы"
   ],
   "metadata": {
    "collapsed": false,
    "pycharm": {
     "name": "#%% md\n"
    }
   }
  },
  {
   "cell_type": "code",
   "execution_count": 82,
   "outputs": [],
   "source": [
    "search_params = {\n",
    "    'offset': 0,\n",
    "    'result_limit': 100\n",
    "}"
   ],
   "metadata": {
    "collapsed": false,
    "pycharm": {
     "name": "#%%\n"
    }
   }
  },
  {
   "cell_type": "code",
   "execution_count": 83,
   "outputs": [
    {
     "data": {
      "text/plain": "<Response [200]>"
     },
     "execution_count": 83,
     "metadata": {},
     "output_type": "execute_result"
    }
   ],
   "source": [
    "result = requests.get(API_URL, headers=amazon_headers, params=search_params)\n",
    "result"
   ],
   "metadata": {
    "collapsed": false,
    "pycharm": {
     "name": "#%%\n"
    }
   }
  },
  {
   "cell_type": "code",
   "execution_count": 86,
   "outputs": [
    {
     "data": {
      "text/plain": "{'basic_qualifications': '<ul><li>3+ years of design, implementation, or consulting experience in applications or infrastructures</li><li>8+ years within specific technology domain areas (e.g. software development, cloud computing, systems engineering, infrastructure, security, networking, data & analytics)</li></ul><br/>* Demonstrated ability to think strategically about technical challenges, business, and product<br/>* Strong verbal and written communication skills<br/>* Deep knowledge of IPv4 and IPv6 protocols and standards<br/>* Experience with routing protocols, especially BGP, and connectivity technologies like MPLS<br/>* Understanding of the building blocks and protocols used in SD-WAN technologies<br/>* Ability to travel up to 30% as needed',\n 'business_category': 'aws',\n 'city': 'Seattle',\n 'company_name': 'Amazon Web Services, Inc.',\n 'country_code': 'USA',\n 'description': 'Job summary<br/>Come change the way networks are built in the cloud! AWS Networking powers the most secure, extensive, and reliable cloud platform, with more than 20 networking services built to help customers move and run their business on the cloud. The services we support span connectivity, security, and visibility solutions on AWS. They are the foundational elements of the cloud that our customers experience when they adopt AWS, and they’re critical to helping our customers scale their use of AWS securely and efficiently.<br/><br/>We are looking for a Senior Solutions Architect (SA) to join the Networking Specialist team to build and execute the strategy for growing our networking business. The team partners closely with the engineering teams responsible for delivering AWS services such as Cloud WAN, Transit Gateway, Direct Connect, PrivateLink, Amazon VPC, Elastic Load Balancing, Network Firewall, and many more. The SA will be critical to helping our US West customers understand how AWS services work together to achieve their goals on AWS. Successful candidates will be trusted advisors to our customers, and will work with AWS Sales, Solutions Architecture, and Product teams to develop networking solutions that drive revenue. <br/><br/> You’ll partner with our US Networking Specialists to define solutions aligned to customer outcomes and decide what content will be most impactful for each solution. You’ll also act as a voice of the customer, ensuring that critical signals from the field, the market, and partners inform product roadmap decisions. You will work with customers to convey best practices for networking and connectivity in the cloud. You will be responsible for building technical content such as whitepapers, blogs, reference architectures, deployment templates, demo environments, and more. You will provide networking mentorship across AWS Sales and Solutions Architecture teams to build skills in the field, and you will represent AWS at trade events by delivering presentations and workshops.<br/><br/>Above all, you will care deeply about the customer, and understand how adopting networking services contributes to their overall success on AWS.<br/><br/><br/>Key job responsibilities<br/>* Align with GTM Specialists on executing networking strategy in your area<br/>* Educate key customers on the value proposition of AWS, and participate in in-depth architectural discussions to ensure solutions are designed for successful deployment in the cloud<br/>* Capture and share best-practice knowledge amongst the AWS solutions architect community and develop lasting artifacts that can be used again and again<br/>* Guide the development of whitepapers, data sheets, and other high-value customer facing guidance and best practices<br/>* Build deep relationships with decision makers within customer accounts to enable them to be “Cloud advocates”<br/>* Act as a conduit and liaison between customers, service engineering teams, and Support<br/>* Partner with Area leadership to engage strategically and accomplish shared goals',\n 'department_cost_center': None,\n 'description_short': 'Job summary Come change the way networks are built in the cloud! AWS Networking powers the most secure, extensive, and reliable cloud platform, with more than 20 networking services built to help customers',\n 'display_distance': None,\n 'id': '12bd5bb9-26f4-4fde-9048-a18b4aeb48a0',\n 'id_icims': '2131248',\n 'is_intern': None,\n 'is_manager': None,\n 'job_category': 'Solutions Architect',\n 'job_family': 'Solution Architect',\n 'job_function_id': None,\n 'job_path': '/en/jobs/2131248/sr-specialist-sa-networking-us-west',\n 'job_schedule_type': 'full-time',\n 'location': 'US, WA, Seattle',\n 'normalized_location': 'Seattle, Washington, USA',\n 'optional_search_labels': ['aws.team-wwso-optional'],\n 'posted_date': 'July  2, 2022',\n 'preferred_qualifications': '* Experience with technical selling to Fortune 1000 and/or Global 2000 organizations<br/>* Proficiency or experience with AWS Networking technology (but we’ll help you if you don’t)<br/>* Demonstrated ability to work effectively across numerous internal organizations<br/><br/><br/>Amazon is committed to a diverse and inclusive workplace. Amazon is an equal opportunity employer and does not discriminate on the basis of race, national origin, gender, gender identity, sexual orientation, protected veteran status, disability, age, or other legally protected status. For individuals with disabilities who would like to request an accommodation, please visit https://www.amazon.jobs/en/disability/us.',\n 'primary_search_label': 'aws.team-solutions-architect-primary',\n 'source_system': 'Art',\n 'state': 'WA',\n 'title': 'Sr. Specialist SA, Networking, US West',\n 'university_job': None,\n 'updated_time': 'about 3 hours',\n 'url_next_step': 'https://account.amazon.jobs/jobs/2131248/apply',\n 'team': {'id': None,\n  'business_category_id': None,\n  'identifier': None,\n  'label': 'team-solutions-architect-primary',\n  'created_at': None,\n  'updated_at': None,\n  'image_file_name': None,\n  'image_content_type': None,\n  'image_file_size': None,\n  'image_updated_at': None,\n  'thumbnail_file_name': None,\n  'thumbnail_content_type': None,\n  'thumbnail_file_size': None,\n  'thumbnail_updated_at': None,\n  'hide_jobs': None,\n  'title': None,\n  'headline': None,\n  'description': None}}"
     },
     "execution_count": 86,
     "metadata": {},
     "output_type": "execute_result"
    }
   ],
   "source": [
    "result.json()['jobs'][1]"
   ],
   "metadata": {
    "collapsed": false,
    "pycharm": {
     "name": "#%%\n"
    }
   }
  },
  {
   "cell_type": "markdown",
   "source": [
    "### Все страницы"
   ],
   "metadata": {
    "collapsed": false,
    "pycharm": {
     "name": "#%% md\n"
    }
   }
  },
  {
   "cell_type": "code",
   "execution_count": 98,
   "outputs": [
    {
     "name": "stderr",
     "output_type": "stream",
     "text": [
      " 51%|█████     | 51/100 [01:23<01:21,  1.67s/it]"
     ]
    },
    {
     "name": "stdout",
     "output_type": "stream",
     "text": [
      "Error while parsing https://www.amazon.jobs/en/jobs/2120688/applied-science-manager-tts-research\n"
     ]
    },
    {
     "name": "stderr",
     "output_type": "stream",
     "text": [
      " 98%|█████████▊| 98/100 [02:44<00:03,  1.79s/it]"
     ]
    },
    {
     "name": "stdout",
     "output_type": "stream",
     "text": [
      "Error while parsing https://www.amazon.jobs/en/jobs/2108227/quality-assurance-engineer-ii-sft\n"
     ]
    },
    {
     "name": "stderr",
     "output_type": "stream",
     "text": [
      "100%|██████████| 100/100 [02:48<00:00,  1.68s/it]\n"
     ]
    }
   ],
   "source": [
    "job_dicts = []\n",
    "for page in tqdm(range(0, 100)): # max offset for amazon is 9999 :(\n",
    "    search_params = {\n",
    "        'offset': page * 100,\n",
    "        'result_limit': 100\n",
    "    }\n",
    "    result = requests.get(API_URL, headers=amazon_headers, params=search_params).json()\n",
    "    if result['jobs']:\n",
    "\n",
    "        for job_info in result['jobs']:\n",
    "            try:\n",
    "                job_dict = {\n",
    "                    'title': job_info['title'],\n",
    "                    'internal_id' : job_info['id'],\n",
    "                    'url': MAIN_URL + job_info['job_path'],\n",
    "                    'description': clear_string(job_info['description']),\n",
    "                    'responsibilities': None,\n",
    "                    'qualifications': clear_string(job_info['basic_qualifications']),\n",
    "                    'team': \" \".join(job_info['team']['label'].split('-')) if job_info['team']['label'] else None,\n",
    "                    'company': 'Amazon', #job_info['company_name'],\n",
    "                    'publish_date': parser.parse(job_info['posted_date']),\n",
    "                }\n",
    "                job_dicts.append(job_dict)\n",
    "            except:\n",
    "                print(f'Error while parsing {MAIN_URL + job_info[\"job_path\"]}')\n",
    "\n",
    "    time.sleep(0.2) # sleep for 200 ms"
   ],
   "metadata": {
    "collapsed": false,
    "pycharm": {
     "name": "#%%\n"
    }
   }
  },
  {
   "cell_type": "code",
   "execution_count": 99,
   "outputs": [
    {
     "name": "stdout",
     "output_type": "stream",
     "text": [
      "9998\n"
     ]
    },
    {
     "data": {
      "text/plain": "                                                  title  \\\n7715  Account Manager - Mid Market, Western Canada, ...   \n6816                Senior Data Engineer - AWS FinTech    \n8521             Support Ops Specialist, CN Support Ops   \n2156  Network Development Engineer, Frontier Network...   \n6351  Support Engineer IV, DSP Site Reliability Engi...   \n\n                               internal_id  \\\n7715  03c15a59-cc7c-43e4-bfd3-3cb30c590b14   \n6816  4beb464d-38e6-42e6-81dd-0266492c7204   \n8521  9c154648-0e1e-4884-b979-94682c6bf4ad   \n2156  98b0daea-61d2-4801-a1cb-cf026ff6f1c5   \n6351  7a207709-1e55-45a1-8674-110dbddb0df2   \n\n                                                    url  \\\n7715  https://www.amazon.jobs/en/jobs/2114145/accoun...   \n6816  https://www.amazon.jobs/en/jobs/2116290/senior...   \n8521  https://www.amazon.jobs/en/jobs/2112142/suppor...   \n2156  https://www.amazon.jobs/en/jobs/2127629/networ...   \n6351  https://www.amazon.jobs/en/jobs/2117873/suppor...   \n\n                                            description responsibilities  \\\n7715  Job summary Would you like to be part of a tea...             None   \n6816  Job summary Are you passionate about data? Doe...             None   \n8521  Job summary Fulfillment By Amazon (FBA) is bui...             None   \n2156  Job summary The AWS Networking organization is...             None   \n6351  Job summary Advertising is one of the hottest ...             None   \n\n                                         qualifications  \\\n7715  Basic Qualifications • Bachelor’s degree or eq...   \n6816  5+ years of experience as a Data Engineer or i...   \n8521  Good written and verbal communication skills i...   \n2156  * Bachelor’s Degree in a technology related fi...   \n6351  3+ years of development or technical support e...   \n\n                                                   team company publish_date  \n7715                                 team public sector  Amazon   2022-06-21  \n6816                                   team aws fintech  Amazon   2022-06-22  \n8521  team global fulfillment loss prevention and se...  Amazon   2022-06-20  \n2156              team no matching primary label listed  Amazon   2022-06-29  \n6351                                     team amazondsp  Amazon   2022-06-23  ",
      "text/html": "<div>\n<style scoped>\n    .dataframe tbody tr th:only-of-type {\n        vertical-align: middle;\n    }\n\n    .dataframe tbody tr th {\n        vertical-align: top;\n    }\n\n    .dataframe thead th {\n        text-align: right;\n    }\n</style>\n<table border=\"1\" class=\"dataframe\">\n  <thead>\n    <tr style=\"text-align: right;\">\n      <th></th>\n      <th>title</th>\n      <th>internal_id</th>\n      <th>url</th>\n      <th>description</th>\n      <th>responsibilities</th>\n      <th>qualifications</th>\n      <th>team</th>\n      <th>company</th>\n      <th>publish_date</th>\n    </tr>\n  </thead>\n  <tbody>\n    <tr>\n      <th>7715</th>\n      <td>Account Manager - Mid Market, Western Canada, ...</td>\n      <td>03c15a59-cc7c-43e4-bfd3-3cb30c590b14</td>\n      <td>https://www.amazon.jobs/en/jobs/2114145/accoun...</td>\n      <td>Job summary Would you like to be part of a tea...</td>\n      <td>None</td>\n      <td>Basic Qualifications • Bachelor’s degree or eq...</td>\n      <td>team public sector</td>\n      <td>Amazon</td>\n      <td>2022-06-21</td>\n    </tr>\n    <tr>\n      <th>6816</th>\n      <td>Senior Data Engineer - AWS FinTech</td>\n      <td>4beb464d-38e6-42e6-81dd-0266492c7204</td>\n      <td>https://www.amazon.jobs/en/jobs/2116290/senior...</td>\n      <td>Job summary Are you passionate about data? Doe...</td>\n      <td>None</td>\n      <td>5+ years of experience as a Data Engineer or i...</td>\n      <td>team aws fintech</td>\n      <td>Amazon</td>\n      <td>2022-06-22</td>\n    </tr>\n    <tr>\n      <th>8521</th>\n      <td>Support Ops Specialist, CN Support Ops</td>\n      <td>9c154648-0e1e-4884-b979-94682c6bf4ad</td>\n      <td>https://www.amazon.jobs/en/jobs/2112142/suppor...</td>\n      <td>Job summary Fulfillment By Amazon (FBA) is bui...</td>\n      <td>None</td>\n      <td>Good written and verbal communication skills i...</td>\n      <td>team global fulfillment loss prevention and se...</td>\n      <td>Amazon</td>\n      <td>2022-06-20</td>\n    </tr>\n    <tr>\n      <th>2156</th>\n      <td>Network Development Engineer, Frontier Network...</td>\n      <td>98b0daea-61d2-4801-a1cb-cf026ff6f1c5</td>\n      <td>https://www.amazon.jobs/en/jobs/2127629/networ...</td>\n      <td>Job summary The AWS Networking organization is...</td>\n      <td>None</td>\n      <td>* Bachelor’s Degree in a technology related fi...</td>\n      <td>team no matching primary label listed</td>\n      <td>Amazon</td>\n      <td>2022-06-29</td>\n    </tr>\n    <tr>\n      <th>6351</th>\n      <td>Support Engineer IV, DSP Site Reliability Engi...</td>\n      <td>7a207709-1e55-45a1-8674-110dbddb0df2</td>\n      <td>https://www.amazon.jobs/en/jobs/2117873/suppor...</td>\n      <td>Job summary Advertising is one of the hottest ...</td>\n      <td>None</td>\n      <td>3+ years of development or technical support e...</td>\n      <td>team amazondsp</td>\n      <td>Amazon</td>\n      <td>2022-06-23</td>\n    </tr>\n  </tbody>\n</table>\n</div>"
     },
     "execution_count": 99,
     "metadata": {},
     "output_type": "execute_result"
    }
   ],
   "source": [
    "snapshot = pd.DataFrame(job_dicts)\n",
    "print(len(snapshot))\n",
    "snapshot.sample(5)"
   ],
   "metadata": {
    "collapsed": false,
    "pycharm": {
     "name": "#%%\n"
    }
   }
  },
  {
   "cell_type": "code",
   "execution_count": 100,
   "outputs": [
    {
     "name": "stdout",
     "output_type": "stream",
     "text": [
      "<class 'pandas.core.frame.DataFrame'>\n",
      "RangeIndex: 9998 entries, 0 to 9997\n",
      "Data columns (total 9 columns):\n",
      " #   Column            Non-Null Count  Dtype         \n",
      "---  ------            --------------  -----         \n",
      " 0   title             9998 non-null   object        \n",
      " 1   internal_id       9963 non-null   object        \n",
      " 2   url               9998 non-null   object        \n",
      " 3   description       9998 non-null   object        \n",
      " 4   responsibilities  0 non-null      object        \n",
      " 5   qualifications    9998 non-null   object        \n",
      " 6   team              9972 non-null   object        \n",
      " 7   company           9998 non-null   object        \n",
      " 8   publish_date      9998 non-null   datetime64[ns]\n",
      "dtypes: datetime64[ns](1), object(8)\n",
      "memory usage: 703.1+ KB\n"
     ]
    }
   ],
   "source": [
    "snapshot.info()"
   ],
   "metadata": {
    "collapsed": false,
    "pycharm": {
     "name": "#%%\n"
    }
   }
  },
  {
   "cell_type": "code",
   "execution_count": 101,
   "outputs": [
    {
     "data": {
      "text/plain": "Amazon    9998\nName: company, dtype: int64"
     },
     "execution_count": 101,
     "metadata": {},
     "output_type": "execute_result"
    }
   ],
   "source": [
    "snapshot['company'].value_counts()"
   ],
   "metadata": {
    "collapsed": false,
    "pycharm": {
     "name": "#%%\n"
    }
   }
  },
  {
   "cell_type": "code",
   "execution_count": 102,
   "outputs": [
    {
     "data": {
      "text/plain": "'02-07-2022'"
     },
     "execution_count": 102,
     "metadata": {},
     "output_type": "execute_result"
    }
   ],
   "source": [
    "current_date = datetime.now().strftime('%d-%m-%Y')\n",
    "current_date"
   ],
   "metadata": {
    "collapsed": false,
    "pycharm": {
     "name": "#%%\n"
    }
   }
  },
  {
   "cell_type": "code",
   "execution_count": 103,
   "outputs": [],
   "source": [
    "snapshot.to_csv(f'../data/amazon/{current_date}.csv')"
   ],
   "metadata": {
    "collapsed": false,
    "pycharm": {
     "name": "#%%\n"
    }
   }
  },
  {
   "cell_type": "code",
   "execution_count": null,
   "outputs": [],
   "source": [],
   "metadata": {
    "collapsed": false,
    "pycharm": {
     "name": "#%%\n"
    }
   }
  },
  {
   "cell_type": "code",
   "execution_count": null,
   "outputs": [],
   "source": [],
   "metadata": {
    "collapsed": false,
    "pycharm": {
     "name": "#%%\n"
    }
   }
  },
  {
   "cell_type": "code",
   "source": [],
   "metadata": {
    "id": "5J-W-GNrgA8l",
    "pycharm": {
     "name": "#%%\n"
    }
   },
   "execution_count": null,
   "outputs": []
  }
 ],
 "metadata": {
  "colab": {
   "collapsed_sections": [],
   "name": "amazon.ipynb",
   "provenance": []
  },
  "kernelspec": {
   "display_name": "Python 3",
   "name": "python3"
  },
  "language_info": {
   "name": "python"
  }
 },
 "nbformat": 4,
 "nbformat_minor": 0
}