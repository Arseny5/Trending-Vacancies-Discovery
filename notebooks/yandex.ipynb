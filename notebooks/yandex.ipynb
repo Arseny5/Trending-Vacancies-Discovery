{
 "cells": [
  {
   "cell_type": "code",
   "execution_count": 118,
   "outputs": [],
   "source": [
    "import time\n",
    "import requests\n",
    "from bs4 import BeautifulSoup\n",
    "import json\n",
    "import re\n",
    "import time\n",
    "import faker\n",
    "import pandas as pd\n",
    "from tqdm import tqdm\n",
    "from datetime import datetime"
   ],
   "metadata": {
    "collapsed": false,
    "pycharm": {
     "name": "#%%\n"
    }
   }
  },
  {
   "cell_type": "code",
   "execution_count": 119,
   "outputs": [],
   "source": [
    "fake = faker.Faker(locale='ru')"
   ],
   "metadata": {
    "collapsed": false,
    "pycharm": {
     "name": "#%%\n"
    }
   }
  },
  {
   "cell_type": "code",
   "execution_count": 120,
   "outputs": [],
   "source": [
    "yandex_headers = {\n",
    "    'User-Agent': fake.chrome(),\n",
    "    'accept-language': 'en-US,en;q=0.9',\n",
    "    'pragma': 'np-cache',\n",
    "    'content-type': 'application/json',\n",
    "    'referer': 'http://yandex.ru/jobs/vacancies'\n",
    "}"
   ],
   "metadata": {
    "collapsed": false,
    "pycharm": {
     "name": "#%%\n"
    }
   }
  },
  {
   "cell_type": "code",
   "execution_count": 188,
   "outputs": [],
   "source": [
    "URL = \"http://yandex.ru/jobs/api/publications/?page_size=1000&text=\"\n",
    "VACANCY_INFO_URL = \"http://yandex.ru/jobs/vacancies/\""
   ],
   "metadata": {
    "collapsed": false,
    "pycharm": {
     "name": "#%%\n"
    }
   }
  },
  {
   "cell_type": "code",
   "execution_count": 184,
   "outputs": [],
   "source": [
    "# proxy = {\n",
    "#     'http': 'http://130.61.236.9:80'\n",
    "# }"
   ],
   "metadata": {
    "collapsed": false,
    "pycharm": {
     "name": "#%%\n"
    }
   }
  },
  {
   "cell_type": "code",
   "execution_count": 189,
   "outputs": [],
   "source": [
    "clear_string = lambda x: re.sub(' +', ' ', x.replace('\\n', '\\n ')).strip()\n",
    "title_to_url = lambda x: \"-\".join(re.sub('\\s+', ' ', re.sub(r'[^\\w\\s-]', '', x.lower())).split(' '))"
   ],
   "metadata": {
    "collapsed": false,
    "pycharm": {
     "name": "#%%\n"
    }
   }
  },
  {
   "cell_type": "code",
   "execution_count": 192,
   "outputs": [
    {
     "data": {
      "text/plain": "<Response [200]>"
     },
     "execution_count": 192,
     "metadata": {},
     "output_type": "execute_result"
    }
   ],
   "source": [
    "result = requests.get(URL, headers=yandex_headers)\n",
    "result"
   ],
   "metadata": {
    "collapsed": false,
    "pycharm": {
     "name": "#%%\n"
    }
   }
  },
  {
   "cell_type": "code",
   "execution_count": 193,
   "outputs": [
    {
     "data": {
      "text/plain": "774"
     },
     "execution_count": 193,
     "metadata": {},
     "output_type": "execute_result"
    }
   ],
   "source": [
    "all_jobs = result.json()['results']\n",
    "len(all_jobs)"
   ],
   "metadata": {
    "collapsed": false,
    "pycharm": {
     "name": "#%%\n"
    }
   }
  },
  {
   "cell_type": "code",
   "execution_count": 201,
   "outputs": [
    {
     "data": {
      "text/plain": "datetime.datetime(2022, 6, 17, 5, 25, 27, 724828)"
     },
     "execution_count": 201,
     "metadata": {},
     "output_type": "execute_result"
    }
   ],
   "source": [
    "datetime.now()"
   ],
   "metadata": {
    "collapsed": false,
    "pycharm": {
     "name": "#%%\n"
    }
   }
  },
  {
   "cell_type": "code",
   "execution_count": 194,
   "outputs": [],
   "source": [
    "jobs_info = []\n",
    "for job in all_jobs:\n",
    "    url = VACANCY_INFO_URL + title_to_url(job['title']) + '-' + str(job['id'])\n",
    "    internal_id = job['id']\n",
    "    summary = job['short_summary']\n",
    "    jobs_info.append((url, internal_id, job['title']))"
   ],
   "metadata": {
    "collapsed": false,
    "pycharm": {
     "name": "#%%\n"
    }
   }
  },
  {
   "cell_type": "code",
   "execution_count": 204,
   "outputs": [
    {
     "name": "stderr",
     "output_type": "stream",
     "text": [
      "100%|██████████| 774/774 [08:55<00:00,  1.45it/s]\n"
     ]
    }
   ],
   "source": [
    "yandex_jobs = []\n",
    "for job in tqdm(jobs_info):\n",
    "    result = requests.get(job[0], headers=yandex_headers)\n",
    "\n",
    "    if result.status_code != 200:\n",
    "        print(f'Non 200 for {job[0]}. skipping...')\n",
    "        continue\n",
    "\n",
    "    soup = BeautifulSoup(result.text)\n",
    "\n",
    "    description_div = soup.find('div', {'class': 'lc-jobs-vacancy__section lc-jobs-vacancy__section_type_description_main'})\n",
    "    description = clear_string(description_div.text) if description_div is not None else None\n",
    "\n",
    "    responsibilities_div = soup.find('div', {'class': 'lc-jobs-vacancy__section lc-jobs-vacancy__section_type_duties'})\n",
    "    responsibilities = clear_string(responsibilities_div.text) if responsibilities_div is not None else None\n",
    "\n",
    "    qualifications_div = soup.find('div', {'class': 'lc-jobs-vacancy__section lc-jobs-vacancy__section_type_key_qualifications'})\n",
    "    qualifications = clear_string(qualifications_div.text) if qualifications_div is not None else None\n",
    "\n",
    "    if description is None and responsibilities is None and qualifications is None:\n",
    "        print(f'All None for {job[0]}. skipping...')\n",
    "        continue\n",
    "\n",
    "    job_dict = {\n",
    "        'title': job[2],\n",
    "        'internal_id': job[1],\n",
    "        'url': job[0],\n",
    "        'description': description,\n",
    "        'responsibilities': responsibilities,\n",
    "        'qualifications': qualifications,\n",
    "        'company': 'Yandex',\n",
    "        'publish_date': datetime.now()\n",
    "    }\n",
    "    yandex_jobs.append(job_dict)\n",
    "\n",
    "    time.sleep(0.2) # sleep for 200 ms"
   ],
   "metadata": {
    "collapsed": false,
    "pycharm": {
     "name": "#%%\n"
    }
   }
  },
  {
   "cell_type": "code",
   "execution_count": 205,
   "outputs": [
    {
     "name": "stdout",
     "output_type": "stream",
     "text": [
      "774\n"
     ]
    },
    {
     "data": {
      "text/plain": "                                       title  internal_id  \\\n743                        Разработчик Logos         5940   \n380   Разработчик на Go или Python в Биллинг         9093   \n404  Региональный представитель в геосервисы         9071   \n394      Руководитель аналитических проектов         9083   \n698          Разработчик интерфейсов в Почту         6546   \n\n                                                   url  \\\n743  http://yandex.ru/jobs/vacancies/разработчик-lo...   \n380  http://yandex.ru/jobs/vacancies/разработчик-на...   \n404  http://yandex.ru/jobs/vacancies/региональный-п...   \n394  http://yandex.ru/jobs/vacancies/руководитель-а...   \n698  http://yandex.ru/jobs/vacancies/разработчик-ин...   \n\n                                           description  \\\n743  Группа Logos входит в службу инфраструктуры ре...   \n380  Биллинг — внутренний сервис Яндекса, обслужива...   \n404  Геосервисы Яндекса помогают нашим клиентам раз...   \n394  Crowd — это внутренний сервис, который решает ...   \n698  Яндекс 360 — виртуальное рабочее пространство,...   \n\n                                      responsibilities  \\\n743  Что нужно делать:\\n строить общую DMP-платформ...   \n380  Что нужно делать:\\n разбираться в том, как раб...   \n404  Что нужно делать:\\n заниматься активными прода...   \n394  Что нужно делать:\\n организовать работу аналит...   \n698  Что нужно делать:\\n проектировать архитектуру ...   \n\n                                        qualifications company  \\\n743  Мы ждем, что вы:\\n хорошо знаете Python;\\n уме...  Yandex   \n380  Мы ждем, что вы:\\n работали с базами данных (P...  Yandex   \n404  Мы ждем, что вы:\\n имеете опыт работы в холодн...  Yandex   \n394  Мы ждем, что вы:\\n несколько лет управляли ком...  Yandex   \n698  Мы ждем, что вы:\\n пишете на JavaScript;\\n зна...  Yandex   \n\n                  publish_date  \n743 2022-06-17 05:42:21.628440  \n380 2022-06-17 05:38:08.515235  \n404 2022-06-17 05:38:25.064374  \n394 2022-06-17 05:38:17.857127  \n698 2022-06-17 05:41:50.400335  ",
      "text/html": "<div>\n<style scoped>\n    .dataframe tbody tr th:only-of-type {\n        vertical-align: middle;\n    }\n\n    .dataframe tbody tr th {\n        vertical-align: top;\n    }\n\n    .dataframe thead th {\n        text-align: right;\n    }\n</style>\n<table border=\"1\" class=\"dataframe\">\n  <thead>\n    <tr style=\"text-align: right;\">\n      <th></th>\n      <th>title</th>\n      <th>internal_id</th>\n      <th>url</th>\n      <th>description</th>\n      <th>responsibilities</th>\n      <th>qualifications</th>\n      <th>company</th>\n      <th>publish_date</th>\n    </tr>\n  </thead>\n  <tbody>\n    <tr>\n      <th>743</th>\n      <td>Разработчик Logos</td>\n      <td>5940</td>\n      <td>http://yandex.ru/jobs/vacancies/разработчик-lo...</td>\n      <td>Группа Logos входит в службу инфраструктуры ре...</td>\n      <td>Что нужно делать:\\n строить общую DMP-платформ...</td>\n      <td>Мы ждем, что вы:\\n хорошо знаете Python;\\n уме...</td>\n      <td>Yandex</td>\n      <td>2022-06-17 05:42:21.628440</td>\n    </tr>\n    <tr>\n      <th>380</th>\n      <td>Разработчик на Go или Python в Биллинг</td>\n      <td>9093</td>\n      <td>http://yandex.ru/jobs/vacancies/разработчик-на...</td>\n      <td>Биллинг — внутренний сервис Яндекса, обслужива...</td>\n      <td>Что нужно делать:\\n разбираться в том, как раб...</td>\n      <td>Мы ждем, что вы:\\n работали с базами данных (P...</td>\n      <td>Yandex</td>\n      <td>2022-06-17 05:38:08.515235</td>\n    </tr>\n    <tr>\n      <th>404</th>\n      <td>Региональный представитель в геосервисы</td>\n      <td>9071</td>\n      <td>http://yandex.ru/jobs/vacancies/региональный-п...</td>\n      <td>Геосервисы Яндекса помогают нашим клиентам раз...</td>\n      <td>Что нужно делать:\\n заниматься активными прода...</td>\n      <td>Мы ждем, что вы:\\n имеете опыт работы в холодн...</td>\n      <td>Yandex</td>\n      <td>2022-06-17 05:38:25.064374</td>\n    </tr>\n    <tr>\n      <th>394</th>\n      <td>Руководитель аналитических проектов</td>\n      <td>9083</td>\n      <td>http://yandex.ru/jobs/vacancies/руководитель-а...</td>\n      <td>Crowd — это внутренний сервис, который решает ...</td>\n      <td>Что нужно делать:\\n организовать работу аналит...</td>\n      <td>Мы ждем, что вы:\\n несколько лет управляли ком...</td>\n      <td>Yandex</td>\n      <td>2022-06-17 05:38:17.857127</td>\n    </tr>\n    <tr>\n      <th>698</th>\n      <td>Разработчик интерфейсов в Почту</td>\n      <td>6546</td>\n      <td>http://yandex.ru/jobs/vacancies/разработчик-ин...</td>\n      <td>Яндекс 360 — виртуальное рабочее пространство,...</td>\n      <td>Что нужно делать:\\n проектировать архитектуру ...</td>\n      <td>Мы ждем, что вы:\\n пишете на JavaScript;\\n зна...</td>\n      <td>Yandex</td>\n      <td>2022-06-17 05:41:50.400335</td>\n    </tr>\n  </tbody>\n</table>\n</div>"
     },
     "execution_count": 205,
     "metadata": {},
     "output_type": "execute_result"
    }
   ],
   "source": [
    "snapshot = pd.DataFrame(yandex_jobs)\n",
    "print(len(snapshot))\n",
    "snapshot.sample(5)"
   ],
   "metadata": {
    "collapsed": false,
    "pycharm": {
     "name": "#%%\n"
    }
   }
  },
  {
   "cell_type": "code",
   "execution_count": 208,
   "outputs": [
    {
     "name": "stdout",
     "output_type": "stream",
     "text": [
      "<class 'pandas.core.frame.DataFrame'>\n",
      "RangeIndex: 774 entries, 0 to 773\n",
      "Data columns (total 8 columns):\n",
      " #   Column            Non-Null Count  Dtype         \n",
      "---  ------            --------------  -----         \n",
      " 0   title             774 non-null    object        \n",
      " 1   internal_id       774 non-null    int64         \n",
      " 2   url               774 non-null    object        \n",
      " 3   description       732 non-null    object        \n",
      " 4   responsibilities  720 non-null    object        \n",
      " 5   qualifications    774 non-null    object        \n",
      " 6   company           774 non-null    object        \n",
      " 7   publish_date      774 non-null    datetime64[ns]\n",
      "dtypes: datetime64[ns](1), int64(1), object(6)\n",
      "memory usage: 48.5+ KB\n"
     ]
    }
   ],
   "source": [
    "snapshot.info()"
   ],
   "metadata": {
    "collapsed": false,
    "pycharm": {
     "name": "#%%\n"
    }
   }
  },
  {
   "cell_type": "code",
   "execution_count": 209,
   "outputs": [
    {
     "data": {
      "text/plain": "'17-06-2022'"
     },
     "execution_count": 209,
     "metadata": {},
     "output_type": "execute_result"
    }
   ],
   "source": [
    "current_date = datetime.now().strftime('%d-%m-%Y')\n",
    "current_date"
   ],
   "metadata": {
    "collapsed": false,
    "pycharm": {
     "name": "#%%\n"
    }
   }
  },
  {
   "cell_type": "code",
   "execution_count": 210,
   "outputs": [],
   "source": [
    "snapshot.to_csv(f'../data/yandex/{current_date}.csv')"
   ],
   "metadata": {
    "collapsed": false,
    "pycharm": {
     "name": "#%%\n"
    }
   }
  },
  {
   "cell_type": "code",
   "execution_count": null,
   "outputs": [],
   "source": [],
   "metadata": {
    "collapsed": false,
    "pycharm": {
     "name": "#%%\n"
    }
   }
  },
  {
   "cell_type": "code",
   "execution_count": null,
   "outputs": [],
   "source": [],
   "metadata": {
    "collapsed": false,
    "pycharm": {
     "name": "#%%\n"
    }
   }
  },
  {
   "cell_type": "code",
   "execution_count": 195,
   "outputs": [
    {
     "data": {
      "text/plain": "<Response [200]>"
     },
     "execution_count": 195,
     "metadata": {},
     "output_type": "execute_result"
    }
   ],
   "source": [
    "result = requests.get(jobs_info[19][0], headers=yandex_headers)\n",
    "result"
   ],
   "metadata": {
    "collapsed": false,
    "pycharm": {
     "name": "#%%\n"
    }
   }
  },
  {
   "cell_type": "code",
   "execution_count": 196,
   "outputs": [
    {
     "data": {
      "text/plain": "'https://yandex.ru/jobs/vacancies/python-%D1%80%D0%B0%D0%B7%D1%80%D0%B0%D0%B1%D0%BE%D1%82%D1%87%D0%B8%D0%BA-%D0%B2-wiki-4005'"
     },
     "execution_count": 196,
     "metadata": {},
     "output_type": "execute_result"
    }
   ],
   "source": [
    "result.request.url"
   ],
   "metadata": {
    "collapsed": false,
    "pycharm": {
     "name": "#%%\n"
    }
   }
  },
  {
   "cell_type": "code",
   "execution_count": 197,
   "outputs": [],
   "source": [
    "soup = BeautifulSoup(result.text)"
   ],
   "metadata": {
    "collapsed": false,
    "pycharm": {
     "name": "#%%\n"
    }
   }
  },
  {
   "cell_type": "code",
   "execution_count": 198,
   "outputs": [
    {
     "data": {
      "text/plain": "'Наша команда делает сервисы, которые формируют базу знаний Яндекса. Ежедневно сотрудники Яндекса обращаются за рабочей документацией, совместно редактируют статьи, делятся рабочими материалами, готовят отчеты. Работоспособность всех этих процессов обеспечивается нашими решениями.\\n Исторически большинство крупных проектов написано на Python3 (Django, FastApi).'"
     },
     "execution_count": 198,
     "metadata": {},
     "output_type": "execute_result"
    }
   ],
   "source": [
    "clear_string(soup.find('div', {'class': 'lc-jobs-vacancy__section lc-jobs-vacancy__section_type_description_main'}).text)"
   ],
   "metadata": {
    "collapsed": false,
    "pycharm": {
     "name": "#%%\n"
    }
   }
  },
  {
   "cell_type": "code",
   "execution_count": 199,
   "outputs": [
    {
     "data": {
      "text/plain": "'Что нужно делать:\\n повышать удобство работы с сервисами;\\n улучшать быстродействие;\\n проектировать и внедрять функциональность в ответ на новые потребности пользователей и бизнеса.'"
     },
     "execution_count": 199,
     "metadata": {},
     "output_type": "execute_result"
    }
   ],
   "source": [
    "clear_string(soup.find('div', {'class': 'lc-jobs-vacancy__section lc-jobs-vacancy__section_type_duties'}).text)"
   ],
   "metadata": {
    "collapsed": false,
    "pycharm": {
     "name": "#%%\n"
    }
   }
  },
  {
   "cell_type": "code",
   "execution_count": 200,
   "outputs": [
    {
     "data": {
      "text/plain": "'Мы ждем, что вы:\\n имеете опыт разработки (production-ready) и поддержки веб-сервисов. При этом важен не столько сам язык, сколько умение мыслить, писать эффективный код и обладать собственным видением;\\n любите сложные и крупные сервисы;\\n готовы к тесному взаимодействию с потребителями.'"
     },
     "execution_count": 200,
     "metadata": {},
     "output_type": "execute_result"
    }
   ],
   "source": [
    "clear_string(soup.find('div', {'class': 'lc-jobs-vacancy__section lc-jobs-vacancy__section_type_key_qualifications'}).text)"
   ],
   "metadata": {
    "collapsed": false,
    "pycharm": {
     "name": "#%%\n"
    }
   }
  },
  {
   "cell_type": "code",
   "execution_count": null,
   "outputs": [],
   "source": [],
   "metadata": {
    "collapsed": false,
    "pycharm": {
     "name": "#%%\n"
    }
   }
  }
 ],
 "metadata": {
  "kernelspec": {
   "display_name": "Python 3",
   "language": "python",
   "name": "python3"
  },
  "language_info": {
   "codemirror_mode": {
    "name": "ipython",
    "version": 2
   },
   "file_extension": ".py",
   "mimetype": "text/x-python",
   "name": "python",
   "nbconvert_exporter": "python",
   "pygments_lexer": "ipython2",
   "version": "2.7.6"
  }
 },
 "nbformat": 4,
 "nbformat_minor": 0
}