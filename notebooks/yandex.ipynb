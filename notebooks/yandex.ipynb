{
 "cells": [
  {
   "cell_type": "code",
   "execution_count": 15,
   "outputs": [],
   "source": [
    "import time\n",
    "import requests\n",
    "from bs4 import BeautifulSoup\n",
    "import json\n",
    "import re\n",
    "import time\n",
    "import faker\n",
    "import pandas as pd\n",
    "from tqdm import tqdm\n",
    "from datetime import datetime"
   ],
   "metadata": {
    "collapsed": false,
    "pycharm": {
     "name": "#%%\n"
    }
   }
  },
  {
   "cell_type": "code",
   "execution_count": 16,
   "outputs": [],
   "source": [
    "fake = faker.Faker(locale='ru')"
   ],
   "metadata": {
    "collapsed": false,
    "pycharm": {
     "name": "#%%\n"
    }
   }
  },
  {
   "cell_type": "code",
   "execution_count": 17,
   "outputs": [],
   "source": [
    "yandex_headers = {\n",
    "    'User-Agent': fake.chrome(),\n",
    "    'accept-language': 'en-US,en;q=0.9',\n",
    "    'pragma': 'np-cache',\n",
    "    'content-type': 'application/json',\n",
    "    'referer': 'http://yandex.ru/jobs/vacancies'\n",
    "}"
   ],
   "metadata": {
    "collapsed": false,
    "pycharm": {
     "name": "#%%\n"
    }
   }
  },
  {
   "cell_type": "code",
   "execution_count": 18,
   "outputs": [],
   "source": [
    "API_URL = \"http://yandex.ru/jobs/api/publications/?page_size=1000&text=\"\n",
    "VACANCY_INFO_URL = \"http://yandex.ru/jobs/vacancies/\""
   ],
   "metadata": {
    "collapsed": false,
    "pycharm": {
     "name": "#%%\n"
    }
   }
  },
  {
   "cell_type": "code",
   "execution_count": 19,
   "outputs": [],
   "source": [
    "# proxy = {\n",
    "#     'http': 'http://130.61.236.9:80'\n",
    "# }"
   ],
   "metadata": {
    "collapsed": false,
    "pycharm": {
     "name": "#%%\n"
    }
   }
  },
  {
   "cell_type": "code",
   "execution_count": 20,
   "outputs": [],
   "source": [
    "clear_string = lambda x: re.sub(' +', ' ', x.replace('\\n', '\\n ')).strip()\n",
    "title_to_url = lambda x: \"-\".join(re.sub('\\s+', ' ', re.sub(r'[^\\w\\s-]', '', x.lower())).split(' '))"
   ],
   "metadata": {
    "collapsed": false,
    "pycharm": {
     "name": "#%%\n"
    }
   }
  },
  {
   "cell_type": "code",
   "execution_count": 21,
   "outputs": [
    {
     "data": {
      "text/plain": "<Response [200]>"
     },
     "execution_count": 21,
     "metadata": {},
     "output_type": "execute_result"
    }
   ],
   "source": [
    "result = requests.get(API_URL, headers=yandex_headers)\n",
    "result"
   ],
   "metadata": {
    "collapsed": false,
    "pycharm": {
     "name": "#%%\n"
    }
   }
  },
  {
   "cell_type": "code",
   "execution_count": 22,
   "outputs": [
    {
     "data": {
      "text/plain": "787"
     },
     "execution_count": 22,
     "metadata": {},
     "output_type": "execute_result"
    }
   ],
   "source": [
    "all_jobs = result.json()['results']\n",
    "len(all_jobs)"
   ],
   "metadata": {
    "collapsed": false,
    "pycharm": {
     "name": "#%%\n"
    }
   }
  },
  {
   "cell_type": "code",
   "execution_count": 23,
   "outputs": [
    {
     "data": {
      "text/plain": "datetime.datetime(2022, 6, 24, 7, 39, 25, 681895)"
     },
     "execution_count": 23,
     "metadata": {},
     "output_type": "execute_result"
    }
   ],
   "source": [
    "datetime.now()"
   ],
   "metadata": {
    "collapsed": false,
    "pycharm": {
     "name": "#%%\n"
    }
   }
  },
  {
   "cell_type": "code",
   "execution_count": 24,
   "outputs": [],
   "source": [
    "jobs_info = []\n",
    "for job in all_jobs:\n",
    "    url = VACANCY_INFO_URL + title_to_url(job['title']) + '-' + str(job['id'])\n",
    "    internal_id = job['id']\n",
    "    summary = job['short_summary']\n",
    "    jobs_info.append((url, internal_id, job['title']))"
   ],
   "metadata": {
    "collapsed": false,
    "pycharm": {
     "name": "#%%\n"
    }
   }
  },
  {
   "cell_type": "code",
   "execution_count": 25,
   "outputs": [
    {
     "name": "stderr",
     "output_type": "stream",
     "text": [
      "100%|██████████| 787/787 [24:30<00:00,  1.87s/it]  \n"
     ]
    }
   ],
   "source": [
    "yandex_jobs = []\n",
    "for job in tqdm(jobs_info):\n",
    "    result = requests.get(job[0], headers=yandex_headers)\n",
    "\n",
    "    if result.status_code != 200:\n",
    "        print(f'Non 200 for {job[0]}. skipping...')\n",
    "        continue\n",
    "\n",
    "    soup = BeautifulSoup(result.text)\n",
    "\n",
    "    description_div = soup.find('div', {'class': 'lc-jobs-vacancy__section lc-jobs-vacancy__section_type_description_main'})\n",
    "    description = clear_string(description_div.text) if description_div is not None else None\n",
    "\n",
    "    responsibilities_div = soup.find('div', {'class': 'lc-jobs-vacancy__section lc-jobs-vacancy__section_type_duties'})\n",
    "    responsibilities = clear_string(responsibilities_div.text) if responsibilities_div is not None else None\n",
    "\n",
    "    qualifications_div = soup.find('div', {'class': 'lc-jobs-vacancy__section lc-jobs-vacancy__section_type_key_qualifications'})\n",
    "    qualifications = clear_string(qualifications_div.text) if qualifications_div is not None else None\n",
    "\n",
    "    if description is None and responsibilities is None and qualifications is None:\n",
    "        print(f'All None for {job[0]}. skipping...')\n",
    "        continue\n",
    "\n",
    "    job_dict = {\n",
    "        'title': job[2],\n",
    "        'internal_id': job[1],\n",
    "        'url': job[0],\n",
    "        'description': description,\n",
    "        'responsibilities': responsibilities,\n",
    "        'qualifications': qualifications,\n",
    "        'company': 'Yandex',\n",
    "        'publish_date': datetime.now()\n",
    "    }\n",
    "    yandex_jobs.append(job_dict)\n",
    "\n",
    "    time.sleep(0.2) # sleep for 200 ms"
   ],
   "metadata": {
    "collapsed": false,
    "pycharm": {
     "name": "#%%\n"
    }
   }
  },
  {
   "cell_type": "code",
   "execution_count": 26,
   "outputs": [
    {
     "name": "stdout",
     "output_type": "stream",
     "text": [
      "787\n"
     ]
    },
    {
     "data": {
      "text/plain": "                                                 title  internal_id  \\\n262                               Финансовый контролёр         9247   \n21                           Java-разработчик в Маркет         3762   \n141  Разработчик бэкенда в группу потоковой обработ...         9304   \n257  Разработчик гигантских генеративных нейросетей...         5912   \n583                 Разработчик на Python в Yandex Pay         8896   \n\n                                                   url  \\\n262  http://yandex.ru/jobs/vacancies/финансовый-кон...   \n21   http://yandex.ru/jobs/vacancies/java-разработч...   \n141  http://yandex.ru/jobs/vacancies/разработчик-бэ...   \n257  http://yandex.ru/jobs/vacancies/разработчик-ги...   \n583  http://yandex.ru/jobs/vacancies/разработчик-на...   \n\n                                           description  \\\n262  Группа финансовых бизнес-партнёров департамент...   \n21   Каждый месяц больше 20 миллионов человек выбир...   \n141  Каждый день миллионы пользователей интернета в...   \n257  В большинстве продуктов Яндекса работают механ...   \n583  Сервис Yandex Pay позволяет оплачивать покупки...   \n\n                                      responsibilities  \\\n262  Что нужно делать:\\n контролировать и анализиро...   \n21                                                None   \n141  Что нужно делать:\\n участвовать в разработке и...   \n257  Что нужно делать:\\n проверять гипотезы о качес...   \n583  Что нужно делать:\\n проектировать распределённ...   \n\n                                        qualifications company  \\\n262  Мы ждем, что вы:\\n нацелены на решение задач б...  Yandex   \n21   Мы ждем, что вы:\\n готовы к действительно слож...  Yandex   \n141  Мы ждем, что вы:\\n хотите писать на C++;\\n зна...  Yandex   \n257  Мы ждем, что вы:\\n отлично знаете математику;\\...  Yandex   \n583  Мы ждем, что вы:\\n уверенно программируете на ...  Yandex   \n\n                  publish_date  \n262 2022-06-24 07:47:07.662868  \n21  2022-06-24 07:40:06.547535  \n141 2022-06-24 07:43:34.098759  \n257 2022-06-24 07:46:58.402674  \n583 2022-06-24 07:57:33.727868  ",
      "text/html": "<div>\n<style scoped>\n    .dataframe tbody tr th:only-of-type {\n        vertical-align: middle;\n    }\n\n    .dataframe tbody tr th {\n        vertical-align: top;\n    }\n\n    .dataframe thead th {\n        text-align: right;\n    }\n</style>\n<table border=\"1\" class=\"dataframe\">\n  <thead>\n    <tr style=\"text-align: right;\">\n      <th></th>\n      <th>title</th>\n      <th>internal_id</th>\n      <th>url</th>\n      <th>description</th>\n      <th>responsibilities</th>\n      <th>qualifications</th>\n      <th>company</th>\n      <th>publish_date</th>\n    </tr>\n  </thead>\n  <tbody>\n    <tr>\n      <th>262</th>\n      <td>Финансовый контролёр</td>\n      <td>9247</td>\n      <td>http://yandex.ru/jobs/vacancies/финансовый-кон...</td>\n      <td>Группа финансовых бизнес-партнёров департамент...</td>\n      <td>Что нужно делать:\\n контролировать и анализиро...</td>\n      <td>Мы ждем, что вы:\\n нацелены на решение задач б...</td>\n      <td>Yandex</td>\n      <td>2022-06-24 07:47:07.662868</td>\n    </tr>\n    <tr>\n      <th>21</th>\n      <td>Java-разработчик в Маркет</td>\n      <td>3762</td>\n      <td>http://yandex.ru/jobs/vacancies/java-разработч...</td>\n      <td>Каждый месяц больше 20 миллионов человек выбир...</td>\n      <td>None</td>\n      <td>Мы ждем, что вы:\\n готовы к действительно слож...</td>\n      <td>Yandex</td>\n      <td>2022-06-24 07:40:06.547535</td>\n    </tr>\n    <tr>\n      <th>141</th>\n      <td>Разработчик бэкенда в группу потоковой обработ...</td>\n      <td>9304</td>\n      <td>http://yandex.ru/jobs/vacancies/разработчик-бэ...</td>\n      <td>Каждый день миллионы пользователей интернета в...</td>\n      <td>Что нужно делать:\\n участвовать в разработке и...</td>\n      <td>Мы ждем, что вы:\\n хотите писать на C++;\\n зна...</td>\n      <td>Yandex</td>\n      <td>2022-06-24 07:43:34.098759</td>\n    </tr>\n    <tr>\n      <th>257</th>\n      <td>Разработчик гигантских генеративных нейросетей...</td>\n      <td>5912</td>\n      <td>http://yandex.ru/jobs/vacancies/разработчик-ги...</td>\n      <td>В большинстве продуктов Яндекса работают механ...</td>\n      <td>Что нужно делать:\\n проверять гипотезы о качес...</td>\n      <td>Мы ждем, что вы:\\n отлично знаете математику;\\...</td>\n      <td>Yandex</td>\n      <td>2022-06-24 07:46:58.402674</td>\n    </tr>\n    <tr>\n      <th>583</th>\n      <td>Разработчик на Python в Yandex Pay</td>\n      <td>8896</td>\n      <td>http://yandex.ru/jobs/vacancies/разработчик-на...</td>\n      <td>Сервис Yandex Pay позволяет оплачивать покупки...</td>\n      <td>Что нужно делать:\\n проектировать распределённ...</td>\n      <td>Мы ждем, что вы:\\n уверенно программируете на ...</td>\n      <td>Yandex</td>\n      <td>2022-06-24 07:57:33.727868</td>\n    </tr>\n  </tbody>\n</table>\n</div>"
     },
     "execution_count": 26,
     "metadata": {},
     "output_type": "execute_result"
    }
   ],
   "source": [
    "snapshot = pd.DataFrame(yandex_jobs)\n",
    "print(len(snapshot))\n",
    "snapshot.sample(5)"
   ],
   "metadata": {
    "collapsed": false,
    "pycharm": {
     "name": "#%%\n"
    }
   }
  },
  {
   "cell_type": "code",
   "execution_count": 27,
   "outputs": [
    {
     "name": "stdout",
     "output_type": "stream",
     "text": [
      "<class 'pandas.core.frame.DataFrame'>\n",
      "RangeIndex: 787 entries, 0 to 786\n",
      "Data columns (total 8 columns):\n",
      " #   Column            Non-Null Count  Dtype         \n",
      "---  ------            --------------  -----         \n",
      " 0   title             787 non-null    object        \n",
      " 1   internal_id       787 non-null    int64         \n",
      " 2   url               787 non-null    object        \n",
      " 3   description       748 non-null    object        \n",
      " 4   responsibilities  726 non-null    object        \n",
      " 5   qualifications    787 non-null    object        \n",
      " 6   company           787 non-null    object        \n",
      " 7   publish_date      787 non-null    datetime64[ns]\n",
      "dtypes: datetime64[ns](1), int64(1), object(6)\n",
      "memory usage: 49.3+ KB\n"
     ]
    }
   ],
   "source": [
    "snapshot.info()"
   ],
   "metadata": {
    "collapsed": false,
    "pycharm": {
     "name": "#%%\n"
    }
   }
  },
  {
   "cell_type": "code",
   "execution_count": 28,
   "outputs": [
    {
     "data": {
      "text/plain": "'24-06-2022'"
     },
     "execution_count": 28,
     "metadata": {},
     "output_type": "execute_result"
    }
   ],
   "source": [
    "current_date = datetime.now().strftime('%d-%m-%Y')\n",
    "current_date"
   ],
   "metadata": {
    "collapsed": false,
    "pycharm": {
     "name": "#%%\n"
    }
   }
  },
  {
   "cell_type": "code",
   "execution_count": 29,
   "outputs": [],
   "source": [
    "snapshot.to_csv(f'../data/yandex/{current_date}.csv')\n",
    "snapshot.to_csv(f'../data/yandex/{current_date}.tsv', sep='\\t')"
   ],
   "metadata": {
    "collapsed": false,
    "pycharm": {
     "name": "#%%\n"
    }
   }
  },
  {
   "cell_type": "code",
   "execution_count": null,
   "outputs": [],
   "source": [],
   "metadata": {
    "collapsed": false,
    "pycharm": {
     "name": "#%%\n"
    }
   }
  },
  {
   "cell_type": "markdown",
   "source": [
    "#### Проверка на единичной вакансии"
   ],
   "metadata": {
    "collapsed": false,
    "pycharm": {
     "name": "#%% md\n"
    }
   }
  },
  {
   "cell_type": "code",
   "execution_count": 195,
   "outputs": [
    {
     "data": {
      "text/plain": "<Response [200]>"
     },
     "execution_count": 195,
     "metadata": {},
     "output_type": "execute_result"
    }
   ],
   "source": [
    "result = requests.get(jobs_info[19][0], headers=yandex_headers)\n",
    "result"
   ],
   "metadata": {
    "collapsed": false,
    "pycharm": {
     "name": "#%%\n"
    }
   }
  },
  {
   "cell_type": "code",
   "execution_count": 196,
   "outputs": [
    {
     "data": {
      "text/plain": "'https://yandex.ru/jobs/vacancies/python-%D1%80%D0%B0%D0%B7%D1%80%D0%B0%D0%B1%D0%BE%D1%82%D1%87%D0%B8%D0%BA-%D0%B2-wiki-4005'"
     },
     "execution_count": 196,
     "metadata": {},
     "output_type": "execute_result"
    }
   ],
   "source": [
    "result.request.url"
   ],
   "metadata": {
    "collapsed": false,
    "pycharm": {
     "name": "#%%\n"
    }
   }
  },
  {
   "cell_type": "code",
   "execution_count": 197,
   "outputs": [],
   "source": [
    "soup = BeautifulSoup(result.text)"
   ],
   "metadata": {
    "collapsed": false,
    "pycharm": {
     "name": "#%%\n"
    }
   }
  },
  {
   "cell_type": "code",
   "execution_count": 198,
   "outputs": [
    {
     "data": {
      "text/plain": "'Наша команда делает сервисы, которые формируют базу знаний Яндекса. Ежедневно сотрудники Яндекса обращаются за рабочей документацией, совместно редактируют статьи, делятся рабочими материалами, готовят отчеты. Работоспособность всех этих процессов обеспечивается нашими решениями.\\n Исторически большинство крупных проектов написано на Python3 (Django, FastApi).'"
     },
     "execution_count": 198,
     "metadata": {},
     "output_type": "execute_result"
    }
   ],
   "source": [
    "clear_string(soup.find('div', {'class': 'lc-jobs-vacancy__section lc-jobs-vacancy__section_type_description_main'}).text)"
   ],
   "metadata": {
    "collapsed": false,
    "pycharm": {
     "name": "#%%\n"
    }
   }
  },
  {
   "cell_type": "code",
   "execution_count": 199,
   "outputs": [
    {
     "data": {
      "text/plain": "'Что нужно делать:\\n повышать удобство работы с сервисами;\\n улучшать быстродействие;\\n проектировать и внедрять функциональность в ответ на новые потребности пользователей и бизнеса.'"
     },
     "execution_count": 199,
     "metadata": {},
     "output_type": "execute_result"
    }
   ],
   "source": [
    "clear_string(soup.find('div', {'class': 'lc-jobs-vacancy__section lc-jobs-vacancy__section_type_duties'}).text)"
   ],
   "metadata": {
    "collapsed": false,
    "pycharm": {
     "name": "#%%\n"
    }
   }
  },
  {
   "cell_type": "code",
   "execution_count": 200,
   "outputs": [
    {
     "data": {
      "text/plain": "'Мы ждем, что вы:\\n имеете опыт разработки (production-ready) и поддержки веб-сервисов. При этом важен не столько сам язык, сколько умение мыслить, писать эффективный код и обладать собственным видением;\\n любите сложные и крупные сервисы;\\n готовы к тесному взаимодействию с потребителями.'"
     },
     "execution_count": 200,
     "metadata": {},
     "output_type": "execute_result"
    }
   ],
   "source": [
    "clear_string(soup.find('div', {'class': 'lc-jobs-vacancy__section lc-jobs-vacancy__section_type_key_qualifications'}).text)"
   ],
   "metadata": {
    "collapsed": false,
    "pycharm": {
     "name": "#%%\n"
    }
   }
  },
  {
   "cell_type": "code",
   "execution_count": null,
   "outputs": [],
   "source": [],
   "metadata": {
    "collapsed": false,
    "pycharm": {
     "name": "#%%\n"
    }
   }
  }
 ],
 "metadata": {
  "kernelspec": {
   "display_name": "Python 3",
   "language": "python",
   "name": "python3"
  },
  "language_info": {
   "codemirror_mode": {
    "name": "ipython",
    "version": 2
   },
   "file_extension": ".py",
   "mimetype": "text/x-python",
   "name": "python",
   "nbconvert_exporter": "python",
   "pygments_lexer": "ipython2",
   "version": "2.7.6"
  }
 },
 "nbformat": 4,
 "nbformat_minor": 0
}